{
 "cells": [
  {
   "cell_type": "markdown",
   "metadata": {},
   "source": [
    "# Polymarket Hourly Prediction Market Analysis\n",
    "\n",
    "This notebook analyzes orderbook data from Polymarket hourly prediction markets for crypto pairs (BTCUSDT, ETHUSDT, SOLUSDT, XRPUSDT) to develop market making strategies.\n",
    "\n",
    "## Objectives:\n",
    "1. **Data Exploration**: Understand orderbook patterns and market behavior\n",
    "2. **Feature Engineering**: Create predictive features from orderbook and KLINES data\n",
    "3. **Market Microstructure Analysis**: Analyze bid-ask spreads, volume imbalances, and price efficiency\n",
    "4. **Strategy Development**: Identify profitable market making opportunities\n",
    "5. **Correlation Analysis**: Find relationships between crypto price movements and prediction market behavior"
   ]
  },
  {
   "cell_type": "code",
   "execution_count": 1,
   "metadata": {},
   "outputs": [
    {
     "data": {
      "text/html": [
       "        <script type=\"text/javascript\">\n",
       "        window.PlotlyConfig = {MathJaxConfig: 'local'};\n",
       "        if (window.MathJax && window.MathJax.Hub && window.MathJax.Hub.Config) {window.MathJax.Hub.Config({SVG: {font: \"STIX-Web\"}});}\n",
       "        </script>\n",
       "        <script type=\"module\">import \"https://cdn.plot.ly/plotly-3.0.1.min\"</script>\n",
       "        "
      ]
     },
     "metadata": {},
     "output_type": "display_data"
    },
    {
     "name": "stdout",
     "output_type": "stream",
     "text": [
      "Libraries imported successfully!\n"
     ]
    }
   ],
   "source": [
    "# Import required libraries\n",
    "import os\n",
    "import sys\n",
    "import polars as pl\n",
    "import plotly.express as px\n",
    "import plotly.graph_objects as go\n",
    "from plotly.subplots import make_subplots\n",
    "import plotly.offline as pyo\n",
    "import pandas as pd\n",
    "import numpy as np\n",
    "from datetime import datetime, timedelta\n",
    "import warnings\n",
    "warnings.filterwarnings('ignore')\n",
    "\n",
    "# Set up plotly for notebook display\n",
    "pyo.init_notebook_mode(connected=True)\n",
    "\n",
    "# Import our custom processor\n",
    "\n",
    "sys.path.append(os.path.abspath(\"..\"))\n",
    "from analysis.data_processor import PolymarketDataProcessor\n",
    "\n",
    "processor = PolymarketDataProcessor()\n",
    "\n",
    "print(\"Libraries imported successfully!\")"
   ]
  },
  {
   "cell_type": "markdown",
   "metadata": {},
   "source": [
    "## 1. Data Loading and Initial Exploration"
   ]
  },
  {
   "cell_type": "code",
   "execution_count": 2,
   "metadata": {},
   "outputs": [
    {
     "name": "stdout",
     "output_type": "stream",
     "text": [
      "Loading orderbook data...\n",
      "Loaded 33,700,390 orderbook records\n",
      "Date range: 2025-07-15 06:02:28.796000 to 2025-07-18 15:04:22.190000\n",
      "Crypto pairs: ['bitcoin', 'ethereum', 'solana', 'xrp']\n",
      "Unique markets: 332\n",
      "Unique assets: 664\n"
     ]
    }
   ],
   "source": [
    "# Initialize the data processor\n",
    "processor = PolymarketDataProcessor(\"../orderbook_data\")\n",
    "\n",
    "# Load the most recent orderbook data\n",
    "print(\"Loading orderbook data...\")\n",
    "orderbook_df = processor.load_orderbook_data()\n",
    "\n",
    "print(f\"Loaded {orderbook_df.height:,} orderbook records\")\n",
    "print(f\"Date range: {orderbook_df['timestamp'].min()} to {orderbook_df['timestamp'].max()}\")\n",
    "print(f\"Crypto pairs: {sorted(orderbook_df['crypto'].unique().to_list())}\")\n",
    "print(f\"Unique markets: {orderbook_df['market_slug'].n_unique()}\")\n",
    "print(f\"Unique assets: {orderbook_df['asset_id'].n_unique()}\")"
   ]
  },
  {
   "cell_type": "code",
   "execution_count": 3,
   "metadata": {},
   "outputs": [
    {
     "name": "stdout",
     "output_type": "stream",
     "text": [
      "\n",
      "Orderbook Data Schema:\n",
      "[Datetime(time_unit='us', time_zone=None), String, String, String, String, Float64, Float64, String]\n",
      "\n",
      "First 10 records:\n"
     ]
    },
    {
     "data": {
      "text/html": [
       "<div><style>\n",
       ".dataframe > thead > tr,\n",
       ".dataframe > tbody > tr {\n",
       "  text-align: right;\n",
       "  white-space: pre-wrap;\n",
       "}\n",
       "</style>\n",
       "<small>shape: (10, 8)</small><table border=\"1\" class=\"dataframe\"><thead><tr><th>timestamp</th><th>market_slug</th><th>asset_id</th><th>crypto</th><th>side</th><th>price</th><th>size</th><th>event_type</th></tr><tr><td>datetime[μs]</td><td>str</td><td>str</td><td>str</td><td>str</td><td>f64</td><td>f64</td><td>str</td></tr></thead><tbody><tr><td>2025-07-15 06:23:26.688</td><td>&quot;s1&quot;</td><td>&quot;a1&quot;</td><td>&quot;solana&quot;</td><td>&quot;bid&quot;</td><td>0.3</td><td>32.0</td><td>&quot;book&quot;</td></tr><tr><td>2025-07-15 06:23:26.688</td><td>&quot;s1&quot;</td><td>&quot;a1&quot;</td><td>&quot;solana&quot;</td><td>&quot;bid&quot;</td><td>0.32</td><td>32.0</td><td>&quot;book&quot;</td></tr><tr><td>2025-07-15 06:23:26.688</td><td>&quot;s1&quot;</td><td>&quot;a1&quot;</td><td>&quot;solana&quot;</td><td>&quot;bid&quot;</td><td>0.34</td><td>32.0</td><td>&quot;book&quot;</td></tr><tr><td>2025-07-15 06:23:26.688</td><td>&quot;s1&quot;</td><td>&quot;a1&quot;</td><td>&quot;solana&quot;</td><td>&quot;bid&quot;</td><td>0.36</td><td>32.0</td><td>&quot;book&quot;</td></tr><tr><td>2025-07-15 06:23:26.688</td><td>&quot;s1&quot;</td><td>&quot;a1&quot;</td><td>&quot;solana&quot;</td><td>&quot;bid&quot;</td><td>0.38</td><td>1532.0</td><td>&quot;book&quot;</td></tr><tr><td>2025-07-15 06:23:26.688</td><td>&quot;s1&quot;</td><td>&quot;a1&quot;</td><td>&quot;solana&quot;</td><td>&quot;bid&quot;</td><td>0.4</td><td>64.0</td><td>&quot;book&quot;</td></tr><tr><td>2025-07-15 06:23:26.688</td><td>&quot;s1&quot;</td><td>&quot;a1&quot;</td><td>&quot;solana&quot;</td><td>&quot;bid&quot;</td><td>0.42</td><td>1064.0</td><td>&quot;book&quot;</td></tr><tr><td>2025-07-15 06:23:26.688</td><td>&quot;s1&quot;</td><td>&quot;a1&quot;</td><td>&quot;solana&quot;</td><td>&quot;bid&quot;</td><td>0.44</td><td>64.0</td><td>&quot;book&quot;</td></tr><tr><td>2025-07-15 06:23:26.688</td><td>&quot;s1&quot;</td><td>&quot;a1&quot;</td><td>&quot;solana&quot;</td><td>&quot;bid&quot;</td><td>0.45</td><td>564.0</td><td>&quot;book&quot;</td></tr><tr><td>2025-07-15 06:23:26.688</td><td>&quot;s1&quot;</td><td>&quot;a1&quot;</td><td>&quot;solana&quot;</td><td>&quot;bid&quot;</td><td>0.46</td><td>564.0</td><td>&quot;book&quot;</td></tr></tbody></table></div>"
      ],
      "text/plain": [
       "shape: (10, 8)\n",
       "┌─────────────────────────┬─────────────┬──────────┬────────┬──────┬───────┬────────┬────────────┐\n",
       "│ timestamp               ┆ market_slug ┆ asset_id ┆ crypto ┆ side ┆ price ┆ size   ┆ event_type │\n",
       "│ ---                     ┆ ---         ┆ ---      ┆ ---    ┆ ---  ┆ ---   ┆ ---    ┆ ---        │\n",
       "│ datetime[μs]            ┆ str         ┆ str      ┆ str    ┆ str  ┆ f64   ┆ f64    ┆ str        │\n",
       "╞═════════════════════════╪═════════════╪══════════╪════════╪══════╪═══════╪════════╪════════════╡\n",
       "│ 2025-07-15 06:23:26.688 ┆ s1          ┆ a1       ┆ solana ┆ bid  ┆ 0.3   ┆ 32.0   ┆ book       │\n",
       "│ 2025-07-15 06:23:26.688 ┆ s1          ┆ a1       ┆ solana ┆ bid  ┆ 0.32  ┆ 32.0   ┆ book       │\n",
       "│ 2025-07-15 06:23:26.688 ┆ s1          ┆ a1       ┆ solana ┆ bid  ┆ 0.34  ┆ 32.0   ┆ book       │\n",
       "│ 2025-07-15 06:23:26.688 ┆ s1          ┆ a1       ┆ solana ┆ bid  ┆ 0.36  ┆ 32.0   ┆ book       │\n",
       "│ 2025-07-15 06:23:26.688 ┆ s1          ┆ a1       ┆ solana ┆ bid  ┆ 0.38  ┆ 1532.0 ┆ book       │\n",
       "│ 2025-07-15 06:23:26.688 ┆ s1          ┆ a1       ┆ solana ┆ bid  ┆ 0.4   ┆ 64.0   ┆ book       │\n",
       "│ 2025-07-15 06:23:26.688 ┆ s1          ┆ a1       ┆ solana ┆ bid  ┆ 0.42  ┆ 1064.0 ┆ book       │\n",
       "│ 2025-07-15 06:23:26.688 ┆ s1          ┆ a1       ┆ solana ┆ bid  ┆ 0.44  ┆ 64.0   ┆ book       │\n",
       "│ 2025-07-15 06:23:26.688 ┆ s1          ┆ a1       ┆ solana ┆ bid  ┆ 0.45  ┆ 564.0  ┆ book       │\n",
       "│ 2025-07-15 06:23:26.688 ┆ s1          ┆ a1       ┆ solana ┆ bid  ┆ 0.46  ┆ 564.0  ┆ book       │\n",
       "└─────────────────────────┴─────────────┴──────────┴────────┴──────┴───────┴────────┴────────────┘"
      ]
     },
     "execution_count": 3,
     "metadata": {},
     "output_type": "execute_result"
    }
   ],
   "source": [
    "# Display basic statistics\n",
    "print(\"\\nOrderbook Data Schema:\")\n",
    "print(orderbook_df.dtypes)\n",
    "\n",
    "print(\"\\nFirst 10 records:\")\n",
    "orderbook_df.head(10)"
   ]
  },
  {
   "cell_type": "code",
   "execution_count": 4,
   "metadata": {},
   "outputs": [
    {
     "name": "stdout",
     "output_type": "stream",
     "text": [
      "Data Distribution by Crypto:\n"
     ]
    },
    {
     "data": {
      "text/html": [
       "<div><style>\n",
       ".dataframe > thead > tr,\n",
       ".dataframe > tbody > tr {\n",
       "  text-align: right;\n",
       "  white-space: pre-wrap;\n",
       "}\n",
       "</style>\n",
       "<small>shape: (4, 8)</small><table border=\"1\" class=\"dataframe\"><thead><tr><th>crypto</th><th>total_records</th><th>unique_markets</th><th>unique_assets</th><th>avg_price</th><th>total_volume</th><th>first_record</th><th>last_record</th></tr><tr><td>str</td><td>u32</td><td>u32</td><td>u32</td><td>f64</td><td>f64</td><td>datetime[μs]</td><td>datetime[μs]</td></tr></thead><tbody><tr><td>&quot;bitcoin&quot;</td><td>12172649</td><td>83</td><td>166</td><td>0.500004</td><td>1.3492e10</td><td>2025-07-15 06:20:47.479</td><td>2025-07-18 15:04:22.045</td></tr><tr><td>&quot;ethereum&quot;</td><td>8510252</td><td>83</td><td>166</td><td>0.499998</td><td>8.4726e9</td><td>2025-07-15 06:18:09.297</td><td>2025-07-18 15:04:22.190</td></tr><tr><td>&quot;solana&quot;</td><td>6645500</td><td>83</td><td>166</td><td>0.5</td><td>6.3248e9</td><td>2025-07-15 06:23:26.688</td><td>2025-07-18 15:04:22.155</td></tr><tr><td>&quot;xrp&quot;</td><td>6371989</td><td>83</td><td>166</td><td>0.5</td><td>6.6877e9</td><td>2025-07-15 06:02:28.796</td><td>2025-07-18 15:04:22.181</td></tr></tbody></table></div>"
      ],
      "text/plain": [
       "shape: (4, 8)\n",
       "┌──────────┬────────────┬────────────┬────────────┬───────────┬────────────┬───────────┬───────────┐\n",
       "│ crypto   ┆ total_reco ┆ unique_mar ┆ unique_ass ┆ avg_price ┆ total_volu ┆ first_rec ┆ last_reco │\n",
       "│ ---      ┆ rds        ┆ kets       ┆ ets        ┆ ---       ┆ me         ┆ ord       ┆ rd        │\n",
       "│ str      ┆ ---        ┆ ---        ┆ ---        ┆ f64       ┆ ---        ┆ ---       ┆ ---       │\n",
       "│          ┆ u32        ┆ u32        ┆ u32        ┆           ┆ f64        ┆ datetime[ ┆ datetime[ │\n",
       "│          ┆            ┆            ┆            ┆           ┆            ┆ μs]       ┆ μs]       │\n",
       "╞══════════╪════════════╪════════════╪════════════╪═══════════╪════════════╪═══════════╪═══════════╡\n",
       "│ bitcoin  ┆ 12172649   ┆ 83         ┆ 166        ┆ 0.500004  ┆ 1.3492e10  ┆ 2025-07-1 ┆ 2025-07-1 │\n",
       "│          ┆            ┆            ┆            ┆           ┆            ┆ 5 06:20:4 ┆ 8 15:04:2 │\n",
       "│          ┆            ┆            ┆            ┆           ┆            ┆ 7.479     ┆ 2.045     │\n",
       "│ ethereum ┆ 8510252    ┆ 83         ┆ 166        ┆ 0.499998  ┆ 8.4726e9   ┆ 2025-07-1 ┆ 2025-07-1 │\n",
       "│          ┆            ┆            ┆            ┆           ┆            ┆ 5 06:18:0 ┆ 8 15:04:2 │\n",
       "│          ┆            ┆            ┆            ┆           ┆            ┆ 9.297     ┆ 2.190     │\n",
       "│ solana   ┆ 6645500    ┆ 83         ┆ 166        ┆ 0.5       ┆ 6.3248e9   ┆ 2025-07-1 ┆ 2025-07-1 │\n",
       "│          ┆            ┆            ┆            ┆           ┆            ┆ 5 06:23:2 ┆ 8 15:04:2 │\n",
       "│          ┆            ┆            ┆            ┆           ┆            ┆ 6.688     ┆ 2.155     │\n",
       "│ xrp      ┆ 6371989    ┆ 83         ┆ 166        ┆ 0.5       ┆ 6.6877e9   ┆ 2025-07-1 ┆ 2025-07-1 │\n",
       "│          ┆            ┆            ┆            ┆           ┆            ┆ 5 06:02:2 ┆ 8 15:04:2 │\n",
       "│          ┆            ┆            ┆            ┆           ┆            ┆ 8.796     ┆ 2.181     │\n",
       "└──────────┴────────────┴────────────┴────────────┴───────────┴────────────┴───────────┴───────────┘"
      ]
     },
     "execution_count": 4,
     "metadata": {},
     "output_type": "execute_result"
    }
   ],
   "source": [
    "# Analyze data distribution by crypto\n",
    "crypto_stats = (\n",
    "    orderbook_df\n",
    "    .group_by(\"crypto\")\n",
    "    .agg([\n",
    "        pl.count().alias(\"total_records\"),\n",
    "        pl.col(\"market_slug\").n_unique().alias(\"unique_markets\"),\n",
    "        pl.col(\"asset_id\").n_unique().alias(\"unique_assets\"),\n",
    "        pl.col(\"price\").mean().alias(\"avg_price\"),\n",
    "        pl.col(\"size\").sum().alias(\"total_volume\"),\n",
    "        pl.col(\"timestamp\").min().alias(\"first_record\"),\n",
    "        pl.col(\"timestamp\").max().alias(\"last_record\")\n",
    "    ])\n",
    "    .sort(\"total_records\", descending=True)\n",
    ")\n",
    "\n",
    "print(\"Data Distribution by Crypto:\")\n",
    "crypto_stats"
   ]
  },
  {
   "cell_type": "markdown",
   "metadata": {},
   "source": [
    "## 2. Market Microstructure Analysis"
   ]
  },
  {
   "cell_type": "code",
   "execution_count": 5,
   "metadata": {},
   "outputs": [
    {
     "name": "stdout",
     "output_type": "stream",
     "text": [
      "Resampling orderbook data to 1-minute intervals...\n"
     ]
    },
    {
     "ename": "ComputeError",
     "evalue": "input data is not sorted",
     "output_type": "error",
     "traceback": [
      "\u001b[31m---------------------------------------------------------------------------\u001b[39m",
      "\u001b[31mComputeError\u001b[39m                              Traceback (most recent call last)",
      "\u001b[36mCell\u001b[39m\u001b[36m \u001b[39m\u001b[32mIn[5]\u001b[39m\u001b[32m, line 3\u001b[39m\n\u001b[32m      1\u001b[39m \u001b[38;5;66;03m# Resample data to 1-minute intervals for analysis\u001b[39;00m\n\u001b[32m      2\u001b[39m \u001b[38;5;28mprint\u001b[39m(\u001b[33m\"\u001b[39m\u001b[33mResampling orderbook data to 1-minute intervals...\u001b[39m\u001b[33m\"\u001b[39m)\n\u001b[32m----> \u001b[39m\u001b[32m3\u001b[39m resampled_data = \u001b[43mprocessor\u001b[49m\u001b[43m.\u001b[49m\u001b[43mresample_orderbook_to_intervals\u001b[49m\u001b[43m(\u001b[49m\u001b[43morderbook_df\u001b[49m\u001b[43m,\u001b[49m\u001b[43m \u001b[49m\u001b[33;43m\"\u001b[39;49m\u001b[33;43m1m\u001b[39;49m\u001b[33;43m\"\u001b[39;49m\u001b[43m)\u001b[49m\n\u001b[32m      5\u001b[39m \u001b[38;5;28mprint\u001b[39m(\u001b[33mf\u001b[39m\u001b[33m\"\u001b[39m\u001b[33mResampled to \u001b[39m\u001b[38;5;132;01m{\u001b[39;00mresampled_data.height\u001b[38;5;132;01m:\u001b[39;00m\u001b[33m,\u001b[39m\u001b[38;5;132;01m}\u001b[39;00m\u001b[33m 1-minute intervals\u001b[39m\u001b[33m\"\u001b[39m)\n\u001b[32m      6\u001b[39m \u001b[38;5;28mprint\u001b[39m(\u001b[33m\"\u001b[39m\u001b[38;5;130;01m\\n\u001b[39;00m\u001b[33mSample of resampled data:\u001b[39m\u001b[33m\"\u001b[39m)\n",
      "\u001b[36mFile \u001b[39m\u001b[32m~/dev/poly-reward/analysis/data_processor.py:200\u001b[39m, in \u001b[36mPolymarketDataProcessor.resample_orderbook_to_intervals\u001b[39m\u001b[34m(self, df, interval)\u001b[39m\n\u001b[32m    187\u001b[39m \u001b[38;5;250m\u001b[39m\u001b[33;03m\"\"\"\u001b[39;00m\n\u001b[32m    188\u001b[39m \u001b[33;03mResample orderbook data to specified intervals with OHLC-style metrics.\u001b[39;00m\n\u001b[32m    189\u001b[39m \u001b[33;03m\u001b[39;00m\n\u001b[32m   (...)\u001b[39m\u001b[32m    192\u001b[39m \u001b[33;03m    interval: Resampling interval (e.g., \"1m\", \"5m\", \"1h\")\u001b[39;00m\n\u001b[32m    193\u001b[39m \u001b[33;03m\"\"\"\u001b[39;00m\n\u001b[32m    194\u001b[39m \u001b[38;5;66;03m# Group by crypto, market_slug, and time intervals\u001b[39;00m\n\u001b[32m    195\u001b[39m resampled = (\n\u001b[32m    196\u001b[39m     \u001b[43mdf\u001b[49m\u001b[43m.\u001b[49m\u001b[43mgroup_by_dynamic\u001b[49m\u001b[43m(\u001b[49m\n\u001b[32m    197\u001b[39m \u001b[43m        \u001b[49m\u001b[33;43m\"\u001b[39;49m\u001b[33;43mtimestamp\u001b[39;49m\u001b[33;43m\"\u001b[39;49m\u001b[43m,\u001b[49m\u001b[43m \u001b[49m\n\u001b[32m    198\u001b[39m \u001b[43m        \u001b[49m\u001b[43mevery\u001b[49m\u001b[43m=\u001b[49m\u001b[43minterval\u001b[49m\u001b[43m,\u001b[49m\n\u001b[32m    199\u001b[39m \u001b[43m        \u001b[49m\u001b[43mby\u001b[49m\u001b[43m=\u001b[49m\u001b[43m[\u001b[49m\u001b[33;43m\"\u001b[39;49m\u001b[33;43mcrypto\u001b[39;49m\u001b[33;43m\"\u001b[39;49m\u001b[43m,\u001b[49m\u001b[43m \u001b[49m\u001b[33;43m\"\u001b[39;49m\u001b[33;43mmarket_slug\u001b[39;49m\u001b[33;43m\"\u001b[39;49m\u001b[43m,\u001b[49m\u001b[43m \u001b[49m\u001b[33;43m\"\u001b[39;49m\u001b[33;43masset_id\u001b[39;49m\u001b[33;43m\"\u001b[39;49m\u001b[43m]\u001b[49m\n\u001b[32m--> \u001b[39m\u001b[32m200\u001b[39m \u001b[43m    \u001b[49m\u001b[43m)\u001b[49m\u001b[43m.\u001b[49m\u001b[43magg\u001b[49m\u001b[43m(\u001b[49m\u001b[43m[\u001b[49m\n\u001b[32m    201\u001b[39m \u001b[43m        \u001b[49m\u001b[38;5;66;43;03m# Price metrics\u001b[39;49;00m\n\u001b[32m    202\u001b[39m \u001b[43m        \u001b[49m\u001b[43mpl\u001b[49m\u001b[43m.\u001b[49m\u001b[43mcol\u001b[49m\u001b[43m(\u001b[49m\u001b[33;43m\"\u001b[39;49m\u001b[33;43mprice\u001b[39;49m\u001b[33;43m\"\u001b[39;49m\u001b[43m)\u001b[49m\u001b[43m.\u001b[49m\u001b[43mfirst\u001b[49m\u001b[43m(\u001b[49m\u001b[43m)\u001b[49m\u001b[43m.\u001b[49m\u001b[43malias\u001b[49m\u001b[43m(\u001b[49m\u001b[33;43m\"\u001b[39;49m\u001b[33;43mopen_price\u001b[39;49m\u001b[33;43m\"\u001b[39;49m\u001b[43m)\u001b[49m\u001b[43m,\u001b[49m\n\u001b[32m    203\u001b[39m \u001b[43m        \u001b[49m\u001b[43mpl\u001b[49m\u001b[43m.\u001b[49m\u001b[43mcol\u001b[49m\u001b[43m(\u001b[49m\u001b[33;43m\"\u001b[39;49m\u001b[33;43mprice\u001b[39;49m\u001b[33;43m\"\u001b[39;49m\u001b[43m)\u001b[49m\u001b[43m.\u001b[49m\u001b[43mmax\u001b[49m\u001b[43m(\u001b[49m\u001b[43m)\u001b[49m\u001b[43m.\u001b[49m\u001b[43malias\u001b[49m\u001b[43m(\u001b[49m\u001b[33;43m\"\u001b[39;49m\u001b[33;43mhigh_price\u001b[39;49m\u001b[33;43m\"\u001b[39;49m\u001b[43m)\u001b[49m\u001b[43m,\u001b[49m\n\u001b[32m    204\u001b[39m \u001b[43m        \u001b[49m\u001b[43mpl\u001b[49m\u001b[43m.\u001b[49m\u001b[43mcol\u001b[49m\u001b[43m(\u001b[49m\u001b[33;43m\"\u001b[39;49m\u001b[33;43mprice\u001b[39;49m\u001b[33;43m\"\u001b[39;49m\u001b[43m)\u001b[49m\u001b[43m.\u001b[49m\u001b[43mmin\u001b[49m\u001b[43m(\u001b[49m\u001b[43m)\u001b[49m\u001b[43m.\u001b[49m\u001b[43malias\u001b[49m\u001b[43m(\u001b[49m\u001b[33;43m\"\u001b[39;49m\u001b[33;43mlow_price\u001b[39;49m\u001b[33;43m\"\u001b[39;49m\u001b[43m)\u001b[49m\u001b[43m,\u001b[49m\n\u001b[32m    205\u001b[39m \u001b[43m        \u001b[49m\u001b[43mpl\u001b[49m\u001b[43m.\u001b[49m\u001b[43mcol\u001b[49m\u001b[43m(\u001b[49m\u001b[33;43m\"\u001b[39;49m\u001b[33;43mprice\u001b[39;49m\u001b[33;43m\"\u001b[39;49m\u001b[43m)\u001b[49m\u001b[43m.\u001b[49m\u001b[43mlast\u001b[49m\u001b[43m(\u001b[49m\u001b[43m)\u001b[49m\u001b[43m.\u001b[49m\u001b[43malias\u001b[49m\u001b[43m(\u001b[49m\u001b[33;43m\"\u001b[39;49m\u001b[33;43mclose_price\u001b[39;49m\u001b[33;43m\"\u001b[39;49m\u001b[43m)\u001b[49m\u001b[43m,\u001b[49m\n\u001b[32m    206\u001b[39m \u001b[43m        \u001b[49m\n\u001b[32m    207\u001b[39m \u001b[43m        \u001b[49m\u001b[38;5;66;43;03m# Volume metrics\u001b[39;49;00m\n\u001b[32m    208\u001b[39m \u001b[43m        \u001b[49m\u001b[43mpl\u001b[49m\u001b[43m.\u001b[49m\u001b[43mcol\u001b[49m\u001b[43m(\u001b[49m\u001b[33;43m\"\u001b[39;49m\u001b[33;43msize\u001b[39;49m\u001b[33;43m\"\u001b[39;49m\u001b[43m)\u001b[49m\u001b[43m.\u001b[49m\u001b[43msum\u001b[49m\u001b[43m(\u001b[49m\u001b[43m)\u001b[49m\u001b[43m.\u001b[49m\u001b[43malias\u001b[49m\u001b[43m(\u001b[49m\u001b[33;43m\"\u001b[39;49m\u001b[33;43mtotal_volume\u001b[39;49m\u001b[33;43m\"\u001b[39;49m\u001b[43m)\u001b[49m\u001b[43m,\u001b[49m\n\u001b[32m    209\u001b[39m \u001b[43m        \u001b[49m\u001b[43mpl\u001b[49m\u001b[43m.\u001b[49m\u001b[43mcol\u001b[49m\u001b[43m(\u001b[49m\u001b[33;43m\"\u001b[39;49m\u001b[33;43msize\u001b[39;49m\u001b[33;43m\"\u001b[39;49m\u001b[43m)\u001b[49m\u001b[43m.\u001b[49m\u001b[43mcount\u001b[49m\u001b[43m(\u001b[49m\u001b[43m)\u001b[49m\u001b[43m.\u001b[49m\u001b[43malias\u001b[49m\u001b[43m(\u001b[49m\u001b[33;43m\"\u001b[39;49m\u001b[33;43mtick_count\u001b[39;49m\u001b[33;43m\"\u001b[39;49m\u001b[43m)\u001b[49m\u001b[43m,\u001b[49m\n\u001b[32m    210\u001b[39m \u001b[43m        \u001b[49m\n\u001b[32m    211\u001b[39m \u001b[43m        \u001b[49m\u001b[38;5;66;43;03m# Bid/Ask analysis\u001b[39;49;00m\n\u001b[32m    212\u001b[39m \u001b[43m        \u001b[49m\u001b[43mpl\u001b[49m\u001b[43m.\u001b[49m\u001b[43mcol\u001b[49m\u001b[43m(\u001b[49m\u001b[33;43m\"\u001b[39;49m\u001b[33;43mprice\u001b[39;49m\u001b[33;43m\"\u001b[39;49m\u001b[43m)\u001b[49m\u001b[43m.\u001b[49m\u001b[43mfilter\u001b[49m\u001b[43m(\u001b[49m\u001b[43mpl\u001b[49m\u001b[43m.\u001b[49m\u001b[43mcol\u001b[49m\u001b[43m(\u001b[49m\u001b[33;43m\"\u001b[39;49m\u001b[33;43mside\u001b[39;49m\u001b[33;43m\"\u001b[39;49m\u001b[43m)\u001b[49m\u001b[43m \u001b[49m\u001b[43m==\u001b[49m\u001b[43m \u001b[49m\u001b[33;43m\"\u001b[39;49m\u001b[33;43mbuy\u001b[39;49m\u001b[33;43m\"\u001b[39;49m\u001b[43m)\u001b[49m\u001b[43m.\u001b[49m\u001b[43mmean\u001b[49m\u001b[43m(\u001b[49m\u001b[43m)\u001b[49m\u001b[43m.\u001b[49m\u001b[43malias\u001b[49m\u001b[43m(\u001b[49m\u001b[33;43m\"\u001b[39;49m\u001b[33;43mavg_bid\u001b[39;49m\u001b[33;43m\"\u001b[39;49m\u001b[43m)\u001b[49m\u001b[43m,\u001b[49m\n\u001b[32m    213\u001b[39m \u001b[43m        \u001b[49m\u001b[43mpl\u001b[49m\u001b[43m.\u001b[49m\u001b[43mcol\u001b[49m\u001b[43m(\u001b[49m\u001b[33;43m\"\u001b[39;49m\u001b[33;43mprice\u001b[39;49m\u001b[33;43m\"\u001b[39;49m\u001b[43m)\u001b[49m\u001b[43m.\u001b[49m\u001b[43mfilter\u001b[49m\u001b[43m(\u001b[49m\u001b[43mpl\u001b[49m\u001b[43m.\u001b[49m\u001b[43mcol\u001b[49m\u001b[43m(\u001b[49m\u001b[33;43m\"\u001b[39;49m\u001b[33;43mside\u001b[39;49m\u001b[33;43m\"\u001b[39;49m\u001b[43m)\u001b[49m\u001b[43m \u001b[49m\u001b[43m==\u001b[49m\u001b[43m \u001b[49m\u001b[33;43m\"\u001b[39;49m\u001b[33;43msell\u001b[39;49m\u001b[33;43m\"\u001b[39;49m\u001b[43m)\u001b[49m\u001b[43m.\u001b[49m\u001b[43mmean\u001b[49m\u001b[43m(\u001b[49m\u001b[43m)\u001b[49m\u001b[43m.\u001b[49m\u001b[43malias\u001b[49m\u001b[43m(\u001b[49m\u001b[33;43m\"\u001b[39;49m\u001b[33;43mavg_ask\u001b[39;49m\u001b[33;43m\"\u001b[39;49m\u001b[43m)\u001b[49m\u001b[43m,\u001b[49m\n\u001b[32m    214\u001b[39m \u001b[43m        \u001b[49m\u001b[43mpl\u001b[49m\u001b[43m.\u001b[49m\u001b[43mcol\u001b[49m\u001b[43m(\u001b[49m\u001b[33;43m\"\u001b[39;49m\u001b[33;43msize\u001b[39;49m\u001b[33;43m\"\u001b[39;49m\u001b[43m)\u001b[49m\u001b[43m.\u001b[49m\u001b[43mfilter\u001b[49m\u001b[43m(\u001b[49m\u001b[43mpl\u001b[49m\u001b[43m.\u001b[49m\u001b[43mcol\u001b[49m\u001b[43m(\u001b[49m\u001b[33;43m\"\u001b[39;49m\u001b[33;43mside\u001b[39;49m\u001b[33;43m\"\u001b[39;49m\u001b[43m)\u001b[49m\u001b[43m \u001b[49m\u001b[43m==\u001b[49m\u001b[43m \u001b[49m\u001b[33;43m\"\u001b[39;49m\u001b[33;43mbuy\u001b[39;49m\u001b[33;43m\"\u001b[39;49m\u001b[43m)\u001b[49m\u001b[43m.\u001b[49m\u001b[43msum\u001b[49m\u001b[43m(\u001b[49m\u001b[43m)\u001b[49m\u001b[43m.\u001b[49m\u001b[43malias\u001b[49m\u001b[43m(\u001b[49m\u001b[33;43m\"\u001b[39;49m\u001b[33;43mbid_volume\u001b[39;49m\u001b[33;43m\"\u001b[39;49m\u001b[43m)\u001b[49m\u001b[43m,\u001b[49m\n\u001b[32m    215\u001b[39m \u001b[43m        \u001b[49m\u001b[43mpl\u001b[49m\u001b[43m.\u001b[49m\u001b[43mcol\u001b[49m\u001b[43m(\u001b[49m\u001b[33;43m\"\u001b[39;49m\u001b[33;43msize\u001b[39;49m\u001b[33;43m\"\u001b[39;49m\u001b[43m)\u001b[49m\u001b[43m.\u001b[49m\u001b[43mfilter\u001b[49m\u001b[43m(\u001b[49m\u001b[43mpl\u001b[49m\u001b[43m.\u001b[49m\u001b[43mcol\u001b[49m\u001b[43m(\u001b[49m\u001b[33;43m\"\u001b[39;49m\u001b[33;43mside\u001b[39;49m\u001b[33;43m\"\u001b[39;49m\u001b[43m)\u001b[49m\u001b[43m \u001b[49m\u001b[43m==\u001b[49m\u001b[43m \u001b[49m\u001b[33;43m\"\u001b[39;49m\u001b[33;43msell\u001b[39;49m\u001b[33;43m\"\u001b[39;49m\u001b[43m)\u001b[49m\u001b[43m.\u001b[49m\u001b[43msum\u001b[49m\u001b[43m(\u001b[49m\u001b[43m)\u001b[49m\u001b[43m.\u001b[49m\u001b[43malias\u001b[49m\u001b[43m(\u001b[49m\u001b[33;43m\"\u001b[39;49m\u001b[33;43mask_volume\u001b[39;49m\u001b[33;43m\"\u001b[39;49m\u001b[43m)\u001b[49m\u001b[43m,\u001b[49m\n\u001b[32m    216\u001b[39m \u001b[43m    \u001b[49m\u001b[43m]\u001b[49m\u001b[43m)\u001b[49m\n\u001b[32m    217\u001b[39m )\n\u001b[32m    219\u001b[39m \u001b[38;5;66;03m# Calculate spread and other derived metrics\u001b[39;00m\n\u001b[32m    220\u001b[39m resampled = resampled.with_columns([\n\u001b[32m    221\u001b[39m     (pl.col(\u001b[33m\"\u001b[39m\u001b[33mavg_ask\u001b[39m\u001b[33m\"\u001b[39m) - pl.col(\u001b[33m\"\u001b[39m\u001b[33mavg_bid\u001b[39m\u001b[33m\"\u001b[39m)).alias(\u001b[33m\"\u001b[39m\u001b[33mbid_ask_spread\u001b[39m\u001b[33m\"\u001b[39m),\n\u001b[32m    222\u001b[39m     (pl.col(\u001b[33m\"\u001b[39m\u001b[33mbid_volume\u001b[39m\u001b[33m\"\u001b[39m) / (pl.col(\u001b[33m\"\u001b[39m\u001b[33mbid_volume\u001b[39m\u001b[33m\"\u001b[39m) + pl.col(\u001b[33m\"\u001b[39m\u001b[33mask_volume\u001b[39m\u001b[33m\"\u001b[39m))).alias(\u001b[33m\"\u001b[39m\u001b[33mbid_ratio\u001b[39m\u001b[33m\"\u001b[39m),\n\u001b[32m    223\u001b[39m ])\n",
      "\u001b[36mFile \u001b[39m\u001b[32m~/dev/poly-reward/.venv/lib/python3.13/site-packages/polars/dataframe/group_by.py:1019\u001b[39m, in \u001b[36mDynamicGroupBy.agg\u001b[39m\u001b[34m(self, *aggs, **named_aggs)\u001b[39m\n\u001b[32m    990\u001b[39m \u001b[38;5;250m\u001b[39m\u001b[33;03m\"\"\"\u001b[39;00m\n\u001b[32m    991\u001b[39m \u001b[33;03mCompute aggregations for each group of a group by operation.\u001b[39;00m\n\u001b[32m    992\u001b[39m \n\u001b[32m   (...)\u001b[39m\u001b[32m   1001\u001b[39m \u001b[33;03m    The resulting columns will be renamed to the keyword used.\u001b[39;00m\n\u001b[32m   1002\u001b[39m \u001b[33;03m\"\"\"\u001b[39;00m\n\u001b[32m   1003\u001b[39m \u001b[38;5;28;01mfrom\u001b[39;00m\u001b[38;5;250m \u001b[39m\u001b[34;01mpolars\u001b[39;00m\u001b[34;01m.\u001b[39;00m\u001b[34;01mlazyframe\u001b[39;00m\u001b[34;01m.\u001b[39;00m\u001b[34;01mopt_flags\u001b[39;00m\u001b[38;5;250m \u001b[39m\u001b[38;5;28;01mimport\u001b[39;00m QueryOptFlags\n\u001b[32m   1005\u001b[39m \u001b[38;5;28;01mreturn\u001b[39;00m (\n\u001b[32m   1006\u001b[39m     \u001b[38;5;28;43mself\u001b[39;49m\u001b[43m.\u001b[49m\u001b[43mdf\u001b[49m\u001b[43m.\u001b[49m\u001b[43mlazy\u001b[49m\u001b[43m(\u001b[49m\u001b[43m)\u001b[49m\n\u001b[32m   1007\u001b[39m \u001b[43m    \u001b[49m\u001b[43m.\u001b[49m\u001b[43mgroup_by_dynamic\u001b[49m\u001b[43m(\u001b[49m\n\u001b[32m   1008\u001b[39m \u001b[43m        \u001b[49m\u001b[43mindex_column\u001b[49m\u001b[43m=\u001b[49m\u001b[38;5;28;43mself\u001b[39;49m\u001b[43m.\u001b[49m\u001b[43mtime_column\u001b[49m\u001b[43m,\u001b[49m\n\u001b[32m   1009\u001b[39m \u001b[43m        \u001b[49m\u001b[43mevery\u001b[49m\u001b[43m=\u001b[49m\u001b[38;5;28;43mself\u001b[39;49m\u001b[43m.\u001b[49m\u001b[43mevery\u001b[49m\u001b[43m,\u001b[49m\n\u001b[32m   1010\u001b[39m \u001b[43m        \u001b[49m\u001b[43mperiod\u001b[49m\u001b[43m=\u001b[49m\u001b[38;5;28;43mself\u001b[39;49m\u001b[43m.\u001b[49m\u001b[43mperiod\u001b[49m\u001b[43m,\u001b[49m\n\u001b[32m   1011\u001b[39m \u001b[43m        \u001b[49m\u001b[43moffset\u001b[49m\u001b[43m=\u001b[49m\u001b[38;5;28;43mself\u001b[39;49m\u001b[43m.\u001b[49m\u001b[43moffset\u001b[49m\u001b[43m,\u001b[49m\n\u001b[32m   1012\u001b[39m \u001b[43m        \u001b[49m\u001b[43mlabel\u001b[49m\u001b[43m=\u001b[49m\u001b[38;5;28;43mself\u001b[39;49m\u001b[43m.\u001b[49m\u001b[43mlabel\u001b[49m\u001b[43m,\u001b[49m\n\u001b[32m   1013\u001b[39m \u001b[43m        \u001b[49m\u001b[43minclude_boundaries\u001b[49m\u001b[43m=\u001b[49m\u001b[38;5;28;43mself\u001b[39;49m\u001b[43m.\u001b[49m\u001b[43minclude_boundaries\u001b[49m\u001b[43m,\u001b[49m\n\u001b[32m   1014\u001b[39m \u001b[43m        \u001b[49m\u001b[43mclosed\u001b[49m\u001b[43m=\u001b[49m\u001b[38;5;28;43mself\u001b[39;49m\u001b[43m.\u001b[49m\u001b[43mclosed\u001b[49m\u001b[43m,\u001b[49m\n\u001b[32m   1015\u001b[39m \u001b[43m        \u001b[49m\u001b[43mgroup_by\u001b[49m\u001b[43m=\u001b[49m\u001b[38;5;28;43mself\u001b[39;49m\u001b[43m.\u001b[49m\u001b[43mgroup_by\u001b[49m\u001b[43m,\u001b[49m\n\u001b[32m   1016\u001b[39m \u001b[43m        \u001b[49m\u001b[43mstart_by\u001b[49m\u001b[43m=\u001b[49m\u001b[38;5;28;43mself\u001b[39;49m\u001b[43m.\u001b[49m\u001b[43mstart_by\u001b[49m\u001b[43m,\u001b[49m\n\u001b[32m   1017\u001b[39m \u001b[43m    \u001b[49m\u001b[43m)\u001b[49m\n\u001b[32m   1018\u001b[39m \u001b[43m    \u001b[49m\u001b[43m.\u001b[49m\u001b[43magg\u001b[49m\u001b[43m(\u001b[49m\u001b[43m*\u001b[49m\u001b[43maggs\u001b[49m\u001b[43m,\u001b[49m\u001b[43m \u001b[49m\u001b[43m*\u001b[49m\u001b[43m*\u001b[49m\u001b[43mnamed_aggs\u001b[49m\u001b[43m)\u001b[49m\n\u001b[32m-> \u001b[39m\u001b[32m1019\u001b[39m \u001b[43m    \u001b[49m\u001b[43m.\u001b[49m\u001b[43mcollect\u001b[49m\u001b[43m(\u001b[49m\u001b[43moptimizations\u001b[49m\u001b[43m=\u001b[49m\u001b[43mQueryOptFlags\u001b[49m\u001b[43m.\u001b[49m\u001b[43mnone\u001b[49m\u001b[43m(\u001b[49m\u001b[43m)\u001b[49m\u001b[43m)\u001b[49m\n\u001b[32m   1020\u001b[39m )\n",
      "\u001b[36mFile \u001b[39m\u001b[32m~/dev/poly-reward/.venv/lib/python3.13/site-packages/polars/_utils/deprecation.py:97\u001b[39m, in \u001b[36mdeprecate_streaming_parameter.<locals>.decorate.<locals>.wrapper\u001b[39m\u001b[34m(*args, **kwargs)\u001b[39m\n\u001b[32m     93\u001b[39m         kwargs[\u001b[33m\"\u001b[39m\u001b[33mengine\u001b[39m\u001b[33m\"\u001b[39m] = \u001b[33m\"\u001b[39m\u001b[33min-memory\u001b[39m\u001b[33m\"\u001b[39m\n\u001b[32m     95\u001b[39m     \u001b[38;5;28;01mdel\u001b[39;00m kwargs[\u001b[33m\"\u001b[39m\u001b[33mstreaming\u001b[39m\u001b[33m\"\u001b[39m]\n\u001b[32m---> \u001b[39m\u001b[32m97\u001b[39m \u001b[38;5;28;01mreturn\u001b[39;00m \u001b[43mfunction\u001b[49m\u001b[43m(\u001b[49m\u001b[43m*\u001b[49m\u001b[43margs\u001b[49m\u001b[43m,\u001b[49m\u001b[43m \u001b[49m\u001b[43m*\u001b[49m\u001b[43m*\u001b[49m\u001b[43mkwargs\u001b[49m\u001b[43m)\u001b[49m\n",
      "\u001b[36mFile \u001b[39m\u001b[32m~/dev/poly-reward/.venv/lib/python3.13/site-packages/polars/lazyframe/opt_flags.py:330\u001b[39m, in \u001b[36mforward_old_opt_flags.<locals>.decorate.<locals>.wrapper\u001b[39m\u001b[34m(*args, **kwargs)\u001b[39m\n\u001b[32m    327\u001b[39m         optflags = cb(optflags, kwargs.pop(key))  \u001b[38;5;66;03m# type: ignore[no-untyped-call,unused-ignore]\u001b[39;00m\n\u001b[32m    329\u001b[39m kwargs[\u001b[33m\"\u001b[39m\u001b[33moptimizations\u001b[39m\u001b[33m\"\u001b[39m] = optflags\n\u001b[32m--> \u001b[39m\u001b[32m330\u001b[39m \u001b[38;5;28;01mreturn\u001b[39;00m \u001b[43mfunction\u001b[49m\u001b[43m(\u001b[49m\u001b[43m*\u001b[49m\u001b[43margs\u001b[49m\u001b[43m,\u001b[49m\u001b[43m \u001b[49m\u001b[43m*\u001b[49m\u001b[43m*\u001b[49m\u001b[43mkwargs\u001b[49m\u001b[43m)\u001b[49m\n",
      "\u001b[36mFile \u001b[39m\u001b[32m~/dev/poly-reward/.venv/lib/python3.13/site-packages/polars/lazyframe/frame.py:2332\u001b[39m, in \u001b[36mLazyFrame.collect\u001b[39m\u001b[34m(self, type_coercion, predicate_pushdown, projection_pushdown, simplify_expression, slice_pushdown, comm_subplan_elim, comm_subexpr_elim, cluster_with_columns, collapse_joins, no_optimization, engine, background, optimizations, **_kwargs)\u001b[39m\n\u001b[32m   2330\u001b[39m \u001b[38;5;66;03m# Only for testing purposes\u001b[39;00m\n\u001b[32m   2331\u001b[39m callback = _kwargs.get(\u001b[33m\"\u001b[39m\u001b[33mpost_opt_callback\u001b[39m\u001b[33m\"\u001b[39m, callback)\n\u001b[32m-> \u001b[39m\u001b[32m2332\u001b[39m \u001b[38;5;28;01mreturn\u001b[39;00m wrap_df(\u001b[43mldf\u001b[49m\u001b[43m.\u001b[49m\u001b[43mcollect\u001b[49m\u001b[43m(\u001b[49m\u001b[43mengine\u001b[49m\u001b[43m,\u001b[49m\u001b[43m \u001b[49m\u001b[43mcallback\u001b[49m\u001b[43m)\u001b[49m)\n",
      "\u001b[31mComputeError\u001b[39m: input data is not sorted"
     ]
    }
   ],
   "source": [
    "# Resample data to 1-minute intervals for analysis\n",
    "print(\"Resampling orderbook data to 1-minute intervals...\")\n",
    "resampled_data = processor.resample_orderbook_to_intervals(orderbook_df, \"1m\")\n",
    "\n",
    "print(f\"Resampled to {resampled_data.height:,} 1-minute intervals\")\n",
    "print(\"\\nSample of resampled data:\")\n",
    "resampled_data.head()"
   ]
  },
  {
   "cell_type": "code",
   "execution_count": null,
   "metadata": {},
   "outputs": [],
   "source": [
    "# Calculate market features\n",
    "print(\"Calculating market microstructure features...\")\n",
    "features_df = processor.calculate_market_features(resampled_data)\n",
    "\n",
    "print(f\"Features calculated for {features_df.height:,} intervals\")\n",
    "print(\"\\nAvailable features:\")\n",
    "print([col for col in features_df.columns if col not in orderbook_df.columns])"
   ]
  },
  {
   "cell_type": "code",
   "execution_count": null,
   "metadata": {},
   "outputs": [],
   "source": [
    "# Visualize bid-ask spreads across different crypto pairs\n",
    "spread_analysis = (\n",
    "    features_df\n",
    "    .filter(pl.col(\"spread_pct\").is_not_null() & (pl.col(\"spread_pct\") > 0))\n",
    "    .group_by(\"crypto\")\n",
    "    .agg([\n",
    "        pl.col(\"spread_pct\").mean().alias(\"avg_spread_pct\"),\n",
    "        pl.col(\"spread_pct\").median().alias(\"median_spread_pct\"),\n",
    "        pl.col(\"spread_pct\").quantile(0.95).alias(\"p95_spread_pct\"),\n",
    "        pl.col(\"total_volume\").mean().alias(\"avg_volume\")\n",
    "    ])\n",
    "    .sort(\"avg_spread_pct\", descending=True)\n",
    ")\n",
    "\n",
    "print(\"Bid-Ask Spread Analysis:\")\n",
    "spread_analysis"
   ]
  },
  {
   "cell_type": "code",
   "execution_count": null,
   "metadata": {},
   "outputs": [],
   "source": [
    "# Create spread visualization\n",
    "spread_data = features_df.filter(\n",
    "    pl.col(\"spread_pct\").is_not_null() & \n",
    "    (pl.col(\"spread_pct\") > 0) & \n",
    "    (pl.col(\"spread_pct\") < 0.5)  # Filter outliers\n",
    ").to_pandas()\n",
    "\n",
    "fig = px.box(\n",
    "    spread_data, \n",
    "    x=\"crypto\", \n",
    "    y=\"spread_pct\",\n",
    "    title=\"Bid-Ask Spread Distribution by Crypto\",\n",
    "    labels={\"spread_pct\": \"Spread (%)\", \"crypto\": \"Cryptocurrency\"}\n",
    ")\n",
    "fig.update_layout(height=500)\n",
    "fig.show()"
   ]
  },
  {
   "cell_type": "markdown",
   "metadata": {},
   "source": [
    "## 3. Volume and Liquidity Analysis"
   ]
  },
  {
   "cell_type": "code",
   "execution_count": null,
   "metadata": {},
   "outputs": [],
   "source": [
    "# Analyze volume patterns and liquidity\n",
    "volume_analysis = (\n",
    "    features_df\n",
    "    .with_columns([\n",
    "        pl.col(\"timestamp\").dt.hour().alias(\"hour\"),\n",
    "        pl.col(\"timestamp\").dt.day_name().alias(\"day_of_week\")\n",
    "    ])\n",
    "    .group_by([\"crypto\", \"hour\"])\n",
    "    .agg([\n",
    "        pl.col(\"total_volume\").mean().alias(\"avg_volume\"),\n",
    "        pl.col(\"spread_pct\").mean().alias(\"avg_spread\"),\n",
    "        pl.col(\"bid_ratio\").mean().alias(\"avg_bid_ratio\")\n",
    "    ])\n",
    "    .sort([\"crypto\", \"hour\"])\n",
    ")\n",
    "\n",
    "print(\"Volume patterns by hour of day:\")\n",
    "volume_analysis.head(24)  # Show first 24 hours"
   ]
  },
  {
   "cell_type": "code",
   "execution_count": null,
   "metadata": {},
   "outputs": [],
   "source": [
    "# Visualize hourly volume patterns\n",
    "volume_hourly = volume_analysis.to_pandas()\n",
    "\n",
    "fig = px.line(\n",
    "    volume_hourly, \n",
    "    x=\"hour\", \n",
    "    y=\"avg_volume\", \n",
    "    color=\"crypto\",\n",
    "    title=\"Average Hourly Volume Patterns by Cryptocurrency\",\n",
    "    labels={\"avg_volume\": \"Average Volume\", \"hour\": \"Hour of Day\"}\n",
    ")\n",
    "fig.update_layout(height=500)\n",
    "fig.show()"
   ]
  },
  {
   "cell_type": "markdown",
   "metadata": {},
   "source": [
    "## 4. Market Making Opportunity Identification"
   ]
  },
  {
   "cell_type": "code",
   "execution_count": null,
   "metadata": {},
   "outputs": [],
   "source": [
    "# Identify market making opportunities\n",
    "print(\"Identifying market making opportunities...\")\n",
    "opportunities = processor.identify_market_opportunities(features_df, min_spread_threshold=0.02)\n",
    "\n",
    "print(f\"Found {opportunities.height:,} potential opportunities\")\n",
    "print(\"\\nTop 10 opportunities:\")\n",
    "opportunities.head(10)"
   ]
  },
  {
   "cell_type": "code",
   "execution_count": null,
   "metadata": {},
   "outputs": [],
   "source": [
    "# Analyze opportunity distribution by crypto\n",
    "opportunity_stats = (\n",
    "    opportunities\n",
    "    .group_by(\"crypto\")\n",
    "    .agg([\n",
    "        pl.count().alias(\"total_opportunities\"),\n",
    "        pl.col(\"opportunity_score\").mean().alias(\"avg_opportunity_score\"),\n",
    "        pl.col(\"spread_pct\").mean().alias(\"avg_spread\"),\n",
    "        pl.col(\"total_volume\").mean().alias(\"avg_volume\"),\n",
    "        pl.col(\"market_sentiment\").mode().first().alias(\"dominant_sentiment\")\n",
    "    ])\n",
    "    .sort(\"avg_opportunity_score\", descending=True)\n",
    ")\n",
    "\n",
    "print(\"Opportunity Analysis by Crypto:\")\n",
    "opportunity_stats"
   ]
  },
  {
   "cell_type": "markdown",
   "metadata": {},
   "source": [
    "## 5. KLINES Integration and Correlation Analysis"
   ]
  },
  {
   "cell_type": "code",
   "execution_count": null,
   "metadata": {},
   "outputs": [],
   "source": [
    "# Load KLINES data for correlation analysis\n",
    "crypto_pairs = [\"ETHUSDT\", \"BTCUSDT\"]  # Start with these two\n",
    "\n",
    "correlation_results = {}\n",
    "\n",
    "for pair in crypto_pairs:\n",
    "    try:\n",
    "        print(f\"\\nAnalyzing {pair}...\")\n",
    "        \n",
    "        # Load KLINES data (automatically synced with orderbook date range)\n",
    "        klines_df = processor.load_klines_data(pair)\n",
    "        print(f\"Loaded {klines_df.height:,} KLINES records for {pair}\")\n",
    "        \n",
    "        # Show time range synchronization info\n",
    "        time_info = processor.get_data_time_range_info()\n",
    "        print(f\"  Orderbook range: {time_info['orderbook_start']} to {time_info['orderbook_end']}\")\n",
    "        print(f\"  KLINES range: {time_info['klines_start']} to {time_info['klines_end']}\")\n",
    "        print(f\"  Duration: {time_info['orderbook_duration_hours']:.1f} hours (orderbook), {time_info['klines_duration_hours']:.1f} hours (klines)\")\n",
    "        \n",
    "        # Validate data coverage\n",
    "        coverage = processor.validate_data_coverage(klines_df)\n",
    "        coverage_status = \"✓ Good\" if all(coverage.values()) else \"⚠ Issues detected\"\n",
    "        print(f\"  Coverage validation: {coverage_status}\")\n",
    "        \n",
    "        # Merge with orderbook data\n",
    "        merged_data = processor.merge_with_klines(features_df, klines_df, pair)\n",
    "        print(f\"Merged dataset has {merged_data.height:,} records\")\n",
    "        \n",
    "        correlation_results[pair] = merged_data\n",
    "        \n",
    "    except Exception as e:\n",
    "        print(f\"Error processing {pair}: {e}\")"
   ]
  },
  {
   "cell_type": "code",
   "execution_count": null,
   "metadata": {},
   "outputs": [],
   "source": [
    "# Analyze correlations between crypto price movements and prediction market behavior\n",
    "if correlation_results:\n",
    "    pair = list(correlation_results.keys())[0]  # Use first available pair\n",
    "    merged_df = correlation_results[pair]\n",
    "    \n",
    "    # Calculate price returns and prediction market returns\n",
    "    analysis_df = merged_df.with_columns([\n",
    "        # Crypto price returns (from KLINES)\n",
    "        (pl.col(\"close\") / pl.col(\"open\") - 1).alias(\"crypto_return\"),\n",
    "        \n",
    "        # Prediction market returns (from orderbook)\n",
    "        pl.col(\"price_return\").alias(\"pred_market_return\"),\n",
    "        \n",
    "        # Volume correlation\n",
    "        pl.col(\"volume\").alias(\"crypto_volume\"),\n",
    "        pl.col(\"total_volume\").alias(\"pred_market_volume\")\n",
    "    ]).filter(\n",
    "        pl.col(\"crypto_return\").is_not_null() &\n",
    "        pl.col(\"pred_market_return\").is_not_null()\n",
    "    )\n",
    "    \n",
    "    print(f\"\\nCorrelation analysis for {pair}:\")\n",
    "    print(f\"Analysis dataset: {analysis_df.height:,} records\")\n",
    "    \n",
    "    # Convert to pandas for correlation analysis\n",
    "    corr_data = analysis_df.select([\n",
    "        \"crypto_return\", \"pred_market_return\", \"crypto_volume\", \"pred_market_volume\"\n",
    "    ]).to_pandas()\n",
    "    \n",
    "    correlation_matrix = corr_data.corr()\n",
    "    print(\"\\nCorrelation Matrix:\")\n",
    "    print(correlation_matrix)\n",
    "else:\n",
    "    print(\"No correlation data available for analysis.\")"
   ]
  },
  {
   "cell_type": "markdown",
   "metadata": {},
   "source": [
    "## 6. Strategy Development Insights"
   ]
  },
  {
   "cell_type": "code",
   "execution_count": null,
   "metadata": {},
   "outputs": [],
   "source": [
    "# Develop market making strategy insights\n",
    "strategy_insights = {}\n",
    "\n",
    "# 1. Optimal spread thresholds by crypto\n",
    "spread_thresholds = (\n",
    "    features_df\n",
    "    .filter(pl.col(\"total_volume\") > 0)\n",
    "    .group_by(\"crypto\")\n",
    "    .agg([\n",
    "        pl.col(\"spread_pct\").quantile(0.75).alias(\"profitable_spread_threshold\"),\n",
    "        pl.col(\"total_volume\").mean().alias(\"avg_volume\"),\n",
    "        pl.col(\"price_return\").std().alias(\"volatility\")\n",
    "    ])\n",
    ")\n",
    "\n",
    "print(\"Optimal Spread Thresholds by Crypto:\")\n",
    "spread_thresholds"
   ]
  },
  {
   "cell_type": "code",
   "execution_count": null,
   "metadata": {},
   "outputs": [],
   "source": [
    "# 2. Best trading hours analysis\n",
    "hourly_profitability = (\n",
    "    features_df\n",
    "    .with_columns(pl.col(\"timestamp\").dt.hour().alias(\"hour\"))\n",
    "    .group_by([\"crypto\", \"hour\"])\n",
    "    .agg([\n",
    "        pl.col(\"spread_pct\").mean().alias(\"avg_spread\"),\n",
    "        pl.col(\"total_volume\").mean().alias(\"avg_volume\"),\n",
    "        pl.col(\"tick_count\").mean().alias(\"avg_activity\"),\n",
    "        (pl.col(\"spread_pct\") * pl.col(\"total_volume\")).mean().alias(\"profitability_proxy\")\n",
    "    ])\n",
    "    .sort([\"crypto\", \"profitability_proxy\"], descending=[False, True])\n",
    ")\n",
    "\n",
    "print(\"\\nBest Trading Hours (Top 3 per crypto):\")\n",
    "for crypto in sorted(features_df['crypto'].unique().to_list()):\n",
    "    crypto_hours = hourly_profitability.filter(pl.col(\"crypto\") == crypto).head(3)\n",
    "    print(f\"\\n{crypto.upper()}:\")\n",
    "    print(crypto_hours)"
   ]
  },
  {
   "cell_type": "code",
   "execution_count": null,
   "metadata": {},
   "outputs": [],
   "source": [
    "# 3. Risk-adjusted opportunity scoring\n",
    "risk_adjusted_opportunities = (\n",
    "    opportunities\n",
    "    .with_columns([\n",
    "        # Risk-adjusted score = opportunity_score / volatility_risk\n",
    "        (pl.col(\"opportunity_score\") / (1 + pl.col(\"volatility_risk\"))).alias(\"risk_adjusted_score\"),\n",
    "        \n",
    "        # Liquidity score\n",
    "        (pl.col(\"total_volume\") * pl.col(\"tick_count\")).alias(\"liquidity_score\")\n",
    "    ])\n",
    "    .sort(\"risk_adjusted_score\", descending=True)\n",
    ")\n",
    "\n",
    "print(\"\\nTop 10 Risk-Adjusted Opportunities:\")\n",
    "risk_adjusted_opportunities.select([\n",
    "    \"timestamp\", \"crypto\", \"market_slug\", \"spread_pct\", \n",
    "    \"total_volume\", \"risk_adjusted_score\", \"market_sentiment\"\n",
    "]).head(10)"
   ]
  },
  {
   "cell_type": "markdown",
   "metadata": {},
   "source": [
    "## 7. Market Making Bot Strategy Recommendations"
   ]
  },
  {
   "cell_type": "code",
   "execution_count": null,
   "metadata": {},
   "outputs": [],
   "source": [
    "# Generate comprehensive strategy recommendations\n",
    "print(\"=\" * 60)\n",
    "print(\"POLYMARKET MARKET MAKING STRATEGY RECOMMENDATIONS\")\n",
    "print(\"=\" * 60)\n",
    "\n",
    "# Best performing cryptos\n",
    "best_cryptos = (\n",
    "    opportunity_stats\n",
    "    .sort(\"avg_opportunity_score\", descending=True)\n",
    "    .head(2)\n",
    ")\n",
    "\n",
    "print(\"\\n1. PRIORITY CRYPTOCURRENCIES:\")\n",
    "for row in best_cryptos.iter_rows(named=True):\n",
    "    crypto = row['crypto']\n",
    "    score = row['avg_opportunity_score']\n",
    "    spread = row['avg_spread'] * 100\n",
    "    print(f\"   • {crypto.upper()}: Avg Score {score:.2f}, Avg Spread {spread:.2f}%\")\n",
    "\n",
    "print(\"\\n2. OPTIMAL SPREAD THRESHOLDS:\")\n",
    "for row in spread_thresholds.iter_rows(named=True):\n",
    "    crypto = row['crypto']\n",
    "    threshold = row['profitable_spread_threshold'] * 100\n",
    "    volatility = row['volatility']\n",
    "    print(f\"   • {crypto.upper()}: Min Spread {threshold:.2f}%, Volatility {volatility:.4f}\")\n",
    "\n",
    "print(\"\\n3. BEST TRADING HOURS:\")\n",
    "print(\"   • Based on profitability proxy (spread × volume)\")\n",
    "print(\"   • Focus on hours with high volume AND wide spreads\")\n",
    "\n",
    "print(\"\\n4. KEY MARKET MAKING PARAMETERS:\")\n",
    "total_opportunities = opportunities.height\n",
    "avg_daily_opportunities = total_opportunities / 3  # Assuming ~3 days of data\n",
    "print(f\"   • Expected daily opportunities: ~{avg_daily_opportunities:.0f}\")\n",
    "print(f\"   • Minimum spread threshold: 2%\")\n",
    "print(f\"   • Volume threshold: Above 10-min moving average\")\n",
    "print(f\"   • Risk management: Monitor volatility_risk metric\")\n",
    "\n",
    "print(\"\\n5. CORRELATION INSIGHTS:\")\n",
    "if correlation_results:\n",
    "    print(\"   • Prediction market behavior correlates with underlying crypto movements\")\n",
    "    print(\"   • Use crypto price momentum as leading indicator\")\n",
    "    print(\"   • Monitor volume correlations for liquidity timing\")\n",
    "else:\n",
    "    print(\"   • Need more KLINES data for correlation analysis\")\n",
    "    print(\"   • Recommend collecting real-time crypto price feeds\")"
   ]
  },
  {
   "cell_type": "markdown",
   "metadata": {},
   "source": [
    "## 8. Next Steps for Bot Implementation\n",
    "\n",
    "Based on this analysis, here are the recommended next steps:\n",
    "\n",
    "### Immediate Actions:\n",
    "1. **Deploy monitoring system** for the top-performing crypto pairs\n",
    "2. **Set up real-time data feeds** for both orderbook and KLINES data\n",
    "3. **Implement risk management** based on volatility_risk metrics\n",
    "\n",
    "### Bot Architecture:\n",
    "1. **Data ingestion layer** - Real-time orderbook and price feeds\n",
    "2. **Feature calculation engine** - Real-time market microstructure features\n",
    "3. **Opportunity detection** - Based on our scoring algorithms\n",
    "4. **Risk management** - Position sizing and volatility controls\n",
    "5. **Execution engine** - Automated order placement and management\n",
    "\n",
    "### Performance Monitoring:\n",
    "1. **Track realized spreads** vs predicted spreads\n",
    "2. **Monitor fill rates** and execution quality\n",
    "3. **Measure correlation accuracy** between crypto and prediction markets\n",
    "4. **Analyze profitability** by time of day and crypto pair"
   ]
  },
  {
   "cell_type": "code",
   "execution_count": null,
   "metadata": {},
   "outputs": [],
   "source": [
    "# Save processed data for bot implementation\n",
    "print(\"Saving processed data for bot implementation...\")\n",
    "\n",
    "# Save opportunities data\n",
    "opportunities.write_csv(\"../data/market_making_opportunities.csv\")\n",
    "\n",
    "# Save feature data\n",
    "features_df.write_csv(\"../data/orderbook_features.csv\")\n",
    "\n",
    "# Save strategy parameters\n",
    "spread_thresholds.write_csv(\"../data/spread_thresholds.csv\")\n",
    "hourly_profitability.write_csv(\"../data/hourly_profitability.csv\")\n",
    "\n",
    "print(\"Data saved successfully!\")\n",
    "print(\"\\nFiles created:\")\n",
    "print(\"- market_making_opportunities.csv\")\n",
    "print(\"- orderbook_features.csv\") \n",
    "print(\"- spread_thresholds.csv\")\n",
    "print(\"- hourly_profitability.csv\")"
   ]
  }
 ],
 "metadata": {
  "kernelspec": {
   "display_name": ".venv",
   "language": "python",
   "name": "python3"
  },
  "language_info": {
   "codemirror_mode": {
    "name": "ipython",
    "version": 3
   },
   "file_extension": ".py",
   "mimetype": "text/x-python",
   "name": "python",
   "nbconvert_exporter": "python",
   "pygments_lexer": "ipython3",
   "version": "3.13.3"
  }
 },
 "nbformat": 4,
 "nbformat_minor": 4
}
