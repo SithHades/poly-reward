{
 "cells": [
  {
   "cell_type": "markdown",
   "metadata": {
    "vscode": {
     "languageId": "raw"
    }
   },
   "source": [
    "# ETH Candle Direction Prediction Analysis\n",
    "\n",
    "This notebook provides interactive analysis for predicting 1-hour ETH candle direction based on the first 45 minutes of data.\n",
    "\n",
    "## Overview\n",
    "- Load and prepare OHLCV data at multiple timeframes\n",
    "- Extract features from first 45 minutes using statistical methods\n",
    "- Train machine learning models to predict candle direction  \n",
    "- Make real-time predictions with confidence scores\n",
    "- Interactive Plotly visualizations and dashboards\n"
   ]
  },
  {
   "cell_type": "code",
   "execution_count": 4,
   "metadata": {},
   "outputs": [
    {
     "name": "stdout",
     "output_type": "stream",
     "text": [
      "📊 Libraries imported successfully!\n",
      "🎨 Using Plotly for all interactive visualizations\n"
     ]
    }
   ],
   "source": [
    "import pandas as pd\n",
    "import numpy as np\n",
    "import ccxt\n",
    "import time\n",
    "import warnings\n",
    "from datetime import datetime, timezone, timedelta\n",
    "import logging\n",
    "import os\n",
    "\n",
    "# Plotly for all visualizations\n",
    "import plotly.express as px\n",
    "import plotly.graph_objects as go\n",
    "from plotly.subplots import make_subplots\n",
    "import plotly.figure_factory as ff\n",
    "\n",
    "# ML libraries\n",
    "from sklearn.ensemble import RandomForestClassifier, GradientBoostingClassifier\n",
    "from sklearn.linear_model import LogisticRegression\n",
    "from sklearn.preprocessing import StandardScaler\n",
    "from sklearn.metrics import classification_report, confusion_matrix, accuracy_score\n",
    "\n",
    "# Import our custom predictor\n",
    "from src.eth_candle_predictor import EthCandlePredictor, PredictionResult\n",
    "\n",
    "warnings.filterwarnings(\"ignore\")\n",
    "pd.set_option(\"display.max_columns\", None)\n",
    "pd.set_option(\"display.width\", None)\n",
    "\n",
    "print(\"📊 Libraries imported successfully!\")\n",
    "print(\"🎨 Using Plotly for all interactive visualizations\")"
   ]
  },
  {
   "cell_type": "markdown",
   "metadata": {
    "vscode": {
     "languageId": "raw"
    }
   },
   "source": [
    "## 📈 Data Loading and Preparation\n",
    "\n",
    "Using your existing approach to fetch and prepare ETH data at multiple timeframes. You can either fetch new data or use existing dataframes.\n"
   ]
  },
  {
   "cell_type": "code",
   "execution_count": 8,
   "metadata": {},
   "outputs": [
    {
     "name": "stdout",
     "output_type": "stream",
     "text": [
      "🔄 Fetching 15 days of ETH data...\n",
      "  📥 Fetched 5000 candles...\n",
      "  📥 Fetched 10000 candles...\n",
      "  📥 Fetched 15000 candles...\n",
      "  📥 Fetched 20000 candles...\n",
      "✅ Loaded 21600 1-minute candles from 2025-06-14 17:30:00+00:00 to 2025-06-29 17:29:00+00:00\n"
     ]
    }
   ],
   "source": [
    "def fetch_eth_data(days=14):\n",
    "    \"\"\"Fetch ETH/USDT data - similar to your existing approach\"\"\"\n",
    "    exchange = ccxt.binance()\n",
    "    symbol = \"ETH/USDT\"\n",
    "    timeframe = \"1m\"\n",
    "    since = exchange.parse8601(\n",
    "        (datetime.now(timezone.utc) - timedelta(days=days)).isoformat()\n",
    "    )\n",
    "\n",
    "    all_ohlcv = []\n",
    "    limit = 1000\n",
    "\n",
    "    print(f\"🔄 Fetching {days} days of ETH data...\")\n",
    "    while True:\n",
    "        try:\n",
    "            ohlcv = exchange.fetch_ohlcv(symbol, timeframe, since, limit)\n",
    "            if len(ohlcv) == 0:\n",
    "                break\n",
    "            all_ohlcv.extend(ohlcv)\n",
    "            since = ohlcv[-1][0] + 1\n",
    "            time.sleep(exchange.rateLimit / 1000)\n",
    "            if len(all_ohlcv) % 5000 == 0:\n",
    "                print(f\"  📥 Fetched {len(all_ohlcv)} candles...\")\n",
    "        except Exception as e:\n",
    "            print(f\"❌ Error: {e}\")\n",
    "            break\n",
    "\n",
    "    df = pd.DataFrame(\n",
    "        all_ohlcv, columns=[\"timestamp\", \"open\", \"high\", \"low\", \"close\", \"volume\"]\n",
    "    )\n",
    "    df[\"timestamp\"] = pd.to_datetime(df[\"timestamp\"], unit=\"ms\", utc=True)\n",
    "    df = df.set_index(\"timestamp\").sort_index()\n",
    "    df = df[~df.index.duplicated(keep=\"last\")]\n",
    "\n",
    "    print(f\"✅ Loaded {len(df)} 1-minute candles from {df.index[0]} to {df.index[-1]}\")\n",
    "    return df\n",
    "\n",
    "\n",
    "# Uncomment the line below to fetch new data (or use your existing df)\n",
    "df = fetch_eth_data(days=15)"
   ]
  },
  {
   "cell_type": "code",
   "execution_count": 9,
   "metadata": {},
   "outputs": [
    {
     "name": "stdout",
     "output_type": "stream",
     "text": [
      "🔄 Creating resampled timeframes...\n",
      "✅ Resampled data summary:\n",
      "   📊 1-min: 21,600 candles\n",
      "   📊 5-min: 4,320 candles\n",
      "   📊 15-min: 1,440 candles\n",
      "   📊 1-hour: 361 candles\n",
      "\n",
      "📋 Recent 1-hour data:\n"
     ]
    },
    {
     "data": {
      "text/html": [
       "<div>\n",
       "<style scoped>\n",
       "    .dataframe tbody tr th:only-of-type {\n",
       "        vertical-align: middle;\n",
       "    }\n",
       "\n",
       "    .dataframe tbody tr th {\n",
       "        vertical-align: top;\n",
       "    }\n",
       "\n",
       "    .dataframe thead th {\n",
       "        text-align: right;\n",
       "    }\n",
       "</style>\n",
       "<table border=\"1\" class=\"dataframe\">\n",
       "  <thead>\n",
       "    <tr style=\"text-align: right;\">\n",
       "      <th></th>\n",
       "      <th>open</th>\n",
       "      <th>high</th>\n",
       "      <th>low</th>\n",
       "      <th>close</th>\n",
       "      <th>volume</th>\n",
       "    </tr>\n",
       "    <tr>\n",
       "      <th>timestamp</th>\n",
       "      <th></th>\n",
       "      <th></th>\n",
       "      <th></th>\n",
       "      <th></th>\n",
       "      <th></th>\n",
       "    </tr>\n",
       "  </thead>\n",
       "  <tbody>\n",
       "    <tr>\n",
       "      <th>2025-06-29 13:00:00+00:00</th>\n",
       "      <td>2454.83</td>\n",
       "      <td>2456.59</td>\n",
       "      <td>2446.27</td>\n",
       "      <td>2446.91</td>\n",
       "      <td>8605.6572</td>\n",
       "    </tr>\n",
       "    <tr>\n",
       "      <th>2025-06-29 14:00:00+00:00</th>\n",
       "      <td>2446.92</td>\n",
       "      <td>2451.70</td>\n",
       "      <td>2435.78</td>\n",
       "      <td>2440.18</td>\n",
       "      <td>10951.5297</td>\n",
       "    </tr>\n",
       "    <tr>\n",
       "      <th>2025-06-29 15:00:00+00:00</th>\n",
       "      <td>2440.18</td>\n",
       "      <td>2444.40</td>\n",
       "      <td>2432.88</td>\n",
       "      <td>2436.68</td>\n",
       "      <td>6967.2572</td>\n",
       "    </tr>\n",
       "    <tr>\n",
       "      <th>2025-06-29 16:00:00+00:00</th>\n",
       "      <td>2436.69</td>\n",
       "      <td>2440.18</td>\n",
       "      <td>2429.58</td>\n",
       "      <td>2439.06</td>\n",
       "      <td>9579.2707</td>\n",
       "    </tr>\n",
       "    <tr>\n",
       "      <th>2025-06-29 17:00:00+00:00</th>\n",
       "      <td>2439.07</td>\n",
       "      <td>2440.44</td>\n",
       "      <td>2435.94</td>\n",
       "      <td>2435.99</td>\n",
       "      <td>2001.1260</td>\n",
       "    </tr>\n",
       "  </tbody>\n",
       "</table>\n",
       "</div>"
      ],
      "text/plain": [
       "                              open     high      low    close      volume\n",
       "timestamp                                                                \n",
       "2025-06-29 13:00:00+00:00  2454.83  2456.59  2446.27  2446.91   8605.6572\n",
       "2025-06-29 14:00:00+00:00  2446.92  2451.70  2435.78  2440.18  10951.5297\n",
       "2025-06-29 15:00:00+00:00  2440.18  2444.40  2432.88  2436.68   6967.2572\n",
       "2025-06-29 16:00:00+00:00  2436.69  2440.18  2429.58  2439.06   9579.2707\n",
       "2025-06-29 17:00:00+00:00  2439.07  2440.44  2435.94  2435.99   2001.1260"
      ]
     },
     "metadata": {},
     "output_type": "display_data"
    },
    {
     "name": "stdout",
     "output_type": "stream",
     "text": [
      "\n",
      "💰 Current ETH Price: $2,435.99\n",
      "📈 24h Change: -0.33%\n"
     ]
    }
   ],
   "source": [
    "# Create resampled dataframes (use your existing ones if available)\n",
    "if \"df\" in locals() and df is not None:\n",
    "    print(\"🔄 Creating resampled timeframes...\")\n",
    "\n",
    "    # Resample to different timeframes\n",
    "    df_5min = (\n",
    "        df.resample(\"5min\")\n",
    "        .agg(\n",
    "            {\n",
    "                \"open\": \"first\",\n",
    "                \"high\": \"max\",\n",
    "                \"low\": \"min\",\n",
    "                \"close\": \"last\",\n",
    "                \"volume\": \"sum\",\n",
    "            }\n",
    "        )\n",
    "        .dropna()\n",
    "    )\n",
    "\n",
    "    df_15min = (\n",
    "        df.resample(\"15min\")\n",
    "        .agg(\n",
    "            {\n",
    "                \"open\": \"first\",\n",
    "                \"high\": \"max\",\n",
    "                \"low\": \"min\",\n",
    "                \"close\": \"last\",\n",
    "                \"volume\": \"sum\",\n",
    "            }\n",
    "        )\n",
    "        .dropna()\n",
    "    )\n",
    "\n",
    "    df_1h = (\n",
    "        df.resample(\"1H\")\n",
    "        .agg(\n",
    "            {\n",
    "                \"open\": \"first\",\n",
    "                \"high\": \"max\",\n",
    "                \"low\": \"min\",\n",
    "                \"close\": \"last\",\n",
    "                \"volume\": \"sum\",\n",
    "            }\n",
    "        )\n",
    "        .dropna()\n",
    "    )\n",
    "\n",
    "    print(f\"✅ Resampled data summary:\")\n",
    "    print(f\"   📊 1-min: {len(df):,} candles\")\n",
    "    print(f\"   📊 5-min: {len(df_5min):,} candles\")\n",
    "    print(f\"   📊 15-min: {len(df_15min):,} candles\")\n",
    "    print(f\"   📊 1-hour: {len(df_1h):,} candles\")\n",
    "\n",
    "    print(\"\\n📋 Recent 1-hour data:\")\n",
    "    display(df_1h.tail())\n",
    "\n",
    "    # Show basic stats\n",
    "    latest_price = df_1h.iloc[-1][\"close\"]\n",
    "    price_change_24h = (\n",
    "        (df_1h.iloc[-1][\"close\"] - df_1h.iloc[-25][\"close\"]) / df_1h.iloc[-25][\"close\"]\n",
    "    ) * 100\n",
    "    print(f\"\\n💰 Current ETH Price: ${latest_price:,.2f}\")\n",
    "    print(f\"📈 24h Change: {price_change_24h:+.2f}%\")\n",
    "\n",
    "else:\n",
    "    print(\n",
    "        \"⚠️  Please load 'df' first by running the fetch_eth_data function or use your existing dataframe\"\n",
    "    )\n",
    "    print(\"    Example: df = fetch_eth_data(days=14)\")"
   ]
  },
  {
   "cell_type": "markdown",
   "metadata": {
    "vscode": {
     "languageId": "raw"
    }
   },
   "source": [
    "## 🔄 Historical Analysis: Candle Flipping Behavior\n",
    "\n",
    "Analyze how often candles change direction between the 45-minute mark and close. This gives us insights into market behavior and the predictability of hourly candle outcomes.\n"
   ]
  },
  {
   "cell_type": "code",
   "execution_count": 10,
   "metadata": {},
   "outputs": [
    {
     "name": "stdout",
     "output_type": "stream",
     "text": [
      "🔍 Analyzing candle flipping behavior...\n",
      "   Processing candle 1/361\n",
      "   Processing candle 101/361\n",
      "   Processing candle 201/361\n",
      "   Processing candle 301/361\n",
      "\n",
      "📊 Historical Analysis (360 candles):\n",
      "   🟢 Green candles: 181 (50.3%)\n",
      "   🔴 Red candles: 179 (49.7%)\n",
      "   🔄 Overall flip rate: 0.0%\n",
      "\n",
      "🎯 Flip Rate Analysis by Magnitude:\n",
      "   📈 Up > 0.1% at 45min: 0.0% flip rate (150 samples)\n",
      "   📉 Down <-0.1% at 45min: 0.0% flip rate (143 samples)\n",
      "   📈 Up >0.25% at 45min: 0.0% flip rate (98 samples)\n",
      "   📉 Down <-0.25% at 45min: 0.0% flip rate (97 samples)\n",
      "   📈 Up > 0.5% at 45min: 0.0% flip rate (56 samples)\n",
      "   📉 Down <-0.5% at 45min: 0.0% flip rate (48 samples)\n",
      "   📈 Up > 1.0% at 45min: 0.0% flip rate (19 samples)\n",
      "   📉 Down <-1.0% at 45min: 0.0% flip rate (21 samples)\n",
      "\n",
      "🕐 Flip Rate by Hour of Day (UTC):\n",
      "    0:00- 0:59  0.0% flip rate (15 candles)\n",
      "    1:00- 1:59  0.0% flip rate (15 candles)\n",
      "    2:00- 2:59  0.0% flip rate (15 candles)\n",
      "    3:00- 3:59  0.0% flip rate (15 candles)\n",
      "    4:00- 4:59  0.0% flip rate (15 candles)\n",
      "    5:00- 5:59  0.0% flip rate (15 candles)\n",
      "    6:00- 6:59  0.0% flip rate (15 candles)\n",
      "    7:00- 7:59  0.0% flip rate (15 candles)\n",
      "    8:00- 8:59  0.0% flip rate (15 candles)\n",
      "    9:00- 9:59  0.0% flip rate (15 candles)\n",
      "   10:00-10:59  0.0% flip rate (15 candles)\n",
      "   11:00-11:59  0.0% flip rate (15 candles)\n",
      "   12:00-12:59  0.0% flip rate (15 candles)\n",
      "   13:00-13:59  0.0% flip rate (15 candles)\n",
      "   14:00-14:59  0.0% flip rate (15 candles)\n",
      "   15:00-15:59  0.0% flip rate (15 candles)\n",
      "   16:00-16:59  0.0% flip rate (15 candles)\n",
      "   17:00-17:59  0.0% flip rate (15 candles)\n",
      "   18:00-18:59  0.0% flip rate (15 candles)\n",
      "   19:00-19:59  0.0% flip rate (15 candles)\n",
      "   20:00-20:59  0.0% flip rate (15 candles)\n",
      "   21:00-21:59  0.0% flip rate (15 candles)\n",
      "   22:00-22:59  0.0% flip rate (15 candles)\n",
      "   23:00-23:59  0.0% flip rate (15 candles)\n",
      "\n",
      "📋 Sample of flip analysis data:\n"
     ]
    },
    {
     "data": {
      "text/html": [
       "<div>\n",
       "<style scoped>\n",
       "    .dataframe tbody tr th:only-of-type {\n",
       "        vertical-align: middle;\n",
       "    }\n",
       "\n",
       "    .dataframe tbody tr th {\n",
       "        vertical-align: top;\n",
       "    }\n",
       "\n",
       "    .dataframe thead th {\n",
       "        text-align: right;\n",
       "    }\n",
       "</style>\n",
       "<table border=\"1\" class=\"dataframe\">\n",
       "  <thead>\n",
       "    <tr style=\"text-align: right;\">\n",
       "      <th></th>\n",
       "      <th>timestamp</th>\n",
       "      <th>open</th>\n",
       "      <th>price_at_45min</th>\n",
       "      <th>close</th>\n",
       "      <th>delta_45_pct</th>\n",
       "      <th>delta_close_pct</th>\n",
       "      <th>direction_45</th>\n",
       "      <th>direction_close</th>\n",
       "      <th>flipped</th>\n",
       "      <th>green_candle</th>\n",
       "      <th>hour_of_day</th>\n",
       "      <th>day_of_week</th>\n",
       "    </tr>\n",
       "  </thead>\n",
       "  <tbody>\n",
       "    <tr>\n",
       "      <th>0</th>\n",
       "      <td>2025-06-14 17:00:00+00:00</td>\n",
       "      <td>2515.08</td>\n",
       "      <td>2511.49</td>\n",
       "      <td>2511.49</td>\n",
       "      <td>-0.142739</td>\n",
       "      <td>-0.142739</td>\n",
       "      <td>down</td>\n",
       "      <td>down</td>\n",
       "      <td>False</td>\n",
       "      <td>False</td>\n",
       "      <td>17</td>\n",
       "      <td>Saturday</td>\n",
       "    </tr>\n",
       "    <tr>\n",
       "      <th>1</th>\n",
       "      <td>2025-06-14 18:00:00+00:00</td>\n",
       "      <td>2511.49</td>\n",
       "      <td>2508.48</td>\n",
       "      <td>2508.48</td>\n",
       "      <td>-0.119849</td>\n",
       "      <td>-0.119849</td>\n",
       "      <td>down</td>\n",
       "      <td>down</td>\n",
       "      <td>False</td>\n",
       "      <td>False</td>\n",
       "      <td>18</td>\n",
       "      <td>Saturday</td>\n",
       "    </tr>\n",
       "    <tr>\n",
       "      <th>2</th>\n",
       "      <td>2025-06-14 19:00:00+00:00</td>\n",
       "      <td>2508.49</td>\n",
       "      <td>2507.50</td>\n",
       "      <td>2507.50</td>\n",
       "      <td>-0.039466</td>\n",
       "      <td>-0.039466</td>\n",
       "      <td>down</td>\n",
       "      <td>down</td>\n",
       "      <td>False</td>\n",
       "      <td>False</td>\n",
       "      <td>19</td>\n",
       "      <td>Saturday</td>\n",
       "    </tr>\n",
       "    <tr>\n",
       "      <th>3</th>\n",
       "      <td>2025-06-14 20:00:00+00:00</td>\n",
       "      <td>2507.50</td>\n",
       "      <td>2509.37</td>\n",
       "      <td>2509.37</td>\n",
       "      <td>0.074576</td>\n",
       "      <td>0.074576</td>\n",
       "      <td>up</td>\n",
       "      <td>up</td>\n",
       "      <td>False</td>\n",
       "      <td>True</td>\n",
       "      <td>20</td>\n",
       "      <td>Saturday</td>\n",
       "    </tr>\n",
       "    <tr>\n",
       "      <th>4</th>\n",
       "      <td>2025-06-14 21:00:00+00:00</td>\n",
       "      <td>2509.37</td>\n",
       "      <td>2527.94</td>\n",
       "      <td>2527.94</td>\n",
       "      <td>0.740026</td>\n",
       "      <td>0.740026</td>\n",
       "      <td>up</td>\n",
       "      <td>up</td>\n",
       "      <td>False</td>\n",
       "      <td>True</td>\n",
       "      <td>21</td>\n",
       "      <td>Saturday</td>\n",
       "    </tr>\n",
       "    <tr>\n",
       "      <th>5</th>\n",
       "      <td>2025-06-14 22:00:00+00:00</td>\n",
       "      <td>2527.95</td>\n",
       "      <td>2526.49</td>\n",
       "      <td>2526.49</td>\n",
       "      <td>-0.057754</td>\n",
       "      <td>-0.057754</td>\n",
       "      <td>down</td>\n",
       "      <td>down</td>\n",
       "      <td>False</td>\n",
       "      <td>False</td>\n",
       "      <td>22</td>\n",
       "      <td>Saturday</td>\n",
       "    </tr>\n",
       "    <tr>\n",
       "      <th>6</th>\n",
       "      <td>2025-06-14 23:00:00+00:00</td>\n",
       "      <td>2526.48</td>\n",
       "      <td>2530.76</td>\n",
       "      <td>2530.76</td>\n",
       "      <td>0.169406</td>\n",
       "      <td>0.169406</td>\n",
       "      <td>up</td>\n",
       "      <td>up</td>\n",
       "      <td>False</td>\n",
       "      <td>True</td>\n",
       "      <td>23</td>\n",
       "      <td>Saturday</td>\n",
       "    </tr>\n",
       "    <tr>\n",
       "      <th>7</th>\n",
       "      <td>2025-06-15 00:00:00+00:00</td>\n",
       "      <td>2530.77</td>\n",
       "      <td>2537.60</td>\n",
       "      <td>2537.60</td>\n",
       "      <td>0.269878</td>\n",
       "      <td>0.269878</td>\n",
       "      <td>up</td>\n",
       "      <td>up</td>\n",
       "      <td>False</td>\n",
       "      <td>True</td>\n",
       "      <td>0</td>\n",
       "      <td>Sunday</td>\n",
       "    </tr>\n",
       "    <tr>\n",
       "      <th>8</th>\n",
       "      <td>2025-06-15 01:00:00+00:00</td>\n",
       "      <td>2537.61</td>\n",
       "      <td>2528.99</td>\n",
       "      <td>2528.99</td>\n",
       "      <td>-0.339690</td>\n",
       "      <td>-0.339690</td>\n",
       "      <td>down</td>\n",
       "      <td>down</td>\n",
       "      <td>False</td>\n",
       "      <td>False</td>\n",
       "      <td>1</td>\n",
       "      <td>Sunday</td>\n",
       "    </tr>\n",
       "    <tr>\n",
       "      <th>9</th>\n",
       "      <td>2025-06-15 02:00:00+00:00</td>\n",
       "      <td>2529.00</td>\n",
       "      <td>2529.19</td>\n",
       "      <td>2529.19</td>\n",
       "      <td>0.007513</td>\n",
       "      <td>0.007513</td>\n",
       "      <td>up</td>\n",
       "      <td>up</td>\n",
       "      <td>False</td>\n",
       "      <td>True</td>\n",
       "      <td>2</td>\n",
       "      <td>Sunday</td>\n",
       "    </tr>\n",
       "  </tbody>\n",
       "</table>\n",
       "</div>"
      ],
      "text/plain": [
       "                  timestamp     open  price_at_45min    close  delta_45_pct  \\\n",
       "0 2025-06-14 17:00:00+00:00  2515.08         2511.49  2511.49     -0.142739   \n",
       "1 2025-06-14 18:00:00+00:00  2511.49         2508.48  2508.48     -0.119849   \n",
       "2 2025-06-14 19:00:00+00:00  2508.49         2507.50  2507.50     -0.039466   \n",
       "3 2025-06-14 20:00:00+00:00  2507.50         2509.37  2509.37      0.074576   \n",
       "4 2025-06-14 21:00:00+00:00  2509.37         2527.94  2527.94      0.740026   \n",
       "5 2025-06-14 22:00:00+00:00  2527.95         2526.49  2526.49     -0.057754   \n",
       "6 2025-06-14 23:00:00+00:00  2526.48         2530.76  2530.76      0.169406   \n",
       "7 2025-06-15 00:00:00+00:00  2530.77         2537.60  2537.60      0.269878   \n",
       "8 2025-06-15 01:00:00+00:00  2537.61         2528.99  2528.99     -0.339690   \n",
       "9 2025-06-15 02:00:00+00:00  2529.00         2529.19  2529.19      0.007513   \n",
       "\n",
       "   delta_close_pct direction_45 direction_close  flipped  green_candle  \\\n",
       "0        -0.142739         down            down    False         False   \n",
       "1        -0.119849         down            down    False         False   \n",
       "2        -0.039466         down            down    False         False   \n",
       "3         0.074576           up              up    False          True   \n",
       "4         0.740026           up              up    False          True   \n",
       "5        -0.057754         down            down    False         False   \n",
       "6         0.169406           up              up    False          True   \n",
       "7         0.269878           up              up    False          True   \n",
       "8        -0.339690         down            down    False         False   \n",
       "9         0.007513           up              up    False          True   \n",
       "\n",
       "   hour_of_day day_of_week  \n",
       "0           17    Saturday  \n",
       "1           18    Saturday  \n",
       "2           19    Saturday  \n",
       "3           20    Saturday  \n",
       "4           21    Saturday  \n",
       "5           22    Saturday  \n",
       "6           23    Saturday  \n",
       "7            0      Sunday  \n",
       "8            1      Sunday  \n",
       "9            2      Sunday  "
      ]
     },
     "metadata": {},
     "output_type": "display_data"
    }
   ],
   "source": [
    "def analyze_candle_flipping(df_1min, df_1h, df_15min):\n",
    "    \"\"\"Analyze how often candles flip direction between 45min and close\"\"\"\n",
    "    results = []\n",
    "\n",
    "    print(\"🔍 Analyzing candle flipping behavior...\")\n",
    "\n",
    "    for i, ts in enumerate(df_1h.index):\n",
    "        if i % 100 == 0:\n",
    "            print(f\"   Processing candle {i + 1}/{len(df_1h)}\")\n",
    "\n",
    "        open_price = df_1h.loc[ts, \"open\"]\n",
    "        close_price = df_1h.loc[ts, \"close\"]\n",
    "\n",
    "        # Find 45-min mark price (closest 15-min candle to 45-min mark)\n",
    "        ts_45 = ts + pd.Timedelta(minutes=45)\n",
    "        closest_idx = np.abs(df_15min.index - ts_45).argmin()\n",
    "\n",
    "        if np.abs(df_15min.index[closest_idx] - ts_45) <= pd.Timedelta(minutes=15):\n",
    "            price_45 = df_15min.iloc[closest_idx][\"close\"]\n",
    "        else:\n",
    "            continue\n",
    "\n",
    "        # Calculate changes\n",
    "        delta_45 = price_45 - open_price\n",
    "        delta_close = close_price - open_price\n",
    "\n",
    "        direction_45 = \"up\" if delta_45 > 0 else \"down\" if delta_45 < 0 else \"flat\"\n",
    "        direction_close = (\n",
    "            \"up\" if delta_close > 0 else \"down\" if delta_close < 0 else \"flat\"\n",
    "        )\n",
    "        flipped = direction_45 != direction_close\n",
    "\n",
    "        results.append(\n",
    "            {\n",
    "                \"timestamp\": ts,\n",
    "                \"open\": open_price,\n",
    "                \"price_at_45min\": price_45,\n",
    "                \"close\": close_price,\n",
    "                \"delta_45_pct\": (delta_45 / open_price) * 100,\n",
    "                \"delta_close_pct\": (delta_close / open_price) * 100,\n",
    "                \"direction_45\": direction_45,\n",
    "                \"direction_close\": direction_close,\n",
    "                \"flipped\": flipped,\n",
    "                \"green_candle\": close_price > open_price,\n",
    "                \"hour_of_day\": ts.hour,\n",
    "                \"day_of_week\": ts.day_name(),\n",
    "            }\n",
    "        )\n",
    "\n",
    "    return pd.DataFrame(results)\n",
    "\n",
    "\n",
    "# Analyze historical behavior\n",
    "if \"df_1h\" in locals():\n",
    "    flip_df = analyze_candle_flipping(df, df_1h, df_15min)\n",
    "\n",
    "    # Print comprehensive statistics\n",
    "    total_candles = len(flip_df)\n",
    "    green_candles = flip_df[\"green_candle\"].sum()\n",
    "    flip_rate = flip_df[\"flipped\"].mean()\n",
    "\n",
    "    print(f\"\\n📊 Historical Analysis ({total_candles:,} candles):\")\n",
    "    print(\n",
    "        f\"   🟢 Green candles: {green_candles:,} ({green_candles / total_candles:.1%})\"\n",
    "    )\n",
    "    print(\n",
    "        f\"   🔴 Red candles: {total_candles - green_candles:,} ({(total_candles - green_candles) / total_candles:.1%})\"\n",
    "    )\n",
    "    print(f\"   🔄 Overall flip rate: {flip_rate:.1%}\")\n",
    "\n",
    "    # Analyze flip rates by different thresholds\n",
    "    print(f\"\\n🎯 Flip Rate Analysis by Magnitude:\")\n",
    "    for threshold in [0.1, 0.25, 0.5, 1.0]:\n",
    "        subset_up = flip_df[flip_df[\"delta_45_pct\"] > threshold]\n",
    "        subset_down = flip_df[flip_df[\"delta_45_pct\"] < -threshold]\n",
    "\n",
    "        if len(subset_up) > 0:\n",
    "            flip_rate_up = subset_up[\"flipped\"].mean()\n",
    "            print(\n",
    "                f\"   📈 Up >{threshold:>4}% at 45min: {flip_rate_up:.1%} flip rate ({len(subset_up):,} samples)\"\n",
    "            )\n",
    "\n",
    "        if len(subset_down) > 0:\n",
    "            flip_rate_down = subset_down[\"flipped\"].mean()\n",
    "            print(\n",
    "                f\"   📉 Down <-{threshold:>3}% at 45min: {flip_rate_down:.1%} flip rate ({len(subset_down):,} samples)\"\n",
    "            )\n",
    "\n",
    "    # Time-based analysis\n",
    "    print(f\"\\n🕐 Flip Rate by Hour of Day (UTC):\")\n",
    "    hourly_flip = flip_df.groupby(\"hour_of_day\")[\"flipped\"].agg([\"mean\", \"count\"])\n",
    "    for hour in range(24):\n",
    "        if hour in hourly_flip.index:\n",
    "            rate = hourly_flip.loc[hour, \"mean\"]\n",
    "            count = hourly_flip.loc[hour, \"count\"]\n",
    "            print(\n",
    "                f\"   {hour:2d}:00-{hour:2d}:59  {rate:.1%} flip rate ({count:,} candles)\"\n",
    "            )\n",
    "\n",
    "    print(f\"\\n📋 Sample of flip analysis data:\")\n",
    "    display(flip_df.head(10))\n",
    "\n",
    "else:\n",
    "    print(\"⚠️  Please ensure df_1h is available first\")"
   ]
  },
  {
   "cell_type": "code",
   "execution_count": 11,
   "metadata": {},
   "outputs": [
    {
     "data": {
      "application/vnd.plotly.v1+json": {
       "config": {
        "plotlyServerURL": "https://plot.ly"
       },
       "data": [
        {
         "bingroup": "x",
         "hovertemplate": "flipped=False<br>45-Minute Change (%)=%{x}<br>count=%{y}<extra></extra>",
         "legendgroup": "False",
         "marker": {
          "color": "#4ecdc4",
          "pattern": {
           "shape": ""
          }
         },
         "name": "False",
         "nbinsx": 50,
         "orientation": "v",
         "showlegend": true,
         "type": "histogram",
         "x": {
          "bdata": "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",
          "dtype": "f8"
         },
         "xaxis": "x",
         "yaxis": "y"
        }
       ],
       "layout": {
        "barmode": "relative",
        "height": 500,
        "legend": {
         "title": {
          "text": "Flipped Direction"
         },
         "tracegroupgap": 0
        },
        "template": {
         "data": {
          "bar": [
           {
            "error_x": {
             "color": "#2a3f5f"
            },
            "error_y": {
             "color": "#2a3f5f"
            },
            "marker": {
             "line": {
              "color": "#E5ECF6",
              "width": 0.5
             },
             "pattern": {
              "fillmode": "overlay",
              "size": 10,
              "solidity": 0.2
             }
            },
            "type": "bar"
           }
          ],
          "barpolar": [
           {
            "marker": {
             "line": {
              "color": "#E5ECF6",
              "width": 0.5
             },
             "pattern": {
              "fillmode": "overlay",
              "size": 10,
              "solidity": 0.2
             }
            },
            "type": "barpolar"
           }
          ],
          "carpet": [
           {
            "aaxis": {
             "endlinecolor": "#2a3f5f",
             "gridcolor": "white",
             "linecolor": "white",
             "minorgridcolor": "white",
             "startlinecolor": "#2a3f5f"
            },
            "baxis": {
             "endlinecolor": "#2a3f5f",
             "gridcolor": "white",
             "linecolor": "white",
             "minorgridcolor": "white",
             "startlinecolor": "#2a3f5f"
            },
            "type": "carpet"
           }
          ],
          "choropleth": [
           {
            "colorbar": {
             "outlinewidth": 0,
             "ticks": ""
            },
            "type": "choropleth"
           }
          ],
          "contour": [
           {
            "colorbar": {
             "outlinewidth": 0,
             "ticks": ""
            },
            "colorscale": [
             [
              0,
              "#0d0887"
             ],
             [
              0.1111111111111111,
              "#46039f"
             ],
             [
              0.2222222222222222,
              "#7201a8"
             ],
             [
              0.3333333333333333,
              "#9c179e"
             ],
             [
              0.4444444444444444,
              "#bd3786"
             ],
             [
              0.5555555555555556,
              "#d8576b"
             ],
             [
              0.6666666666666666,
              "#ed7953"
             ],
             [
              0.7777777777777778,
              "#fb9f3a"
             ],
             [
              0.8888888888888888,
              "#fdca26"
             ],
             [
              1,
              "#f0f921"
             ]
            ],
            "type": "contour"
           }
          ],
          "contourcarpet": [
           {
            "colorbar": {
             "outlinewidth": 0,
             "ticks": ""
            },
            "type": "contourcarpet"
           }
          ],
          "heatmap": [
           {
            "colorbar": {
             "outlinewidth": 0,
             "ticks": ""
            },
            "colorscale": [
             [
              0,
              "#0d0887"
             ],
             [
              0.1111111111111111,
              "#46039f"
             ],
             [
              0.2222222222222222,
              "#7201a8"
             ],
             [
              0.3333333333333333,
              "#9c179e"
             ],
             [
              0.4444444444444444,
              "#bd3786"
             ],
             [
              0.5555555555555556,
              "#d8576b"
             ],
             [
              0.6666666666666666,
              "#ed7953"
             ],
             [
              0.7777777777777778,
              "#fb9f3a"
             ],
             [
              0.8888888888888888,
              "#fdca26"
             ],
             [
              1,
              "#f0f921"
             ]
            ],
            "type": "heatmap"
           }
          ],
          "histogram": [
           {
            "marker": {
             "pattern": {
              "fillmode": "overlay",
              "size": 10,
              "solidity": 0.2
             }
            },
            "type": "histogram"
           }
          ],
          "histogram2d": [
           {
            "colorbar": {
             "outlinewidth": 0,
             "ticks": ""
            },
            "colorscale": [
             [
              0,
              "#0d0887"
             ],
             [
              0.1111111111111111,
              "#46039f"
             ],
             [
              0.2222222222222222,
              "#7201a8"
             ],
             [
              0.3333333333333333,
              "#9c179e"
             ],
             [
              0.4444444444444444,
              "#bd3786"
             ],
             [
              0.5555555555555556,
              "#d8576b"
             ],
             [
              0.6666666666666666,
              "#ed7953"
             ],
             [
              0.7777777777777778,
              "#fb9f3a"
             ],
             [
              0.8888888888888888,
              "#fdca26"
             ],
             [
              1,
              "#f0f921"
             ]
            ],
            "type": "histogram2d"
           }
          ],
          "histogram2dcontour": [
           {
            "colorbar": {
             "outlinewidth": 0,
             "ticks": ""
            },
            "colorscale": [
             [
              0,
              "#0d0887"
             ],
             [
              0.1111111111111111,
              "#46039f"
             ],
             [
              0.2222222222222222,
              "#7201a8"
             ],
             [
              0.3333333333333333,
              "#9c179e"
             ],
             [
              0.4444444444444444,
              "#bd3786"
             ],
             [
              0.5555555555555556,
              "#d8576b"
             ],
             [
              0.6666666666666666,
              "#ed7953"
             ],
             [
              0.7777777777777778,
              "#fb9f3a"
             ],
             [
              0.8888888888888888,
              "#fdca26"
             ],
             [
              1,
              "#f0f921"
             ]
            ],
            "type": "histogram2dcontour"
           }
          ],
          "mesh3d": [
           {
            "colorbar": {
             "outlinewidth": 0,
             "ticks": ""
            },
            "type": "mesh3d"
           }
          ],
          "parcoords": [
           {
            "line": {
             "colorbar": {
              "outlinewidth": 0,
              "ticks": ""
             }
            },
            "type": "parcoords"
           }
          ],
          "pie": [
           {
            "automargin": true,
            "type": "pie"
           }
          ],
          "scatter": [
           {
            "fillpattern": {
             "fillmode": "overlay",
             "size": 10,
             "solidity": 0.2
            },
            "type": "scatter"
           }
          ],
          "scatter3d": [
           {
            "line": {
             "colorbar": {
              "outlinewidth": 0,
              "ticks": ""
             }
            },
            "marker": {
             "colorbar": {
              "outlinewidth": 0,
              "ticks": ""
             }
            },
            "type": "scatter3d"
           }
          ],
          "scattercarpet": [
           {
            "marker": {
             "colorbar": {
              "outlinewidth": 0,
              "ticks": ""
             }
            },
            "type": "scattercarpet"
           }
          ],
          "scattergeo": [
           {
            "marker": {
             "colorbar": {
              "outlinewidth": 0,
              "ticks": ""
             }
            },
            "type": "scattergeo"
           }
          ],
          "scattergl": [
           {
            "marker": {
             "colorbar": {
              "outlinewidth": 0,
              "ticks": ""
             }
            },
            "type": "scattergl"
           }
          ],
          "scattermap": [
           {
            "marker": {
             "colorbar": {
              "outlinewidth": 0,
              "ticks": ""
             }
            },
            "type": "scattermap"
           }
          ],
          "scattermapbox": [
           {
            "marker": {
             "colorbar": {
              "outlinewidth": 0,
              "ticks": ""
             }
            },
            "type": "scattermapbox"
           }
          ],
          "scatterpolar": [
           {
            "marker": {
             "colorbar": {
              "outlinewidth": 0,
              "ticks": ""
             }
            },
            "type": "scatterpolar"
           }
          ],
          "scatterpolargl": [
           {
            "marker": {
             "colorbar": {
              "outlinewidth": 0,
              "ticks": ""
             }
            },
            "type": "scatterpolargl"
           }
          ],
          "scatterternary": [
           {
            "marker": {
             "colorbar": {
              "outlinewidth": 0,
              "ticks": ""
             }
            },
            "type": "scatterternary"
           }
          ],
          "surface": [
           {
            "colorbar": {
             "outlinewidth": 0,
             "ticks": ""
            },
            "colorscale": [
             [
              0,
              "#0d0887"
             ],
             [
              0.1111111111111111,
              "#46039f"
             ],
             [
              0.2222222222222222,
              "#7201a8"
             ],
             [
              0.3333333333333333,
              "#9c179e"
             ],
             [
              0.4444444444444444,
              "#bd3786"
             ],
             [
              0.5555555555555556,
              "#d8576b"
             ],
             [
              0.6666666666666666,
              "#ed7953"
             ],
             [
              0.7777777777777778,
              "#fb9f3a"
             ],
             [
              0.8888888888888888,
              "#fdca26"
             ],
             [
              1,
              "#f0f921"
             ]
            ],
            "type": "surface"
           }
          ],
          "table": [
           {
            "cells": {
             "fill": {
              "color": "#EBF0F8"
             },
             "line": {
              "color": "white"
             }
            },
            "header": {
             "fill": {
              "color": "#C8D4E3"
             },
             "line": {
              "color": "white"
             }
            },
            "type": "table"
           }
          ]
         },
         "layout": {
          "annotationdefaults": {
           "arrowcolor": "#2a3f5f",
           "arrowhead": 0,
           "arrowwidth": 1
          },
          "autotypenumbers": "strict",
          "coloraxis": {
           "colorbar": {
            "outlinewidth": 0,
            "ticks": ""
           }
          },
          "colorscale": {
           "diverging": [
            [
             0,
             "#8e0152"
            ],
            [
             0.1,
             "#c51b7d"
            ],
            [
             0.2,
             "#de77ae"
            ],
            [
             0.3,
             "#f1b6da"
            ],
            [
             0.4,
             "#fde0ef"
            ],
            [
             0.5,
             "#f7f7f7"
            ],
            [
             0.6,
             "#e6f5d0"
            ],
            [
             0.7,
             "#b8e186"
            ],
            [
             0.8,
             "#7fbc41"
            ],
            [
             0.9,
             "#4d9221"
            ],
            [
             1,
             "#276419"
            ]
           ],
           "sequential": [
            [
             0,
             "#0d0887"
            ],
            [
             0.1111111111111111,
             "#46039f"
            ],
            [
             0.2222222222222222,
             "#7201a8"
            ],
            [
             0.3333333333333333,
             "#9c179e"
            ],
            [
             0.4444444444444444,
             "#bd3786"
            ],
            [
             0.5555555555555556,
             "#d8576b"
            ],
            [
             0.6666666666666666,
             "#ed7953"
            ],
            [
             0.7777777777777778,
             "#fb9f3a"
            ],
            [
             0.8888888888888888,
             "#fdca26"
            ],
            [
             1,
             "#f0f921"
            ]
           ],
           "sequentialminus": [
            [
             0,
             "#0d0887"
            ],
            [
             0.1111111111111111,
             "#46039f"
            ],
            [
             0.2222222222222222,
             "#7201a8"
            ],
            [
             0.3333333333333333,
             "#9c179e"
            ],
            [
             0.4444444444444444,
             "#bd3786"
            ],
            [
             0.5555555555555556,
             "#d8576b"
            ],
            [
             0.6666666666666666,
             "#ed7953"
            ],
            [
             0.7777777777777778,
             "#fb9f3a"
            ],
            [
             0.8888888888888888,
             "#fdca26"
            ],
            [
             1,
             "#f0f921"
            ]
           ]
          },
          "colorway": [
           "#636efa",
           "#EF553B",
           "#00cc96",
           "#ab63fa",
           "#FFA15A",
           "#19d3f3",
           "#FF6692",
           "#B6E880",
           "#FF97FF",
           "#FECB52"
          ],
          "font": {
           "color": "#2a3f5f"
          },
          "geo": {
           "bgcolor": "white",
           "lakecolor": "white",
           "landcolor": "#E5ECF6",
           "showlakes": true,
           "showland": true,
           "subunitcolor": "white"
          },
          "hoverlabel": {
           "align": "left"
          },
          "hovermode": "closest",
          "mapbox": {
           "style": "light"
          },
          "paper_bgcolor": "white",
          "plot_bgcolor": "#E5ECF6",
          "polar": {
           "angularaxis": {
            "gridcolor": "white",
            "linecolor": "white",
            "ticks": ""
           },
           "bgcolor": "#E5ECF6",
           "radialaxis": {
            "gridcolor": "white",
            "linecolor": "white",
            "ticks": ""
           }
          },
          "scene": {
           "xaxis": {
            "backgroundcolor": "#E5ECF6",
            "gridcolor": "white",
            "gridwidth": 2,
            "linecolor": "white",
            "showbackground": true,
            "ticks": "",
            "zerolinecolor": "white"
           },
           "yaxis": {
            "backgroundcolor": "#E5ECF6",
            "gridcolor": "white",
            "gridwidth": 2,
            "linecolor": "white",
            "showbackground": true,
            "ticks": "",
            "zerolinecolor": "white"
           },
           "zaxis": {
            "backgroundcolor": "#E5ECF6",
            "gridcolor": "white",
            "gridwidth": 2,
            "linecolor": "white",
            "showbackground": true,
            "ticks": "",
            "zerolinecolor": "white"
           }
          },
          "shapedefaults": {
           "line": {
            "color": "#2a3f5f"
           }
          },
          "ternary": {
           "aaxis": {
            "gridcolor": "white",
            "linecolor": "white",
            "ticks": ""
           },
           "baxis": {
            "gridcolor": "white",
            "linecolor": "white",
            "ticks": ""
           },
           "bgcolor": "#E5ECF6",
           "caxis": {
            "gridcolor": "white",
            "linecolor": "white",
            "ticks": ""
           }
          },
          "title": {
           "x": 0.05
          },
          "xaxis": {
           "automargin": true,
           "gridcolor": "white",
           "linecolor": "white",
           "ticks": "",
           "title": {
            "standoff": 15
           },
           "zerolinecolor": "white",
           "zerolinewidth": 2
          },
          "yaxis": {
           "automargin": true,
           "gridcolor": "white",
           "linecolor": "white",
           "ticks": "",
           "title": {
            "standoff": 15
           },
           "zerolinecolor": "white",
           "zerolinewidth": 2
          }
         }
        },
        "title": {
         "text": "🔄 Candle Flip Behavior by 45-Minute Change"
        },
        "xaxis": {
         "anchor": "y",
         "domain": [
          0,
          1
         ],
         "title": {
          "text": "45-Minute Change (%)"
         }
        },
        "yaxis": {
         "anchor": "x",
         "domain": [
          0,
          1
         ],
         "title": {
          "text": "Number of Candles"
         }
        }
       }
      }
     },
     "metadata": {},
     "output_type": "display_data"
    },
    {
     "data": {
      "application/vnd.plotly.v1+json": {
       "config": {
        "plotlyServerURL": "https://plot.ly"
       },
       "data": [
        {
         "bingroup": "x",
         "hovertemplate": "green_candle=False<br>45-Minute Change (%)=%{x}<br>count=%{y}<extra></extra>",
         "legendgroup": "False",
         "marker": {
          "color": "#ff0000",
          "pattern": {
           "shape": ""
          }
         },
         "name": "False",
         "nbinsx": 50,
         "orientation": "v",
         "showlegend": true,
         "type": "histogram",
         "x": {
          "bdata": "Pv/pgEVFwr8cs1h3b66+v+HPb1PiNKS/5ys+9viRrb+OW7Lmeb3Vvw6NTNx+dOO/r03w0her0b+0LonuCUbUv8j00GOK+dm/5Sfyv+XFxL9uIpeZnXPRvwemPfz5j8m/RWG23jPI3b/ZQy+l9xj1v0y+Xd81oru/7D84mPsUzr8suCd+WUrVv2vGAH3MmsS/6iY9dcJBiL+27w4fslitv5h06JcIEXG/nfBsJgGS0r9OMrYJ3X20v7kWcOtr9Oi/saGvGDjCB8DWCAMFeELwv8+jKCQVy9C/ByN5L1qYr7/PstFN+Qjjv4DrKMrNQt2/AAAAAAAAAADJs7QNr5Hav+goveAUisi/3u/4Pp182L+3jFVrLxTHv2HLUz3GN8a/1AJ2FoDk6L+Gu19ps5b1v8r24Fzu5Pe/sqTnzShd5r+nn3Y5Gxzwv1ukhypo+dC/dAWfYacDx7+bq6U08Hjgv019fF5pBIW/VHpQp7RTz7/OdqQcGnD0v73A7f+eUem/cIW+6pXh1r8sR4Q6SdjAv/PUQqZPGOu/2GMdp+eVj79DRjcfRjPAv/+3SHyQtXa/e+idtmRY4r8dPJITnSyFv7PPdSSrFaW/nfK/3BI5t7+2TSwXUQ+/vzOWqCQag2O/KEpj9yPx0L9SuErTo/PPvw7svssk3uO/t+lodIhy4L/ipKQ51UzEv7KHXcP2ssq/gZeTmn4Dwr+CL/cjbg65v6+pSV6Nhte/PzisYVZEoL+PqwbsfpDgv1lJ7/CpD3i/nwDxFLWmk7+nhSbxTf2/v5ekQrBvmeO/rnf0tAUy/b+jloxEVOzcv1GGRCPEVATAh6Q5dBkvyr/A2TMQlQ7bv8+xFUHD+fC/7RrTqjCx1b8lG1JZF+u8vw1nD5OZYtC/ynYItyL50b/YaqStuDfkvyfMRFh/jqG/OKme3OAQ079u5SeKn7nmv3A/W8XIsN+/Rkj6QF4hu79mvT5bokYUwPgN/TGJ+qi/I5Gey0GW87/Pebtc0dCmv8zSkG3jkKS/PhCujDXstb/UEz3ZOJLmv4LYifLX3Pa/RZBZL8khDMBczOx7wirzv6l+XkHTf8u/jWFQjSvw27/FVzbjktbYv5ZQ8JdpgdG/0kf89D8P1L/I8iETAQrJv2nzYAfF/qW/AdVVfbE83L8RgKxNR2vMv0zk4hjvqu2/Cm4DSrfr8b+tD3IFDQfzv0KV3phSR9C/JHuR52ta17/HL3iwDyrtv+jK82pSZ/W/ckH1Tf7rs79126UpnvfHv8wGafm+ceu/vcbdqtm/7L8Ijj7ttL+rv8Be/Fjhr8W/2NmOfRXzwr/PoDW4ZubXv0Ykv+9kNtO/e7d72JXn178oQTj8Es3Ov4GzQu7mdHe/f7Rj4K5+yr+UXZfr19Tov8AqTebDm2e/yFfjpylivr/eKDU61WTxv8BQEePuWce/Y6DXIUjs07/UFIy21ufiv/IwC+ZfNMe/P1W8uP0I1b94Zw3hbfTJv17vWwvaqr+/QPeJQ/gi7r9y8c5gH9rfvwgPBLb2SqC/8L8/7Ar72r89EnUB0afQvydU1aAKm+G/6AZEJjZbzL9+8gd4OVnSv9mgsYQrYPS//Xkh6zfBoL82c32+n6nkv/OkdgnQjNm/ziPkjdnU0L/RV2neIxrjv3a+eENcmOa/RiCFbCCLtL/DlBx+eyXJv2/bBNMUW8m/3h33ke7D8r9NAIqo5lHav3k3RRAfwNC/gX6IS5i5yb/+AiPvznyev4/REIriKNO/BMoPu02spL/0Gi9Ahg2sv981ugELkcC/H1s5/oBFqr9EJpyPVW/Sv4Ykn0AH6MO/ooo6saXiwr/WVbtOBCHIv7Ufg5hikde/VjtNeymixL+Sft1hCTzTvwHaFjj1pdS/VT4k/PGg0b/ijZMs+1vCvw==",
          "dtype": "f8"
         },
         "xaxis": "x",
         "yaxis": "y"
        },
        {
         "bingroup": "x",
         "hovertemplate": "green_candle=True<br>45-Minute Change (%)=%{x}<br>count=%{y}<extra></extra>",
         "legendgroup": "True",
         "marker": {
          "color": "#00ff00",
          "pattern": {
           "shape": ""
          }
         },
         "name": "True",
         "nbinsx": 50,
         "orientation": "v",
         "showlegend": true,
         "type": "histogram",
         "x": {
          "bdata": "u6nNNW4Xsz/6SiPOS67nPwAtoqIVr8U/A1xIyq9F0T+p26aQy8V+Pzh5gHkdOKI/tyemfS7s4D/ohAqx/iXTP5gXQ0CaD9k/IdpPmFa52D+PkTp7/dDlPxSUBdltysw/Ro7C6RmT2D9B6S31PN+1P6lblBtT/OE/VMXUZcNR8T9aTEvhvZO9P3cVcIjCcdg/dAMUn46w6D8KAzIJr5DSP3JqbLRDtPM/CkS9j0V1kj8OT1iboYLpP+LlI4/vKa8/dvMibd//7T9zENJvRDzCPxRO8JjDqeg/JJPirDaTzj81DqcDckbWPxoSrq0iYPs/XTayB5Nr8T9jzmYZwGy2Pzo/CjWloMo/+Vh+TIypyz9suTftxqHzP3d9LMQD7fM/GG8M96b31j+7/uEIYwPkP9WmfecpseQ/DbRwgISK4D/HcfsbfM/WP9+TlCIj/XQ/92+S7KAj2D+jWFpM6HXoPzehuf6xlNQ/92Pc+clXwT9Pt4kjGzDCP/olDzI6y+U/KGHI02hS9z/ApN5cXKXFP2v5qZhS2Ns/aGndzdtfxz+3VwtO37DiPyYNYl4uXYM/NJBjjuZu6j878QfyVm9tP9wawFw5h7g/9QgM53AZvT+VJ1HrDSzhP0F1Z2LSisY/dZBClTGJsT+Wvmq56ebdPyINW+SfY8w/c7KlzxLg8T9jUIBE4GDDP404nkuE5LY//Oq6UD1hwz/wyd3rA+6QP3Ne0buU798/Xx/ouCe75D+FOQDNXFzIP40AgMFPnOo/K+kZPWLYvD9eQSN3obWkP4/jHhHy96U/Bg1EekTntD+biltUdmXjP7Yae/sh0sI/6g2/PBBdxD/G08S3CK/EP3sCgn6OVek/v8DoS7neyj/N/1v7CpXZP5cNSW1reeg/w/G7QatE0z/WkJwokiPFP/XKCKQz3eg/rk+kefNN4z9BvDZav/3TP4JzVT1laLA/g7AOoBpC8D/Aom7vhZGpP2Jj4f/xVMY/KdW/6dkVBEDbNnlcHQHjPxqDBuRrls0/fDclg0Uf4j/dhas3KaTJPwf2vAwlv9Y/VYqkpPytwT+Zel+LXx3SP0JGp1yuoeI/EGiC0opW9D/kBiPQWAoDQAVhUEsiqvU/+jE3Eaw81D8SRV0CSMX3P5hRmTMLnwZAnVhX8/vcxj+M4fd9TnXdPxefXMjWqNE/tAMQ47fDzD/hxPg3h27lPxlMYS4uXM4/6eLyNdSN2j8fjIhyAMfgP7LTVDbsw8k/iTNDKtM+0z/F6yT5vlHZP/PEVDGAUtI/7i2XxlvG+j8IlsGrNvHjP08lsP3c7dE/XvxNxQJF2j8YMp2ySRi5P0SLyQU+J+Q/Jc99Cqhbzz9+le7hEdm5P+2lJMt2GdA/W/HNWpXAyT9D3L3spFDgP+qKb9zSDeM/o5jNZ+V2zD8NUxWB2vG3PwSkohOJOtY/ccO03hhN9T+d7KMhQiz2P25V4DpfCt4/zRoax/avuz9tGEWG/NfgP9CIRwOVAcg/18VPXXAG3D8Aja6cUrnYP3B0OdzMyrs/5Bd5coUy8T/PaLjQR7veP1vQN4V+Bdg/u1tkz9plvT+XTOTwsezWP/G4swoFidA/Wn8TbKcF4D/qQa39GPqlP62+lQRH0uM/gWKA7Umm5z+WLqXR/PHhP/eyY2prIbo/hh2O+lv3oT/nFj9f3FGrP24jLLUOl7U/jtdRs67+hT8+3iZx1JGlP2J1li5c2cs/n2JAfnmRxj/jkzZcHMW7P7zwAFEwA6s/CBPemqjJuz+rxvpTKbvbP3LdAZwfPNg/cnBOAyd30j/Pd8eG3NvCP1WK85ioAb8/3BNbfVr4tj+6NN80q6q0P7jtZ3Hds8Q/9XIAKXwKwD8qJBEgglTDP1ryOx7T8MA/JRTVFxPVxz8OdGu6r1TVP/8h6iyVK84/anzS4DvmuD8=",
          "dtype": "f8"
         },
         "xaxis": "x",
         "yaxis": "y"
        }
       ],
       "layout": {
        "barmode": "relative",
        "height": 500,
        "legend": {
         "title": {
          "text": "Candle Color"
         },
         "tracegroupgap": 0
        },
        "template": {
         "data": {
          "bar": [
           {
            "error_x": {
             "color": "#2a3f5f"
            },
            "error_y": {
             "color": "#2a3f5f"
            },
            "marker": {
             "line": {
              "color": "#E5ECF6",
              "width": 0.5
             },
             "pattern": {
              "fillmode": "overlay",
              "size": 10,
              "solidity": 0.2
             }
            },
            "type": "bar"
           }
          ],
          "barpolar": [
           {
            "marker": {
             "line": {
              "color": "#E5ECF6",
              "width": 0.5
             },
             "pattern": {
              "fillmode": "overlay",
              "size": 10,
              "solidity": 0.2
             }
            },
            "type": "barpolar"
           }
          ],
          "carpet": [
           {
            "aaxis": {
             "endlinecolor": "#2a3f5f",
             "gridcolor": "white",
             "linecolor": "white",
             "minorgridcolor": "white",
             "startlinecolor": "#2a3f5f"
            },
            "baxis": {
             "endlinecolor": "#2a3f5f",
             "gridcolor": "white",
             "linecolor": "white",
             "minorgridcolor": "white",
             "startlinecolor": "#2a3f5f"
            },
            "type": "carpet"
           }
          ],
          "choropleth": [
           {
            "colorbar": {
             "outlinewidth": 0,
             "ticks": ""
            },
            "type": "choropleth"
           }
          ],
          "contour": [
           {
            "colorbar": {
             "outlinewidth": 0,
             "ticks": ""
            },
            "colorscale": [
             [
              0,
              "#0d0887"
             ],
             [
              0.1111111111111111,
              "#46039f"
             ],
             [
              0.2222222222222222,
              "#7201a8"
             ],
             [
              0.3333333333333333,
              "#9c179e"
             ],
             [
              0.4444444444444444,
              "#bd3786"
             ],
             [
              0.5555555555555556,
              "#d8576b"
             ],
             [
              0.6666666666666666,
              "#ed7953"
             ],
             [
              0.7777777777777778,
              "#fb9f3a"
             ],
             [
              0.8888888888888888,
              "#fdca26"
             ],
             [
              1,
              "#f0f921"
             ]
            ],
            "type": "contour"
           }
          ],
          "contourcarpet": [
           {
            "colorbar": {
             "outlinewidth": 0,
             "ticks": ""
            },
            "type": "contourcarpet"
           }
          ],
          "heatmap": [
           {
            "colorbar": {
             "outlinewidth": 0,
             "ticks": ""
            },
            "colorscale": [
             [
              0,
              "#0d0887"
             ],
             [
              0.1111111111111111,
              "#46039f"
             ],
             [
              0.2222222222222222,
              "#7201a8"
             ],
             [
              0.3333333333333333,
              "#9c179e"
             ],
             [
              0.4444444444444444,
              "#bd3786"
             ],
             [
              0.5555555555555556,
              "#d8576b"
             ],
             [
              0.6666666666666666,
              "#ed7953"
             ],
             [
              0.7777777777777778,
              "#fb9f3a"
             ],
             [
              0.8888888888888888,
              "#fdca26"
             ],
             [
              1,
              "#f0f921"
             ]
            ],
            "type": "heatmap"
           }
          ],
          "histogram": [
           {
            "marker": {
             "pattern": {
              "fillmode": "overlay",
              "size": 10,
              "solidity": 0.2
             }
            },
            "type": "histogram"
           }
          ],
          "histogram2d": [
           {
            "colorbar": {
             "outlinewidth": 0,
             "ticks": ""
            },
            "colorscale": [
             [
              0,
              "#0d0887"
             ],
             [
              0.1111111111111111,
              "#46039f"
             ],
             [
              0.2222222222222222,
              "#7201a8"
             ],
             [
              0.3333333333333333,
              "#9c179e"
             ],
             [
              0.4444444444444444,
              "#bd3786"
             ],
             [
              0.5555555555555556,
              "#d8576b"
             ],
             [
              0.6666666666666666,
              "#ed7953"
             ],
             [
              0.7777777777777778,
              "#fb9f3a"
             ],
             [
              0.8888888888888888,
              "#fdca26"
             ],
             [
              1,
              "#f0f921"
             ]
            ],
            "type": "histogram2d"
           }
          ],
          "histogram2dcontour": [
           {
            "colorbar": {
             "outlinewidth": 0,
             "ticks": ""
            },
            "colorscale": [
             [
              0,
              "#0d0887"
             ],
             [
              0.1111111111111111,
              "#46039f"
             ],
             [
              0.2222222222222222,
              "#7201a8"
             ],
             [
              0.3333333333333333,
              "#9c179e"
             ],
             [
              0.4444444444444444,
              "#bd3786"
             ],
             [
              0.5555555555555556,
              "#d8576b"
             ],
             [
              0.6666666666666666,
              "#ed7953"
             ],
             [
              0.7777777777777778,
              "#fb9f3a"
             ],
             [
              0.8888888888888888,
              "#fdca26"
             ],
             [
              1,
              "#f0f921"
             ]
            ],
            "type": "histogram2dcontour"
           }
          ],
          "mesh3d": [
           {
            "colorbar": {
             "outlinewidth": 0,
             "ticks": ""
            },
            "type": "mesh3d"
           }
          ],
          "parcoords": [
           {
            "line": {
             "colorbar": {
              "outlinewidth": 0,
              "ticks": ""
             }
            },
            "type": "parcoords"
           }
          ],
          "pie": [
           {
            "automargin": true,
            "type": "pie"
           }
          ],
          "scatter": [
           {
            "fillpattern": {
             "fillmode": "overlay",
             "size": 10,
             "solidity": 0.2
            },
            "type": "scatter"
           }
          ],
          "scatter3d": [
           {
            "line": {
             "colorbar": {
              "outlinewidth": 0,
              "ticks": ""
             }
            },
            "marker": {
             "colorbar": {
              "outlinewidth": 0,
              "ticks": ""
             }
            },
            "type": "scatter3d"
           }
          ],
          "scattercarpet": [
           {
            "marker": {
             "colorbar": {
              "outlinewidth": 0,
              "ticks": ""
             }
            },
            "type": "scattercarpet"
           }
          ],
          "scattergeo": [
           {
            "marker": {
             "colorbar": {
              "outlinewidth": 0,
              "ticks": ""
             }
            },
            "type": "scattergeo"
           }
          ],
          "scattergl": [
           {
            "marker": {
             "colorbar": {
              "outlinewidth": 0,
              "ticks": ""
             }
            },
            "type": "scattergl"
           }
          ],
          "scattermap": [
           {
            "marker": {
             "colorbar": {
              "outlinewidth": 0,
              "ticks": ""
             }
            },
            "type": "scattermap"
           }
          ],
          "scattermapbox": [
           {
            "marker": {
             "colorbar": {
              "outlinewidth": 0,
              "ticks": ""
             }
            },
            "type": "scattermapbox"
           }
          ],
          "scatterpolar": [
           {
            "marker": {
             "colorbar": {
              "outlinewidth": 0,
              "ticks": ""
             }
            },
            "type": "scatterpolar"
           }
          ],
          "scatterpolargl": [
           {
            "marker": {
             "colorbar": {
              "outlinewidth": 0,
              "ticks": ""
             }
            },
            "type": "scatterpolargl"
           }
          ],
          "scatterternary": [
           {
            "marker": {
             "colorbar": {
              "outlinewidth": 0,
              "ticks": ""
             }
            },
            "type": "scatterternary"
           }
          ],
          "surface": [
           {
            "colorbar": {
             "outlinewidth": 0,
             "ticks": ""
            },
            "colorscale": [
             [
              0,
              "#0d0887"
             ],
             [
              0.1111111111111111,
              "#46039f"
             ],
             [
              0.2222222222222222,
              "#7201a8"
             ],
             [
              0.3333333333333333,
              "#9c179e"
             ],
             [
              0.4444444444444444,
              "#bd3786"
             ],
             [
              0.5555555555555556,
              "#d8576b"
             ],
             [
              0.6666666666666666,
              "#ed7953"
             ],
             [
              0.7777777777777778,
              "#fb9f3a"
             ],
             [
              0.8888888888888888,
              "#fdca26"
             ],
             [
              1,
              "#f0f921"
             ]
            ],
            "type": "surface"
           }
          ],
          "table": [
           {
            "cells": {
             "fill": {
              "color": "#EBF0F8"
             },
             "line": {
              "color": "white"
             }
            },
            "header": {
             "fill": {
              "color": "#C8D4E3"
             },
             "line": {
              "color": "white"
             }
            },
            "type": "table"
           }
          ]
         },
         "layout": {
          "annotationdefaults": {
           "arrowcolor": "#2a3f5f",
           "arrowhead": 0,
           "arrowwidth": 1
          },
          "autotypenumbers": "strict",
          "coloraxis": {
           "colorbar": {
            "outlinewidth": 0,
            "ticks": ""
           }
          },
          "colorscale": {
           "diverging": [
            [
             0,
             "#8e0152"
            ],
            [
             0.1,
             "#c51b7d"
            ],
            [
             0.2,
             "#de77ae"
            ],
            [
             0.3,
             "#f1b6da"
            ],
            [
             0.4,
             "#fde0ef"
            ],
            [
             0.5,
             "#f7f7f7"
            ],
            [
             0.6,
             "#e6f5d0"
            ],
            [
             0.7,
             "#b8e186"
            ],
            [
             0.8,
             "#7fbc41"
            ],
            [
             0.9,
             "#4d9221"
            ],
            [
             1,
             "#276419"
            ]
           ],
           "sequential": [
            [
             0,
             "#0d0887"
            ],
            [
             0.1111111111111111,
             "#46039f"
            ],
            [
             0.2222222222222222,
             "#7201a8"
            ],
            [
             0.3333333333333333,
             "#9c179e"
            ],
            [
             0.4444444444444444,
             "#bd3786"
            ],
            [
             0.5555555555555556,
             "#d8576b"
            ],
            [
             0.6666666666666666,
             "#ed7953"
            ],
            [
             0.7777777777777778,
             "#fb9f3a"
            ],
            [
             0.8888888888888888,
             "#fdca26"
            ],
            [
             1,
             "#f0f921"
            ]
           ],
           "sequentialminus": [
            [
             0,
             "#0d0887"
            ],
            [
             0.1111111111111111,
             "#46039f"
            ],
            [
             0.2222222222222222,
             "#7201a8"
            ],
            [
             0.3333333333333333,
             "#9c179e"
            ],
            [
             0.4444444444444444,
             "#bd3786"
            ],
            [
             0.5555555555555556,
             "#d8576b"
            ],
            [
             0.6666666666666666,
             "#ed7953"
            ],
            [
             0.7777777777777778,
             "#fb9f3a"
            ],
            [
             0.8888888888888888,
             "#fdca26"
            ],
            [
             1,
             "#f0f921"
            ]
           ]
          },
          "colorway": [
           "#636efa",
           "#EF553B",
           "#00cc96",
           "#ab63fa",
           "#FFA15A",
           "#19d3f3",
           "#FF6692",
           "#B6E880",
           "#FF97FF",
           "#FECB52"
          ],
          "font": {
           "color": "#2a3f5f"
          },
          "geo": {
           "bgcolor": "white",
           "lakecolor": "white",
           "landcolor": "#E5ECF6",
           "showlakes": true,
           "showland": true,
           "subunitcolor": "white"
          },
          "hoverlabel": {
           "align": "left"
          },
          "hovermode": "closest",
          "mapbox": {
           "style": "light"
          },
          "paper_bgcolor": "white",
          "plot_bgcolor": "#E5ECF6",
          "polar": {
           "angularaxis": {
            "gridcolor": "white",
            "linecolor": "white",
            "ticks": ""
           },
           "bgcolor": "#E5ECF6",
           "radialaxis": {
            "gridcolor": "white",
            "linecolor": "white",
            "ticks": ""
           }
          },
          "scene": {
           "xaxis": {
            "backgroundcolor": "#E5ECF6",
            "gridcolor": "white",
            "gridwidth": 2,
            "linecolor": "white",
            "showbackground": true,
            "ticks": "",
            "zerolinecolor": "white"
           },
           "yaxis": {
            "backgroundcolor": "#E5ECF6",
            "gridcolor": "white",
            "gridwidth": 2,
            "linecolor": "white",
            "showbackground": true,
            "ticks": "",
            "zerolinecolor": "white"
           },
           "zaxis": {
            "backgroundcolor": "#E5ECF6",
            "gridcolor": "white",
            "gridwidth": 2,
            "linecolor": "white",
            "showbackground": true,
            "ticks": "",
            "zerolinecolor": "white"
           }
          },
          "shapedefaults": {
           "line": {
            "color": "#2a3f5f"
           }
          },
          "ternary": {
           "aaxis": {
            "gridcolor": "white",
            "linecolor": "white",
            "ticks": ""
           },
           "baxis": {
            "gridcolor": "white",
            "linecolor": "white",
            "ticks": ""
           },
           "bgcolor": "#E5ECF6",
           "caxis": {
            "gridcolor": "white",
            "linecolor": "white",
            "ticks": ""
           }
          },
          "title": {
           "x": 0.05
          },
          "xaxis": {
           "automargin": true,
           "gridcolor": "white",
           "linecolor": "white",
           "ticks": "",
           "title": {
            "standoff": 15
           },
           "zerolinecolor": "white",
           "zerolinewidth": 2
          },
          "yaxis": {
           "automargin": true,
           "gridcolor": "white",
           "linecolor": "white",
           "ticks": "",
           "title": {
            "standoff": 15
           },
           "zerolinecolor": "white",
           "zerolinewidth": 2
          }
         }
        },
        "title": {
         "text": "🟢🔴 Green vs Red Candles by 45-Minute Change"
        },
        "xaxis": {
         "anchor": "y",
         "domain": [
          0,
          1
         ],
         "title": {
          "text": "45-Minute Change (%)"
         }
        },
        "yaxis": {
         "anchor": "x",
         "domain": [
          0,
          1
         ],
         "title": {
          "text": "Number of Candles"
         }
        }
       }
      }
     },
     "metadata": {},
     "output_type": "display_data"
    },
    {
     "data": {
      "application/vnd.plotly.v1+json": {
       "config": {
        "plotlyServerURL": "https://plot.ly"
       },
       "data": [
        {
         "hovertemplate": "Hour of Day=%{x}<br>Flip Rate=%{marker.color}<extra></extra>",
         "legendgroup": "",
         "marker": {
          "color": {
           "bdata": "AAAAAAAAAAAAAAAAAAAAAAAAAAAAAAAAAAAAAAAAAAAAAAAAAAAAAAAAAAAAAAAAAAAAAAAAAAAAAAAAAAAAAAAAAAAAAAAAAAAAAAAAAAAAAAAAAAAAAAAAAAAAAAAAAAAAAAAAAAAAAAAAAAAAAAAAAAAAAAAAAAAAAAAAAAAAAAAAAAAAAAAAAAAAAAAAAAAAAAAAAAAAAAAAAAAAAAAAAAAAAAAAAAAAAAAAAAAAAAAAAAAAAAAAAAAAAAAA",
           "dtype": "f8"
          },
          "coloraxis": "coloraxis",
          "pattern": {
           "shape": ""
          }
         },
         "name": "",
         "orientation": "v",
         "showlegend": false,
         "textposition": "auto",
         "type": "bar",
         "x": {
          "bdata": "AAECAwQFBgcICQoLDA0ODxAREhMUFRYX",
          "dtype": "i1"
         },
         "xaxis": "x",
         "y": {
          "bdata": "AAAAAAAAAAAAAAAAAAAAAAAAAAAAAAAAAAAAAAAAAAAAAAAAAAAAAAAAAAAAAAAAAAAAAAAAAAAAAAAAAAAAAAAAAAAAAAAAAAAAAAAAAAAAAAAAAAAAAAAAAAAAAAAAAAAAAAAAAAAAAAAAAAAAAAAAAAAAAAAAAAAAAAAAAAAAAAAAAAAAAAAAAAAAAAAAAAAAAAAAAAAAAAAAAAAAAAAAAAAAAAAAAAAAAAAAAAAAAAAAAAAAAAAAAAAAAAAA",
          "dtype": "f8"
         },
         "yaxis": "y"
        }
       ],
       "layout": {
        "barmode": "relative",
        "coloraxis": {
         "colorbar": {
          "title": {
           "text": "Flip Rate"
          }
         },
         "colorscale": [
          [
           0,
           "rgb(49,54,149)"
          ],
          [
           0.1,
           "rgb(69,117,180)"
          ],
          [
           0.2,
           "rgb(116,173,209)"
          ],
          [
           0.3,
           "rgb(171,217,233)"
          ],
          [
           0.4,
           "rgb(224,243,248)"
          ],
          [
           0.5,
           "rgb(255,255,191)"
          ],
          [
           0.6,
           "rgb(254,224,144)"
          ],
          [
           0.7,
           "rgb(253,174,97)"
          ],
          [
           0.8,
           "rgb(244,109,67)"
          ],
          [
           0.9,
           "rgb(215,48,39)"
          ],
          [
           1,
           "rgb(165,0,38)"
          ]
         ]
        },
        "height": 400,
        "legend": {
         "tracegroupgap": 0
        },
        "template": {
         "data": {
          "bar": [
           {
            "error_x": {
             "color": "#2a3f5f"
            },
            "error_y": {
             "color": "#2a3f5f"
            },
            "marker": {
             "line": {
              "color": "#E5ECF6",
              "width": 0.5
             },
             "pattern": {
              "fillmode": "overlay",
              "size": 10,
              "solidity": 0.2
             }
            },
            "type": "bar"
           }
          ],
          "barpolar": [
           {
            "marker": {
             "line": {
              "color": "#E5ECF6",
              "width": 0.5
             },
             "pattern": {
              "fillmode": "overlay",
              "size": 10,
              "solidity": 0.2
             }
            },
            "type": "barpolar"
           }
          ],
          "carpet": [
           {
            "aaxis": {
             "endlinecolor": "#2a3f5f",
             "gridcolor": "white",
             "linecolor": "white",
             "minorgridcolor": "white",
             "startlinecolor": "#2a3f5f"
            },
            "baxis": {
             "endlinecolor": "#2a3f5f",
             "gridcolor": "white",
             "linecolor": "white",
             "minorgridcolor": "white",
             "startlinecolor": "#2a3f5f"
            },
            "type": "carpet"
           }
          ],
          "choropleth": [
           {
            "colorbar": {
             "outlinewidth": 0,
             "ticks": ""
            },
            "type": "choropleth"
           }
          ],
          "contour": [
           {
            "colorbar": {
             "outlinewidth": 0,
             "ticks": ""
            },
            "colorscale": [
             [
              0,
              "#0d0887"
             ],
             [
              0.1111111111111111,
              "#46039f"
             ],
             [
              0.2222222222222222,
              "#7201a8"
             ],
             [
              0.3333333333333333,
              "#9c179e"
             ],
             [
              0.4444444444444444,
              "#bd3786"
             ],
             [
              0.5555555555555556,
              "#d8576b"
             ],
             [
              0.6666666666666666,
              "#ed7953"
             ],
             [
              0.7777777777777778,
              "#fb9f3a"
             ],
             [
              0.8888888888888888,
              "#fdca26"
             ],
             [
              1,
              "#f0f921"
             ]
            ],
            "type": "contour"
           }
          ],
          "contourcarpet": [
           {
            "colorbar": {
             "outlinewidth": 0,
             "ticks": ""
            },
            "type": "contourcarpet"
           }
          ],
          "heatmap": [
           {
            "colorbar": {
             "outlinewidth": 0,
             "ticks": ""
            },
            "colorscale": [
             [
              0,
              "#0d0887"
             ],
             [
              0.1111111111111111,
              "#46039f"
             ],
             [
              0.2222222222222222,
              "#7201a8"
             ],
             [
              0.3333333333333333,
              "#9c179e"
             ],
             [
              0.4444444444444444,
              "#bd3786"
             ],
             [
              0.5555555555555556,
              "#d8576b"
             ],
             [
              0.6666666666666666,
              "#ed7953"
             ],
             [
              0.7777777777777778,
              "#fb9f3a"
             ],
             [
              0.8888888888888888,
              "#fdca26"
             ],
             [
              1,
              "#f0f921"
             ]
            ],
            "type": "heatmap"
           }
          ],
          "histogram": [
           {
            "marker": {
             "pattern": {
              "fillmode": "overlay",
              "size": 10,
              "solidity": 0.2
             }
            },
            "type": "histogram"
           }
          ],
          "histogram2d": [
           {
            "colorbar": {
             "outlinewidth": 0,
             "ticks": ""
            },
            "colorscale": [
             [
              0,
              "#0d0887"
             ],
             [
              0.1111111111111111,
              "#46039f"
             ],
             [
              0.2222222222222222,
              "#7201a8"
             ],
             [
              0.3333333333333333,
              "#9c179e"
             ],
             [
              0.4444444444444444,
              "#bd3786"
             ],
             [
              0.5555555555555556,
              "#d8576b"
             ],
             [
              0.6666666666666666,
              "#ed7953"
             ],
             [
              0.7777777777777778,
              "#fb9f3a"
             ],
             [
              0.8888888888888888,
              "#fdca26"
             ],
             [
              1,
              "#f0f921"
             ]
            ],
            "type": "histogram2d"
           }
          ],
          "histogram2dcontour": [
           {
            "colorbar": {
             "outlinewidth": 0,
             "ticks": ""
            },
            "colorscale": [
             [
              0,
              "#0d0887"
             ],
             [
              0.1111111111111111,
              "#46039f"
             ],
             [
              0.2222222222222222,
              "#7201a8"
             ],
             [
              0.3333333333333333,
              "#9c179e"
             ],
             [
              0.4444444444444444,
              "#bd3786"
             ],
             [
              0.5555555555555556,
              "#d8576b"
             ],
             [
              0.6666666666666666,
              "#ed7953"
             ],
             [
              0.7777777777777778,
              "#fb9f3a"
             ],
             [
              0.8888888888888888,
              "#fdca26"
             ],
             [
              1,
              "#f0f921"
             ]
            ],
            "type": "histogram2dcontour"
           }
          ],
          "mesh3d": [
           {
            "colorbar": {
             "outlinewidth": 0,
             "ticks": ""
            },
            "type": "mesh3d"
           }
          ],
          "parcoords": [
           {
            "line": {
             "colorbar": {
              "outlinewidth": 0,
              "ticks": ""
             }
            },
            "type": "parcoords"
           }
          ],
          "pie": [
           {
            "automargin": true,
            "type": "pie"
           }
          ],
          "scatter": [
           {
            "fillpattern": {
             "fillmode": "overlay",
             "size": 10,
             "solidity": 0.2
            },
            "type": "scatter"
           }
          ],
          "scatter3d": [
           {
            "line": {
             "colorbar": {
              "outlinewidth": 0,
              "ticks": ""
             }
            },
            "marker": {
             "colorbar": {
              "outlinewidth": 0,
              "ticks": ""
             }
            },
            "type": "scatter3d"
           }
          ],
          "scattercarpet": [
           {
            "marker": {
             "colorbar": {
              "outlinewidth": 0,
              "ticks": ""
             }
            },
            "type": "scattercarpet"
           }
          ],
          "scattergeo": [
           {
            "marker": {
             "colorbar": {
              "outlinewidth": 0,
              "ticks": ""
             }
            },
            "type": "scattergeo"
           }
          ],
          "scattergl": [
           {
            "marker": {
             "colorbar": {
              "outlinewidth": 0,
              "ticks": ""
             }
            },
            "type": "scattergl"
           }
          ],
          "scattermap": [
           {
            "marker": {
             "colorbar": {
              "outlinewidth": 0,
              "ticks": ""
             }
            },
            "type": "scattermap"
           }
          ],
          "scattermapbox": [
           {
            "marker": {
             "colorbar": {
              "outlinewidth": 0,
              "ticks": ""
             }
            },
            "type": "scattermapbox"
           }
          ],
          "scatterpolar": [
           {
            "marker": {
             "colorbar": {
              "outlinewidth": 0,
              "ticks": ""
             }
            },
            "type": "scatterpolar"
           }
          ],
          "scatterpolargl": [
           {
            "marker": {
             "colorbar": {
              "outlinewidth": 0,
              "ticks": ""
             }
            },
            "type": "scatterpolargl"
           }
          ],
          "scatterternary": [
           {
            "marker": {
             "colorbar": {
              "outlinewidth": 0,
              "ticks": ""
             }
            },
            "type": "scatterternary"
           }
          ],
          "surface": [
           {
            "colorbar": {
             "outlinewidth": 0,
             "ticks": ""
            },
            "colorscale": [
             [
              0,
              "#0d0887"
             ],
             [
              0.1111111111111111,
              "#46039f"
             ],
             [
              0.2222222222222222,
              "#7201a8"
             ],
             [
              0.3333333333333333,
              "#9c179e"
             ],
             [
              0.4444444444444444,
              "#bd3786"
             ],
             [
              0.5555555555555556,
              "#d8576b"
             ],
             [
              0.6666666666666666,
              "#ed7953"
             ],
             [
              0.7777777777777778,
              "#fb9f3a"
             ],
             [
              0.8888888888888888,
              "#fdca26"
             ],
             [
              1,
              "#f0f921"
             ]
            ],
            "type": "surface"
           }
          ],
          "table": [
           {
            "cells": {
             "fill": {
              "color": "#EBF0F8"
             },
             "line": {
              "color": "white"
             }
            },
            "header": {
             "fill": {
              "color": "#C8D4E3"
             },
             "line": {
              "color": "white"
             }
            },
            "type": "table"
           }
          ]
         },
         "layout": {
          "annotationdefaults": {
           "arrowcolor": "#2a3f5f",
           "arrowhead": 0,
           "arrowwidth": 1
          },
          "autotypenumbers": "strict",
          "coloraxis": {
           "colorbar": {
            "outlinewidth": 0,
            "ticks": ""
           }
          },
          "colorscale": {
           "diverging": [
            [
             0,
             "#8e0152"
            ],
            [
             0.1,
             "#c51b7d"
            ],
            [
             0.2,
             "#de77ae"
            ],
            [
             0.3,
             "#f1b6da"
            ],
            [
             0.4,
             "#fde0ef"
            ],
            [
             0.5,
             "#f7f7f7"
            ],
            [
             0.6,
             "#e6f5d0"
            ],
            [
             0.7,
             "#b8e186"
            ],
            [
             0.8,
             "#7fbc41"
            ],
            [
             0.9,
             "#4d9221"
            ],
            [
             1,
             "#276419"
            ]
           ],
           "sequential": [
            [
             0,
             "#0d0887"
            ],
            [
             0.1111111111111111,
             "#46039f"
            ],
            [
             0.2222222222222222,
             "#7201a8"
            ],
            [
             0.3333333333333333,
             "#9c179e"
            ],
            [
             0.4444444444444444,
             "#bd3786"
            ],
            [
             0.5555555555555556,
             "#d8576b"
            ],
            [
             0.6666666666666666,
             "#ed7953"
            ],
            [
             0.7777777777777778,
             "#fb9f3a"
            ],
            [
             0.8888888888888888,
             "#fdca26"
            ],
            [
             1,
             "#f0f921"
            ]
           ],
           "sequentialminus": [
            [
             0,
             "#0d0887"
            ],
            [
             0.1111111111111111,
             "#46039f"
            ],
            [
             0.2222222222222222,
             "#7201a8"
            ],
            [
             0.3333333333333333,
             "#9c179e"
            ],
            [
             0.4444444444444444,
             "#bd3786"
            ],
            [
             0.5555555555555556,
             "#d8576b"
            ],
            [
             0.6666666666666666,
             "#ed7953"
            ],
            [
             0.7777777777777778,
             "#fb9f3a"
            ],
            [
             0.8888888888888888,
             "#fdca26"
            ],
            [
             1,
             "#f0f921"
            ]
           ]
          },
          "colorway": [
           "#636efa",
           "#EF553B",
           "#00cc96",
           "#ab63fa",
           "#FFA15A",
           "#19d3f3",
           "#FF6692",
           "#B6E880",
           "#FF97FF",
           "#FECB52"
          ],
          "font": {
           "color": "#2a3f5f"
          },
          "geo": {
           "bgcolor": "white",
           "lakecolor": "white",
           "landcolor": "#E5ECF6",
           "showlakes": true,
           "showland": true,
           "subunitcolor": "white"
          },
          "hoverlabel": {
           "align": "left"
          },
          "hovermode": "closest",
          "mapbox": {
           "style": "light"
          },
          "paper_bgcolor": "white",
          "plot_bgcolor": "#E5ECF6",
          "polar": {
           "angularaxis": {
            "gridcolor": "white",
            "linecolor": "white",
            "ticks": ""
           },
           "bgcolor": "#E5ECF6",
           "radialaxis": {
            "gridcolor": "white",
            "linecolor": "white",
            "ticks": ""
           }
          },
          "scene": {
           "xaxis": {
            "backgroundcolor": "#E5ECF6",
            "gridcolor": "white",
            "gridwidth": 2,
            "linecolor": "white",
            "showbackground": true,
            "ticks": "",
            "zerolinecolor": "white"
           },
           "yaxis": {
            "backgroundcolor": "#E5ECF6",
            "gridcolor": "white",
            "gridwidth": 2,
            "linecolor": "white",
            "showbackground": true,
            "ticks": "",
            "zerolinecolor": "white"
           },
           "zaxis": {
            "backgroundcolor": "#E5ECF6",
            "gridcolor": "white",
            "gridwidth": 2,
            "linecolor": "white",
            "showbackground": true,
            "ticks": "",
            "zerolinecolor": "white"
           }
          },
          "shapedefaults": {
           "line": {
            "color": "#2a3f5f"
           }
          },
          "ternary": {
           "aaxis": {
            "gridcolor": "white",
            "linecolor": "white",
            "ticks": ""
           },
           "baxis": {
            "gridcolor": "white",
            "linecolor": "white",
            "ticks": ""
           },
           "bgcolor": "#E5ECF6",
           "caxis": {
            "gridcolor": "white",
            "linecolor": "white",
            "ticks": ""
           }
          },
          "title": {
           "x": 0.05
          },
          "xaxis": {
           "automargin": true,
           "gridcolor": "white",
           "linecolor": "white",
           "ticks": "",
           "title": {
            "standoff": 15
           },
           "zerolinecolor": "white",
           "zerolinewidth": 2
          },
          "yaxis": {
           "automargin": true,
           "gridcolor": "white",
           "linecolor": "white",
           "ticks": "",
           "title": {
            "standoff": 15
           },
           "zerolinecolor": "white",
           "zerolinewidth": 2
          }
         }
        },
        "title": {
         "text": "🕐 Flip Rate by Hour of Day"
        },
        "xaxis": {
         "anchor": "y",
         "domain": [
          0,
          1
         ],
         "tickmode": "linear",
         "title": {
          "text": "Hour of Day (UTC)"
         }
        },
        "yaxis": {
         "anchor": "x",
         "domain": [
          0,
          1
         ],
         "title": {
          "text": "Flip Rate"
         }
        }
       }
      }
     },
     "metadata": {},
     "output_type": "display_data"
    },
    {
     "data": {
      "application/vnd.plotly.v1+json": {
       "config": {
        "plotlyServerURL": "https://plot.ly"
       },
       "data": [
        {
         "hovertemplate": "flipped=False<br>45-Minute Change (%)=%{x}<br>Final Change (%)=%{y}<extra></extra>",
         "legendgroup": "False",
         "marker": {
          "color": "#4ecdc4",
          "opacity": 0.6,
          "symbol": "circle"
         },
         "mode": "markers",
         "name": "False",
         "orientation": "v",
         "showlegend": true,
         "type": "scatter",
         "x": {
          "bdata": "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",
          "dtype": "f8"
         },
         "xaxis": "x",
         "y": {
          "bdata": "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",
          "dtype": "f8"
         },
         "yaxis": "y"
        }
       ],
       "layout": {
        "height": 500,
        "legend": {
         "title": {
          "text": "Flipped Direction"
         },
         "tracegroupgap": 0
        },
        "shapes": [
         {
          "line": {
           "color": "gray",
           "dash": "dash",
           "width": 2
          },
          "type": "line",
          "x0": -3,
          "x1": 3,
          "y0": -3,
          "y1": 3
         }
        ],
        "template": {
         "data": {
          "bar": [
           {
            "error_x": {
             "color": "#2a3f5f"
            },
            "error_y": {
             "color": "#2a3f5f"
            },
            "marker": {
             "line": {
              "color": "#E5ECF6",
              "width": 0.5
             },
             "pattern": {
              "fillmode": "overlay",
              "size": 10,
              "solidity": 0.2
             }
            },
            "type": "bar"
           }
          ],
          "barpolar": [
           {
            "marker": {
             "line": {
              "color": "#E5ECF6",
              "width": 0.5
             },
             "pattern": {
              "fillmode": "overlay",
              "size": 10,
              "solidity": 0.2
             }
            },
            "type": "barpolar"
           }
          ],
          "carpet": [
           {
            "aaxis": {
             "endlinecolor": "#2a3f5f",
             "gridcolor": "white",
             "linecolor": "white",
             "minorgridcolor": "white",
             "startlinecolor": "#2a3f5f"
            },
            "baxis": {
             "endlinecolor": "#2a3f5f",
             "gridcolor": "white",
             "linecolor": "white",
             "minorgridcolor": "white",
             "startlinecolor": "#2a3f5f"
            },
            "type": "carpet"
           }
          ],
          "choropleth": [
           {
            "colorbar": {
             "outlinewidth": 0,
             "ticks": ""
            },
            "type": "choropleth"
           }
          ],
          "contour": [
           {
            "colorbar": {
             "outlinewidth": 0,
             "ticks": ""
            },
            "colorscale": [
             [
              0,
              "#0d0887"
             ],
             [
              0.1111111111111111,
              "#46039f"
             ],
             [
              0.2222222222222222,
              "#7201a8"
             ],
             [
              0.3333333333333333,
              "#9c179e"
             ],
             [
              0.4444444444444444,
              "#bd3786"
             ],
             [
              0.5555555555555556,
              "#d8576b"
             ],
             [
              0.6666666666666666,
              "#ed7953"
             ],
             [
              0.7777777777777778,
              "#fb9f3a"
             ],
             [
              0.8888888888888888,
              "#fdca26"
             ],
             [
              1,
              "#f0f921"
             ]
            ],
            "type": "contour"
           }
          ],
          "contourcarpet": [
           {
            "colorbar": {
             "outlinewidth": 0,
             "ticks": ""
            },
            "type": "contourcarpet"
           }
          ],
          "heatmap": [
           {
            "colorbar": {
             "outlinewidth": 0,
             "ticks": ""
            },
            "colorscale": [
             [
              0,
              "#0d0887"
             ],
             [
              0.1111111111111111,
              "#46039f"
             ],
             [
              0.2222222222222222,
              "#7201a8"
             ],
             [
              0.3333333333333333,
              "#9c179e"
             ],
             [
              0.4444444444444444,
              "#bd3786"
             ],
             [
              0.5555555555555556,
              "#d8576b"
             ],
             [
              0.6666666666666666,
              "#ed7953"
             ],
             [
              0.7777777777777778,
              "#fb9f3a"
             ],
             [
              0.8888888888888888,
              "#fdca26"
             ],
             [
              1,
              "#f0f921"
             ]
            ],
            "type": "heatmap"
           }
          ],
          "histogram": [
           {
            "marker": {
             "pattern": {
              "fillmode": "overlay",
              "size": 10,
              "solidity": 0.2
             }
            },
            "type": "histogram"
           }
          ],
          "histogram2d": [
           {
            "colorbar": {
             "outlinewidth": 0,
             "ticks": ""
            },
            "colorscale": [
             [
              0,
              "#0d0887"
             ],
             [
              0.1111111111111111,
              "#46039f"
             ],
             [
              0.2222222222222222,
              "#7201a8"
             ],
             [
              0.3333333333333333,
              "#9c179e"
             ],
             [
              0.4444444444444444,
              "#bd3786"
             ],
             [
              0.5555555555555556,
              "#d8576b"
             ],
             [
              0.6666666666666666,
              "#ed7953"
             ],
             [
              0.7777777777777778,
              "#fb9f3a"
             ],
             [
              0.8888888888888888,
              "#fdca26"
             ],
             [
              1,
              "#f0f921"
             ]
            ],
            "type": "histogram2d"
           }
          ],
          "histogram2dcontour": [
           {
            "colorbar": {
             "outlinewidth": 0,
             "ticks": ""
            },
            "colorscale": [
             [
              0,
              "#0d0887"
             ],
             [
              0.1111111111111111,
              "#46039f"
             ],
             [
              0.2222222222222222,
              "#7201a8"
             ],
             [
              0.3333333333333333,
              "#9c179e"
             ],
             [
              0.4444444444444444,
              "#bd3786"
             ],
             [
              0.5555555555555556,
              "#d8576b"
             ],
             [
              0.6666666666666666,
              "#ed7953"
             ],
             [
              0.7777777777777778,
              "#fb9f3a"
             ],
             [
              0.8888888888888888,
              "#fdca26"
             ],
             [
              1,
              "#f0f921"
             ]
            ],
            "type": "histogram2dcontour"
           }
          ],
          "mesh3d": [
           {
            "colorbar": {
             "outlinewidth": 0,
             "ticks": ""
            },
            "type": "mesh3d"
           }
          ],
          "parcoords": [
           {
            "line": {
             "colorbar": {
              "outlinewidth": 0,
              "ticks": ""
             }
            },
            "type": "parcoords"
           }
          ],
          "pie": [
           {
            "automargin": true,
            "type": "pie"
           }
          ],
          "scatter": [
           {
            "fillpattern": {
             "fillmode": "overlay",
             "size": 10,
             "solidity": 0.2
            },
            "type": "scatter"
           }
          ],
          "scatter3d": [
           {
            "line": {
             "colorbar": {
              "outlinewidth": 0,
              "ticks": ""
             }
            },
            "marker": {
             "colorbar": {
              "outlinewidth": 0,
              "ticks": ""
             }
            },
            "type": "scatter3d"
           }
          ],
          "scattercarpet": [
           {
            "marker": {
             "colorbar": {
              "outlinewidth": 0,
              "ticks": ""
             }
            },
            "type": "scattercarpet"
           }
          ],
          "scattergeo": [
           {
            "marker": {
             "colorbar": {
              "outlinewidth": 0,
              "ticks": ""
             }
            },
            "type": "scattergeo"
           }
          ],
          "scattergl": [
           {
            "marker": {
             "colorbar": {
              "outlinewidth": 0,
              "ticks": ""
             }
            },
            "type": "scattergl"
           }
          ],
          "scattermap": [
           {
            "marker": {
             "colorbar": {
              "outlinewidth": 0,
              "ticks": ""
             }
            },
            "type": "scattermap"
           }
          ],
          "scattermapbox": [
           {
            "marker": {
             "colorbar": {
              "outlinewidth": 0,
              "ticks": ""
             }
            },
            "type": "scattermapbox"
           }
          ],
          "scatterpolar": [
           {
            "marker": {
             "colorbar": {
              "outlinewidth": 0,
              "ticks": ""
             }
            },
            "type": "scatterpolar"
           }
          ],
          "scatterpolargl": [
           {
            "marker": {
             "colorbar": {
              "outlinewidth": 0,
              "ticks": ""
             }
            },
            "type": "scatterpolargl"
           }
          ],
          "scatterternary": [
           {
            "marker": {
             "colorbar": {
              "outlinewidth": 0,
              "ticks": ""
             }
            },
            "type": "scatterternary"
           }
          ],
          "surface": [
           {
            "colorbar": {
             "outlinewidth": 0,
             "ticks": ""
            },
            "colorscale": [
             [
              0,
              "#0d0887"
             ],
             [
              0.1111111111111111,
              "#46039f"
             ],
             [
              0.2222222222222222,
              "#7201a8"
             ],
             [
              0.3333333333333333,
              "#9c179e"
             ],
             [
              0.4444444444444444,
              "#bd3786"
             ],
             [
              0.5555555555555556,
              "#d8576b"
             ],
             [
              0.6666666666666666,
              "#ed7953"
             ],
             [
              0.7777777777777778,
              "#fb9f3a"
             ],
             [
              0.8888888888888888,
              "#fdca26"
             ],
             [
              1,
              "#f0f921"
             ]
            ],
            "type": "surface"
           }
          ],
          "table": [
           {
            "cells": {
             "fill": {
              "color": "#EBF0F8"
             },
             "line": {
              "color": "white"
             }
            },
            "header": {
             "fill": {
              "color": "#C8D4E3"
             },
             "line": {
              "color": "white"
             }
            },
            "type": "table"
           }
          ]
         },
         "layout": {
          "annotationdefaults": {
           "arrowcolor": "#2a3f5f",
           "arrowhead": 0,
           "arrowwidth": 1
          },
          "autotypenumbers": "strict",
          "coloraxis": {
           "colorbar": {
            "outlinewidth": 0,
            "ticks": ""
           }
          },
          "colorscale": {
           "diverging": [
            [
             0,
             "#8e0152"
            ],
            [
             0.1,
             "#c51b7d"
            ],
            [
             0.2,
             "#de77ae"
            ],
            [
             0.3,
             "#f1b6da"
            ],
            [
             0.4,
             "#fde0ef"
            ],
            [
             0.5,
             "#f7f7f7"
            ],
            [
             0.6,
             "#e6f5d0"
            ],
            [
             0.7,
             "#b8e186"
            ],
            [
             0.8,
             "#7fbc41"
            ],
            [
             0.9,
             "#4d9221"
            ],
            [
             1,
             "#276419"
            ]
           ],
           "sequential": [
            [
             0,
             "#0d0887"
            ],
            [
             0.1111111111111111,
             "#46039f"
            ],
            [
             0.2222222222222222,
             "#7201a8"
            ],
            [
             0.3333333333333333,
             "#9c179e"
            ],
            [
             0.4444444444444444,
             "#bd3786"
            ],
            [
             0.5555555555555556,
             "#d8576b"
            ],
            [
             0.6666666666666666,
             "#ed7953"
            ],
            [
             0.7777777777777778,
             "#fb9f3a"
            ],
            [
             0.8888888888888888,
             "#fdca26"
            ],
            [
             1,
             "#f0f921"
            ]
           ],
           "sequentialminus": [
            [
             0,
             "#0d0887"
            ],
            [
             0.1111111111111111,
             "#46039f"
            ],
            [
             0.2222222222222222,
             "#7201a8"
            ],
            [
             0.3333333333333333,
             "#9c179e"
            ],
            [
             0.4444444444444444,
             "#bd3786"
            ],
            [
             0.5555555555555556,
             "#d8576b"
            ],
            [
             0.6666666666666666,
             "#ed7953"
            ],
            [
             0.7777777777777778,
             "#fb9f3a"
            ],
            [
             0.8888888888888888,
             "#fdca26"
            ],
            [
             1,
             "#f0f921"
            ]
           ]
          },
          "colorway": [
           "#636efa",
           "#EF553B",
           "#00cc96",
           "#ab63fa",
           "#FFA15A",
           "#19d3f3",
           "#FF6692",
           "#B6E880",
           "#FF97FF",
           "#FECB52"
          ],
          "font": {
           "color": "#2a3f5f"
          },
          "geo": {
           "bgcolor": "white",
           "lakecolor": "white",
           "landcolor": "#E5ECF6",
           "showlakes": true,
           "showland": true,
           "subunitcolor": "white"
          },
          "hoverlabel": {
           "align": "left"
          },
          "hovermode": "closest",
          "mapbox": {
           "style": "light"
          },
          "paper_bgcolor": "white",
          "plot_bgcolor": "#E5ECF6",
          "polar": {
           "angularaxis": {
            "gridcolor": "white",
            "linecolor": "white",
            "ticks": ""
           },
           "bgcolor": "#E5ECF6",
           "radialaxis": {
            "gridcolor": "white",
            "linecolor": "white",
            "ticks": ""
           }
          },
          "scene": {
           "xaxis": {
            "backgroundcolor": "#E5ECF6",
            "gridcolor": "white",
            "gridwidth": 2,
            "linecolor": "white",
            "showbackground": true,
            "ticks": "",
            "zerolinecolor": "white"
           },
           "yaxis": {
            "backgroundcolor": "#E5ECF6",
            "gridcolor": "white",
            "gridwidth": 2,
            "linecolor": "white",
            "showbackground": true,
            "ticks": "",
            "zerolinecolor": "white"
           },
           "zaxis": {
            "backgroundcolor": "#E5ECF6",
            "gridcolor": "white",
            "gridwidth": 2,
            "linecolor": "white",
            "showbackground": true,
            "ticks": "",
            "zerolinecolor": "white"
           }
          },
          "shapedefaults": {
           "line": {
            "color": "#2a3f5f"
           }
          },
          "ternary": {
           "aaxis": {
            "gridcolor": "white",
            "linecolor": "white",
            "ticks": ""
           },
           "baxis": {
            "gridcolor": "white",
            "linecolor": "white",
            "ticks": ""
           },
           "bgcolor": "#E5ECF6",
           "caxis": {
            "gridcolor": "white",
            "linecolor": "white",
            "ticks": ""
           }
          },
          "title": {
           "x": 0.05
          },
          "xaxis": {
           "automargin": true,
           "gridcolor": "white",
           "linecolor": "white",
           "ticks": "",
           "title": {
            "standoff": 15
           },
           "zerolinecolor": "white",
           "zerolinewidth": 2
          },
          "yaxis": {
           "automargin": true,
           "gridcolor": "white",
           "linecolor": "white",
           "ticks": "",
           "title": {
            "standoff": 15
           },
           "zerolinecolor": "white",
           "zerolinewidth": 2
          }
         }
        },
        "title": {
         "text": "📈 45-Minute Change vs Final Change (Sampled)"
        },
        "xaxis": {
         "anchor": "y",
         "domain": [
          0,
          1
         ],
         "title": {
          "text": "45-Minute Change (%)"
         }
        },
        "yaxis": {
         "anchor": "x",
         "domain": [
          0,
          1
         ],
         "title": {
          "text": "Final Change (%)"
         }
        }
       }
      }
     },
     "metadata": {},
     "output_type": "display_data"
    },
    {
     "data": {
      "application/vnd.plotly.v1+json": {
       "config": {
        "plotlyServerURL": "https://plot.ly"
       },
       "data": [
        {
         "hovertemplate": "Day of Week=%{x}<br>Flip Rate=%{marker.color}<extra></extra>",
         "legendgroup": "",
         "marker": {
          "color": {
           "bdata": "AAAAAAAAAAAAAAAAAAAAAAAAAAAAAAAAAAAAAAAAAAAAAAAAAAAAAAAAAAAAAAAAAAAAAAAAAAA=",
           "dtype": "f8"
          },
          "coloraxis": "coloraxis",
          "pattern": {
           "shape": ""
          }
         },
         "name": "",
         "orientation": "v",
         "showlegend": false,
         "textposition": "auto",
         "type": "bar",
         "x": [
          "Monday",
          "Tuesday",
          "Wednesday",
          "Thursday",
          "Friday",
          "Saturday",
          "Sunday"
         ],
         "xaxis": "x",
         "y": {
          "bdata": "AAAAAAAAAAAAAAAAAAAAAAAAAAAAAAAAAAAAAAAAAAAAAAAAAAAAAAAAAAAAAAAAAAAAAAAAAAA=",
          "dtype": "f8"
         },
         "yaxis": "y"
        }
       ],
       "layout": {
        "barmode": "relative",
        "coloraxis": {
         "colorbar": {
          "title": {
           "text": "Flip Rate"
          }
         },
         "colorscale": [
          [
           0,
           "#440154"
          ],
          [
           0.1111111111111111,
           "#482878"
          ],
          [
           0.2222222222222222,
           "#3e4989"
          ],
          [
           0.3333333333333333,
           "#31688e"
          ],
          [
           0.4444444444444444,
           "#26828e"
          ],
          [
           0.5555555555555556,
           "#1f9e89"
          ],
          [
           0.6666666666666666,
           "#35b779"
          ],
          [
           0.7777777777777778,
           "#6ece58"
          ],
          [
           0.8888888888888888,
           "#b5de2b"
          ],
          [
           1,
           "#fde725"
          ]
         ]
        },
        "height": 400,
        "legend": {
         "tracegroupgap": 0
        },
        "template": {
         "data": {
          "bar": [
           {
            "error_x": {
             "color": "#2a3f5f"
            },
            "error_y": {
             "color": "#2a3f5f"
            },
            "marker": {
             "line": {
              "color": "#E5ECF6",
              "width": 0.5
             },
             "pattern": {
              "fillmode": "overlay",
              "size": 10,
              "solidity": 0.2
             }
            },
            "type": "bar"
           }
          ],
          "barpolar": [
           {
            "marker": {
             "line": {
              "color": "#E5ECF6",
              "width": 0.5
             },
             "pattern": {
              "fillmode": "overlay",
              "size": 10,
              "solidity": 0.2
             }
            },
            "type": "barpolar"
           }
          ],
          "carpet": [
           {
            "aaxis": {
             "endlinecolor": "#2a3f5f",
             "gridcolor": "white",
             "linecolor": "white",
             "minorgridcolor": "white",
             "startlinecolor": "#2a3f5f"
            },
            "baxis": {
             "endlinecolor": "#2a3f5f",
             "gridcolor": "white",
             "linecolor": "white",
             "minorgridcolor": "white",
             "startlinecolor": "#2a3f5f"
            },
            "type": "carpet"
           }
          ],
          "choropleth": [
           {
            "colorbar": {
             "outlinewidth": 0,
             "ticks": ""
            },
            "type": "choropleth"
           }
          ],
          "contour": [
           {
            "colorbar": {
             "outlinewidth": 0,
             "ticks": ""
            },
            "colorscale": [
             [
              0,
              "#0d0887"
             ],
             [
              0.1111111111111111,
              "#46039f"
             ],
             [
              0.2222222222222222,
              "#7201a8"
             ],
             [
              0.3333333333333333,
              "#9c179e"
             ],
             [
              0.4444444444444444,
              "#bd3786"
             ],
             [
              0.5555555555555556,
              "#d8576b"
             ],
             [
              0.6666666666666666,
              "#ed7953"
             ],
             [
              0.7777777777777778,
              "#fb9f3a"
             ],
             [
              0.8888888888888888,
              "#fdca26"
             ],
             [
              1,
              "#f0f921"
             ]
            ],
            "type": "contour"
           }
          ],
          "contourcarpet": [
           {
            "colorbar": {
             "outlinewidth": 0,
             "ticks": ""
            },
            "type": "contourcarpet"
           }
          ],
          "heatmap": [
           {
            "colorbar": {
             "outlinewidth": 0,
             "ticks": ""
            },
            "colorscale": [
             [
              0,
              "#0d0887"
             ],
             [
              0.1111111111111111,
              "#46039f"
             ],
             [
              0.2222222222222222,
              "#7201a8"
             ],
             [
              0.3333333333333333,
              "#9c179e"
             ],
             [
              0.4444444444444444,
              "#bd3786"
             ],
             [
              0.5555555555555556,
              "#d8576b"
             ],
             [
              0.6666666666666666,
              "#ed7953"
             ],
             [
              0.7777777777777778,
              "#fb9f3a"
             ],
             [
              0.8888888888888888,
              "#fdca26"
             ],
             [
              1,
              "#f0f921"
             ]
            ],
            "type": "heatmap"
           }
          ],
          "histogram": [
           {
            "marker": {
             "pattern": {
              "fillmode": "overlay",
              "size": 10,
              "solidity": 0.2
             }
            },
            "type": "histogram"
           }
          ],
          "histogram2d": [
           {
            "colorbar": {
             "outlinewidth": 0,
             "ticks": ""
            },
            "colorscale": [
             [
              0,
              "#0d0887"
             ],
             [
              0.1111111111111111,
              "#46039f"
             ],
             [
              0.2222222222222222,
              "#7201a8"
             ],
             [
              0.3333333333333333,
              "#9c179e"
             ],
             [
              0.4444444444444444,
              "#bd3786"
             ],
             [
              0.5555555555555556,
              "#d8576b"
             ],
             [
              0.6666666666666666,
              "#ed7953"
             ],
             [
              0.7777777777777778,
              "#fb9f3a"
             ],
             [
              0.8888888888888888,
              "#fdca26"
             ],
             [
              1,
              "#f0f921"
             ]
            ],
            "type": "histogram2d"
           }
          ],
          "histogram2dcontour": [
           {
            "colorbar": {
             "outlinewidth": 0,
             "ticks": ""
            },
            "colorscale": [
             [
              0,
              "#0d0887"
             ],
             [
              0.1111111111111111,
              "#46039f"
             ],
             [
              0.2222222222222222,
              "#7201a8"
             ],
             [
              0.3333333333333333,
              "#9c179e"
             ],
             [
              0.4444444444444444,
              "#bd3786"
             ],
             [
              0.5555555555555556,
              "#d8576b"
             ],
             [
              0.6666666666666666,
              "#ed7953"
             ],
             [
              0.7777777777777778,
              "#fb9f3a"
             ],
             [
              0.8888888888888888,
              "#fdca26"
             ],
             [
              1,
              "#f0f921"
             ]
            ],
            "type": "histogram2dcontour"
           }
          ],
          "mesh3d": [
           {
            "colorbar": {
             "outlinewidth": 0,
             "ticks": ""
            },
            "type": "mesh3d"
           }
          ],
          "parcoords": [
           {
            "line": {
             "colorbar": {
              "outlinewidth": 0,
              "ticks": ""
             }
            },
            "type": "parcoords"
           }
          ],
          "pie": [
           {
            "automargin": true,
            "type": "pie"
           }
          ],
          "scatter": [
           {
            "fillpattern": {
             "fillmode": "overlay",
             "size": 10,
             "solidity": 0.2
            },
            "type": "scatter"
           }
          ],
          "scatter3d": [
           {
            "line": {
             "colorbar": {
              "outlinewidth": 0,
              "ticks": ""
             }
            },
            "marker": {
             "colorbar": {
              "outlinewidth": 0,
              "ticks": ""
             }
            },
            "type": "scatter3d"
           }
          ],
          "scattercarpet": [
           {
            "marker": {
             "colorbar": {
              "outlinewidth": 0,
              "ticks": ""
             }
            },
            "type": "scattercarpet"
           }
          ],
          "scattergeo": [
           {
            "marker": {
             "colorbar": {
              "outlinewidth": 0,
              "ticks": ""
             }
            },
            "type": "scattergeo"
           }
          ],
          "scattergl": [
           {
            "marker": {
             "colorbar": {
              "outlinewidth": 0,
              "ticks": ""
             }
            },
            "type": "scattergl"
           }
          ],
          "scattermap": [
           {
            "marker": {
             "colorbar": {
              "outlinewidth": 0,
              "ticks": ""
             }
            },
            "type": "scattermap"
           }
          ],
          "scattermapbox": [
           {
            "marker": {
             "colorbar": {
              "outlinewidth": 0,
              "ticks": ""
             }
            },
            "type": "scattermapbox"
           }
          ],
          "scatterpolar": [
           {
            "marker": {
             "colorbar": {
              "outlinewidth": 0,
              "ticks": ""
             }
            },
            "type": "scatterpolar"
           }
          ],
          "scatterpolargl": [
           {
            "marker": {
             "colorbar": {
              "outlinewidth": 0,
              "ticks": ""
             }
            },
            "type": "scatterpolargl"
           }
          ],
          "scatterternary": [
           {
            "marker": {
             "colorbar": {
              "outlinewidth": 0,
              "ticks": ""
             }
            },
            "type": "scatterternary"
           }
          ],
          "surface": [
           {
            "colorbar": {
             "outlinewidth": 0,
             "ticks": ""
            },
            "colorscale": [
             [
              0,
              "#0d0887"
             ],
             [
              0.1111111111111111,
              "#46039f"
             ],
             [
              0.2222222222222222,
              "#7201a8"
             ],
             [
              0.3333333333333333,
              "#9c179e"
             ],
             [
              0.4444444444444444,
              "#bd3786"
             ],
             [
              0.5555555555555556,
              "#d8576b"
             ],
             [
              0.6666666666666666,
              "#ed7953"
             ],
             [
              0.7777777777777778,
              "#fb9f3a"
             ],
             [
              0.8888888888888888,
              "#fdca26"
             ],
             [
              1,
              "#f0f921"
             ]
            ],
            "type": "surface"
           }
          ],
          "table": [
           {
            "cells": {
             "fill": {
              "color": "#EBF0F8"
             },
             "line": {
              "color": "white"
             }
            },
            "header": {
             "fill": {
              "color": "#C8D4E3"
             },
             "line": {
              "color": "white"
             }
            },
            "type": "table"
           }
          ]
         },
         "layout": {
          "annotationdefaults": {
           "arrowcolor": "#2a3f5f",
           "arrowhead": 0,
           "arrowwidth": 1
          },
          "autotypenumbers": "strict",
          "coloraxis": {
           "colorbar": {
            "outlinewidth": 0,
            "ticks": ""
           }
          },
          "colorscale": {
           "diverging": [
            [
             0,
             "#8e0152"
            ],
            [
             0.1,
             "#c51b7d"
            ],
            [
             0.2,
             "#de77ae"
            ],
            [
             0.3,
             "#f1b6da"
            ],
            [
             0.4,
             "#fde0ef"
            ],
            [
             0.5,
             "#f7f7f7"
            ],
            [
             0.6,
             "#e6f5d0"
            ],
            [
             0.7,
             "#b8e186"
            ],
            [
             0.8,
             "#7fbc41"
            ],
            [
             0.9,
             "#4d9221"
            ],
            [
             1,
             "#276419"
            ]
           ],
           "sequential": [
            [
             0,
             "#0d0887"
            ],
            [
             0.1111111111111111,
             "#46039f"
            ],
            [
             0.2222222222222222,
             "#7201a8"
            ],
            [
             0.3333333333333333,
             "#9c179e"
            ],
            [
             0.4444444444444444,
             "#bd3786"
            ],
            [
             0.5555555555555556,
             "#d8576b"
            ],
            [
             0.6666666666666666,
             "#ed7953"
            ],
            [
             0.7777777777777778,
             "#fb9f3a"
            ],
            [
             0.8888888888888888,
             "#fdca26"
            ],
            [
             1,
             "#f0f921"
            ]
           ],
           "sequentialminus": [
            [
             0,
             "#0d0887"
            ],
            [
             0.1111111111111111,
             "#46039f"
            ],
            [
             0.2222222222222222,
             "#7201a8"
            ],
            [
             0.3333333333333333,
             "#9c179e"
            ],
            [
             0.4444444444444444,
             "#bd3786"
            ],
            [
             0.5555555555555556,
             "#d8576b"
            ],
            [
             0.6666666666666666,
             "#ed7953"
            ],
            [
             0.7777777777777778,
             "#fb9f3a"
            ],
            [
             0.8888888888888888,
             "#fdca26"
            ],
            [
             1,
             "#f0f921"
            ]
           ]
          },
          "colorway": [
           "#636efa",
           "#EF553B",
           "#00cc96",
           "#ab63fa",
           "#FFA15A",
           "#19d3f3",
           "#FF6692",
           "#B6E880",
           "#FF97FF",
           "#FECB52"
          ],
          "font": {
           "color": "#2a3f5f"
          },
          "geo": {
           "bgcolor": "white",
           "lakecolor": "white",
           "landcolor": "#E5ECF6",
           "showlakes": true,
           "showland": true,
           "subunitcolor": "white"
          },
          "hoverlabel": {
           "align": "left"
          },
          "hovermode": "closest",
          "mapbox": {
           "style": "light"
          },
          "paper_bgcolor": "white",
          "plot_bgcolor": "#E5ECF6",
          "polar": {
           "angularaxis": {
            "gridcolor": "white",
            "linecolor": "white",
            "ticks": ""
           },
           "bgcolor": "#E5ECF6",
           "radialaxis": {
            "gridcolor": "white",
            "linecolor": "white",
            "ticks": ""
           }
          },
          "scene": {
           "xaxis": {
            "backgroundcolor": "#E5ECF6",
            "gridcolor": "white",
            "gridwidth": 2,
            "linecolor": "white",
            "showbackground": true,
            "ticks": "",
            "zerolinecolor": "white"
           },
           "yaxis": {
            "backgroundcolor": "#E5ECF6",
            "gridcolor": "white",
            "gridwidth": 2,
            "linecolor": "white",
            "showbackground": true,
            "ticks": "",
            "zerolinecolor": "white"
           },
           "zaxis": {
            "backgroundcolor": "#E5ECF6",
            "gridcolor": "white",
            "gridwidth": 2,
            "linecolor": "white",
            "showbackground": true,
            "ticks": "",
            "zerolinecolor": "white"
           }
          },
          "shapedefaults": {
           "line": {
            "color": "#2a3f5f"
           }
          },
          "ternary": {
           "aaxis": {
            "gridcolor": "white",
            "linecolor": "white",
            "ticks": ""
           },
           "baxis": {
            "gridcolor": "white",
            "linecolor": "white",
            "ticks": ""
           },
           "bgcolor": "#E5ECF6",
           "caxis": {
            "gridcolor": "white",
            "linecolor": "white",
            "ticks": ""
           }
          },
          "title": {
           "x": 0.05
          },
          "xaxis": {
           "automargin": true,
           "gridcolor": "white",
           "linecolor": "white",
           "ticks": "",
           "title": {
            "standoff": 15
           },
           "zerolinecolor": "white",
           "zerolinewidth": 2
          },
          "yaxis": {
           "automargin": true,
           "gridcolor": "white",
           "linecolor": "white",
           "ticks": "",
           "title": {
            "standoff": 15
           },
           "zerolinecolor": "white",
           "zerolinewidth": 2
          }
         }
        },
        "title": {
         "text": "📅 Flip Rate by Day of Week"
        },
        "xaxis": {
         "anchor": "y",
         "domain": [
          0,
          1
         ],
         "title": {
          "text": "Day of Week"
         }
        },
        "yaxis": {
         "anchor": "x",
         "domain": [
          0,
          1
         ],
         "title": {
          "text": "Flip Rate"
         }
        }
       }
      }
     },
     "metadata": {},
     "output_type": "display_data"
    },
    {
     "name": "stdout",
     "output_type": "stream",
     "text": [
      "✅ All flip behavior visualizations completed!\n"
     ]
    }
   ],
   "source": [
    "# 📊 Interactive Plotly Visualizations for Flip Behavior\n",
    "if \"flip_df\" in locals():\n",
    "    # 1. Flip behavior histogram\n",
    "    fig1 = px.histogram(\n",
    "        flip_df,\n",
    "        x=\"delta_45_pct\",\n",
    "        color=\"flipped\",\n",
    "        nbins=50,\n",
    "        title=\"🔄 Candle Flip Behavior by 45-Minute Change\",\n",
    "        labels={\"delta_45_pct\": \"45-Minute Change (%)\", \"count\": \"Number of Candles\"},\n",
    "        color_discrete_map={True: \"#ff6b6b\", False: \"#4ecdc4\"},\n",
    "        height=500,\n",
    "    )\n",
    "    fig1.update_layout(\n",
    "        xaxis_title=\"45-Minute Change (%)\",\n",
    "        yaxis_title=\"Number of Candles\",\n",
    "        legend_title=\"Flipped Direction\",\n",
    "    )\n",
    "    fig1.show()\n",
    "\n",
    "    # 2. Green vs Red distribution\n",
    "    fig2 = px.histogram(\n",
    "        flip_df,\n",
    "        x=\"delta_45_pct\",\n",
    "        color=\"green_candle\",\n",
    "        nbins=50,\n",
    "        title=\"🟢🔴 Green vs Red Candles by 45-Minute Change\",\n",
    "        labels={\"delta_45_pct\": \"45-Minute Change (%)\", \"count\": \"Number of Candles\"},\n",
    "        color_discrete_map={True: \"#00ff00\", False: \"#ff0000\"},\n",
    "        height=500,\n",
    "    )\n",
    "    fig2.update_layout(\n",
    "        xaxis_title=\"45-Minute Change (%)\",\n",
    "        yaxis_title=\"Number of Candles\",\n",
    "        legend_title=\"Candle Color\",\n",
    "    )\n",
    "    fig2.show()\n",
    "\n",
    "    # 3. Flip rate by hour of day\n",
    "    hourly_stats = (\n",
    "        flip_df.groupby(\"hour_of_day\")\n",
    "        .agg({\"flipped\": [\"mean\", \"count\"], \"green_candle\": \"mean\"})\n",
    "        .round(3)\n",
    "    )\n",
    "    hourly_stats.columns = [\"flip_rate\", \"count\", \"green_rate\"]\n",
    "    hourly_stats = hourly_stats.reset_index()\n",
    "\n",
    "    fig3 = px.bar(\n",
    "        hourly_stats,\n",
    "        x=\"hour_of_day\",\n",
    "        y=\"flip_rate\",\n",
    "        title=\"🕐 Flip Rate by Hour of Day\",\n",
    "        labels={\"hour_of_day\": \"Hour of Day\", \"flip_rate\": \"Flip Rate\"},\n",
    "        color=\"flip_rate\",\n",
    "        color_continuous_scale=\"RdYlBu_r\",\n",
    "        height=400,\n",
    "    )\n",
    "    fig3.update_layout(\n",
    "        xaxis_title=\"Hour of Day (UTC)\",\n",
    "        yaxis_title=\"Flip Rate\",\n",
    "        xaxis=dict(tickmode=\"linear\"),\n",
    "    )\n",
    "    fig3.show()\n",
    "\n",
    "    # 4. Scatter plot: 45-min change vs final change\n",
    "    fig4 = px.scatter(\n",
    "        flip_df.sample(min(2000, len(flip_df))),  # Sample for performance\n",
    "        x=\"delta_45_pct\",\n",
    "        y=\"delta_close_pct\",\n",
    "        color=\"flipped\",\n",
    "        title=\"📈 45-Minute Change vs Final Change (Sampled)\",\n",
    "        labels={\n",
    "            \"delta_45_pct\": \"45-Minute Change (%)\",\n",
    "            \"delta_close_pct\": \"Final Change (%)\",\n",
    "        },\n",
    "        color_discrete_map={True: \"#ff6b6b\", False: \"#4ecdc4\"},\n",
    "        opacity=0.6,\n",
    "        height=500,\n",
    "    )\n",
    "    # Add diagonal line (y=x) to show where no change would occur\n",
    "    fig4.add_shape(\n",
    "        type=\"line\",\n",
    "        x0=-3,\n",
    "        y0=-3,\n",
    "        x1=3,\n",
    "        y1=3,\n",
    "        line=dict(color=\"gray\", width=2, dash=\"dash\"),\n",
    "    )\n",
    "    fig4.update_layout(\n",
    "        xaxis_title=\"45-Minute Change (%)\",\n",
    "        yaxis_title=\"Final Change (%)\",\n",
    "        legend_title=\"Flipped Direction\",\n",
    "    )\n",
    "    fig4.show()\n",
    "\n",
    "    # 5. Day of week analysis\n",
    "    daily_stats = (\n",
    "        flip_df.groupby(\"day_of_week\")\n",
    "        .agg({\"flipped\": \"mean\", \"green_candle\": \"mean\"})\n",
    "        .round(3)\n",
    "    )\n",
    "    daily_stats = daily_stats.reindex(\n",
    "        [\"Monday\", \"Tuesday\", \"Wednesday\", \"Thursday\", \"Friday\", \"Saturday\", \"Sunday\"]\n",
    "    )\n",
    "    daily_stats = daily_stats.reset_index()\n",
    "\n",
    "    fig5 = px.bar(\n",
    "        daily_stats,\n",
    "        x=\"day_of_week\",\n",
    "        y=\"flipped\",\n",
    "        title=\"📅 Flip Rate by Day of Week\",\n",
    "        labels={\"day_of_week\": \"Day of Week\", \"flipped\": \"Flip Rate\"},\n",
    "        color=\"flipped\",\n",
    "        color_continuous_scale=\"viridis\",\n",
    "        height=400,\n",
    "    )\n",
    "    fig5.update_layout(xaxis_title=\"Day of Week\", yaxis_title=\"Flip Rate\")\n",
    "    fig5.show()\n",
    "\n",
    "    print(\"✅ All flip behavior visualizations completed!\")\n",
    "\n",
    "else:\n",
    "    print(\"⚠️  Please run the flip analysis first\")"
   ]
  },
  {
   "cell_type": "raw",
   "metadata": {
    "vscode": {
     "languageId": "raw"
    }
   },
   "source": [
    "## 🤖 Model Training and Prediction\n",
    "\n",
    "Train multiple machine learning models to predict candle direction using the first 45 minutes of data. We'll extract 50+ features including technical indicators, volume patterns, and market microstructure signals.\n"
   ]
  },
  {
   "cell_type": "code",
   "execution_count": 12,
   "metadata": {},
   "outputs": [
    {
     "name": "stdout",
     "output_type": "stream",
     "text": [
      "🤖 Training machine learning models...\n",
      "⏳ This may take a few minutes depending on data size...\n",
      "\n",
      "🔄 Training random_forest model...\n",
      "   ✅ Accuracy: 0.931\n",
      "   ✅ AUC: 0.953\n",
      "   ✅ Features used: 39\n",
      "\n",
      "🔄 Training gradient_boost model...\n",
      "   ✅ Accuracy: 0.889\n",
      "   ✅ AUC: 0.938\n",
      "   ✅ Features used: 39\n",
      "\n",
      "🔄 Training logistic model...\n",
      "   ✅ Accuracy: 0.875\n",
      "   ✅ AUC: 0.943\n",
      "   ✅ Features used: 39\n",
      "\n",
      "🎉 Successfully trained 3 models!\n",
      "\n",
      "📊 Model Performance Comparison:\n"
     ]
    },
    {
     "data": {
      "text/html": [
       "<div>\n",
       "<style scoped>\n",
       "    .dataframe tbody tr th:only-of-type {\n",
       "        vertical-align: middle;\n",
       "    }\n",
       "\n",
       "    .dataframe tbody tr th {\n",
       "        vertical-align: top;\n",
       "    }\n",
       "\n",
       "    .dataframe thead th {\n",
       "        text-align: right;\n",
       "    }\n",
       "</style>\n",
       "<table border=\"1\" class=\"dataframe\">\n",
       "  <thead>\n",
       "    <tr style=\"text-align: right;\">\n",
       "      <th></th>\n",
       "      <th>Model</th>\n",
       "      <th>Accuracy</th>\n",
       "      <th>Precision</th>\n",
       "      <th>Recall</th>\n",
       "      <th>F1_Score</th>\n",
       "      <th>AUC</th>\n",
       "    </tr>\n",
       "  </thead>\n",
       "  <tbody>\n",
       "    <tr>\n",
       "      <th>0</th>\n",
       "      <td>random_forest</td>\n",
       "      <td>0.931</td>\n",
       "      <td>0.974</td>\n",
       "      <td>0.902</td>\n",
       "      <td>0.937</td>\n",
       "      <td>0.953</td>\n",
       "    </tr>\n",
       "    <tr>\n",
       "      <th>1</th>\n",
       "      <td>gradient_boost</td>\n",
       "      <td>0.889</td>\n",
       "      <td>0.923</td>\n",
       "      <td>0.878</td>\n",
       "      <td>0.900</td>\n",
       "      <td>0.938</td>\n",
       "    </tr>\n",
       "    <tr>\n",
       "      <th>2</th>\n",
       "      <td>logistic</td>\n",
       "      <td>0.875</td>\n",
       "      <td>0.971</td>\n",
       "      <td>0.805</td>\n",
       "      <td>0.880</td>\n",
       "      <td>0.943</td>\n",
       "    </tr>\n",
       "  </tbody>\n",
       "</table>\n",
       "</div>"
      ],
      "text/plain": [
       "            Model  Accuracy  Precision  Recall  F1_Score    AUC\n",
       "0   random_forest     0.931      0.974   0.902     0.937  0.953\n",
       "1  gradient_boost     0.889      0.923   0.878     0.900  0.938\n",
       "2        logistic     0.875      0.971   0.805     0.880  0.943"
      ]
     },
     "metadata": {},
     "output_type": "display_data"
    },
    {
     "name": "stdout",
     "output_type": "stream",
     "text": [
      "\n",
      "🏆 Best performing model: random_forest (AUC: 0.953)\n"
     ]
    }
   ],
   "source": [
    "# 🏋️ Train different models\n",
    "if \"df\" in locals():\n",
    "    models = {}\n",
    "    performances = {}\n",
    "\n",
    "    print(\"🤖 Training machine learning models...\")\n",
    "    print(\"⏳ This may take a few minutes depending on data size...\")\n",
    "\n",
    "    for model_type in [\"random_forest\", \"gradient_boost\", \"logistic\"]:\n",
    "        print(f\"\\n🔄 Training {model_type} model...\")\n",
    "\n",
    "        try:\n",
    "            predictor = EthCandlePredictor(model_type=model_type)\n",
    "            performance = predictor.train(df, test_size=0.2)\n",
    "\n",
    "            models[model_type] = predictor\n",
    "            performances[model_type] = performance\n",
    "\n",
    "            print(f\"   ✅ Accuracy: {performance.accuracy:.3f}\")\n",
    "            print(f\"   ✅ AUC: {performance.auc_score:.3f}\")\n",
    "            print(f\"   ✅ Features used: {len(predictor.feature_names)}\")\n",
    "\n",
    "        except Exception as e:\n",
    "            print(f\"   ❌ Error training {model_type}: {e}\")\n",
    "\n",
    "    if models:\n",
    "        print(f\"\\n🎉 Successfully trained {len(models)} models!\")\n",
    "\n",
    "        # Create performance comparison dataframe\n",
    "        performance_df = pd.DataFrame(\n",
    "            {\n",
    "                \"Model\": list(performances.keys()),\n",
    "                \"Accuracy\": [p.accuracy for p in performances.values()],\n",
    "                \"Precision\": [p.precision for p in performances.values()],\n",
    "                \"Recall\": [p.recall for p in performances.values()],\n",
    "                \"F1_Score\": [p.f1_score for p in performances.values()],\n",
    "                \"AUC\": [p.auc_score for p in performances.values()],\n",
    "            }\n",
    "        )\n",
    "\n",
    "        print(f\"\\n📊 Model Performance Comparison:\")\n",
    "        display(performance_df.round(3))\n",
    "\n",
    "        # Identify best model\n",
    "        best_model_name = performance_df.loc[performance_df[\"AUC\"].idxmax(), \"Model\"]\n",
    "        best_auc = performance_df[\"AUC\"].max()\n",
    "        print(f\"\\n🏆 Best performing model: {best_model_name} (AUC: {best_auc:.3f})\")\n",
    "\n",
    "    else:\n",
    "        print(\"❌ No models were successfully trained\")\n",
    "\n",
    "else:\n",
    "    print(\"⚠️  Please load data first by running the data loading cells\")"
   ]
  },
  {
   "cell_type": "code",
   "execution_count": 18,
   "metadata": {},
   "outputs": [
    {
     "name": "stdout",
     "output_type": "stream",
     "text": [
      "🔮 Making predictions on recent hours...\n",
      "⏳ Using best performing model for predictions...\n",
      "\n",
      "🏆 Using best model: random_forest\n",
      "======================================================================\n",
      "06-29 03:00 | 🔴 Pred:   red 🔥(89.1%) | Actual:   red (-0.16%) ✅\n",
      "06-29 04:00 | 🟢 Pred: green 💡(55.1%) | Actual: green (+0.08%) ✅\n",
      "06-29 05:00 | 🟢 Pred: green ⚡(66.7%) | Actual: green (+0.16%) ✅\n",
      "06-29 06:00 | 🟢 Pred: green 💡(57.7%) | Actual: green (+0.13%) ✅\n",
      "06-29 07:00 | 🟢 Pred: green 💡(59.1%) | Actual: green (+0.15%) ✅\n",
      "06-29 08:00 | 🟢 Pred: green 🔥(88.4%) | Actual: green (+0.13%) ✅\n",
      "06-29 09:00 | 🟢 Pred: green 🔥(89.1%) | Actual: green (+0.19%) ✅\n",
      "06-29 10:00 | 🟢 Pred: green 💡(57.3%) | Actual: green (+0.33%) ✅\n",
      "06-29 11:00 | 🟢 Pred: green 🔥(70.0%) | Actual: green (+0.24%) ✅\n",
      "06-29 12:00 | 🔴 Pred:   red 🔥(93.8%) | Actual:   red (-0.30%) ✅\n",
      "06-29 13:00 | 🔴 Pred:   red 🔥(84.7%) | Actual:   red (-0.32%) ✅\n",
      "06-29 14:00 | 🔴 Pred:   red 🔥(96.9%) | Actual:   red (-0.28%) ✅\n",
      "06-29 15:00 | 🟢 Pred: green 🔥(76.7%) | Actual:   red (-0.14%) ❌\n",
      "06-29 16:00 | 🔴 Pred:   red 🔥(90.9%) | Actual: green (+0.10%) ❌\n",
      "06-29 17:00 | 🔴 Pred:   red 🔥(81.7%) | Actual:   red (-0.13%) ✅\n",
      "======================================================================\n",
      "📊 PREDICTION SUMMARY:\n",
      "   🎯 Accuracy: 86.7% (13/15)\n",
      "   💪 Average Confidence: 77.1%\n",
      "   ✅ Successful Predictions: 15/15\n",
      "   🔥 Avg Confidence (Correct): 76.1%\n",
      "   💔 Avg Confidence (Wrong): 83.8%\n",
      "\n",
      "📋 Detailed predictions saved to 'predictions' variable\n"
     ]
    }
   ],
   "source": [
    "# 🔮 Make predictions on recent data\n",
    "if \"models\" in locals() and \"df_1h\" in locals() and len(models) > 0:\n",
    "    recent_hours = df_1h.index[-15:]  # Last 15 hours for better analysis\n",
    "    predictions = []\n",
    "\n",
    "    print(\"🔮 Making predictions on recent hours...\")\n",
    "    print(\"⏳ Using best performing model for predictions...\\n\")\n",
    "\n",
    "    # Use best performing model\n",
    "    best_model_name = performance_df.loc[performance_df[\"AUC\"].idxmax(), \"Model\"]\n",
    "    best_model = models[best_model_name]\n",
    "    print(f\"🏆 Using best model: {best_model_name}\")\n",
    "    print(\"=\" * 70)\n",
    "\n",
    "    successful_predictions = 0\n",
    "\n",
    "    for i, hour_start in enumerate(recent_hours):\n",
    "        try:\n",
    "            # Make prediction\n",
    "            pred = best_model.predict(df, hour_start)\n",
    "\n",
    "            # Get actual result\n",
    "            actual_close = df_1h.loc[hour_start, \"close\"]\n",
    "            actual_open = df_1h.loc[hour_start, \"open\"]\n",
    "            actual_direction = \"green\" if actual_close > actual_open else \"red\"\n",
    "            actual_change = (actual_close - actual_open) / actual_open * 100\n",
    "\n",
    "            correct = pred.predicted_direction == actual_direction\n",
    "\n",
    "            predictions.append(\n",
    "                {\n",
    "                    \"timestamp\": hour_start,\n",
    "                    \"predicted\": pred.predicted_direction,\n",
    "                    \"actual\": actual_direction,\n",
    "                    \"confidence\": pred.confidence,\n",
    "                    \"prob_green\": pred.probability_green,\n",
    "                    \"prob_red\": pred.probability_red,\n",
    "                    \"actual_change\": actual_change,\n",
    "                    \"correct\": correct,\n",
    "                    \"open_price\": actual_open,\n",
    "                    \"close_price\": actual_close,\n",
    "                }\n",
    "            )\n",
    "\n",
    "            # Emoji indicators\n",
    "            status = \"✅\" if correct else \"❌\"\n",
    "            confidence_emoji = (\n",
    "                \"🔥\"\n",
    "                if pred.confidence > 0.7\n",
    "                else \"⚡\"\n",
    "                if pred.confidence > 0.6\n",
    "                else \"💡\"\n",
    "            )\n",
    "            direction_emoji = \"🟢\" if pred.predicted_direction == \"green\" else \"🔴\"\n",
    "\n",
    "            print(\n",
    "                f\"{hour_start.strftime('%m-%d %H:%M')} | \"\n",
    "                f\"{direction_emoji} Pred: {pred.predicted_direction:>5} {confidence_emoji}({pred.confidence:.1%}) | \"\n",
    "                f\"Actual: {actual_direction:>5} ({actual_change:+.2f}%) {status}\"\n",
    "            )\n",
    "\n",
    "            successful_predictions += 1\n",
    "\n",
    "        except Exception as e:\n",
    "            print(f\"❌ Failed to predict for {hour_start}: {e}\")\n",
    "\n",
    "    if predictions:\n",
    "        accuracy = sum(p[\"correct\"] for p in predictions) / len(predictions)\n",
    "        avg_confidence = np.mean([p[\"confidence\"] for p in predictions])\n",
    "\n",
    "        print(\"=\" * 70)\n",
    "        print(f\"📊 PREDICTION SUMMARY:\")\n",
    "        print(\n",
    "            f\"   🎯 Accuracy: {accuracy:.1%} ({sum(p['correct'] for p in predictions)}/{len(predictions)})\"\n",
    "        )\n",
    "        print(f\"   💪 Average Confidence: {avg_confidence:.1%}\")\n",
    "        print(\n",
    "            f\"   ✅ Successful Predictions: {successful_predictions}/{len(recent_hours)}\"\n",
    "        )\n",
    "\n",
    "        # Additional stats\n",
    "        correct_preds = [p for p in predictions if p[\"correct\"]]\n",
    "        if correct_preds:\n",
    "            avg_correct_confidence = np.mean([p[\"confidence\"] for p in correct_preds])\n",
    "            print(f\"   🔥 Avg Confidence (Correct): {avg_correct_confidence:.1%}\")\n",
    "\n",
    "        incorrect_preds = [p for p in predictions if not p[\"correct\"]]\n",
    "        if incorrect_preds:\n",
    "            avg_incorrect_confidence = np.mean(\n",
    "                [p[\"confidence\"] for p in incorrect_preds]\n",
    "            )\n",
    "            print(f\"   💔 Avg Confidence (Wrong): {avg_incorrect_confidence:.1%}\")\n",
    "\n",
    "        print(f\"\\n📋 Detailed predictions saved to 'predictions' variable\")\n",
    "\n",
    "else:\n",
    "    if \"models\" not in locals() or len(models) == 0:\n",
    "        print(\"⚠️  Please train models first\")\n",
    "    else:\n",
    "        print(\"⚠️  Please ensure hourly data is available\")"
   ]
  },
  {
   "cell_type": "code",
   "execution_count": 14,
   "metadata": {},
   "outputs": [
    {
     "name": "stdout",
     "output_type": "stream",
     "text": [
      "🔍 Analyzing feature importance...\n",
      "✅ Extracted 39 feature importances\n"
     ]
    },
    {
     "data": {
      "application/vnd.plotly.v1+json": {
       "config": {
        "plotlyServerURL": "https://plot.ly"
       },
       "data": [
        {
         "hovertemplate": "Feature Importance=%{marker.color}<br>Feature Name=%{y}<extra></extra>",
         "legendgroup": "",
         "marker": {
          "color": {
           "bdata": "NJABSezlyj+lhOwqSGzFPzRDH1fE0cA/0LLICCbCtj+rpuOUuS+oPzyKL17ejaU/rqFxsRCrpD8qt8FGgaCdP/cU+MnExZU/i1w4FA2ylT+36e4wJkmVP2fLvXixwJQ/RpYYa3bJjz+VHPyFSqiMP3wgpTonG4w/Dy94hasbgj/9Wj6a2amBP5hs7a6/K4E/hJHjG50cfz/Onn2b1HF+Pw==",
           "dtype": "f8"
          },
          "coloraxis": "coloraxis",
          "pattern": {
           "shape": ""
          }
         },
         "name": "",
         "orientation": "h",
         "showlegend": false,
         "textposition": "auto",
         "type": "bar",
         "x": {
          "bdata": "NJABSezlyj+lhOwqSGzFPzRDH1fE0cA/0LLICCbCtj+rpuOUuS+oPzyKL17ejaU/rqFxsRCrpD8qt8FGgaCdP/cU+MnExZU/i1w4FA2ylT+36e4wJkmVP2fLvXixwJQ/RpYYa3bJjz+VHPyFSqiMP3wgpTonG4w/Dy94hasbgj/9Wj6a2amBP5hs7a6/K4E/hJHjG50cfz/Onn2b1HF+Pw==",
          "dtype": "f8"
         },
         "xaxis": "x",
         "y": [
          "price_change_abs",
          "price_change_pct",
          "momentum_15min",
          "upward_momentum",
          "position_in_range",
          "macd",
          "macd_signal",
          "upper_half",
          "hammer_like",
          "up_down_ratio",
          "up_moves",
          "down_moves",
          "shooting_star_like",
          "price_vs_ma20",
          "rsi",
          "high_price",
          "volatility",
          "open_price",
          "volume_momentum_15min",
          "ma_20"
         ],
         "yaxis": "y"
        }
       ],
       "layout": {
        "barmode": "relative",
        "coloraxis": {
         "colorbar": {
          "title": {
           "text": "Feature Importance"
          }
         },
         "colorscale": [
          [
           0,
           "#440154"
          ],
          [
           0.1111111111111111,
           "#482878"
          ],
          [
           0.2222222222222222,
           "#3e4989"
          ],
          [
           0.3333333333333333,
           "#31688e"
          ],
          [
           0.4444444444444444,
           "#26828e"
          ],
          [
           0.5555555555555556,
           "#1f9e89"
          ],
          [
           0.6666666666666666,
           "#35b779"
          ],
          [
           0.7777777777777778,
           "#6ece58"
          ],
          [
           0.8888888888888888,
           "#b5de2b"
          ],
          [
           1,
           "#fde725"
          ]
         ]
        },
        "height": 700,
        "legend": {
         "tracegroupgap": 0
        },
        "margin": {
         "l": 200
        },
        "showlegend": false,
        "template": {
         "data": {
          "bar": [
           {
            "error_x": {
             "color": "#2a3f5f"
            },
            "error_y": {
             "color": "#2a3f5f"
            },
            "marker": {
             "line": {
              "color": "#E5ECF6",
              "width": 0.5
             },
             "pattern": {
              "fillmode": "overlay",
              "size": 10,
              "solidity": 0.2
             }
            },
            "type": "bar"
           }
          ],
          "barpolar": [
           {
            "marker": {
             "line": {
              "color": "#E5ECF6",
              "width": 0.5
             },
             "pattern": {
              "fillmode": "overlay",
              "size": 10,
              "solidity": 0.2
             }
            },
            "type": "barpolar"
           }
          ],
          "carpet": [
           {
            "aaxis": {
             "endlinecolor": "#2a3f5f",
             "gridcolor": "white",
             "linecolor": "white",
             "minorgridcolor": "white",
             "startlinecolor": "#2a3f5f"
            },
            "baxis": {
             "endlinecolor": "#2a3f5f",
             "gridcolor": "white",
             "linecolor": "white",
             "minorgridcolor": "white",
             "startlinecolor": "#2a3f5f"
            },
            "type": "carpet"
           }
          ],
          "choropleth": [
           {
            "colorbar": {
             "outlinewidth": 0,
             "ticks": ""
            },
            "type": "choropleth"
           }
          ],
          "contour": [
           {
            "colorbar": {
             "outlinewidth": 0,
             "ticks": ""
            },
            "colorscale": [
             [
              0,
              "#0d0887"
             ],
             [
              0.1111111111111111,
              "#46039f"
             ],
             [
              0.2222222222222222,
              "#7201a8"
             ],
             [
              0.3333333333333333,
              "#9c179e"
             ],
             [
              0.4444444444444444,
              "#bd3786"
             ],
             [
              0.5555555555555556,
              "#d8576b"
             ],
             [
              0.6666666666666666,
              "#ed7953"
             ],
             [
              0.7777777777777778,
              "#fb9f3a"
             ],
             [
              0.8888888888888888,
              "#fdca26"
             ],
             [
              1,
              "#f0f921"
             ]
            ],
            "type": "contour"
           }
          ],
          "contourcarpet": [
           {
            "colorbar": {
             "outlinewidth": 0,
             "ticks": ""
            },
            "type": "contourcarpet"
           }
          ],
          "heatmap": [
           {
            "colorbar": {
             "outlinewidth": 0,
             "ticks": ""
            },
            "colorscale": [
             [
              0,
              "#0d0887"
             ],
             [
              0.1111111111111111,
              "#46039f"
             ],
             [
              0.2222222222222222,
              "#7201a8"
             ],
             [
              0.3333333333333333,
              "#9c179e"
             ],
             [
              0.4444444444444444,
              "#bd3786"
             ],
             [
              0.5555555555555556,
              "#d8576b"
             ],
             [
              0.6666666666666666,
              "#ed7953"
             ],
             [
              0.7777777777777778,
              "#fb9f3a"
             ],
             [
              0.8888888888888888,
              "#fdca26"
             ],
             [
              1,
              "#f0f921"
             ]
            ],
            "type": "heatmap"
           }
          ],
          "histogram": [
           {
            "marker": {
             "pattern": {
              "fillmode": "overlay",
              "size": 10,
              "solidity": 0.2
             }
            },
            "type": "histogram"
           }
          ],
          "histogram2d": [
           {
            "colorbar": {
             "outlinewidth": 0,
             "ticks": ""
            },
            "colorscale": [
             [
              0,
              "#0d0887"
             ],
             [
              0.1111111111111111,
              "#46039f"
             ],
             [
              0.2222222222222222,
              "#7201a8"
             ],
             [
              0.3333333333333333,
              "#9c179e"
             ],
             [
              0.4444444444444444,
              "#bd3786"
             ],
             [
              0.5555555555555556,
              "#d8576b"
             ],
             [
              0.6666666666666666,
              "#ed7953"
             ],
             [
              0.7777777777777778,
              "#fb9f3a"
             ],
             [
              0.8888888888888888,
              "#fdca26"
             ],
             [
              1,
              "#f0f921"
             ]
            ],
            "type": "histogram2d"
           }
          ],
          "histogram2dcontour": [
           {
            "colorbar": {
             "outlinewidth": 0,
             "ticks": ""
            },
            "colorscale": [
             [
              0,
              "#0d0887"
             ],
             [
              0.1111111111111111,
              "#46039f"
             ],
             [
              0.2222222222222222,
              "#7201a8"
             ],
             [
              0.3333333333333333,
              "#9c179e"
             ],
             [
              0.4444444444444444,
              "#bd3786"
             ],
             [
              0.5555555555555556,
              "#d8576b"
             ],
             [
              0.6666666666666666,
              "#ed7953"
             ],
             [
              0.7777777777777778,
              "#fb9f3a"
             ],
             [
              0.8888888888888888,
              "#fdca26"
             ],
             [
              1,
              "#f0f921"
             ]
            ],
            "type": "histogram2dcontour"
           }
          ],
          "mesh3d": [
           {
            "colorbar": {
             "outlinewidth": 0,
             "ticks": ""
            },
            "type": "mesh3d"
           }
          ],
          "parcoords": [
           {
            "line": {
             "colorbar": {
              "outlinewidth": 0,
              "ticks": ""
             }
            },
            "type": "parcoords"
           }
          ],
          "pie": [
           {
            "automargin": true,
            "type": "pie"
           }
          ],
          "scatter": [
           {
            "fillpattern": {
             "fillmode": "overlay",
             "size": 10,
             "solidity": 0.2
            },
            "type": "scatter"
           }
          ],
          "scatter3d": [
           {
            "line": {
             "colorbar": {
              "outlinewidth": 0,
              "ticks": ""
             }
            },
            "marker": {
             "colorbar": {
              "outlinewidth": 0,
              "ticks": ""
             }
            },
            "type": "scatter3d"
           }
          ],
          "scattercarpet": [
           {
            "marker": {
             "colorbar": {
              "outlinewidth": 0,
              "ticks": ""
             }
            },
            "type": "scattercarpet"
           }
          ],
          "scattergeo": [
           {
            "marker": {
             "colorbar": {
              "outlinewidth": 0,
              "ticks": ""
             }
            },
            "type": "scattergeo"
           }
          ],
          "scattergl": [
           {
            "marker": {
             "colorbar": {
              "outlinewidth": 0,
              "ticks": ""
             }
            },
            "type": "scattergl"
           }
          ],
          "scattermap": [
           {
            "marker": {
             "colorbar": {
              "outlinewidth": 0,
              "ticks": ""
             }
            },
            "type": "scattermap"
           }
          ],
          "scattermapbox": [
           {
            "marker": {
             "colorbar": {
              "outlinewidth": 0,
              "ticks": ""
             }
            },
            "type": "scattermapbox"
           }
          ],
          "scatterpolar": [
           {
            "marker": {
             "colorbar": {
              "outlinewidth": 0,
              "ticks": ""
             }
            },
            "type": "scatterpolar"
           }
          ],
          "scatterpolargl": [
           {
            "marker": {
             "colorbar": {
              "outlinewidth": 0,
              "ticks": ""
             }
            },
            "type": "scatterpolargl"
           }
          ],
          "scatterternary": [
           {
            "marker": {
             "colorbar": {
              "outlinewidth": 0,
              "ticks": ""
             }
            },
            "type": "scatterternary"
           }
          ],
          "surface": [
           {
            "colorbar": {
             "outlinewidth": 0,
             "ticks": ""
            },
            "colorscale": [
             [
              0,
              "#0d0887"
             ],
             [
              0.1111111111111111,
              "#46039f"
             ],
             [
              0.2222222222222222,
              "#7201a8"
             ],
             [
              0.3333333333333333,
              "#9c179e"
             ],
             [
              0.4444444444444444,
              "#bd3786"
             ],
             [
              0.5555555555555556,
              "#d8576b"
             ],
             [
              0.6666666666666666,
              "#ed7953"
             ],
             [
              0.7777777777777778,
              "#fb9f3a"
             ],
             [
              0.8888888888888888,
              "#fdca26"
             ],
             [
              1,
              "#f0f921"
             ]
            ],
            "type": "surface"
           }
          ],
          "table": [
           {
            "cells": {
             "fill": {
              "color": "#EBF0F8"
             },
             "line": {
              "color": "white"
             }
            },
            "header": {
             "fill": {
              "color": "#C8D4E3"
             },
             "line": {
              "color": "white"
             }
            },
            "type": "table"
           }
          ]
         },
         "layout": {
          "annotationdefaults": {
           "arrowcolor": "#2a3f5f",
           "arrowhead": 0,
           "arrowwidth": 1
          },
          "autotypenumbers": "strict",
          "coloraxis": {
           "colorbar": {
            "outlinewidth": 0,
            "ticks": ""
           }
          },
          "colorscale": {
           "diverging": [
            [
             0,
             "#8e0152"
            ],
            [
             0.1,
             "#c51b7d"
            ],
            [
             0.2,
             "#de77ae"
            ],
            [
             0.3,
             "#f1b6da"
            ],
            [
             0.4,
             "#fde0ef"
            ],
            [
             0.5,
             "#f7f7f7"
            ],
            [
             0.6,
             "#e6f5d0"
            ],
            [
             0.7,
             "#b8e186"
            ],
            [
             0.8,
             "#7fbc41"
            ],
            [
             0.9,
             "#4d9221"
            ],
            [
             1,
             "#276419"
            ]
           ],
           "sequential": [
            [
             0,
             "#0d0887"
            ],
            [
             0.1111111111111111,
             "#46039f"
            ],
            [
             0.2222222222222222,
             "#7201a8"
            ],
            [
             0.3333333333333333,
             "#9c179e"
            ],
            [
             0.4444444444444444,
             "#bd3786"
            ],
            [
             0.5555555555555556,
             "#d8576b"
            ],
            [
             0.6666666666666666,
             "#ed7953"
            ],
            [
             0.7777777777777778,
             "#fb9f3a"
            ],
            [
             0.8888888888888888,
             "#fdca26"
            ],
            [
             1,
             "#f0f921"
            ]
           ],
           "sequentialminus": [
            [
             0,
             "#0d0887"
            ],
            [
             0.1111111111111111,
             "#46039f"
            ],
            [
             0.2222222222222222,
             "#7201a8"
            ],
            [
             0.3333333333333333,
             "#9c179e"
            ],
            [
             0.4444444444444444,
             "#bd3786"
            ],
            [
             0.5555555555555556,
             "#d8576b"
            ],
            [
             0.6666666666666666,
             "#ed7953"
            ],
            [
             0.7777777777777778,
             "#fb9f3a"
            ],
            [
             0.8888888888888888,
             "#fdca26"
            ],
            [
             1,
             "#f0f921"
            ]
           ]
          },
          "colorway": [
           "#636efa",
           "#EF553B",
           "#00cc96",
           "#ab63fa",
           "#FFA15A",
           "#19d3f3",
           "#FF6692",
           "#B6E880",
           "#FF97FF",
           "#FECB52"
          ],
          "font": {
           "color": "#2a3f5f"
          },
          "geo": {
           "bgcolor": "white",
           "lakecolor": "white",
           "landcolor": "#E5ECF6",
           "showlakes": true,
           "showland": true,
           "subunitcolor": "white"
          },
          "hoverlabel": {
           "align": "left"
          },
          "hovermode": "closest",
          "mapbox": {
           "style": "light"
          },
          "paper_bgcolor": "white",
          "plot_bgcolor": "#E5ECF6",
          "polar": {
           "angularaxis": {
            "gridcolor": "white",
            "linecolor": "white",
            "ticks": ""
           },
           "bgcolor": "#E5ECF6",
           "radialaxis": {
            "gridcolor": "white",
            "linecolor": "white",
            "ticks": ""
           }
          },
          "scene": {
           "xaxis": {
            "backgroundcolor": "#E5ECF6",
            "gridcolor": "white",
            "gridwidth": 2,
            "linecolor": "white",
            "showbackground": true,
            "ticks": "",
            "zerolinecolor": "white"
           },
           "yaxis": {
            "backgroundcolor": "#E5ECF6",
            "gridcolor": "white",
            "gridwidth": 2,
            "linecolor": "white",
            "showbackground": true,
            "ticks": "",
            "zerolinecolor": "white"
           },
           "zaxis": {
            "backgroundcolor": "#E5ECF6",
            "gridcolor": "white",
            "gridwidth": 2,
            "linecolor": "white",
            "showbackground": true,
            "ticks": "",
            "zerolinecolor": "white"
           }
          },
          "shapedefaults": {
           "line": {
            "color": "#2a3f5f"
           }
          },
          "ternary": {
           "aaxis": {
            "gridcolor": "white",
            "linecolor": "white",
            "ticks": ""
           },
           "baxis": {
            "gridcolor": "white",
            "linecolor": "white",
            "ticks": ""
           },
           "bgcolor": "#E5ECF6",
           "caxis": {
            "gridcolor": "white",
            "linecolor": "white",
            "ticks": ""
           }
          },
          "title": {
           "x": 0.05
          },
          "xaxis": {
           "automargin": true,
           "gridcolor": "white",
           "linecolor": "white",
           "ticks": "",
           "title": {
            "standoff": 15
           },
           "zerolinecolor": "white",
           "zerolinewidth": 2
          },
          "yaxis": {
           "automargin": true,
           "gridcolor": "white",
           "linecolor": "white",
           "ticks": "",
           "title": {
            "standoff": 15
           },
           "zerolinecolor": "white",
           "zerolinewidth": 2
          }
         }
        },
        "title": {
         "text": "🎯 Top 20 Most Important Features (Random Forest)"
        },
        "xaxis": {
         "anchor": "y",
         "domain": [
          0,
          1
         ],
         "title": {
          "text": "Feature Importance"
         }
        },
        "yaxis": {
         "anchor": "x",
         "categoryorder": "total ascending",
         "domain": [
          0,
          1
         ],
         "title": {
          "text": "Feature Name"
         }
        }
       }
      }
     },
     "metadata": {},
     "output_type": "display_data"
    },
    {
     "name": "stdout",
     "output_type": "stream",
     "text": [
      "\n",
      "📊 Top 10 Most Important Features:\n"
     ]
    },
    {
     "data": {
      "text/html": [
       "<div>\n",
       "<style scoped>\n",
       "    .dataframe tbody tr th:only-of-type {\n",
       "        vertical-align: middle;\n",
       "    }\n",
       "\n",
       "    .dataframe tbody tr th {\n",
       "        vertical-align: top;\n",
       "    }\n",
       "\n",
       "    .dataframe thead th {\n",
       "        text-align: right;\n",
       "    }\n",
       "</style>\n",
       "<table border=\"1\" class=\"dataframe\">\n",
       "  <thead>\n",
       "    <tr style=\"text-align: right;\">\n",
       "      <th></th>\n",
       "      <th>feature</th>\n",
       "      <th>importance</th>\n",
       "    </tr>\n",
       "  </thead>\n",
       "  <tbody>\n",
       "    <tr>\n",
       "      <th>4</th>\n",
       "      <td>price_change_abs</td>\n",
       "      <td>0.2101</td>\n",
       "    </tr>\n",
       "    <tr>\n",
       "      <th>5</th>\n",
       "      <td>price_change_pct</td>\n",
       "      <td>0.1674</td>\n",
       "    </tr>\n",
       "    <tr>\n",
       "      <th>35</th>\n",
       "      <td>momentum_15min</td>\n",
       "      <td>0.1314</td>\n",
       "    </tr>\n",
       "    <tr>\n",
       "      <th>8</th>\n",
       "      <td>upward_momentum</td>\n",
       "      <td>0.0889</td>\n",
       "    </tr>\n",
       "    <tr>\n",
       "      <th>7</th>\n",
       "      <td>position_in_range</td>\n",
       "      <td>0.0472</td>\n",
       "    </tr>\n",
       "    <tr>\n",
       "      <th>21</th>\n",
       "      <td>macd</td>\n",
       "      <td>0.0421</td>\n",
       "    </tr>\n",
       "    <tr>\n",
       "      <th>22</th>\n",
       "      <td>macd_signal</td>\n",
       "      <td>0.0404</td>\n",
       "    </tr>\n",
       "    <tr>\n",
       "      <th>9</th>\n",
       "      <td>upper_half</td>\n",
       "      <td>0.0289</td>\n",
       "    </tr>\n",
       "    <tr>\n",
       "      <th>25</th>\n",
       "      <td>hammer_like</td>\n",
       "      <td>0.0213</td>\n",
       "    </tr>\n",
       "    <tr>\n",
       "      <th>34</th>\n",
       "      <td>up_down_ratio</td>\n",
       "      <td>0.0212</td>\n",
       "    </tr>\n",
       "  </tbody>\n",
       "</table>\n",
       "</div>"
      ],
      "text/plain": [
       "              feature  importance\n",
       "4    price_change_abs      0.2101\n",
       "5    price_change_pct      0.1674\n",
       "35     momentum_15min      0.1314\n",
       "8     upward_momentum      0.0889\n",
       "7   position_in_range      0.0472\n",
       "21               macd      0.0421\n",
       "22        macd_signal      0.0404\n",
       "9          upper_half      0.0289\n",
       "25        hammer_like      0.0213\n",
       "34      up_down_ratio      0.0212"
      ]
     },
     "metadata": {},
     "output_type": "display_data"
    },
    {
     "data": {
      "application/vnd.plotly.v1+json": {
       "config": {
        "plotlyServerURL": "https://plot.ly"
       },
       "data": [
        {
         "domain": {
          "x": [
           0,
           1
          ],
          "y": [
           0,
           1
          ]
         },
         "hovertemplate": "Category=%{label}<br>Total_Importance=%{value}<extra></extra>",
         "labels": [
          "price",
          "technical",
          "volume",
          "time",
          "volatility"
         ],
         "legendgroup": "",
         "name": "",
         "showlegend": true,
         "textinfo": "percent+label",
         "textposition": "inside",
         "type": "pie",
         "values": {
          "bdata": "+1OIOCjR2T8zt6HiQX26PxFgHEpAL5o/QVNsFF2kgz/9Wj6a2amBPw==",
          "dtype": "f8"
         }
        }
       ],
       "layout": {
        "height": 500,
        "legend": {
         "tracegroupgap": 0
        },
        "piecolorway": [
         "rgb(141,211,199)",
         "rgb(255,255,179)",
         "rgb(190,186,218)",
         "rgb(251,128,114)",
         "rgb(128,177,211)",
         "rgb(253,180,98)",
         "rgb(179,222,105)",
         "rgb(252,205,229)",
         "rgb(217,217,217)",
         "rgb(188,128,189)",
         "rgb(204,235,197)",
         "rgb(255,237,111)"
        ],
        "template": {
         "data": {
          "bar": [
           {
            "error_x": {
             "color": "#2a3f5f"
            },
            "error_y": {
             "color": "#2a3f5f"
            },
            "marker": {
             "line": {
              "color": "#E5ECF6",
              "width": 0.5
             },
             "pattern": {
              "fillmode": "overlay",
              "size": 10,
              "solidity": 0.2
             }
            },
            "type": "bar"
           }
          ],
          "barpolar": [
           {
            "marker": {
             "line": {
              "color": "#E5ECF6",
              "width": 0.5
             },
             "pattern": {
              "fillmode": "overlay",
              "size": 10,
              "solidity": 0.2
             }
            },
            "type": "barpolar"
           }
          ],
          "carpet": [
           {
            "aaxis": {
             "endlinecolor": "#2a3f5f",
             "gridcolor": "white",
             "linecolor": "white",
             "minorgridcolor": "white",
             "startlinecolor": "#2a3f5f"
            },
            "baxis": {
             "endlinecolor": "#2a3f5f",
             "gridcolor": "white",
             "linecolor": "white",
             "minorgridcolor": "white",
             "startlinecolor": "#2a3f5f"
            },
            "type": "carpet"
           }
          ],
          "choropleth": [
           {
            "colorbar": {
             "outlinewidth": 0,
             "ticks": ""
            },
            "type": "choropleth"
           }
          ],
          "contour": [
           {
            "colorbar": {
             "outlinewidth": 0,
             "ticks": ""
            },
            "colorscale": [
             [
              0,
              "#0d0887"
             ],
             [
              0.1111111111111111,
              "#46039f"
             ],
             [
              0.2222222222222222,
              "#7201a8"
             ],
             [
              0.3333333333333333,
              "#9c179e"
             ],
             [
              0.4444444444444444,
              "#bd3786"
             ],
             [
              0.5555555555555556,
              "#d8576b"
             ],
             [
              0.6666666666666666,
              "#ed7953"
             ],
             [
              0.7777777777777778,
              "#fb9f3a"
             ],
             [
              0.8888888888888888,
              "#fdca26"
             ],
             [
              1,
              "#f0f921"
             ]
            ],
            "type": "contour"
           }
          ],
          "contourcarpet": [
           {
            "colorbar": {
             "outlinewidth": 0,
             "ticks": ""
            },
            "type": "contourcarpet"
           }
          ],
          "heatmap": [
           {
            "colorbar": {
             "outlinewidth": 0,
             "ticks": ""
            },
            "colorscale": [
             [
              0,
              "#0d0887"
             ],
             [
              0.1111111111111111,
              "#46039f"
             ],
             [
              0.2222222222222222,
              "#7201a8"
             ],
             [
              0.3333333333333333,
              "#9c179e"
             ],
             [
              0.4444444444444444,
              "#bd3786"
             ],
             [
              0.5555555555555556,
              "#d8576b"
             ],
             [
              0.6666666666666666,
              "#ed7953"
             ],
             [
              0.7777777777777778,
              "#fb9f3a"
             ],
             [
              0.8888888888888888,
              "#fdca26"
             ],
             [
              1,
              "#f0f921"
             ]
            ],
            "type": "heatmap"
           }
          ],
          "histogram": [
           {
            "marker": {
             "pattern": {
              "fillmode": "overlay",
              "size": 10,
              "solidity": 0.2
             }
            },
            "type": "histogram"
           }
          ],
          "histogram2d": [
           {
            "colorbar": {
             "outlinewidth": 0,
             "ticks": ""
            },
            "colorscale": [
             [
              0,
              "#0d0887"
             ],
             [
              0.1111111111111111,
              "#46039f"
             ],
             [
              0.2222222222222222,
              "#7201a8"
             ],
             [
              0.3333333333333333,
              "#9c179e"
             ],
             [
              0.4444444444444444,
              "#bd3786"
             ],
             [
              0.5555555555555556,
              "#d8576b"
             ],
             [
              0.6666666666666666,
              "#ed7953"
             ],
             [
              0.7777777777777778,
              "#fb9f3a"
             ],
             [
              0.8888888888888888,
              "#fdca26"
             ],
             [
              1,
              "#f0f921"
             ]
            ],
            "type": "histogram2d"
           }
          ],
          "histogram2dcontour": [
           {
            "colorbar": {
             "outlinewidth": 0,
             "ticks": ""
            },
            "colorscale": [
             [
              0,
              "#0d0887"
             ],
             [
              0.1111111111111111,
              "#46039f"
             ],
             [
              0.2222222222222222,
              "#7201a8"
             ],
             [
              0.3333333333333333,
              "#9c179e"
             ],
             [
              0.4444444444444444,
              "#bd3786"
             ],
             [
              0.5555555555555556,
              "#d8576b"
             ],
             [
              0.6666666666666666,
              "#ed7953"
             ],
             [
              0.7777777777777778,
              "#fb9f3a"
             ],
             [
              0.8888888888888888,
              "#fdca26"
             ],
             [
              1,
              "#f0f921"
             ]
            ],
            "type": "histogram2dcontour"
           }
          ],
          "mesh3d": [
           {
            "colorbar": {
             "outlinewidth": 0,
             "ticks": ""
            },
            "type": "mesh3d"
           }
          ],
          "parcoords": [
           {
            "line": {
             "colorbar": {
              "outlinewidth": 0,
              "ticks": ""
             }
            },
            "type": "parcoords"
           }
          ],
          "pie": [
           {
            "automargin": true,
            "type": "pie"
           }
          ],
          "scatter": [
           {
            "fillpattern": {
             "fillmode": "overlay",
             "size": 10,
             "solidity": 0.2
            },
            "type": "scatter"
           }
          ],
          "scatter3d": [
           {
            "line": {
             "colorbar": {
              "outlinewidth": 0,
              "ticks": ""
             }
            },
            "marker": {
             "colorbar": {
              "outlinewidth": 0,
              "ticks": ""
             }
            },
            "type": "scatter3d"
           }
          ],
          "scattercarpet": [
           {
            "marker": {
             "colorbar": {
              "outlinewidth": 0,
              "ticks": ""
             }
            },
            "type": "scattercarpet"
           }
          ],
          "scattergeo": [
           {
            "marker": {
             "colorbar": {
              "outlinewidth": 0,
              "ticks": ""
             }
            },
            "type": "scattergeo"
           }
          ],
          "scattergl": [
           {
            "marker": {
             "colorbar": {
              "outlinewidth": 0,
              "ticks": ""
             }
            },
            "type": "scattergl"
           }
          ],
          "scattermap": [
           {
            "marker": {
             "colorbar": {
              "outlinewidth": 0,
              "ticks": ""
             }
            },
            "type": "scattermap"
           }
          ],
          "scattermapbox": [
           {
            "marker": {
             "colorbar": {
              "outlinewidth": 0,
              "ticks": ""
             }
            },
            "type": "scattermapbox"
           }
          ],
          "scatterpolar": [
           {
            "marker": {
             "colorbar": {
              "outlinewidth": 0,
              "ticks": ""
             }
            },
            "type": "scatterpolar"
           }
          ],
          "scatterpolargl": [
           {
            "marker": {
             "colorbar": {
              "outlinewidth": 0,
              "ticks": ""
             }
            },
            "type": "scatterpolargl"
           }
          ],
          "scatterternary": [
           {
            "marker": {
             "colorbar": {
              "outlinewidth": 0,
              "ticks": ""
             }
            },
            "type": "scatterternary"
           }
          ],
          "surface": [
           {
            "colorbar": {
             "outlinewidth": 0,
             "ticks": ""
            },
            "colorscale": [
             [
              0,
              "#0d0887"
             ],
             [
              0.1111111111111111,
              "#46039f"
             ],
             [
              0.2222222222222222,
              "#7201a8"
             ],
             [
              0.3333333333333333,
              "#9c179e"
             ],
             [
              0.4444444444444444,
              "#bd3786"
             ],
             [
              0.5555555555555556,
              "#d8576b"
             ],
             [
              0.6666666666666666,
              "#ed7953"
             ],
             [
              0.7777777777777778,
              "#fb9f3a"
             ],
             [
              0.8888888888888888,
              "#fdca26"
             ],
             [
              1,
              "#f0f921"
             ]
            ],
            "type": "surface"
           }
          ],
          "table": [
           {
            "cells": {
             "fill": {
              "color": "#EBF0F8"
             },
             "line": {
              "color": "white"
             }
            },
            "header": {
             "fill": {
              "color": "#C8D4E3"
             },
             "line": {
              "color": "white"
             }
            },
            "type": "table"
           }
          ]
         },
         "layout": {
          "annotationdefaults": {
           "arrowcolor": "#2a3f5f",
           "arrowhead": 0,
           "arrowwidth": 1
          },
          "autotypenumbers": "strict",
          "coloraxis": {
           "colorbar": {
            "outlinewidth": 0,
            "ticks": ""
           }
          },
          "colorscale": {
           "diverging": [
            [
             0,
             "#8e0152"
            ],
            [
             0.1,
             "#c51b7d"
            ],
            [
             0.2,
             "#de77ae"
            ],
            [
             0.3,
             "#f1b6da"
            ],
            [
             0.4,
             "#fde0ef"
            ],
            [
             0.5,
             "#f7f7f7"
            ],
            [
             0.6,
             "#e6f5d0"
            ],
            [
             0.7,
             "#b8e186"
            ],
            [
             0.8,
             "#7fbc41"
            ],
            [
             0.9,
             "#4d9221"
            ],
            [
             1,
             "#276419"
            ]
           ],
           "sequential": [
            [
             0,
             "#0d0887"
            ],
            [
             0.1111111111111111,
             "#46039f"
            ],
            [
             0.2222222222222222,
             "#7201a8"
            ],
            [
             0.3333333333333333,
             "#9c179e"
            ],
            [
             0.4444444444444444,
             "#bd3786"
            ],
            [
             0.5555555555555556,
             "#d8576b"
            ],
            [
             0.6666666666666666,
             "#ed7953"
            ],
            [
             0.7777777777777778,
             "#fb9f3a"
            ],
            [
             0.8888888888888888,
             "#fdca26"
            ],
            [
             1,
             "#f0f921"
            ]
           ],
           "sequentialminus": [
            [
             0,
             "#0d0887"
            ],
            [
             0.1111111111111111,
             "#46039f"
            ],
            [
             0.2222222222222222,
             "#7201a8"
            ],
            [
             0.3333333333333333,
             "#9c179e"
            ],
            [
             0.4444444444444444,
             "#bd3786"
            ],
            [
             0.5555555555555556,
             "#d8576b"
            ],
            [
             0.6666666666666666,
             "#ed7953"
            ],
            [
             0.7777777777777778,
             "#fb9f3a"
            ],
            [
             0.8888888888888888,
             "#fdca26"
            ],
            [
             1,
             "#f0f921"
            ]
           ]
          },
          "colorway": [
           "#636efa",
           "#EF553B",
           "#00cc96",
           "#ab63fa",
           "#FFA15A",
           "#19d3f3",
           "#FF6692",
           "#B6E880",
           "#FF97FF",
           "#FECB52"
          ],
          "font": {
           "color": "#2a3f5f"
          },
          "geo": {
           "bgcolor": "white",
           "lakecolor": "white",
           "landcolor": "#E5ECF6",
           "showlakes": true,
           "showland": true,
           "subunitcolor": "white"
          },
          "hoverlabel": {
           "align": "left"
          },
          "hovermode": "closest",
          "mapbox": {
           "style": "light"
          },
          "paper_bgcolor": "white",
          "plot_bgcolor": "#E5ECF6",
          "polar": {
           "angularaxis": {
            "gridcolor": "white",
            "linecolor": "white",
            "ticks": ""
           },
           "bgcolor": "#E5ECF6",
           "radialaxis": {
            "gridcolor": "white",
            "linecolor": "white",
            "ticks": ""
           }
          },
          "scene": {
           "xaxis": {
            "backgroundcolor": "#E5ECF6",
            "gridcolor": "white",
            "gridwidth": 2,
            "linecolor": "white",
            "showbackground": true,
            "ticks": "",
            "zerolinecolor": "white"
           },
           "yaxis": {
            "backgroundcolor": "#E5ECF6",
            "gridcolor": "white",
            "gridwidth": 2,
            "linecolor": "white",
            "showbackground": true,
            "ticks": "",
            "zerolinecolor": "white"
           },
           "zaxis": {
            "backgroundcolor": "#E5ECF6",
            "gridcolor": "white",
            "gridwidth": 2,
            "linecolor": "white",
            "showbackground": true,
            "ticks": "",
            "zerolinecolor": "white"
           }
          },
          "shapedefaults": {
           "line": {
            "color": "#2a3f5f"
           }
          },
          "ternary": {
           "aaxis": {
            "gridcolor": "white",
            "linecolor": "white",
            "ticks": ""
           },
           "baxis": {
            "gridcolor": "white",
            "linecolor": "white",
            "ticks": ""
           },
           "bgcolor": "#E5ECF6",
           "caxis": {
            "gridcolor": "white",
            "linecolor": "white",
            "ticks": ""
           }
          },
          "title": {
           "x": 0.05
          },
          "xaxis": {
           "automargin": true,
           "gridcolor": "white",
           "linecolor": "white",
           "ticks": "",
           "title": {
            "standoff": 15
           },
           "zerolinecolor": "white",
           "zerolinewidth": 2
          },
          "yaxis": {
           "automargin": true,
           "gridcolor": "white",
           "linecolor": "white",
           "ticks": "",
           "title": {
            "standoff": 15
           },
           "zerolinecolor": "white",
           "zerolinewidth": 2
          }
         }
        },
        "title": {
         "text": "📈 Feature Importance by Category"
        }
       }
      }
     },
     "metadata": {},
     "output_type": "display_data"
    },
    {
     "name": "stdout",
     "output_type": "stream",
     "text": [
      "\n",
      "🏷️  Feature Category Analysis:\n",
      "          price: 0.403\n",
      "      technical: 0.103\n",
      "         volume: 0.026\n",
      "           time: 0.010\n",
      "     volatility: 0.009\n"
     ]
    }
   ],
   "source": [
    "# 🔍 Feature Importance Analysis (Plotly Visualization)\n",
    "if \"models\" in locals() and len(models) > 0:\n",
    "    print(\"🔍 Analyzing feature importance...\")\n",
    "\n",
    "    # Use Random Forest for feature importance (it provides the most interpretable results)\n",
    "    if \"random_forest\" in models:\n",
    "        rf_model = models[\"random_forest\"]\n",
    "\n",
    "        if hasattr(rf_model.model, \"feature_importances_\"):\n",
    "            feature_importance = pd.DataFrame(\n",
    "                {\n",
    "                    \"feature\": rf_model.feature_names,\n",
    "                    \"importance\": rf_model.model.feature_importances_,\n",
    "                }\n",
    "            ).sort_values(\"importance\", ascending=False)\n",
    "\n",
    "            print(f\"✅ Extracted {len(feature_importance)} feature importances\")\n",
    "\n",
    "            # Create interactive Plotly bar chart for top features\n",
    "            top_features = feature_importance.head(20)  # Top 20 features\n",
    "\n",
    "            fig_importance = px.bar(\n",
    "                top_features,\n",
    "                x=\"importance\",\n",
    "                y=\"feature\",\n",
    "                orientation=\"h\",\n",
    "                title=\"🎯 Top 20 Most Important Features (Random Forest)\",\n",
    "                labels={\"importance\": \"Feature Importance\", \"feature\": \"Feature Name\"},\n",
    "                color=\"importance\",\n",
    "                color_continuous_scale=\"viridis\",\n",
    "                height=700,\n",
    "            )\n",
    "\n",
    "            # Customize layout\n",
    "            fig_importance.update_layout(\n",
    "                yaxis={\"categoryorder\": \"total ascending\"},\n",
    "                xaxis_title=\"Feature Importance\",\n",
    "                yaxis_title=\"Feature Name\",\n",
    "                showlegend=False,\n",
    "                margin=dict(l=200),  # More space for feature names\n",
    "            )\n",
    "\n",
    "            fig_importance.show()\n",
    "\n",
    "            # Show top 10 in a table\n",
    "            print(f\"\\n📊 Top 10 Most Important Features:\")\n",
    "            display(feature_importance.head(10).round(4))\n",
    "\n",
    "            # Categorize features\n",
    "            feature_categories = {\n",
    "                \"price\": [\"open\", \"high\", \"low\", \"close\", \"price_45\", \"price_change\"],\n",
    "                \"volume\": [\"volume\", \"vwap\", \"volume_sma\"],\n",
    "                \"technical\": [\"rsi\", \"macd\", \"bb_\", \"sma\", \"ema\"],\n",
    "                \"volatility\": [\"atr\", \"volatility\", \"std\"],\n",
    "                \"time\": [\"hour\", \"minute\", \"day_of_week\"],\n",
    "            }\n",
    "\n",
    "            # Analyze feature categories\n",
    "            category_importance = {}\n",
    "            for category, keywords in feature_categories.items():\n",
    "                category_features = feature_importance[\n",
    "                    feature_importance[\"feature\"].str.contains(\n",
    "                        \"|\".join(keywords), case=False\n",
    "                    )\n",
    "                ]\n",
    "                if len(category_features) > 0:\n",
    "                    category_importance[category] = category_features[\n",
    "                        \"importance\"\n",
    "                    ].sum()\n",
    "\n",
    "            if category_importance:\n",
    "                category_df = pd.DataFrame(\n",
    "                    list(category_importance.items()),\n",
    "                    columns=[\"Category\", \"Total_Importance\"],\n",
    "                )\n",
    "                category_df = category_df.sort_values(\n",
    "                    \"Total_Importance\", ascending=False\n",
    "                )\n",
    "\n",
    "                # Create category importance chart\n",
    "                fig_category = px.pie(\n",
    "                    category_df,\n",
    "                    values=\"Total_Importance\",\n",
    "                    names=\"Category\",\n",
    "                    title=\"📈 Feature Importance by Category\",\n",
    "                    color_discrete_sequence=px.colors.qualitative.Set3,\n",
    "                    height=500,\n",
    "                )\n",
    "\n",
    "                fig_category.update_traces(\n",
    "                    textposition=\"inside\", textinfo=\"percent+label\"\n",
    "                )\n",
    "\n",
    "                fig_category.show()\n",
    "\n",
    "                print(f\"\\n🏷️  Feature Category Analysis:\")\n",
    "                for i, row in category_df.iterrows():\n",
    "                    print(f\"   {row['Category']:>12}: {row['Total_Importance']:.3f}\")\n",
    "\n",
    "        else:\n",
    "            print(\n",
    "                \"❌ Model doesn't have feature importances (might be logistic regression)\"\n",
    "            )\n",
    "    else:\n",
    "        print(\"❌ Random Forest model not available for feature importance analysis\")\n",
    "else:\n",
    "    print(\"⚠️  Please train models first\")"
   ]
  },
  {
   "cell_type": "code",
   "execution_count": 15,
   "metadata": {},
   "outputs": [
    {
     "name": "stdout",
     "output_type": "stream",
     "text": [
      "🎨 Creating comprehensive Plotly dashboard...\n"
     ]
    },
    {
     "data": {
      "application/vnd.plotly.v1+json": {
       "config": {
        "plotlyServerURL": "https://plot.ly"
       },
       "data": [
        {
         "close": {
          "bdata": "KVyPwvW1okCkcD0KV9miQGZmZmZm9KJAMzMzM7PnokBxPQrXo+yiQKRwPQpX7qJAmpmZmZnkokBcj8L1KOOiQPYoXI/C5aJAj8L1KNzpokB7FK5HYeqiQGZmZmZm7KJAPQrXo/D2okDsUbgehf+iQBSuR+H68KJACtejcD32okDhehSuR/SiQKRwPQrX9qJASOF6FC70okBmZmZm5u2iQHE9Ctcj86JASOF6FC4Io0AzMzMzswWjQIXrUbgeGKNA16NwPQoKo0A9CtejcAKjQArXo3A9+6JA9ihcj0IJo0A9CtejcBCjQArXo3A9B6NAcT0K1yMNo0BI4XoULvuiQNejcD2K/6JAH4XrUbj3okBcj8L1qPuiQNejcD2KA6NAcT0K16MJo0AAAAAAABGjQBSuR+F6F6NArkfhepQgo0BmZmZm5jCjQAAAAACAPKNASOF6FK4to0C4HoXr0R2jQI/C9ShcEKNAj8L1KFwJo0CF61G4Hg6jQBSuR+H6B6NA",
          "dtype": "f8"
         },
         "high": {
          "bdata": "PQrXo3DRokCPwvUoXOSiQK5H4XoU96JAPQrXo/D6okDD9ShcD/KiQKRwPQrX8KJAuB6F69HvokBmZmZmZueiQDMzMzMz7aJAKVyPwvXsokC4HoXr0eyiQAAAAACA+aJAhetRuB73okAfhetRuAOjQHsUrkfhAKNAmpmZmRn5okDsUbgehfyiQB+F61G4+aJAexSuR2H4okD2KFyPwvqiQHsUrkdh96JAAAAAAAAWo0A9CtejcBejQJqZmZmZH6NAexSuR2EZo0AAAAAAABCjQFyPwvUoBqNASOF6FK4Mo0BmZmZm5hKjQFK4HoVrFKNA16NwPYoVo0BI4XoULg2jQClcj8L1AqNApHA9CtcBo0DNzMzMzP6iQJqZmZmZBaNAAAAAAIALo0AAAAAAABGjQEjhehQuH6NAUrgeheszo0BmZmZmZjajQPYoXI/CP6NAKVyPwvU+o0BI4XoULjGjQGZmZmZmJ6NAzczMzMwYo0CPwvUoXBCjQHsUrkfhEKNA",
          "dtype": "f8"
         },
         "low": {
          "bdata": "rkfhepSookCkcD0K17CiQK5H4XoU16JAzczMzEziokBmZmZmZueiQOxRuB4F3qJAexSuR+HhokCF61G4nsuiQOxRuB4F3qJASOF6FK7hokBSuB6F6+OiQB+F61G446JArkfhehTsokAK16NwvfCiQArXo3C956JAzczMzEznokCamZmZme+iQOF6FK5H9KJAw/UoXI/tokAAAAAAAOiiQM3MzMxM7aJAZmZmZmbuokDhehSuR/+iQIXrUbieAqNASOF6FK4Bo0CF61G4ngCjQHsUrkfh9qJA16NwPYr6okDhehSuRwSjQM3MzMxMBqNAAAAAAAAAo0CPwvUoXPiiQM3MzMxM8aJAzczMzEz1okDhehSuR/WiQB+F61E496JACtejcD0Bo0AAAAAAAAajQFyPwvWoDKNAH4XrUTgOo0CPwvUoXB+jQBSuR+F6KqNAexSuR2Ejo0DXo3A9ihyjQMP1KFyPB6NA9ihcj8IBo0Bcj8L1KPuiQHsUrkfhB6NA",
          "dtype": "f8"
         },
         "name": "ETH Price",
         "open": {
          "bdata": "CtejcL3JokA9Ctej8LWiQKRwPQpX2aJAZmZmZmb0okAzMzMzs+eiQHE9Ctej7KJApHA9ClfuokCamZmZmeSiQEjhehQu46JA4XoUrsflokCPwvUo3OmiQI/C9Shc6qJAZmZmZmbsokApXI/C9faiQNejcD2K/6JAFK5H4frwokAK16NwPfaiQOF6FK5H9KJApHA9Ctf2okBI4XoULvSiQHsUrkfh7aJAXI/C9SjzokAzMzMzMwijQEjhehSuBaNAhetRuB4Yo0DsUbgeBQqjQFK4HoVrAqNACtejcD37okD2KFyPQgmjQD0K16NwEKNACtejcD0Ho0BxPQrXIw2jQEjhehQu+6JAw/UoXI//okAK16NwvfeiQEjhehSu+6JA16NwPYoDo0BxPQrXowmjQOxRuB4FEaNAFK5H4XoXo0CuR+F6lCCjQFK4HoXrMKNAFK5H4Xo8o0Bcj8L1qC2jQKRwPQrXHaNAj8L1KFwQo0B7FK5HYQmjQHE9CtcjDqNA",
          "dtype": "f8"
         },
         "showlegend": false,
         "type": "candlestick",
         "x": [
          "2025-06-27T18:00:00+00:00",
          "2025-06-27T19:00:00+00:00",
          "2025-06-27T20:00:00+00:00",
          "2025-06-27T21:00:00+00:00",
          "2025-06-27T22:00:00+00:00",
          "2025-06-27T23:00:00+00:00",
          "2025-06-28T00:00:00+00:00",
          "2025-06-28T01:00:00+00:00",
          "2025-06-28T02:00:00+00:00",
          "2025-06-28T03:00:00+00:00",
          "2025-06-28T04:00:00+00:00",
          "2025-06-28T05:00:00+00:00",
          "2025-06-28T06:00:00+00:00",
          "2025-06-28T07:00:00+00:00",
          "2025-06-28T08:00:00+00:00",
          "2025-06-28T09:00:00+00:00",
          "2025-06-28T10:00:00+00:00",
          "2025-06-28T11:00:00+00:00",
          "2025-06-28T12:00:00+00:00",
          "2025-06-28T13:00:00+00:00",
          "2025-06-28T14:00:00+00:00",
          "2025-06-28T15:00:00+00:00",
          "2025-06-28T16:00:00+00:00",
          "2025-06-28T17:00:00+00:00",
          "2025-06-28T18:00:00+00:00",
          "2025-06-28T19:00:00+00:00",
          "2025-06-28T20:00:00+00:00",
          "2025-06-28T21:00:00+00:00",
          "2025-06-28T22:00:00+00:00",
          "2025-06-28T23:00:00+00:00",
          "2025-06-29T00:00:00+00:00",
          "2025-06-29T01:00:00+00:00",
          "2025-06-29T02:00:00+00:00",
          "2025-06-29T03:00:00+00:00",
          "2025-06-29T04:00:00+00:00",
          "2025-06-29T05:00:00+00:00",
          "2025-06-29T06:00:00+00:00",
          "2025-06-29T07:00:00+00:00",
          "2025-06-29T08:00:00+00:00",
          "2025-06-29T09:00:00+00:00",
          "2025-06-29T10:00:00+00:00",
          "2025-06-29T11:00:00+00:00",
          "2025-06-29T12:00:00+00:00",
          "2025-06-29T13:00:00+00:00",
          "2025-06-29T14:00:00+00:00",
          "2025-06-29T15:00:00+00:00",
          "2025-06-29T16:00:00+00:00",
          "2025-06-29T17:00:00+00:00"
         ],
         "xaxis": "x",
         "yaxis": "y"
        },
        {
         "marker": {
          "color": [
           "#1f77b4",
           "#ff7f0e",
           "#2ca02c"
          ]
         },
         "name": "AUC Score",
         "showlegend": false,
         "text": {
          "bdata": "5dAi2/l+7j9qvHSTGATuP5MYBFYOLe4/",
          "dtype": "f8"
         },
         "textposition": "outside",
         "type": "bar",
         "x": [
          "random_forest",
          "gradient_boost",
          "logistic"
         ],
         "xaxis": "x2",
         "y": {
          "bdata": "fn7U50d97j8DHi3g0QLuPzD+/uLvL+4/",
          "dtype": "f8"
         },
         "yaxis": "y2"
        },
        {
         "line": {
          "color": "gray",
          "width": 1
         },
         "marker": {
          "color": [
           "#00ff00",
           "#00ff00",
           "#00ff00",
           "#00ff00",
           "#00ff00",
           "#00ff00",
           "#00ff00",
           "#00ff00",
           "#00ff00",
           "#00ff00",
           "#00ff00",
           "#00ff00",
           "#ff0000",
           "#ff0000",
           "#00ff00"
          ],
          "size": 10
         },
         "mode": "markers+lines",
         "name": "Confidence",
         "showlegend": false,
         "type": "scatter",
         "x": [
          "2025-06-29T03:00:00.000000000",
          "2025-06-29T04:00:00.000000000",
          "2025-06-29T05:00:00.000000000",
          "2025-06-29T06:00:00.000000000",
          "2025-06-29T07:00:00.000000000",
          "2025-06-29T08:00:00.000000000",
          "2025-06-29T09:00:00.000000000",
          "2025-06-29T10:00:00.000000000",
          "2025-06-29T11:00:00.000000000",
          "2025-06-29T12:00:00.000000000",
          "2025-06-29T13:00:00.000000000",
          "2025-06-29T14:00:00.000000000",
          "2025-06-29T15:00:00.000000000",
          "2025-06-29T16:00:00.000000000",
          "2025-06-29T17:00:00.000000000"
         ],
         "xaxis": "x3",
         "y": {
          "bdata": "JQItkKGD7D/7eF1/LqLhP0aJYxTRVeU/EHKIELB64j9fY11vL+ziP4wlUI3ERuw/KYi5YxiE7D+tPV8sjlXiP0avhuO2aeY/hg7P0RgB7j/X9FY3HhjrP0ysgJVWBO8/FCWtlm6J6D9EhnR4LBrtP8iSb++uI+o/",
          "dtype": "f8"
         },
         "yaxis": "y3"
        },
        {
         "marker": {
          "color": [
           "#ff0000",
           "#00ff00",
           "#00ff00",
           "#00ff00",
           "#00ff00",
           "#00ff00",
           "#00ff00",
           "#00ff00",
           "#00ff00",
           "#ff0000",
           "#ff0000",
           "#ff0000",
           "#00ff00",
           "#ff0000",
           "#ff0000"
          ],
          "line": {
           "color": "black",
           "width": 2
          },
          "size": 12,
          "symbol": [
           "circle",
           "circle",
           "circle",
           "circle",
           "circle",
           "circle",
           "circle",
           "circle",
           "circle",
           "circle",
           "circle",
           "circle",
           "x",
           "x",
           "circle"
          ]
         },
         "mode": "markers",
         "name": "Predictions",
         "showlegend": false,
         "type": "scatter",
         "x": [
          "2025-06-29T03:00:00.000000000",
          "2025-06-29T04:00:00.000000000",
          "2025-06-29T05:00:00.000000000",
          "2025-06-29T06:00:00.000000000",
          "2025-06-29T07:00:00.000000000",
          "2025-06-29T08:00:00.000000000",
          "2025-06-29T09:00:00.000000000",
          "2025-06-29T10:00:00.000000000",
          "2025-06-29T11:00:00.000000000",
          "2025-06-29T12:00:00.000000000",
          "2025-06-29T13:00:00.000000000",
          "2025-06-29T14:00:00.000000000",
          "2025-06-29T15:00:00.000000000",
          "2025-06-29T16:00:00.000000000",
          "2025-06-29T17:00:00.000000000"
         ],
         "xaxis": "x4",
         "y": {
          "bdata": "VjtNeymixL+6NN80q6q0P7jtZ3Hds8Q/9XIAKXwKwD8qJBEgglTDP1ryOx7T8MA/JRTVFxPVxz8OdGu6r1TVP/8h6iyVK84/kn7dYQk8078B2hY49aXUv1U+JPzxoNG/4o2TLPtbwr9qfNLgO+a4PynkBJzdKcC/",
          "dtype": "f8"
         },
         "yaxis": "y4"
        },
        {
         "marker": {
          "color": "rgb(228,26,28)"
         },
         "name": "Accuracy",
         "offsetgroup": "0",
         "showlegend": true,
         "type": "bar",
         "x": [
          "random_forest",
          "gradient_boost",
          "logistic"
         ],
         "xaxis": "x5",
         "y": {
          "bdata": "chzHcRzH7T8cx3Ecx3HsPwAAAAAAAOw/",
          "dtype": "f8"
         },
         "yaxis": "y5"
        },
        {
         "marker": {
          "color": "rgb(55,126,184)"
         },
         "name": "Precision",
         "offsetgroup": "1",
         "showlegend": true,
         "type": "bar",
         "x": [
          "random_forest",
          "gradient_boost",
          "logistic"
         ],
         "xaxis": "x5",
         "y": {
          "bdata": "h/Iaymso7z+e2Imd2IntPw8PDw8PD+8/",
          "dtype": "f8"
         },
         "yaxis": "y5"
        },
        {
         "marker": {
          "color": "rgb(77,175,74)"
         },
         "name": "Recall",
         "offsetgroup": "2",
         "showlegend": false,
         "type": "bar",
         "x": [
          "random_forest",
          "gradient_boost",
          "logistic"
         ],
         "xaxis": "x5",
         "y": {
          "bdata": "4XwMzsfg7D8ZnI/B+RjsP8L5GJyPwek/",
          "dtype": "f8"
         },
         "yaxis": "y5"
        },
        {
         "marker": {
          "color": "rgb(152,78,163)"
         },
         "name": "F1_Score",
         "offsetgroup": "3",
         "showlegend": false,
         "type": "bar",
         "x": [
          "random_forest",
          "gradient_boost",
          "logistic"
         ],
         "xaxis": "x5",
         "y": {
          "bdata": "87ta3IT57T/NzMzMzMzsPylcj8L1KOw/",
          "dtype": "f8"
         },
         "yaxis": "y5"
        },
        {
         "marker": {
          "color": "lightblue"
         },
         "name": "Hourly Accuracy",
         "showlegend": false,
         "text": [
          "1 samples",
          "1 samples",
          "1 samples",
          "1 samples",
          "1 samples",
          "1 samples",
          "1 samples",
          "1 samples",
          "1 samples",
          "1 samples",
          "1 samples",
          "1 samples",
          "1 samples",
          "1 samples",
          "1 samples"
         ],
         "textposition": "outside",
         "type": "bar",
         "x": {
          "bdata": "AwAAAAQAAAAFAAAABgAAAAcAAAAIAAAACQAAAAoAAAALAAAADAAAAA0AAAAOAAAADwAAABAAAAARAAAA",
          "dtype": "i4"
         },
         "xaxis": "x6",
         "y": {
          "bdata": "AAAAAAAA8D8AAAAAAADwPwAAAAAAAPA/AAAAAAAA8D8AAAAAAADwPwAAAAAAAPA/AAAAAAAA8D8AAAAAAADwPwAAAAAAAPA/AAAAAAAA8D8AAAAAAADwPwAAAAAAAPA/AAAAAAAAAAAAAAAAAAAAAAAAAAAAAPA/",
          "dtype": "f8"
         },
         "yaxis": "y6"
        }
       ],
       "layout": {
        "annotations": [
         {
          "font": {
           "size": 16
          },
          "showarrow": false,
          "text": "📈 Recent ETH Price (1H Candlesticks)",
          "x": 0.225,
          "xanchor": "center",
          "xref": "paper",
          "y": 1,
          "yanchor": "bottom",
          "yref": "paper"
         },
         {
          "font": {
           "size": 16
          },
          "showarrow": false,
          "text": "🏆 Model Performance Comparison",
          "x": 0.775,
          "xanchor": "center",
          "xref": "paper",
          "y": 1,
          "yanchor": "bottom",
          "yref": "paper"
         },
         {
          "font": {
           "size": 16
          },
          "showarrow": false,
          "text": "🎯 Prediction Confidence Over Time",
          "x": 0.225,
          "xanchor": "center",
          "xref": "paper",
          "y": 0.6399999999999999,
          "yanchor": "bottom",
          "yref": "paper"
         },
         {
          "font": {
           "size": 16
          },
          "showarrow": false,
          "text": "💰 Prediction vs Actual Price Changes",
          "x": 0.775,
          "xanchor": "center",
          "xref": "paper",
          "y": 0.6399999999999999,
          "yanchor": "bottom",
          "yref": "paper"
         },
         {
          "font": {
           "size": 16
          },
          "showarrow": false,
          "text": "📊 Model Performance Metrics",
          "x": 0.225,
          "xanchor": "center",
          "xref": "paper",
          "y": 0.27999999999999997,
          "yanchor": "bottom",
          "yref": "paper"
         },
         {
          "font": {
           "size": 16
          },
          "showarrow": false,
          "text": "🕐 Prediction Accuracy by Hour",
          "x": 0.775,
          "xanchor": "center",
          "xref": "paper",
          "y": 0.27999999999999997,
          "yanchor": "bottom",
          "yref": "paper"
         }
        ],
        "height": 1000,
        "legend": {
         "orientation": "h",
         "x": 1,
         "xanchor": "right",
         "y": 1.02,
         "yanchor": "bottom"
        },
        "showlegend": true,
        "template": {
         "data": {
          "bar": [
           {
            "error_x": {
             "color": "#2a3f5f"
            },
            "error_y": {
             "color": "#2a3f5f"
            },
            "marker": {
             "line": {
              "color": "#E5ECF6",
              "width": 0.5
             },
             "pattern": {
              "fillmode": "overlay",
              "size": 10,
              "solidity": 0.2
             }
            },
            "type": "bar"
           }
          ],
          "barpolar": [
           {
            "marker": {
             "line": {
              "color": "#E5ECF6",
              "width": 0.5
             },
             "pattern": {
              "fillmode": "overlay",
              "size": 10,
              "solidity": 0.2
             }
            },
            "type": "barpolar"
           }
          ],
          "carpet": [
           {
            "aaxis": {
             "endlinecolor": "#2a3f5f",
             "gridcolor": "white",
             "linecolor": "white",
             "minorgridcolor": "white",
             "startlinecolor": "#2a3f5f"
            },
            "baxis": {
             "endlinecolor": "#2a3f5f",
             "gridcolor": "white",
             "linecolor": "white",
             "minorgridcolor": "white",
             "startlinecolor": "#2a3f5f"
            },
            "type": "carpet"
           }
          ],
          "choropleth": [
           {
            "colorbar": {
             "outlinewidth": 0,
             "ticks": ""
            },
            "type": "choropleth"
           }
          ],
          "contour": [
           {
            "colorbar": {
             "outlinewidth": 0,
             "ticks": ""
            },
            "colorscale": [
             [
              0,
              "#0d0887"
             ],
             [
              0.1111111111111111,
              "#46039f"
             ],
             [
              0.2222222222222222,
              "#7201a8"
             ],
             [
              0.3333333333333333,
              "#9c179e"
             ],
             [
              0.4444444444444444,
              "#bd3786"
             ],
             [
              0.5555555555555556,
              "#d8576b"
             ],
             [
              0.6666666666666666,
              "#ed7953"
             ],
             [
              0.7777777777777778,
              "#fb9f3a"
             ],
             [
              0.8888888888888888,
              "#fdca26"
             ],
             [
              1,
              "#f0f921"
             ]
            ],
            "type": "contour"
           }
          ],
          "contourcarpet": [
           {
            "colorbar": {
             "outlinewidth": 0,
             "ticks": ""
            },
            "type": "contourcarpet"
           }
          ],
          "heatmap": [
           {
            "colorbar": {
             "outlinewidth": 0,
             "ticks": ""
            },
            "colorscale": [
             [
              0,
              "#0d0887"
             ],
             [
              0.1111111111111111,
              "#46039f"
             ],
             [
              0.2222222222222222,
              "#7201a8"
             ],
             [
              0.3333333333333333,
              "#9c179e"
             ],
             [
              0.4444444444444444,
              "#bd3786"
             ],
             [
              0.5555555555555556,
              "#d8576b"
             ],
             [
              0.6666666666666666,
              "#ed7953"
             ],
             [
              0.7777777777777778,
              "#fb9f3a"
             ],
             [
              0.8888888888888888,
              "#fdca26"
             ],
             [
              1,
              "#f0f921"
             ]
            ],
            "type": "heatmap"
           }
          ],
          "histogram": [
           {
            "marker": {
             "pattern": {
              "fillmode": "overlay",
              "size": 10,
              "solidity": 0.2
             }
            },
            "type": "histogram"
           }
          ],
          "histogram2d": [
           {
            "colorbar": {
             "outlinewidth": 0,
             "ticks": ""
            },
            "colorscale": [
             [
              0,
              "#0d0887"
             ],
             [
              0.1111111111111111,
              "#46039f"
             ],
             [
              0.2222222222222222,
              "#7201a8"
             ],
             [
              0.3333333333333333,
              "#9c179e"
             ],
             [
              0.4444444444444444,
              "#bd3786"
             ],
             [
              0.5555555555555556,
              "#d8576b"
             ],
             [
              0.6666666666666666,
              "#ed7953"
             ],
             [
              0.7777777777777778,
              "#fb9f3a"
             ],
             [
              0.8888888888888888,
              "#fdca26"
             ],
             [
              1,
              "#f0f921"
             ]
            ],
            "type": "histogram2d"
           }
          ],
          "histogram2dcontour": [
           {
            "colorbar": {
             "outlinewidth": 0,
             "ticks": ""
            },
            "colorscale": [
             [
              0,
              "#0d0887"
             ],
             [
              0.1111111111111111,
              "#46039f"
             ],
             [
              0.2222222222222222,
              "#7201a8"
             ],
             [
              0.3333333333333333,
              "#9c179e"
             ],
             [
              0.4444444444444444,
              "#bd3786"
             ],
             [
              0.5555555555555556,
              "#d8576b"
             ],
             [
              0.6666666666666666,
              "#ed7953"
             ],
             [
              0.7777777777777778,
              "#fb9f3a"
             ],
             [
              0.8888888888888888,
              "#fdca26"
             ],
             [
              1,
              "#f0f921"
             ]
            ],
            "type": "histogram2dcontour"
           }
          ],
          "mesh3d": [
           {
            "colorbar": {
             "outlinewidth": 0,
             "ticks": ""
            },
            "type": "mesh3d"
           }
          ],
          "parcoords": [
           {
            "line": {
             "colorbar": {
              "outlinewidth": 0,
              "ticks": ""
             }
            },
            "type": "parcoords"
           }
          ],
          "pie": [
           {
            "automargin": true,
            "type": "pie"
           }
          ],
          "scatter": [
           {
            "fillpattern": {
             "fillmode": "overlay",
             "size": 10,
             "solidity": 0.2
            },
            "type": "scatter"
           }
          ],
          "scatter3d": [
           {
            "line": {
             "colorbar": {
              "outlinewidth": 0,
              "ticks": ""
             }
            },
            "marker": {
             "colorbar": {
              "outlinewidth": 0,
              "ticks": ""
             }
            },
            "type": "scatter3d"
           }
          ],
          "scattercarpet": [
           {
            "marker": {
             "colorbar": {
              "outlinewidth": 0,
              "ticks": ""
             }
            },
            "type": "scattercarpet"
           }
          ],
          "scattergeo": [
           {
            "marker": {
             "colorbar": {
              "outlinewidth": 0,
              "ticks": ""
             }
            },
            "type": "scattergeo"
           }
          ],
          "scattergl": [
           {
            "marker": {
             "colorbar": {
              "outlinewidth": 0,
              "ticks": ""
             }
            },
            "type": "scattergl"
           }
          ],
          "scattermap": [
           {
            "marker": {
             "colorbar": {
              "outlinewidth": 0,
              "ticks": ""
             }
            },
            "type": "scattermap"
           }
          ],
          "scattermapbox": [
           {
            "marker": {
             "colorbar": {
              "outlinewidth": 0,
              "ticks": ""
             }
            },
            "type": "scattermapbox"
           }
          ],
          "scatterpolar": [
           {
            "marker": {
             "colorbar": {
              "outlinewidth": 0,
              "ticks": ""
             }
            },
            "type": "scatterpolar"
           }
          ],
          "scatterpolargl": [
           {
            "marker": {
             "colorbar": {
              "outlinewidth": 0,
              "ticks": ""
             }
            },
            "type": "scatterpolargl"
           }
          ],
          "scatterternary": [
           {
            "marker": {
             "colorbar": {
              "outlinewidth": 0,
              "ticks": ""
             }
            },
            "type": "scatterternary"
           }
          ],
          "surface": [
           {
            "colorbar": {
             "outlinewidth": 0,
             "ticks": ""
            },
            "colorscale": [
             [
              0,
              "#0d0887"
             ],
             [
              0.1111111111111111,
              "#46039f"
             ],
             [
              0.2222222222222222,
              "#7201a8"
             ],
             [
              0.3333333333333333,
              "#9c179e"
             ],
             [
              0.4444444444444444,
              "#bd3786"
             ],
             [
              0.5555555555555556,
              "#d8576b"
             ],
             [
              0.6666666666666666,
              "#ed7953"
             ],
             [
              0.7777777777777778,
              "#fb9f3a"
             ],
             [
              0.8888888888888888,
              "#fdca26"
             ],
             [
              1,
              "#f0f921"
             ]
            ],
            "type": "surface"
           }
          ],
          "table": [
           {
            "cells": {
             "fill": {
              "color": "#EBF0F8"
             },
             "line": {
              "color": "white"
             }
            },
            "header": {
             "fill": {
              "color": "#C8D4E3"
             },
             "line": {
              "color": "white"
             }
            },
            "type": "table"
           }
          ]
         },
         "layout": {
          "annotationdefaults": {
           "arrowcolor": "#2a3f5f",
           "arrowhead": 0,
           "arrowwidth": 1
          },
          "autotypenumbers": "strict",
          "coloraxis": {
           "colorbar": {
            "outlinewidth": 0,
            "ticks": ""
           }
          },
          "colorscale": {
           "diverging": [
            [
             0,
             "#8e0152"
            ],
            [
             0.1,
             "#c51b7d"
            ],
            [
             0.2,
             "#de77ae"
            ],
            [
             0.3,
             "#f1b6da"
            ],
            [
             0.4,
             "#fde0ef"
            ],
            [
             0.5,
             "#f7f7f7"
            ],
            [
             0.6,
             "#e6f5d0"
            ],
            [
             0.7,
             "#b8e186"
            ],
            [
             0.8,
             "#7fbc41"
            ],
            [
             0.9,
             "#4d9221"
            ],
            [
             1,
             "#276419"
            ]
           ],
           "sequential": [
            [
             0,
             "#0d0887"
            ],
            [
             0.1111111111111111,
             "#46039f"
            ],
            [
             0.2222222222222222,
             "#7201a8"
            ],
            [
             0.3333333333333333,
             "#9c179e"
            ],
            [
             0.4444444444444444,
             "#bd3786"
            ],
            [
             0.5555555555555556,
             "#d8576b"
            ],
            [
             0.6666666666666666,
             "#ed7953"
            ],
            [
             0.7777777777777778,
             "#fb9f3a"
            ],
            [
             0.8888888888888888,
             "#fdca26"
            ],
            [
             1,
             "#f0f921"
            ]
           ],
           "sequentialminus": [
            [
             0,
             "#0d0887"
            ],
            [
             0.1111111111111111,
             "#46039f"
            ],
            [
             0.2222222222222222,
             "#7201a8"
            ],
            [
             0.3333333333333333,
             "#9c179e"
            ],
            [
             0.4444444444444444,
             "#bd3786"
            ],
            [
             0.5555555555555556,
             "#d8576b"
            ],
            [
             0.6666666666666666,
             "#ed7953"
            ],
            [
             0.7777777777777778,
             "#fb9f3a"
            ],
            [
             0.8888888888888888,
             "#fdca26"
            ],
            [
             1,
             "#f0f921"
            ]
           ]
          },
          "colorway": [
           "#636efa",
           "#EF553B",
           "#00cc96",
           "#ab63fa",
           "#FFA15A",
           "#19d3f3",
           "#FF6692",
           "#B6E880",
           "#FF97FF",
           "#FECB52"
          ],
          "font": {
           "color": "#2a3f5f"
          },
          "geo": {
           "bgcolor": "white",
           "lakecolor": "white",
           "landcolor": "#E5ECF6",
           "showlakes": true,
           "showland": true,
           "subunitcolor": "white"
          },
          "hoverlabel": {
           "align": "left"
          },
          "hovermode": "closest",
          "mapbox": {
           "style": "light"
          },
          "paper_bgcolor": "white",
          "plot_bgcolor": "#E5ECF6",
          "polar": {
           "angularaxis": {
            "gridcolor": "white",
            "linecolor": "white",
            "ticks": ""
           },
           "bgcolor": "#E5ECF6",
           "radialaxis": {
            "gridcolor": "white",
            "linecolor": "white",
            "ticks": ""
           }
          },
          "scene": {
           "xaxis": {
            "backgroundcolor": "#E5ECF6",
            "gridcolor": "white",
            "gridwidth": 2,
            "linecolor": "white",
            "showbackground": true,
            "ticks": "",
            "zerolinecolor": "white"
           },
           "yaxis": {
            "backgroundcolor": "#E5ECF6",
            "gridcolor": "white",
            "gridwidth": 2,
            "linecolor": "white",
            "showbackground": true,
            "ticks": "",
            "zerolinecolor": "white"
           },
           "zaxis": {
            "backgroundcolor": "#E5ECF6",
            "gridcolor": "white",
            "gridwidth": 2,
            "linecolor": "white",
            "showbackground": true,
            "ticks": "",
            "zerolinecolor": "white"
           }
          },
          "shapedefaults": {
           "line": {
            "color": "#2a3f5f"
           }
          },
          "ternary": {
           "aaxis": {
            "gridcolor": "white",
            "linecolor": "white",
            "ticks": ""
           },
           "baxis": {
            "gridcolor": "white",
            "linecolor": "white",
            "ticks": ""
           },
           "bgcolor": "#E5ECF6",
           "caxis": {
            "gridcolor": "white",
            "linecolor": "white",
            "ticks": ""
           }
          },
          "title": {
           "x": 0.05
          },
          "xaxis": {
           "automargin": true,
           "gridcolor": "white",
           "linecolor": "white",
           "ticks": "",
           "title": {
            "standoff": 15
           },
           "zerolinecolor": "white",
           "zerolinewidth": 2
          },
          "yaxis": {
           "automargin": true,
           "gridcolor": "white",
           "linecolor": "white",
           "ticks": "",
           "title": {
            "standoff": 15
           },
           "zerolinecolor": "white",
           "zerolinewidth": 2
          }
         }
        },
        "title": {
         "font": {
          "size": 20
         },
         "text": "🎯 ETH Candle Prediction Analysis Dashboard",
         "x": 0.5
        },
        "xaxis": {
         "anchor": "y",
         "domain": [
          0,
          0.45
         ],
         "title": {
          "text": "Time"
         }
        },
        "xaxis2": {
         "anchor": "y2",
         "domain": [
          0.55,
          1
         ],
         "title": {
          "text": "Model"
         }
        },
        "xaxis3": {
         "anchor": "y3",
         "domain": [
          0,
          0.45
         ],
         "title": {
          "text": "Time"
         }
        },
        "xaxis4": {
         "anchor": "y4",
         "domain": [
          0.55,
          1
         ],
         "title": {
          "text": "Time"
         }
        },
        "xaxis5": {
         "anchor": "y5",
         "domain": [
          0,
          0.45
         ],
         "title": {
          "text": "Model"
         }
        },
        "xaxis6": {
         "anchor": "y6",
         "domain": [
          0.55,
          1
         ],
         "title": {
          "text": "Hour (UTC)"
         }
        },
        "yaxis": {
         "anchor": "x",
         "domain": [
          0.72,
          1
         ],
         "title": {
          "text": "Price ($)"
         }
        },
        "yaxis2": {
         "anchor": "x2",
         "domain": [
          0.72,
          1
         ],
         "title": {
          "text": "AUC Score"
         }
        },
        "yaxis3": {
         "anchor": "x3",
         "domain": [
          0.36,
          0.6399999999999999
         ],
         "title": {
          "text": "Confidence"
         }
        },
        "yaxis4": {
         "anchor": "x4",
         "domain": [
          0.36,
          0.6399999999999999
         ],
         "title": {
          "text": "Price Change (%)"
         }
        },
        "yaxis5": {
         "anchor": "x5",
         "domain": [
          0,
          0.27999999999999997
         ],
         "title": {
          "text": "Score"
         }
        },
        "yaxis6": {
         "anchor": "x6",
         "domain": [
          0,
          0.27999999999999997
         ],
         "title": {
          "text": "Accuracy"
         }
        }
       }
      }
     },
     "metadata": {},
     "output_type": "display_data"
    },
    {
     "name": "stdout",
     "output_type": "stream",
     "text": [
      "✅ Interactive dashboard created successfully!\n"
     ]
    }
   ],
   "source": [
    "# 📊 Comprehensive Interactive Dashboard\n",
    "if \"predictions\" in locals() and \"performance_df\" in locals() and len(predictions) > 0:\n",
    "    print(\"🎨 Creating comprehensive Plotly dashboard...\")\n",
    "\n",
    "    # Create subplots dashboard\n",
    "    fig = make_subplots(\n",
    "        rows=3,\n",
    "        cols=2,\n",
    "        subplot_titles=(\n",
    "            \"📈 Recent ETH Price (1H Candlesticks)\",\n",
    "            \"🏆 Model Performance Comparison\",\n",
    "            \"🎯 Prediction Confidence Over Time\",\n",
    "            \"💰 Prediction vs Actual Price Changes\",\n",
    "            \"📊 Model Performance Metrics\",\n",
    "            \"🕐 Prediction Accuracy by Hour\",\n",
    "        ),\n",
    "        specs=[\n",
    "            [{\"type\": \"candlestick\"}, {\"type\": \"bar\"}],\n",
    "            [{\"type\": \"scatter\"}, {\"type\": \"scatter\"}],\n",
    "            [{\"type\": \"bar\"}, {\"type\": \"bar\"}],\n",
    "        ],\n",
    "        vertical_spacing=0.08,\n",
    "        horizontal_spacing=0.1,\n",
    "    )\n",
    "\n",
    "    # 1. Recent price action (candlestick)\n",
    "    recent_data = df_1h.tail(48)  # Last 48 hours\n",
    "    fig.add_trace(\n",
    "        go.Candlestick(\n",
    "            x=recent_data.index,\n",
    "            open=recent_data[\"open\"],\n",
    "            high=recent_data[\"high\"],\n",
    "            low=recent_data[\"low\"],\n",
    "            close=recent_data[\"close\"],\n",
    "            name=\"ETH Price\",\n",
    "            showlegend=False,\n",
    "        ),\n",
    "        row=1,\n",
    "        col=1,\n",
    "    )\n",
    "\n",
    "    # 2. Model performance comparison\n",
    "    fig.add_trace(\n",
    "        go.Bar(\n",
    "            x=performance_df[\"Model\"],\n",
    "            y=performance_df[\"AUC\"],\n",
    "            name=\"AUC Score\",\n",
    "            marker_color=[\"#1f77b4\", \"#ff7f0e\", \"#2ca02c\"][: len(performance_df)],\n",
    "            showlegend=False,\n",
    "            text=performance_df[\"AUC\"].round(3),\n",
    "            textposition=\"outside\",\n",
    "        ),\n",
    "        row=1,\n",
    "        col=2,\n",
    "    )\n",
    "\n",
    "    # 3. Prediction confidence over time\n",
    "    pred_df = pd.DataFrame(predictions)\n",
    "    colors = [\"#00ff00\" if correct else \"#ff0000\" for correct in pred_df[\"correct\"]]\n",
    "    fig.add_trace(\n",
    "        go.Scatter(\n",
    "            x=pred_df[\"timestamp\"],\n",
    "            y=pred_df[\"confidence\"],\n",
    "            mode=\"markers+lines\",\n",
    "            marker=dict(color=colors, size=10),\n",
    "            line=dict(color=\"gray\", width=1),\n",
    "            name=\"Confidence\",\n",
    "            showlegend=False,\n",
    "        ),\n",
    "        row=2,\n",
    "        col=1,\n",
    "    )\n",
    "\n",
    "    # 4. Predicted vs actual price changes\n",
    "    symbols = [\"circle\" if correct else \"x\" for correct in pred_df[\"correct\"]]\n",
    "    pred_colors = [\n",
    "        \"#00ff00\" if pred == \"green\" else \"#ff0000\" for pred in pred_df[\"predicted\"]\n",
    "    ]\n",
    "    fig.add_trace(\n",
    "        go.Scatter(\n",
    "            x=pred_df[\"timestamp\"],\n",
    "            y=pred_df[\"actual_change\"],\n",
    "            mode=\"markers\",\n",
    "            marker=dict(\n",
    "                color=pred_colors,\n",
    "                size=12,\n",
    "                symbol=symbols,\n",
    "                line=dict(width=2, color=\"black\"),\n",
    "            ),\n",
    "            name=\"Predictions\",\n",
    "            showlegend=False,\n",
    "        ),\n",
    "        row=2,\n",
    "        col=2,\n",
    "    )\n",
    "\n",
    "    # 5. Model performance metrics comparison\n",
    "    metrics = [\"Accuracy\", \"Precision\", \"Recall\", \"F1_Score\"]\n",
    "\n",
    "    for i, metric in enumerate(metrics):\n",
    "        fig.add_trace(\n",
    "            go.Bar(\n",
    "                x=performance_df[\"Model\"],\n",
    "                y=performance_df[metric],\n",
    "                name=metric,\n",
    "                offsetgroup=i,\n",
    "                showlegend=True if i < 2 else False,  # Only show legend for first 2\n",
    "                marker_color=px.colors.qualitative.Set1[i],\n",
    "            ),\n",
    "            row=3,\n",
    "            col=1,\n",
    "        )\n",
    "\n",
    "    # 6. Prediction accuracy by hour (if we have enough data)\n",
    "    if len(pred_df) > 5:\n",
    "        pred_df[\"hour\"] = pred_df[\"timestamp\"].dt.hour\n",
    "        hourly_accuracy = (\n",
    "            pred_df.groupby(\"hour\")[\"correct\"].agg([\"mean\", \"count\"]).reset_index()\n",
    "        )\n",
    "        hourly_accuracy.columns = [\"hour\", \"accuracy\", \"count\"]\n",
    "\n",
    "        fig.add_trace(\n",
    "            go.Bar(\n",
    "                x=hourly_accuracy[\"hour\"],\n",
    "                y=hourly_accuracy[\"accuracy\"],\n",
    "                name=\"Hourly Accuracy\",\n",
    "                marker_color=\"lightblue\",\n",
    "                showlegend=False,\n",
    "                text=hourly_accuracy[\"count\"].astype(str) + \" samples\",\n",
    "                textposition=\"outside\",\n",
    "            ),\n",
    "            row=3,\n",
    "            col=2,\n",
    "        )\n",
    "        # Update layout\n",
    "        fig.update_layout(\n",
    "            height=1000,\n",
    "            title_text=\"🎯 ETH Candle Prediction Analysis Dashboard\",\n",
    "            title_x=0.5,\n",
    "            title_font_size=20,\n",
    "            showlegend=True,\n",
    "            legend=dict(\n",
    "                orientation=\"h\", yanchor=\"bottom\", y=1.02, xanchor=\"right\", x=1\n",
    "            ),\n",
    "        )\n",
    "        # Update axis labels\n",
    "        fig.update_xaxes(title_text=\"Time\", row=1, col=1)\n",
    "        fig.update_yaxes(title_text=\"Price ($)\", row=1, col=1)\n",
    "\n",
    "        fig.update_xaxes(title_text=\"Model\", row=1, col=2)\n",
    "        fig.update_yaxes(title_text=\"AUC Score\", row=1, col=2)\n",
    "\n",
    "        fig.update_xaxes(title_text=\"Time\", row=2, col=1)\n",
    "        fig.update_yaxes(title_text=\"Confidence\", row=2, col=1)\n",
    "\n",
    "        fig.update_xaxes(title_text=\"Time\", row=2, col=2)\n",
    "        fig.update_yaxes(title_text=\"Price Change (%)\", row=2, col=2)\n",
    "\n",
    "        fig.update_xaxes(title_text=\"Model\", row=3, col=1)\n",
    "        fig.update_yaxes(title_text=\"Score\", row=3, col=1)\n",
    "\n",
    "        fig.update_xaxes(title_text=\"Hour (UTC)\", row=3, col=2)\n",
    "        fig.update_yaxes(title_text=\"Accuracy\", row=3, col=2)\n",
    "\n",
    "        fig.show()\n",
    "        print(\"✅ Interactive dashboard created successfully!\")\n",
    "\n",
    "    else:\n",
    "        if \"predictions\" not in locals():\n",
    "            print(\"⚠️  Please run predictions first\")\n",
    "        elif len(predictions) == 0:\n",
    "            print(\"⚠️  No predictions available for dashboard\")\n",
    "        else:\n",
    "            print(\"⚠️  Please ensure performance_df is available\")"
   ]
  },
  {
   "cell_type": "code",
   "execution_count": 19,
   "metadata": {},
   "outputs": [
    {
     "name": "stdout",
     "output_type": "stream",
     "text": [
      "🕐 Checking for live prediction opportunity...\n",
      "❌ Please train models first\n"
     ]
    }
   ],
   "source": [
    "# 🔮 Live Prediction Function\n",
    "def make_live_prediction():\n",
    "    \"\"\"Make a prediction for the current hour based on available data\"\"\"\n",
    "    if \"models\" not in locals() or len(models) == 0:\n",
    "        print(\"❌ Please train models first\")\n",
    "        return None\n",
    "\n",
    "    current_time = pd.Timestamp.now(tz=\"UTC\")\n",
    "    current_hour_start = current_time.floor(\"H\")\n",
    "\n",
    "    # Check if we have at least 45 minutes of data for current hour\n",
    "    minutes_elapsed = (current_time - current_hour_start).total_seconds() / 60\n",
    "\n",
    "    if minutes_elapsed >= 45:\n",
    "        try:\n",
    "            # Use best model\n",
    "            best_model_name = performance_df.loc[\n",
    "                performance_df[\"AUC\"].idxmax(), \"Model\"\n",
    "            ]\n",
    "            best_model = models[best_model_name]\n",
    "\n",
    "            # Make prediction\n",
    "            pred = best_model.predict(df, current_hour_start)\n",
    "\n",
    "            print(\n",
    "                f\"🔮 LIVE PREDICTION for {current_hour_start.strftime('%Y-%m-%d %H:%M')} hour:\"\n",
    "            )\n",
    "            print(f\"  📈 Predicted Direction: {pred.predicted_direction.upper()}\")\n",
    "            print(f\"  🎯 Confidence: {pred.confidence:.1%}\")\n",
    "            print(f\"  🟢 Probability Green: {pred.probability_green:.1%}\")\n",
    "            print(f\"  🔴 Probability Red: {pred.probability_red:.1%}\")\n",
    "            print(f\"  🤖 Model Used: {pred.model_name}\")\n",
    "            print(f\"  ⏰ Time Remaining: {60 - minutes_elapsed:.0f} minutes\")\n",
    "\n",
    "            # Create a simple live prediction chart\n",
    "            fig_live = go.Figure()\n",
    "\n",
    "            fig_live.add_trace(\n",
    "                go.Indicator(\n",
    "                    mode=\"gauge+number\",\n",
    "                    value=pred.confidence * 100,\n",
    "                    domain={\"x\": [0, 1], \"y\": [0, 1]},\n",
    "                    title={\n",
    "                        \"text\": f\"Prediction Confidence<br>{pred.predicted_direction.title()} Candle\"\n",
    "                    },\n",
    "                    gauge={\n",
    "                        \"axis\": {\"range\": [None, 100]},\n",
    "                        \"bar\": {\n",
    "                            \"color\": \"green\"\n",
    "                            if pred.predicted_direction == \"green\"\n",
    "                            else \"red\"\n",
    "                        },\n",
    "                        \"steps\": [\n",
    "                            {\"range\": [0, 50], \"color\": \"lightgray\"},\n",
    "                            {\"range\": [50, 75], \"color\": \"yellow\"},\n",
    "                            {\"range\": [75, 100], \"color\": \"lightgreen\"},\n",
    "                        ],\n",
    "                        \"threshold\": {\n",
    "                            \"line\": {\"color\": \"black\", \"width\": 4},\n",
    "                            \"thickness\": 0.75,\n",
    "                            \"value\": 70,\n",
    "                        },\n",
    "                    },\n",
    "                )\n",
    "            )\n",
    "\n",
    "            fig_live.update_layout(\n",
    "                title=f\"Live Prediction - {current_hour_start.strftime('%H:%M UTC')}\",\n",
    "                height=400,\n",
    "            )\n",
    "            fig_live.show()\n",
    "\n",
    "            return pred\n",
    "\n",
    "        except Exception as e:\n",
    "            print(f\"❌ Cannot make live prediction: {e}\")\n",
    "            return None\n",
    "    else:\n",
    "        print(f\"⏳ Current hour has only {minutes_elapsed:.0f} minutes of data.\")\n",
    "        print(f\"   Need at least 45 minutes for prediction.\")\n",
    "        return None\n",
    "\n",
    "\n",
    "# Try to make a live prediction\n",
    "print(\"🕐 Checking for live prediction opportunity...\")\n",
    "live_pred = make_live_prediction()"
   ]
  },
  {
   "cell_type": "raw",
   "metadata": {
    "vscode": {
     "languageId": "raw"
    }
   },
   "source": [
    "## 📋 Summary and Next Steps\n",
    "\n",
    "This notebook provides a complete pipeline for ETH candle direction prediction using the first 45 minutes of hourly data with **interactive Plotly visualizations**:\n",
    "\n",
    "### 🎯 **Key Components:**\n",
    "\n",
    "1. **📊 Data Pipeline**: Load and resample OHLCV data at multiple timeframes (1min, 5min, 15min, 1h)\n",
    "2. **🔄 Historical Analysis**: Understand candle flipping behavior and market patterns  \n",
    "3. **🤖 Feature Engineering**: Extract 50+ technical indicators and market features\n",
    "4. **🏋️ Model Training**: Train and compare multiple ML algorithms (Random Forest, Gradient Boosting, Logistic Regression)\n",
    "5. **🔮 Prediction System**: Make real-time predictions with confidence scores\n",
    "6. **📈 Interactive Visualizations**: Comprehensive Plotly dashboards and analysis charts\n",
    "\n",
    "### 🎨 **Interactive Plotly Features:**\n",
    "- **📊 Histograms**: Candle flip behavior and green/red distributions\n",
    "- **🕐 Time Analysis**: Flip rates by hour of day and day of week  \n",
    "- **📈 Scatter Plots**: 45-minute change vs final change correlation\n",
    "- **🎯 Feature Importance**: Top features and category breakdowns\n",
    "- **📊 Performance Dashboard**: Model comparison and prediction tracking\n",
    "- **🔮 Live Gauge**: Real-time prediction confidence meter\n",
    "\n",
    "### 🔍 **Key Features Extracted:**\n",
    "- **💲 Price Action**: OHLC data, current price at 45min mark, percentage changes\n",
    "- **📊 Technical Indicators**: RSI, MACD, Bollinger Bands, moving averages (5, 10, 20, 50 periods)\n",
    "- **📈 Volume Analysis**: Volume patterns, VWAP, volume-weighted metrics\n",
    "- **⚡ Volatility**: ATR, rolling standard deviation, high-low spreads\n",
    "- **🕐 Time Features**: Hour of day, minute of hour, day of week patterns\n",
    "- **📉 Market Microstructure**: Price momentum, trend strength, market pressure\n",
    "\n",
    "### 📈 **Model Performance Insights:**\n",
    "- **🏆 Best Models**: Typically achieve 55-65% accuracy (significantly better than random 50%)\n",
    "- **🎯 Confidence Levels**: Higher confidence predictions tend to be more accurate\n",
    "- **⏰ Time Patterns**: Some hours show higher predictability than others\n",
    "- **🔄 Flip Analysis**: Understanding when candles change direction helps calibrate expectations\n",
    "\n",
    "### 🚀 **Usage Instructions:**\n",
    "\n",
    "1. **Load Data**: Run the data fetching cells or use your existing `df`, `df_15min`, `df_1h`\n",
    "2. **Analyze History**: Execute flip analysis to understand market behavior\n",
    "3. **Train Models**: Run the model training cells to build predictors\n",
    "4. **Make Predictions**: Use the prediction cells for recent data analysis\n",
    "5. **Live Trading**: Use `make_live_prediction()` when current hour ≥ 45 minutes\n",
    "\n",
    "### 💡 **Next Steps & Improvements:**\n",
    "\n",
    "- **🔧 Feature Engineering**: Add more sophisticated indicators (Ichimoku, Volume Profile, etc.)\n",
    "- **📊 Model Enhancement**: Try ensemble methods, neural networks, or time series models\n",
    "- **⏰ Time Series**: Incorporate longer historical context and sequence modeling\n",
    "- **📈 Market Context**: Add macro indicators, news sentiment, or social media data\n",
    "- **🎯 Risk Management**: Implement position sizing and stop-loss strategies\n",
    "- **📱 Real-time**: Set up automated prediction system with alerts\n",
    "\n",
    "### ⚠️ **Important Disclaimers:**\n",
    "- This is for **educational purposes only** - not financial advice\n",
    "- Past performance does not guarantee future results\n",
    "- Always use proper risk management in live trading\n",
    "- Test thoroughly on paper trading before risking real money\n",
    "\n",
    "**🎉 Happy Trading and Analysis!**\n"
   ]
  }
 ],
 "metadata": {
  "kernelspec": {
   "display_name": ".venv",
   "language": "python",
   "name": "python3"
  },
  "language_info": {
   "codemirror_mode": {
    "name": "ipython",
    "version": 3
   },
   "file_extension": ".py",
   "mimetype": "text/x-python",
   "name": "python",
   "nbconvert_exporter": "python",
   "pygments_lexer": "ipython3",
   "version": "3.13.3"
  }
 },
 "nbformat": 4,
 "nbformat_minor": 2
}
