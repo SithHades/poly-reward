{
 "cells": [
  {
   "cell_type": "markdown",
   "metadata": {
    "vscode": {
     "languageId": "raw"
    }
   },
   "source": [
    "# ETH Candle Direction Prediction Analysis\n",
    "\n",
    "This notebook provides interactive analysis for predicting 1-hour ETH candle direction based on the first 45 minutes of data.\n",
    "\n",
    "## Overview\n",
    "- Load and prepare OHLCV data at multiple timeframes\n",
    "- Extract features from first 45 minutes using statistical methods\n",
    "- Train machine learning models to predict candle direction  \n",
    "- Make real-time predictions with confidence scores\n",
    "- Interactive Plotly visualizations and dashboards\n"
   ]
  },
  {
   "cell_type": "code",
   "execution_count": null,
   "metadata": {},
   "outputs": [
    {
     "name": "stdout",
     "output_type": "stream",
     "text": [
      "📊 Libraries imported successfully!\n",
      "🎨 Using Plotly for all interactive visualizations\n"
     ]
    }
   ],
   "source": [
    "import pandas as pd\n",
    "import numpy as np\n",
    "import ccxt\n",
    "import time\n",
    "import warnings\n",
    "from datetime import datetime, timezone, timedelta\n",
    "\n",
    "# Plotly for all visualizations\n",
    "import plotly.express as px\n",
    "import plotly.graph_objects as go\n",
    "from plotly.subplots import make_subplots\n",
    "\n",
    "# ML libraries\n",
    "\n",
    "# Import our custom predictor\n",
    "from src.data_utils.data_loading_utils import load_eth_historical_data\n",
    "from src.eth_candle_predictor import EthCandlePredictor\n",
    "\n",
    "warnings.filterwarnings(\"ignore\")\n",
    "pd.set_option(\"display.max_columns\", None)\n",
    "pd.set_option(\"display.width\", None)\n",
    "\n",
    "print(\"📊 Libraries imported successfully!\")\n",
    "print(\"🎨 Using Plotly for all interactive visualizations\")"
   ]
  },
  {
   "cell_type": "markdown",
   "metadata": {
    "vscode": {
     "languageId": "raw"
    }
   },
   "source": [
    "## 📈 Data Loading and Preparation\n",
    "\n",
    "Using your existing approach to fetch and prepare ETH data at multiple timeframes. You can either fetch new data or use existing dataframes.\n"
   ]
  },
  {
   "cell_type": "code",
   "execution_count": 14,
   "metadata": {},
   "outputs": [
    {
     "name": "stdout",
     "output_type": "stream",
     "text": [
      "  📥 Fetched 5000 candles...\n",
      "  📥 Fetched 10000 candles...\n",
      "  📥 Fetched 15000 candles...\n",
      "  📥 Fetched 20000 candles...\n",
      "  📥 Fetched 25000 candles...\n",
      "  📥 Fetched 30000 candles...\n",
      "  📥 Fetched 35000 candles...\n",
      "  📥 Fetched 40000 candles...\n",
      "✅ Loaded 41565 1-minute candles from 2025-06-01 00:00:00+00:00 to 2025-06-29 20:44:00+00:00 using up-to-date data\n",
      "✅ Loaded 259005 1-minute candles from 2025-01-01 00:00:00+00:00 to 2025-06-29 20:44:00+00:00 using historical data\n"
     ]
    }
   ],
   "source": [
    "def fetch_eth_data(days=14, since=None):\n",
    "    \"\"\"Fetch ETH/USDT data - similar to your existing approach\"\"\"\n",
    "    exchange = ccxt.binance()\n",
    "    symbol = \"ETH/USDT\"\n",
    "    timeframe = \"1m\"\n",
    "    if since is None:\n",
    "        print(f\"🔄 Fetching {days} days of ETH data...\")\n",
    "        since = exchange.parse8601(\n",
    "            (datetime.now(timezone.utc) - timedelta(days=days)).isoformat()\n",
    "        )\n",
    "    else:\n",
    "        since = exchange.parse8601(since)\n",
    "\n",
    "    all_ohlcv = []\n",
    "    limit = 1000\n",
    "\n",
    "    while True:\n",
    "        try:\n",
    "            ohlcv = exchange.fetch_ohlcv(symbol, timeframe, since, limit)\n",
    "            if len(ohlcv) == 0:\n",
    "                break\n",
    "            all_ohlcv.extend(ohlcv)\n",
    "            since = ohlcv[-1][0] + 1\n",
    "            time.sleep(exchange.rateLimit / 1000)\n",
    "            if len(all_ohlcv) % 5000 == 0:\n",
    "                print(f\"  📥 Fetched {len(all_ohlcv)} candles...\")\n",
    "        except Exception as e:\n",
    "            print(f\"❌ Error: {e}\")\n",
    "            break\n",
    "\n",
    "    df = pd.DataFrame(\n",
    "        all_ohlcv, columns=[\"timestamp\", \"open\", \"high\", \"low\", \"close\", \"volume\"]\n",
    "    )\n",
    "    df[\"timestamp\"] = pd.to_datetime(df[\"timestamp\"], unit=\"ms\", utc=True)\n",
    "    df = df.set_index(\"timestamp\").sort_index()\n",
    "    df = df[~df.index.duplicated(keep=\"last\")]\n",
    "\n",
    "    print(\n",
    "        f\"✅ Loaded {len(df)} 1-minute candles from {df.index[0]} to {df.index[-1]} using up-to-date data\"\n",
    "    )\n",
    "    return df\n",
    "\n",
    "\n",
    "def get_all_candles():\n",
    "    df_hist = load_eth_historical_data()\n",
    "    df_current = fetch_eth_data(since=\"2025-06-01T00:00:00Z\")\n",
    "    df = pd.concat([df_hist, df_current])\n",
    "    df = df.sort_index()\n",
    "    df = df[~df.index.duplicated(keep=\"last\")]\n",
    "    print(\n",
    "        f\"✅ Loaded {len(df)} 1-minute candles from {df.index[0]} to {df.index[-1]} using historical data\"\n",
    "    )\n",
    "    return df\n",
    "\n",
    "\n",
    "df = get_all_candles()"
   ]
  },
  {
   "cell_type": "code",
   "execution_count": 3,
   "metadata": {},
   "outputs": [
    {
     "name": "stdout",
     "output_type": "stream",
     "text": [
      "🔄 Creating resampled timeframes...\n",
      "✅ Resampled data summary:\n",
      "   📊 1-min: 258,994 candles\n",
      "   📊 5-min: 51,799 candles\n",
      "   📊 15-min: 17,267 candles\n",
      "   📊 1-hour: 4,317 candles\n",
      "\n",
      "📋 Recent 1-hour data:\n"
     ]
    },
    {
     "data": {
      "text/html": [
       "<div>\n",
       "<style scoped>\n",
       "    .dataframe tbody tr th:only-of-type {\n",
       "        vertical-align: middle;\n",
       "    }\n",
       "\n",
       "    .dataframe tbody tr th {\n",
       "        vertical-align: top;\n",
       "    }\n",
       "\n",
       "    .dataframe thead th {\n",
       "        text-align: right;\n",
       "    }\n",
       "</style>\n",
       "<table border=\"1\" class=\"dataframe\">\n",
       "  <thead>\n",
       "    <tr style=\"text-align: right;\">\n",
       "      <th></th>\n",
       "      <th>open</th>\n",
       "      <th>high</th>\n",
       "      <th>low</th>\n",
       "      <th>close</th>\n",
       "      <th>volume</th>\n",
       "    </tr>\n",
       "    <tr>\n",
       "      <th>timestamp</th>\n",
       "      <th></th>\n",
       "      <th></th>\n",
       "      <th></th>\n",
       "      <th></th>\n",
       "      <th></th>\n",
       "    </tr>\n",
       "  </thead>\n",
       "  <tbody>\n",
       "    <tr>\n",
       "      <th>2025-06-29 16:00:00+00:00</th>\n",
       "      <td>2436.69</td>\n",
       "      <td>2440.18</td>\n",
       "      <td>2429.58</td>\n",
       "      <td>2439.06</td>\n",
       "      <td>9579.2707</td>\n",
       "    </tr>\n",
       "    <tr>\n",
       "      <th>2025-06-29 17:00:00+00:00</th>\n",
       "      <td>2439.07</td>\n",
       "      <td>2440.44</td>\n",
       "      <td>2432.63</td>\n",
       "      <td>2439.14</td>\n",
       "      <td>3744.5940</td>\n",
       "    </tr>\n",
       "    <tr>\n",
       "      <th>2025-06-29 18:00:00+00:00</th>\n",
       "      <td>2439.14</td>\n",
       "      <td>2442.55</td>\n",
       "      <td>2434.16</td>\n",
       "      <td>2437.84</td>\n",
       "      <td>4724.2172</td>\n",
       "    </tr>\n",
       "    <tr>\n",
       "      <th>2025-06-29 19:00:00+00:00</th>\n",
       "      <td>2437.85</td>\n",
       "      <td>2439.59</td>\n",
       "      <td>2433.58</td>\n",
       "      <td>2437.96</td>\n",
       "      <td>2987.5391</td>\n",
       "    </tr>\n",
       "    <tr>\n",
       "      <th>2025-06-29 20:00:00+00:00</th>\n",
       "      <td>2437.97</td>\n",
       "      <td>2439.00</td>\n",
       "      <td>2433.20</td>\n",
       "      <td>2435.62</td>\n",
       "      <td>1728.3008</td>\n",
       "    </tr>\n",
       "  </tbody>\n",
       "</table>\n",
       "</div>"
      ],
      "text/plain": [
       "                              open     high      low    close     volume\n",
       "timestamp                                                               \n",
       "2025-06-29 16:00:00+00:00  2436.69  2440.18  2429.58  2439.06  9579.2707\n",
       "2025-06-29 17:00:00+00:00  2439.07  2440.44  2432.63  2439.14  3744.5940\n",
       "2025-06-29 18:00:00+00:00  2439.14  2442.55  2434.16  2437.84  4724.2172\n",
       "2025-06-29 19:00:00+00:00  2437.85  2439.59  2433.58  2437.96  2987.5391\n",
       "2025-06-29 20:00:00+00:00  2437.97  2439.00  2433.20  2435.62  1728.3008"
      ]
     },
     "metadata": {},
     "output_type": "display_data"
    },
    {
     "name": "stdout",
     "output_type": "stream",
     "text": [
      "\n",
      "💰 Current ETH Price: $2,435.62\n",
      "📈 24h Change: +0.25%\n"
     ]
    }
   ],
   "source": [
    "# Create resampled dataframes (use your existing ones if available)\n",
    "if \"df\" in locals() and df is not None:\n",
    "    print(\"🔄 Creating resampled timeframes...\")\n",
    "\n",
    "    # Resample to different timeframes\n",
    "    df_5min = (\n",
    "        df.resample(\"5min\")\n",
    "        .agg(\n",
    "            {\n",
    "                \"open\": \"first\",\n",
    "                \"high\": \"max\",\n",
    "                \"low\": \"min\",\n",
    "                \"close\": \"last\",\n",
    "                \"volume\": \"sum\",\n",
    "            }\n",
    "        )\n",
    "        .dropna()\n",
    "    )\n",
    "\n",
    "    df_15min = (\n",
    "        df.resample(\"15min\")\n",
    "        .agg(\n",
    "            {\n",
    "                \"open\": \"first\",\n",
    "                \"high\": \"max\",\n",
    "                \"low\": \"min\",\n",
    "                \"close\": \"last\",\n",
    "                \"volume\": \"sum\",\n",
    "            }\n",
    "        )\n",
    "        .dropna()\n",
    "    )\n",
    "\n",
    "    df_1h = (\n",
    "        df.resample(\"1H\")\n",
    "        .agg(\n",
    "            {\n",
    "                \"open\": \"first\",\n",
    "                \"high\": \"max\",\n",
    "                \"low\": \"min\",\n",
    "                \"close\": \"last\",\n",
    "                \"volume\": \"sum\",\n",
    "            }\n",
    "        )\n",
    "        .dropna()\n",
    "    )\n",
    "\n",
    "    print(\"✅ Resampled data summary:\")\n",
    "    print(f\"   📊 1-min: {len(df):,} candles\")\n",
    "    print(f\"   📊 5-min: {len(df_5min):,} candles\")\n",
    "    print(f\"   📊 15-min: {len(df_15min):,} candles\")\n",
    "    print(f\"   📊 1-hour: {len(df_1h):,} candles\")\n",
    "\n",
    "    print(\"\\n📋 Recent 1-hour data:\")\n",
    "    display(df_1h.tail())\n",
    "\n",
    "    # Show basic stats\n",
    "    latest_price = df_1h.iloc[-1][\"close\"]\n",
    "    price_change_24h = (\n",
    "        (df_1h.iloc[-1][\"close\"] - df_1h.iloc[-25][\"close\"]) / df_1h.iloc[-25][\"close\"]\n",
    "    ) * 100\n",
    "    print(f\"\\n💰 Current ETH Price: ${latest_price:,.2f}\")\n",
    "    print(f\"📈 24h Change: {price_change_24h:+.2f}%\")\n",
    "\n",
    "else:\n",
    "    print(\n",
    "        \"⚠️  Please load 'df' first by running the fetch_eth_data function or use your existing dataframe\"\n",
    "    )\n",
    "    print(\"    Example: df = fetch_eth_data(days=14)\")"
   ]
  },
  {
   "cell_type": "markdown",
   "metadata": {
    "vscode": {
     "languageId": "raw"
    }
   },
   "source": [
    "## 🔄 Historical Analysis: Candle Flipping Behavior\n",
    "\n",
    "Analyze how often candles change direction between the 45-minute mark and close. This gives us insights into market behavior and the predictability of hourly candle outcomes.\n"
   ]
  },
  {
   "cell_type": "code",
   "execution_count": 4,
   "metadata": {},
   "outputs": [
    {
     "name": "stdout",
     "output_type": "stream",
     "text": [
      "🔍 Analyzing candle flipping behavior...\n",
      "   Processing candle 1/4317\n",
      "   Processing candle 1001/4317\n",
      "   Processing candle 2001/4317\n",
      "   Processing candle 3001/4317\n",
      "   Processing candle 4001/4317\n",
      "\n",
      "📊 Historical Analysis (4,317 candles):\n",
      "   🟢 Green candles: 2,206 (51.1%)\n",
      "   🔴 Red candles: 2,111 (48.9%)\n",
      "   🔄 Overall flip rate: 14.7%\n",
      "\n",
      "🎯 Flip Rate Analysis by Magnitude:\n",
      "   📈 Up > 0.1% at 45min: 9.7% flip rate (1,838 samples)\n",
      "   📉 Down <-0.1% at 45min: 9.4% flip rate (1,726 samples)\n",
      "   📈 Up >0.25% at 45min: 5.2% flip rate (1,332 samples)\n",
      "   📉 Down <-0.25% at 45min: 5.2% flip rate (1,219 samples)\n",
      "   📈 Up > 0.5% at 45min: 1.9% flip rate (726 samples)\n",
      "   📉 Down <-0.5% at 45min: 1.8% flip rate (679 samples)\n",
      "   📈 Up > 1.0% at 45min: 0.9% flip rate (214 samples)\n",
      "   📉 Down <-1.0% at 45min: 1.4% flip rate (222 samples)\n",
      "\n",
      "🕐 Flip Rate by Hour of Day (UTC):\n",
      "    0:00- 0:59  12.2% flip rate (180 candles)\n",
      "    1:00- 1:59  13.3% flip rate (180 candles)\n",
      "    2:00- 2:59  17.8% flip rate (180 candles)\n",
      "    3:00- 3:59  9.4% flip rate (180 candles)\n",
      "    4:00- 4:59  15.0% flip rate (180 candles)\n",
      "    5:00- 5:59  13.9% flip rate (180 candles)\n",
      "    6:00- 6:59  17.2% flip rate (180 candles)\n",
      "    7:00- 7:59  18.9% flip rate (180 candles)\n",
      "    8:00- 8:59  13.3% flip rate (180 candles)\n",
      "    9:00- 9:59  13.9% flip rate (180 candles)\n",
      "   10:00-10:59  15.6% flip rate (180 candles)\n",
      "   11:00-11:59  10.6% flip rate (180 candles)\n",
      "   12:00-12:59  16.7% flip rate (180 candles)\n",
      "   13:00-13:59  13.3% flip rate (180 candles)\n",
      "   14:00-14:59  15.6% flip rate (180 candles)\n",
      "   15:00-15:59  13.9% flip rate (180 candles)\n",
      "   16:00-16:59  17.2% flip rate (180 candles)\n",
      "   17:00-17:59  11.1% flip rate (180 candles)\n",
      "   18:00-18:59  13.9% flip rate (180 candles)\n",
      "   19:00-19:59  17.8% flip rate (180 candles)\n",
      "   20:00-20:59  18.3% flip rate (180 candles)\n",
      "   21:00-21:59  17.3% flip rate (179 candles)\n",
      "   22:00-22:59  14.0% flip rate (179 candles)\n",
      "   23:00-23:59  12.3% flip rate (179 candles)\n",
      "\n",
      "📋 Sample of flip analysis data:\n"
     ]
    },
    {
     "data": {
      "text/html": [
       "<div>\n",
       "<style scoped>\n",
       "    .dataframe tbody tr th:only-of-type {\n",
       "        vertical-align: middle;\n",
       "    }\n",
       "\n",
       "    .dataframe tbody tr th {\n",
       "        vertical-align: top;\n",
       "    }\n",
       "\n",
       "    .dataframe thead th {\n",
       "        text-align: right;\n",
       "    }\n",
       "</style>\n",
       "<table border=\"1\" class=\"dataframe\">\n",
       "  <thead>\n",
       "    <tr style=\"text-align: right;\">\n",
       "      <th></th>\n",
       "      <th>timestamp</th>\n",
       "      <th>open</th>\n",
       "      <th>price_at_45min</th>\n",
       "      <th>close</th>\n",
       "      <th>delta_45_pct</th>\n",
       "      <th>delta_close_pct</th>\n",
       "      <th>direction_45</th>\n",
       "      <th>direction_close</th>\n",
       "      <th>flipped</th>\n",
       "      <th>green_candle</th>\n",
       "      <th>hour_of_day</th>\n",
       "      <th>day_of_week</th>\n",
       "    </tr>\n",
       "  </thead>\n",
       "  <tbody>\n",
       "    <tr>\n",
       "      <th>0</th>\n",
       "      <td>2025-01-01 00:00:00+00:00</td>\n",
       "      <td>3337.78</td>\n",
       "      <td>3356.09</td>\n",
       "      <td>3363.70</td>\n",
       "      <td>0.548568</td>\n",
       "      <td>0.776564</td>\n",
       "      <td>up</td>\n",
       "      <td>up</td>\n",
       "      <td>False</td>\n",
       "      <td>True</td>\n",
       "      <td>0</td>\n",
       "      <td>Wednesday</td>\n",
       "    </tr>\n",
       "    <tr>\n",
       "      <th>1</th>\n",
       "      <td>2025-01-01 01:00:00+00:00</td>\n",
       "      <td>3363.69</td>\n",
       "      <td>3352.46</td>\n",
       "      <td>3346.54</td>\n",
       "      <td>-0.333860</td>\n",
       "      <td>-0.509857</td>\n",
       "      <td>down</td>\n",
       "      <td>down</td>\n",
       "      <td>False</td>\n",
       "      <td>False</td>\n",
       "      <td>1</td>\n",
       "      <td>Wednesday</td>\n",
       "    </tr>\n",
       "    <tr>\n",
       "      <th>2</th>\n",
       "      <td>2025-01-01 02:00:00+00:00</td>\n",
       "      <td>3346.54</td>\n",
       "      <td>3357.78</td>\n",
       "      <td>3362.61</td>\n",
       "      <td>0.335869</td>\n",
       "      <td>0.480197</td>\n",
       "      <td>up</td>\n",
       "      <td>up</td>\n",
       "      <td>False</td>\n",
       "      <td>True</td>\n",
       "      <td>2</td>\n",
       "      <td>Wednesday</td>\n",
       "    </tr>\n",
       "    <tr>\n",
       "      <th>3</th>\n",
       "      <td>2025-01-01 03:00:00+00:00</td>\n",
       "      <td>3362.61</td>\n",
       "      <td>3355.95</td>\n",
       "      <td>3355.20</td>\n",
       "      <td>-0.198060</td>\n",
       "      <td>-0.220365</td>\n",
       "      <td>down</td>\n",
       "      <td>down</td>\n",
       "      <td>False</td>\n",
       "      <td>False</td>\n",
       "      <td>3</td>\n",
       "      <td>Wednesday</td>\n",
       "    </tr>\n",
       "    <tr>\n",
       "      <th>4</th>\n",
       "      <td>2025-01-01 04:00:00+00:00</td>\n",
       "      <td>3355.20</td>\n",
       "      <td>3345.51</td>\n",
       "      <td>3341.14</td>\n",
       "      <td>-0.288805</td>\n",
       "      <td>-0.419051</td>\n",
       "      <td>down</td>\n",
       "      <td>down</td>\n",
       "      <td>False</td>\n",
       "      <td>False</td>\n",
       "      <td>4</td>\n",
       "      <td>Wednesday</td>\n",
       "    </tr>\n",
       "    <tr>\n",
       "      <th>5</th>\n",
       "      <td>2025-01-01 05:00:00+00:00</td>\n",
       "      <td>3341.14</td>\n",
       "      <td>3348.09</td>\n",
       "      <td>3345.41</td>\n",
       "      <td>0.208013</td>\n",
       "      <td>0.127801</td>\n",
       "      <td>up</td>\n",
       "      <td>up</td>\n",
       "      <td>False</td>\n",
       "      <td>True</td>\n",
       "      <td>5</td>\n",
       "      <td>Wednesday</td>\n",
       "    </tr>\n",
       "    <tr>\n",
       "      <th>6</th>\n",
       "      <td>2025-01-01 06:00:00+00:00</td>\n",
       "      <td>3345.41</td>\n",
       "      <td>3344.48</td>\n",
       "      <td>3346.60</td>\n",
       "      <td>-0.027799</td>\n",
       "      <td>0.035571</td>\n",
       "      <td>down</td>\n",
       "      <td>up</td>\n",
       "      <td>True</td>\n",
       "      <td>True</td>\n",
       "      <td>6</td>\n",
       "      <td>Wednesday</td>\n",
       "    </tr>\n",
       "    <tr>\n",
       "      <th>7</th>\n",
       "      <td>2025-01-01 07:00:00+00:00</td>\n",
       "      <td>3346.61</td>\n",
       "      <td>3344.02</td>\n",
       "      <td>3347.12</td>\n",
       "      <td>-0.077392</td>\n",
       "      <td>0.015239</td>\n",
       "      <td>down</td>\n",
       "      <td>up</td>\n",
       "      <td>True</td>\n",
       "      <td>True</td>\n",
       "      <td>7</td>\n",
       "      <td>Wednesday</td>\n",
       "    </tr>\n",
       "    <tr>\n",
       "      <th>8</th>\n",
       "      <td>2025-01-01 08:00:00+00:00</td>\n",
       "      <td>3347.11</td>\n",
       "      <td>3339.69</td>\n",
       "      <td>3337.01</td>\n",
       "      <td>-0.221684</td>\n",
       "      <td>-0.301753</td>\n",
       "      <td>down</td>\n",
       "      <td>down</td>\n",
       "      <td>False</td>\n",
       "      <td>False</td>\n",
       "      <td>8</td>\n",
       "      <td>Wednesday</td>\n",
       "    </tr>\n",
       "    <tr>\n",
       "      <th>9</th>\n",
       "      <td>2025-01-01 09:00:00+00:00</td>\n",
       "      <td>3337.00</td>\n",
       "      <td>3327.16</td>\n",
       "      <td>3334.64</td>\n",
       "      <td>-0.294876</td>\n",
       "      <td>-0.070722</td>\n",
       "      <td>down</td>\n",
       "      <td>down</td>\n",
       "      <td>False</td>\n",
       "      <td>False</td>\n",
       "      <td>9</td>\n",
       "      <td>Wednesday</td>\n",
       "    </tr>\n",
       "  </tbody>\n",
       "</table>\n",
       "</div>"
      ],
      "text/plain": [
       "                  timestamp     open  price_at_45min    close  delta_45_pct  \\\n",
       "0 2025-01-01 00:00:00+00:00  3337.78         3356.09  3363.70      0.548568   \n",
       "1 2025-01-01 01:00:00+00:00  3363.69         3352.46  3346.54     -0.333860   \n",
       "2 2025-01-01 02:00:00+00:00  3346.54         3357.78  3362.61      0.335869   \n",
       "3 2025-01-01 03:00:00+00:00  3362.61         3355.95  3355.20     -0.198060   \n",
       "4 2025-01-01 04:00:00+00:00  3355.20         3345.51  3341.14     -0.288805   \n",
       "5 2025-01-01 05:00:00+00:00  3341.14         3348.09  3345.41      0.208013   \n",
       "6 2025-01-01 06:00:00+00:00  3345.41         3344.48  3346.60     -0.027799   \n",
       "7 2025-01-01 07:00:00+00:00  3346.61         3344.02  3347.12     -0.077392   \n",
       "8 2025-01-01 08:00:00+00:00  3347.11         3339.69  3337.01     -0.221684   \n",
       "9 2025-01-01 09:00:00+00:00  3337.00         3327.16  3334.64     -0.294876   \n",
       "\n",
       "   delta_close_pct direction_45 direction_close  flipped  green_candle  \\\n",
       "0         0.776564           up              up    False          True   \n",
       "1        -0.509857         down            down    False         False   \n",
       "2         0.480197           up              up    False          True   \n",
       "3        -0.220365         down            down    False         False   \n",
       "4        -0.419051         down            down    False         False   \n",
       "5         0.127801           up              up    False          True   \n",
       "6         0.035571         down              up     True          True   \n",
       "7         0.015239         down              up     True          True   \n",
       "8        -0.301753         down            down    False         False   \n",
       "9        -0.070722         down            down    False         False   \n",
       "\n",
       "   hour_of_day day_of_week  \n",
       "0            0   Wednesday  \n",
       "1            1   Wednesday  \n",
       "2            2   Wednesday  \n",
       "3            3   Wednesday  \n",
       "4            4   Wednesday  \n",
       "5            5   Wednesday  \n",
       "6            6   Wednesday  \n",
       "7            7   Wednesday  \n",
       "8            8   Wednesday  \n",
       "9            9   Wednesday  "
      ]
     },
     "metadata": {},
     "output_type": "display_data"
    },
    {
     "name": "stdout",
     "output_type": "stream",
     "text": [
      "\n",
      "✅ Validation Check:\n",
      "   📊 Same price at 45min and close: 3 (0.1%)\n",
      "   📊 Different price at 45min and close: 4,314 (99.9%)\n",
      "✅ Logic appears correct - 45-min prices are properly different from close prices\n"
     ]
    }
   ],
   "source": [
    "def analyze_candle_flipping(df_1h, df_15min):\n",
    "    \"\"\"Analyze how often candles flip direction between 45min and close\"\"\"\n",
    "    results = []\n",
    "\n",
    "    print(\"🔍 Analyzing candle flipping behavior...\")\n",
    "\n",
    "    for i, ts in enumerate(df_1h.index):\n",
    "        if (len(df_1h) <= 1000 and i % 100 == 0) or (\n",
    "            len(df_1h) > 1000 and i % 1000 == 0\n",
    "        ):\n",
    "            print(f\"   Processing candle {i + 1}/{len(df_1h)}\")\n",
    "\n",
    "        open_price = df_1h.loc[ts, \"open\"]\n",
    "        close_price = df_1h.loc[ts, \"close\"]\n",
    "\n",
    "        # Find 45-min mark price - this should be the CLOSE of the 3rd 15-min candle\n",
    "        # 15-min candles in an hour: [0-15], [15-30], [30-45], [45-60]\n",
    "        # We want the close price of the [30-45] candle, which ends at the 45-min mark\n",
    "        ts_30 = ts + pd.Timedelta(minutes=30)  # Start of 3rd 15-min candle\n",
    "        ts_45 = ts + pd.Timedelta(minutes=45)  # End of 3rd 15-min candle (45-min mark)\n",
    "\n",
    "        # Find the 15-min candle that starts at the 30-minute mark\n",
    "        # This candle closes at the 45-minute mark, giving us the price at 45 minutes\n",
    "        matching_candles = df_15min.index[\n",
    "            (df_15min.index >= ts_30) & (df_15min.index < ts_45)\n",
    "        ]\n",
    "\n",
    "        if len(matching_candles) > 0:\n",
    "            # Use the close price of this candle (which represents the price at 45-min mark)\n",
    "            price_45 = df_15min.loc[matching_candles[0], \"close\"]\n",
    "        else:\n",
    "            # Fallback: find all 15-min candles in the first 45 minutes and take the last one\n",
    "            first_45_candles = df_15min.index[\n",
    "                (df_15min.index >= ts) & (df_15min.index < ts_45)\n",
    "            ]\n",
    "            if len(first_45_candles) >= 3:\n",
    "                # Take the close of the 3rd candle (index 2) which should end at 45 minutes\n",
    "                price_45 = df_15min.loc[first_45_candles[2], \"close\"]\n",
    "            else:\n",
    "                # Skip this hour if we don't have enough data\n",
    "                continue\n",
    "\n",
    "        # Calculate changes\n",
    "        delta_45 = price_45 - open_price\n",
    "        delta_close = close_price - open_price\n",
    "\n",
    "        direction_45 = \"up\" if delta_45 > 0 else \"down\" if delta_45 < 0 else \"flat\"\n",
    "        direction_close = (\n",
    "            \"up\" if delta_close > 0 else \"down\" if delta_close < 0 else \"flat\"\n",
    "        )\n",
    "        flipped = direction_45 != direction_close\n",
    "\n",
    "        results.append(\n",
    "            {\n",
    "                \"timestamp\": ts,\n",
    "                \"open\": open_price,\n",
    "                \"price_at_45min\": price_45,\n",
    "                \"close\": close_price,\n",
    "                \"delta_45_pct\": (delta_45 / open_price) * 100,\n",
    "                \"delta_close_pct\": (delta_close / open_price) * 100,\n",
    "                \"direction_45\": direction_45,\n",
    "                \"direction_close\": direction_close,\n",
    "                \"flipped\": flipped,\n",
    "                \"green_candle\": close_price > open_price,\n",
    "                \"hour_of_day\": ts.hour,\n",
    "                \"day_of_week\": ts.day_name(),\n",
    "            }\n",
    "        )\n",
    "\n",
    "    return pd.DataFrame(results)\n",
    "\n",
    "\n",
    "# Analyze historical behavior\n",
    "if \"df_1h\" in locals():\n",
    "    flip_df = analyze_candle_flipping(df_1h, df_15min)\n",
    "\n",
    "    # Print comprehensive statistics\n",
    "    total_candles = len(flip_df)\n",
    "    green_candles = flip_df[\"green_candle\"].sum()\n",
    "    flip_rate = flip_df[\"flipped\"].mean()\n",
    "\n",
    "    print(f\"\\n📊 Historical Analysis ({total_candles:,} candles):\")\n",
    "    print(\n",
    "        f\"   🟢 Green candles: {green_candles:,} ({green_candles / total_candles:.1%})\"\n",
    "    )\n",
    "    print(\n",
    "        f\"   🔴 Red candles: {total_candles - green_candles:,} ({(total_candles - green_candles) / total_candles:.1%})\"\n",
    "    )\n",
    "    print(f\"   🔄 Overall flip rate: {flip_rate:.1%}\")\n",
    "\n",
    "    # Analyze flip rates by different thresholds\n",
    "    print(\"\\n🎯 Flip Rate Analysis by Magnitude:\")\n",
    "    for threshold in [0.1, 0.25, 0.5, 1.0]:\n",
    "        subset_up = flip_df[flip_df[\"delta_45_pct\"] > threshold]\n",
    "        subset_down = flip_df[flip_df[\"delta_45_pct\"] < -threshold]\n",
    "\n",
    "        if len(subset_up) > 0:\n",
    "            flip_rate_up = subset_up[\"flipped\"].mean()\n",
    "            print(\n",
    "                f\"   📈 Up >{threshold:>4}% at 45min: {flip_rate_up:.1%} flip rate ({len(subset_up):,} samples)\"\n",
    "            )\n",
    "\n",
    "        if len(subset_down) > 0:\n",
    "            flip_rate_down = subset_down[\"flipped\"].mean()\n",
    "            print(\n",
    "                f\"   📉 Down <-{threshold:>3}% at 45min: {flip_rate_down:.1%} flip rate ({len(subset_down):,} samples)\"\n",
    "            )\n",
    "\n",
    "    # Time-based analysis\n",
    "    print(\"\\n🕐 Flip Rate by Hour of Day (UTC):\")\n",
    "    hourly_flip = flip_df.groupby(\"hour_of_day\")[\"flipped\"].agg([\"mean\", \"count\"])\n",
    "    for hour in range(24):\n",
    "        if hour in hourly_flip.index:\n",
    "            rate = hourly_flip.loc[hour, \"mean\"]\n",
    "            count = hourly_flip.loc[hour, \"count\"]\n",
    "            print(\n",
    "                f\"   {hour:2d}:00-{hour:2d}:59  {rate:.1%} flip rate ({count:,} candles)\"\n",
    "            )\n",
    "\n",
    "    print(\"\\n📋 Sample of flip analysis data:\")\n",
    "    display(flip_df.head(10))\n",
    "\n",
    "    # Validation: Check that price_at_45min is different from close price\n",
    "    same_price_count = (flip_df[\"price_at_45min\"] == flip_df[\"close\"]).sum()\n",
    "    different_price_count = (flip_df[\"price_at_45min\"] != flip_df[\"close\"]).sum()\n",
    "\n",
    "    print(\"\\n✅ Validation Check:\")\n",
    "    print(\n",
    "        f\"   📊 Same price at 45min and close: {same_price_count:,} ({same_price_count / len(flip_df):.1%})\"\n",
    "    )\n",
    "    print(\n",
    "        f\"   📊 Different price at 45min and close: {different_price_count:,} ({different_price_count / len(flip_df):.1%})\"\n",
    "    )\n",
    "\n",
    "    if (\n",
    "        same_price_count > len(flip_df) * 0.8\n",
    "    ):  # If >80% have same price, something is still wrong\n",
    "        print(\"⚠️  Warning: Most 45-min prices are same as close prices - check logic!\")\n",
    "    else:\n",
    "        print(\n",
    "            \"✅ Logic appears correct - 45-min prices are properly different from close prices\"\n",
    "        )\n",
    "\n",
    "else:\n",
    "    print(\"⚠️  Please ensure df_1h is available first\")"
   ]
  },
  {
   "cell_type": "code",
   "execution_count": 5,
   "metadata": {},
   "outputs": [
    {
     "data": {
      "application/vnd.plotly.v1+json": {
       "config": {
        "plotlyServerURL": "https://plot.ly"
       },
       "data": [
        {
         "bingroup": "x",
         "hovertemplate": "flipped=False<br>45-Minute Change (%)=%{x}<br>count=%{y}<extra></extra>",
         "legendgroup": "False",
         "marker": {
          "color": "#4ecdc4",
          "pattern": {
           "shape": ""
          }
         },
         "name": "False",
         "nbinsx": 50,
         "orientation": "v",
         "showlegend": true,
         "type": "histogram",
         "x": {
          "bdata": "qHwz696N4T+i+q5o9F3Vv84HqOPhftU/BRvnWQtayb8jiP7LyXvSv59vdx8qoMo/FtCUViJgzL+IOxwQPt/Sv7HrSjfsA76/Pv8UMpPl3j/2qHXR9lLJPxAEtrmOdtO/ItReXqJ+pj/xOJxCbrTfv703qLVZucE/97kwHYpeqz+6e9RL5aSsP/qChRBLkrO/5QZzled97T9hIhOeKMmjv51vLXrEF78/9OB96gBA0b+w+OJDJRPrP6a9xjvoh7W/AJ+vZzAMyj829H4NCyvAPzX8vr7qh8A/MWlwaPx8gz9EVpHG/BC2Py1EFXrQPK4/f60Rsk1m079lWH/UJ6bZP4qlxeHh3+2/bmdrGlpz4j+1eYsJDCfkvz7WdvP/eME/DUjJnX+wyL8DT4obsnDbv1I6WRw1tdU/GYJwamo5pr/bEqyEFna7P7XQMslpBcw/lxpRV69X1L9X10KxrFDKv7eHFmYttMO/kBjiHC2CwL8YqPVKnm3gPyv2CB3NqLI/QEmJ7Ngk2D9RuWKM3lHmPy5saEfLAPQ/uOSwnfSq6D/zHz/uKQPlP3N5y2Y1JKK/thPasRDB8D/DcE29vLPcPwsjNmZJoNi/zFXzM/3N2j8rwCLveXXIv1/VkPZMO6y//E4l5uYEz7/bnEEAKaCZP+ORV4dB7cu/v39IRKk7uT8vu8YMORSiP0fFXzhTcbS/RrVrSQZsxz+0dgH6/lC6v1BSAu5vAsc/H4nr8FES5z93BTwfWyOuPyfMNnM60MW/b6yTVqrc7b/hFztwTXrTP0clcQsjULg/6J0G9mInub+ul1xpn8OvP1kEqBskcOo/DErzd7pChb8UQwrhShagv4cBWVSl4aO/l/QvHdBW1L8c1nWBqjCwP7eakevUSM+/d1pwysTixT+sCdO7I4XMvwDq4jqYMck/9jDt/By1wL/UDW44OlbQv1wjSLmpaK6/iTtk6VAmyD+xaQlazTSZv161tMyo5b0/Yb2HfEDg0D+8+yfnZLW5P4lapOUets0/DTuRgqbBuL+z9S7V0xWsP6OGbmaXqcE/VgIj8nkNmb+5VeD5wMPCP2vf18VzkrC/WgQoN5GlxL/yvlb8gI6uv+hIGn3ufMU/6dvj2TSK4T8G8JK0VVDPP+8ejg8cNdU/6kqONjcyx79cV8ZqOTrcv81Mt3iOY9O/Wsf1jv8Tpj/RqTP2mUDLv/+vDgqZddo/rksV5hS6oD+tUOZtzoi6P7jXiQkwTKO/rpjngyA+9L9EtANRnAfXP3C6Sn8VKdY/8Ldt6V/3tL/onlUx2MvWvy9hNDOC2tE/TZUkXl+3vT+o6d+Ut+rHv0hHOP/vWtk/Xnk3B3+Nzb9mUh53xzWzP5wP3lgP5b2/jPW9FiqM07+3xtW+O9yxP6HDHU24O8m/cLUtGQd/wj/8weeKQYDbv+MQM8QMMeG/djrG+Ov8wL9BmQSpyFfIP8SjrMfnLdG/t+tNbfsUCsDS73it2PLHv1w14DPq7eO/IqMhEDEu47/MJFoB9gDZv1sN6a6UP+w/UBcQJ4+S1r9/4CYJGO/tP8ftMBOIb+a/rkn6NnM74L/lbAmSqxfOv8FzopwekeE/Ik3tcqgE5r85OJq1dW7wP1f/UYK6u+E/usv4es3Lwb+EYEOahdPTPxuYdq4aT+S/O1a/8Vh54j+3BXT46zLAP1O2AOfeje2/n3v7THYG4L+xaO9xzqQBwPu8uJgMZO0/ByCsrLULur8IqIn6lQ7PPxfQ6PcNMd4/e3BHhkTr7z+A3SkYGzO0v0DqshfjKNU/3Sc6BVRCp7/WBqtwEfrhv65YNZlO1ck/4WaejLzS1b84FJGq7a/Dv8CwEJyCpeO/oQKdKH4G7T9Ut9tLko7RPwnekSiI4OC/vMBZSS8T078OtkUvQdXYv5bqJjRq/vS/kamJq/uO2D8KoJpK/Vf5P3HGF/HHcOC/YZJaGhDT7L/CemRp2bXYP/F1/aGpJO6/o/Xfp2HTsr/EuH0T0g7kPxNR4RwYe+k/c6mveMDT1r/EoOqllujFPwZhwC/5lNs/GQrv9AlByj8ace1+gWC3P4/XV/u3F7K/23gJM7/44z8kIkKPjf/NP+amd3fQ2+0/bLj6lHUJxD8RQs8f8f3CPx0Yb90nL9i/ofjaoP2o3L+p7tfpbT7/v3ZUXJApSeU/iyNieWZc0j/J70LcAabzP/101SBdpuy/m5zE0EyMqT/EDr+YYGHwv23mkNyYPtU/3t9ZNGds3j/7qVJOHWjKv7yuWx5h6eS/XuBEZnTluj+XFhIZEFLNvx3X8gNvlLg/3mqwBS6S0b/oO6q2KGvHvzbdFqwSleA/KncVNJGcwD8RMZepKJHjPw/+N88JZ9K/T27BxePCxD9x9/jgaT/Dv2zWccDKO8I/8izM5JNUwr/kzdiyuEfZPxUPGRvZ+NA/roKXZQS43L/6OsPbhcKfv0b8O/nrwrs/zkcjjTJnzL+XN866eMHLv5g59FSTks+/Iz0jn3K2wL91IYHy+VPcv4z4KU0el82/QOhejio2tj/0zQXeR1/aP3C+46m279E/Aa6twkYjxD897QDgdv7cP4LpvCSmr8S/DyQcozvJ0T8ru0YqPNjJv8iBwRc5hcC/82/+7dbb0r8S6PyjJtnkv2uUYhp8hec/TqIr351r+T8z9o3evljvvzO4Fk94F+G/fVeCqOyprr9pxTi1UCiVvxfdRPIgh96/zF9wUBgb47+CDZ2Z1djYPxnyRvyHN+m/ICpPZUId0L/8BGJrncPyv9OYR7lnH/a/AiuuLrge5T8H1CHZi/f0vx9u0RF4ffE/Z5e1PLYI2L/HT2ByDUKNP1vDRiwWNOa/FlSnnUUk6j+xDSFb9jnyP2VQndcnCe0/yrFg7yGE2z8EoDPgcsqrP/gi3FUF08m/P5Hf3Jj0zj/tpnTz5+riPxrSILSSddY/82Fdeu7a0z8eKDiOgZTAv8hXTy6qmec/h/jyE5Mz0L8o62loNIHbP/LttHR0oABAFVUHmcds2L+totb+s+HivypsSzRAp+q/eaRevR2n5T9tBbHHhaDlP5enWgww/uC/nthQ2xPK4T+xf4e2fdDaP4JU315RnpY/z9gTO6dLur+W0qQbtjbhP1VTkjL+Tc6/yPucd8LztL9l+OVRdkfgP3/QADaI4eK/RmtFfQcc1j+tgmGD+zzZv6itD0nB28o/l8uv/fB8yL+Xx5PHq5/CP2dZYAnl+96/ZNMwYhK01j8C2jOMrknYvzft6nbjONI/MT4AsEbwAEBlXH7cFq/SP+fjFPaQENo/9sVoZ3Sx7j9SO0ixDD/xP4K/S0AyRK6/FBQUkyYXuL9ZPIGa9K7bPy2EAHe80fi//U9ffhb8wD9Ljcx81xLXv4Kys5GjC+G/i73I698o1T9XCSab2EzGv+tCBkq5XdE/9eHb3+h5oj9SHa8m4u34v+dC61X5xMU/WbvDRZdCs78IAsQj2hHJP0seVdrMEbc/dSN7BqLS4b9/SO8LL7ryv3Yu7K3GQOs/rdT7eT1Euz+gqIiqm5bRPxUs8l7f7ea/LcQXOCmEyj8N7/T3vMzQv97mr2BLwdK/0s6w3YFf8b9GDLYP6VXMP/CPtiCYY8o/pHKeR6yR/j+FBIksm57UvwfiUZS1r7y/oVzye4uIvz9zzXjg/rzSv2J7qFEvu80/mq1qh17N2D+bPPnnxNPjPzUSiY5bV8C/QdXkN8V63T98B80Fy4J1v7/NhyBEFNS/Kd1O5FdYwT9vQi8g+inQvyfksIoftOI/hVHFlxC15b80/tTf877bP3WXVje1iQJA+dVt4kxr77+qF6yOnHfOP78z/VwIQ9U/YbFjR9yd578MknP2Np3BvxPScnWo3P+/WvJV/o7E1b/gcZz+Mbf1v70C8kWi1Og/9KNbn7vE3r/ZnDXY+qftv0dTmq7aUe2/0D71yHCj+D85fZcTACfnv86lEQx76ek/amZTGkAP7b/SD6J7RdbwP5m8N0AGl+2/3FTi4Ii+4j/DBW9txOTmP/5zlnaxNek//EZecAyR4r+uJUiyh2DYP9ruHO0BgtI/2Pr5jOzU8D8GMAzeznjRP7c56+jJ/O8/TMWlRmLD4z+pbZe+Q9Xgv0QHzzlYq/C/ulvgqZSuzr8a8ZB56jjJv+1BLsbLava/CrFJcnPf8L/Dss71T2zov4Xrx/HDu/M/nJJctVghwD87saVKCo4GQHTqHPQbmKQ/nU50MmLM4T+jro74LWDRPxaun8dvQuy/NNgQJP9/4L8aSt+gwFHavyPj4J4cRQ3AVqX71kXO4z9iPtWClsf3vw3X+uqNhOW/1hkV+GQo2j8IT4kxHO/yP+zeOeMNdOs/qF3jSLwS3z9tV3zNlHD9P96LMJoGu/K/BIvGoCbQ2z9kbK3YJr7jv8Ocpb9CFuQ/EO8YbpOHBMCWNeYSnKPkP6IjOU9GLrw/otbRAjORnb8ys6NLvQXvP34uogwyqBHANLq2JUD/4T+njzS19uzVPyGe8vA2hM2/qbNFIIDnuL8sa/ScVT7tPyZP5QOnruC/CUaTvJI75b/ba/TBmuzUP2rvphDcsbk/GG92Laf77L+5wY5HGf3fv6Pj7sCj4uE/Tg0eUV041r+oNa0wCYbRP+iux1BHeNk/rbCTG+c6tj9Dpf7S8EPLv0yC4AyJ4r0/JDSvXzyD3D//knjQvAnLP4Nmyn0wn+K/jff+ETTi578WA6cCSozePzX4UfXhScA/N9Iu73N/179Rg0KehhS4PxRA/YDwNfK/S8xMEnec0D8C/e9KMVC/v826PSOHlM2/eZpKcaab0b9R4XUB4K/jvy4rKLXM1bg/OtEz1Ueo0D/vobMMaSnSv22sXSRBDNq/TaO3hvmutj/pECQ7I7zavxxBjaDm8si/eyYTIX9+oT8W5F4l5vDav5iwopxfbuQ/EnYKJSTfrT/LpXeX52qPvzeFcrdgc8k/yzA3ItHm0T+xnrHYoXfRv8QPSRW0Cd+/qEPKXPa13z/hOEn/Ksbqv5f4/00QNeY/ILu6OaVLpr+aBI0QcRXeP2tiy60tiNu/u5HaJU2pwr/24CHWIjPQP4J7OyjQO9C/14fETte66T+kHwdWLXjxP9iQvi7KU+K/QQDk+jDSkz+g2bPA3fnov5wjGOVPJd2/98D/6StXAUDsJXcGc3+kP/OA0NGhxP4/nmtzaCVN3j9b2mmYLSD0v98UtVVFW+c/okZgAeL15z+mkyBM1LLkPyHD5x1/xPU/WkZfdOYu6L9P97J8xv7Tvx72rtJ5suM/zYDSyTdSxD/90YNeThbWv2lxWH60uM6/xj7/LQqT5j+U/7ZNJYPxv9VaHRbcptg/O1hWd8uH1L/Lx7HKLj3Qv3NioMkEBui/lUfsL4zWtD/wvzrR+Wfhv1wlhcBPmOq/TBVvva726z9+QQsIeBTLP9eSQcylluM/hs4eGhWy178oLbVGo1PGvwEBBiS3+JK/oucqrnP0p78KC9nkROSov0VA/7LCBcM/ahFAqkI1vT+RlVyc1jKzv+eQ3HMlx1g/QGChFm484T9Ou8zz3XypP0IIw9y477y/yAagRPWQvb/7mgNaBRiGP7goGb957sO/xWRn+JLd078vNVqD/RXBPyncc2B/ztE/pFjjL9XQz7/eIog3c9/hPxzwnCKhHd0/Bmy5GBjazr+Y1lkdDSDAv97OOSPtNtG/zKtlFiyZ7b8e2vkObNO/P7vBdolC1c2/UKvpBZfolj/f0bte4LWyP06vMvaBarw/xGKBpBPi2T89+6vl8MDAvxSIMZ/O6+a/bPUANRf/9r8UtYOMc/zEvyxrgsfo+dK/7ZkW4q5r3b/Rn2ydVzzeP87bA7jxo+G/NkCI0JWk4L/Y0Ius42b3v57/sb14Zcq/2nvUTAAD7r8j0tee4B3BP3fJF38rzO+/NR2vBxUs6z9aQ+mvMjfqP/a7kVcWk+k/QxXCyny79b+mfAnLQhnYvx/l636dA+c/wunfSd3S9z9kFugjM97QPwD+bsW9Jdg/hs5hJK1ewL/1uHLsbcDSv6am9Vxhluo/AKOVD6FX5z+NEpX5OazbP7DTjh/4abs/wr0+KYUl4r/X3NDMl7nMPz7bccznq7o/SOmYyo5Lzr+ZP9Hr7tuzv4KawnvN1NG/gNlKM1Kp07+L0EBXPkGxP1UAj7PwWtm/+7TUQhhz4j8ZAvFsaLTjvwyBSLW+BNY/upXx7Y6J4L9d5X0sPxfkv38uH7RF8ee/zv4MfhM97T/vdnULrZvev0slfFHbXu4/Y0R1qsL0oD+3gSajTurDP8yIIf1YK8s/f/PcUmv+vr9nPWRCPG3YP2Rpc33G47g/VG6RA1LGzr823DZ979nXv+ur/kIAmMc/OYgtsOIQ4b+1w8gjyvDdv3uMn8kdxra/zBgpJbuTtT9x9b43Kcrcvw8trQOwJvI/v0R7ijDfpj+Jnnk0YR3PP0ArBW/jkM4/3PWhjBCe1r9dJ2CnaR7lP9kzzgdRatE/XlG6NyPv4j9RXU7IeqvFvyNwZIbQxtC/H3KtrGG2xL9l8koeTeWDP2mH8XmUGtc/caHpYVPa1b/HHQ8SDhHOv+BDYi9Pu+8/igM4nQrHxL+GE9/JKqfPPz3Dr2pU9uK/5avvO9sJnr9XSHev/q3zv1p6/s/kBdo/5a6l81zI6T/WshQpC4fCv+hBXTM+pdo/ekWqmbkZ4r+f2THF/hDjv/ReNgG248O/U6mvjxR56D/4+uGRPnLlP59aD/Uz+Nq/mdOT8IIco7/2YUdfVNfpP4sNvnOOYJQ/4T0Fbz2A/j9juMTj6HzXP9ZNS5C90Pc/jxzWyBPe678Yt7bRhuLhvyMfbwg6sP6/dgCoUNfp0D/QDgCy0lvjv/jnAJ3rZ8a/QokUpqhY1T9/9gVclYDgv1p7em9D79k/draRYEr+vT+bQEb6WADgv7CPSs7LIty/PgOhYFr44b8Oa8wmnt/rv/E/v+okWdk/GUljzH6G1D8DBLDqOKHRv3fGTeTr++A/yvJOkH6J1j9WsFtF/DTEv1XbDuVnjfi/+BIXMJ4x6r+lAMjaBDeavw5sY2iuIaW/fmN0Hveiyr/sy3LRRP3yP0kkuMY4LsE/kJE+G8Hs6b8Jern55OHuvzHR1xO1UuU/jbsLplqy4z9IcPtJsXzpv1Un/X5Bl90/BF3JHkdwYj9lVI5+09jQv405V+dGxvi/prjv0fO5ub9GC1Dy56LoP8XtpgOL49q/sWbwoISL9b+2Zcu61qHqv46Jz8fBmve/OP7+H9L2+D+MFC7LnUb2v2yhUhp+1AHAsko7kbSr8L8+VcmTZK0IwE5LTTnw4wTAFIOVAp2g8j8BOVkFcucAwI9vkml3a/A/1NLOsVJoA0Dq/sJt96MIwBhh05hpq+s/bG9SUZy5779vXJkJjSq9v+jsUFUBSv4/ePiqmEjGCUD5EQlX9LTaP4u1bPrYCOI/t7tbQFY34z9PsWTPMyX+v5mCKyYg/vI/n79TeHYUA0Dr4RcWAmHev3oTbZWBfeA/NICwOW6X7b+GmXYHeDHEP2n5Dgw1aJi/ndmPJbSREcDcWXl8m1PwPzfwvnYXJey/iv23RwLs678VHmA3EdQAQNd+CVP+lus/3MH61sa69j+7ovRTpy30P5QE/K98Bve/OW3rWe5uvz/8jD9L+ZHgPzP7pG4P2dU/6KbaaE6R7b9YsWcB1VYFwAGPEWzapvQ/zgIVTKeo9j916666H9vBv9Y64Opht7I/H6+WAXLIwr+ZVjYNnKrdPxuXd9LDRve/gDPcJdaU4T+mxGhLQH7IP5tqude+iOe//pG+4VrL6j8PrHlcy7vhPwDwZLW8MdK/iLbac7Nk6T+rcEfb1uXgv6Avt/BYfOC//Ia4NahF579ZkwYDXAjvv6/eQFrAFvo/jimTRxAR8r86By0OVf7lP/GIzhCVP/S/19tMbCsH7j9eYdp2ZpDdv1PbArpW7ds/6hdPjjwD6D+HPuqwHankPxZrCNmNgOM/XfkuEM0Z4D8xRCFHju7ivw7QcxlSO5i/6uVGZqTB0T+NVQLogtnsv8uQj3rGsue/agB+lYW36r+NWAwvlBnaP+mSmzXbR/e/evPSzJ+S9L+n5ce5dkrPv9BeAPU+3rK/6VjsxXlw5j+VqGytdsnmv8UlL04bOua/u0l6zBb367/Lk7QkcTSsPxNfMKsP1uU/kMz0PG2dyj+C1TDSy9Hlv7zpA8y72cc/j/TBIztWw79P81S+Qp/0v0gyqN/iGOo/J5fKiL+v6D8uxKqrtA7LPzsXVp38IcI/uNMRx60W2z85BkYymse6vz6/muQQ/8k/0LK3xRzb3T9kUM0l1Zj6vw/yp8Dehdy/s51/Bfdj3L+LrRrn94rZv6vFty5rwvy/xQGp6MsQ0T/Mz2o71S/gv2bChW/C9/Q/qNYziG8W9D+h6wQ4V9favwbpeUrsZMI/cIP3tdzou78Kh4760gHhv862PgVQtcg/UxavycAS4b+XmJg6WxbUP5gCpghbEd2/1sZIz/jl3L96CNUTnuvpP30AAADAwdm/K9V074xn6b+aKRybtdXkPyweCogOEro/94aPYSsPtb+5SaaKcgfKP2eJrVeTf9y/HRLe/6e/2z+JaNXQGlbZP7EUPnnn4s+/6gPVFDxF+j9yB1ViBxrWvyku206FBNS/cGBr+3NOoT+fBn9Nw8XcvwEudvi+9dE/S5yEFIMpv7/f65B/S6/qv6/mKn1DotY/AbUg15+j7z/uxELswNK6Pw7j0ivJZOa/pGqCSLngrL+AKM+fv7/fvwTNyf/UQek/jKoVUj57BsAyDZEuxlwNQG9dfqAacdA/YH47H9qT6j/2P5LUyToFwKefZerKEOM/Ccv8XRCi/T8AK6GoHRWkP7gaoB4GC94/Nob0D2xx1b94cLpb3D7YP1f59EosGps/pY6+PhSaxr+bsPH4AvrSPwtgriTg7de/rhbJndEQ5D/eWj44MeTuv+CIJCeqIMA/+RDI2wegrj8iYBRrrN3ZP+zeWOJnLNG//1tv1thz2D+Lgjc0oJrnv5R7SQcwv76/wevrbjq/+z9b0vL06tC0vz0GNL2cHOW/I9aBIA2f1L+/fr0s/tXVP5UqH/4rH9c/6nAcxv9ZhD+vVILIawLJv/sx878LCMc/pYzuinBv1L+nVOark17Rv+UTmk84BsU/DKmptujh5r8j4xXef6Pqv4KiSfHjOPA/bx8nHcVB17/aGbsE2IPfv5fgdOsyq9C/YTfFvZ325L/dxj5iLU7ov02IFnA0WrU/gmcx/HzR8j9HE0tLQBbjv7UU+OMh1OE/TxsjErOKqz+KgRrwaC+6Pz6r7FBaks6/yk9r959UmT87AIbbFtbcP14X/jsP0rO/nUPcXPvE5T+XHyAhZrLSP+tAyn5x1tG/fY8PZOWvxr9/iy+++OLgPwLiOnaUGNY/jqQClsX+9L923yfped7TP/NeMLowJtM/E7dlfUEe5D/dXiCOdK/ov7xRH1/ikNQ/6dH4inu/xb/YAfgpod/gP2WlGSkBqAhABpdv+ZZv0b+nx4JGQeHhv+yjmwkA0+I/Tyz147oV3r9DjlBVqa21PzjMKXg5Bd+/7iOdeGs36b88o1zVan20vweQUOdG9d+/bt3MMgL94T9qIeuqOW3dv/dI95eTl8k/2oV/zof64r+fcHPx5yfxP2aif+UC5eS/yoN6DDNF5T85zZK6BgrCP2R3YkahY94/mDzqccyr5j/TREEIfl3GP3amn6EswNU/XunIedVK0b/dzBVmaKPhP6pfvKxueds/6IzggxIT3r+cAW6Q9tDPv3L9GCF8+9Q/LXnxcb+U0D+mStCOqezBv1iLWlvVleS/XLHM5o6z0j/qZLKU1f7NP4R1m9wTjNg/N1bHvZa52b9C7NGOwyDYv4FAeh5otNs/OVsQfxTU5b83BnHYjUHMP7EH424Hd92/lnVNrFLqwD9Bv/ua1ALBv0/DMJHVlce/KzF15TEgxT/Hq3YcznjYvyUZNjrc+aS/GbdlAzSu1j+zL14Uh+idvzSg+L4gBr4/VDqCYArtyb+CptjieePuv1rTu9W62ck/w2Cl8MvUxr/nTTYb/KjQvxK9Abg0i9w/iqzBcMoiy79fceXpHMjUv3j0ok45L9k/ux2ozIDe2r/u2Y2t9Iy5v5MDC6jRMdc/Fj7HHYWuwb8r5mwDWI7APwthWR9oK7E/tDsa45mbwj9X8R0x8UrHP26dO9p35+C/6vgL5vPzzD94asCpg7eWvwtfqDNAOd0/mwNhRTNrx78+qd7ePeTTvzESkPck1dA/v6nEYTjTt78HyQ6T31Hhv4P7+WHTucI/fMYIEiQT0L++g6KJYvPjP8KyxJD4SuG/qbdPZFac4r+se8+nvsDUP0fbJoXMDrg/+GsAq2QFx7/0Cl+6X9jVv/fz8eRQS98/VbhPECXx1L8sEMH6CL7lP+TSRQLye+4/dc9jFhn38D8CEonP/tPhPzUpnMJazdg/KLUjFVCC8j/CBLgRXG38v7uivDUJIua/vD4sFG/m1z+UB1ql2WDxvyWC+O/HjtY/8oxtC0FH5z9MNQJM1oDyP0UMkXKBfPC/8v64NeOb5b8S+p6xo/TYPyuvUtS5r+S/kBxuPy5bzb/tCbvFRn3kv77QscCq1dK/WFHcfA4o1j8kIR2ZLwLCv6My/dV2cOQ/hRaXCN/w1b8CJRxokNPuP3mStGRajMS/ee6+gK0S1b+IxydkYYTNv8ssMfAiL/W/3LAUGjH75L9/Cn+MZMa6P8DFHBzHHLy/SXChfV0Y6D+SOGuEIZbKP2ZUPAgm0to/kne2T1QPir+UnHCstmHMv27Np6pv5OY/bouqs5g06b/tk6yZiF/sP2mMZU8SrKI/cMNj/Dwq2D9U4p9YtIXjP0YBNbBzINi/ajFp1K6G1z8E7AA0RfLmv1A5XU1sKOM/u9QaiEwv3j9ywtus/615v/M2XmoA+Lm/ZRhXAuYs2T+ZOx133M7SP7PUvWFLMbE/1q+1vOCZtL/i/EcJNULVP/5ua4t7hNy/mZRbZwfj1z829xpoxFenP/swjVzOa7m/JaWV6TrcvL8XmpnyrICwP+1Wb9Tdf8K/ED01qAMB5D8V5l9tUojMv1L+Y+Fi+rY/M2v5oSXjlr+jvuaNRlLbPyq91YqeL+c/3heNl/PJxj/rPJCvOVfgP6fXPaZFisI/+ii0AeHY6b9xp+wcQuDSP82/zNJHdOA/7InR16fbwb9Na1mROF7GP6VA9ReBtMO/srOPuWhU0T/beMr8i9nUP/Df6s/8rcM/GVbhmW1otz8V2ld5iGDDv7VLuRRZKMK/m8r0xgMp6T/U+m1hTbroPxr+Py0SENC/7ACf1jN61z+TugcGHSXwP2zUaBvqE/e/7/cKf9RuB8DnjXz+QL7hP6zT/KdQJgTAqizgyM3I2D/jEOIfuCz6vzpFD9yKtb4/WaynlH+w5z/vRerNDqrhP7d8ov0Y3tA/552ReEbi2b90GnYNTAjRP70PQZNVL9o/XFqXbv9owr+iRCfjxRO3P39kwo3Si+Y/7eRE3Qb46z+5a80Lyj/DP1BZRwnMd96/6jswNQnR4j/W47OSf9HaPxsx0gnETeI/NYDmFeaE2L92tTGKIHDCP2bzRxBXF8+/ThJTDv+LxD/X6ry1wxyxv/K3W91D6Na//aCtagAPzL9nlh2dI0rAP4g7iKugmL4/RWW+7TqR5z/Cf8ntIzvRP5YIt9Rs2O8/cUn7zTui3L/AO3OxIg+Uv4PHXSjpN+G/cckL/dYDx7+RW+bMbJftP1zF95rX++e/S1qb5uQox7//mvWurgvvP0bzNMuqu8s/6EnL0glIwL+MVw5x7VPTvy4M+8QTR8G/EQ5hLeDh3T/GdfKWdvLWv3pYfPAhfty/9W944iVr0L/7zoeZCCr3v/huJWVebtu/JdJXl9W58D9GohLHRe7Cv6ZUa5VSrdW/0R6SnPh38r8+VvEHcQ3rP1cwAKhTCe2/yOZA6ywUxr8BGMCTTebRvwscHnjwedw/PvOl0IgN5T8QBnZe3zDbv6MW5+2Yae6/2X6kBEVL4j+rQCo5LzsCwDFV211CAOo/LNUB7SC17r9QC8Jp8VfnP/AVHpTePOG/NL/7bNiR4j9ffiP8LYzdvx1JAzKWDxLAqn7rAWz6/T9gt6YT6F/Gv9g3vl0fLOc/69cUR+UN2j/S7N/U3rDkvyx0kuU7LO6/oxRlT5Ng6j+XtJKXAibjP8gOZqFBKcs/TYoGG62HmD8INvkJCTDqPyW8RD3cMu8/d4nw5tRAtT93o4Fgun7Uv7l7FTwHCuG/Xq+nT+qX7b/74MLJQ3rNP9MwV6SqJrM/j2xB50a4x7+RyV6lBQG2v2F+dUXKruQ/9S4wrbm1578RkExPmRnnvyT/ny35APE/EBurp+TnqT9Tnvz6kTfvvyZ3tgzva+W/SHrAZ0YQmr9crv4gfp/uv7Zq1WAkYuK/n3HmJYH8/7+D5BwvfUbRPzjG8RNxm/M/KJpjCFch0j/QXkGQIWHpv50ABOoPlsE/f2D5SUzi2D+S5O5CH+7Gv0NMU8Aeftm/og2Mreqf7b8wV2L+HovwP7IVV12ATOI/BRDFLhh15T9RjP2hNo6ovz709NmdM9Y/Q7rcJ4Ad3z994iZNSDLxv+ShornmC9a/4jPakKBx5T8U2CDTmMvhv9a5bOcjVOo/9JCatwRrsT/GM2b5I6/4vyT4k3HmTPK/PCDA4JF97j8y6hltcdHcPy7XX69BEZu/ybhmshLVCcCA/bZEsPAAwJL1dYG518S/ukM9mHQlxL+K3+aW29jkv9QdnnEEWvO/NE5qV7b2ob86o8dtjobsP2Dk9S9g8/C/8GKGiMJb6z9cgkXycQHkv8R8zAjWhfo/h2kjlOAN8D8pr0wC5ioBQPB6x4y8Odm/huVhn5Zn6T/z6MBf67fbPwcvSn3Bs+2/kRvom1l9yD9Z/GjrzW7Wv8QCuRo6juw/qnfMqZ5J3L8CSNMIqKbvP0iM/wkk5+I/O2qSDHbOxj9XaiJ5DIPmPyY9XGaciei/2cH8nhbu5798bbeTg+3avyIEuB6K4bA/+k3Ywj6ayb8VE5d+0p7wv776vl5Rtey/6WhvlbhA0r/d7y8G+MP0v+nbAAj5Rdw/JiZYK6k32z88rNsbh0rlPx+xqBRLydy/JYIvL6086z/ppgA3iCjgPy9AtcH2It2/Ezf1m5ej4b86OVntnJPlP7Kdnyv9sdc/oCCxqdqttz8syRCUB3SRv2p7wGtfHNu/MPtbX7uk/D+mjyvjfmDXP5auW/RVTMu/XA1yNmDt2b9csY/DS8Xqv6OKUilnx/C/U0uAah+jA0B6qALDIxEnQHhjg1gSMAVAXR3lqJel578OLOS+pifOPxQxawnidts/wqqhtNcr6T9QWNnpHADov/29HrgrWfi/YGKbzy086b8pDmEyhz3ov3yDHPc6y9M/+uSQ1XD0yr+KVI8YGPYDwOFFsXlPbdA/74Y+b3U56L/g1TMD8qq4Pxj4ul1fTeM/NfWbb/sQub9X43xhXRnhPxTwS4eTQuk//n02Eh6QAMAsltxNVpPyP76sm6NWe9S/SeQLxKhe6D9tnZ/wSmkNwNyZ/MUHzNW/GW/9bb9+/z/GZPZBM8/Qv5KNCva7yeq/v5gjKdjIC8B/ScEeHrzCP23QloZj5uU/lOqBy2pa8D+SFbVOqUjhv/e2yx7tbO+/4UGXP81V4D8UYtKHiNvdP04LwVxUm9A/d9qhr5x8yD8sqLLXH1j0v6mpBYKbbQRAjp9rk0P5yr/NWJOdPeb5v+DG92+tLgdAnfT4mqHA6D8E8JwqvivwP0HsVrsQ+NG/s7edvDe6AUBx8VNItiHOP43tozWenNm/opcPLDB35j9CUXQWmfzdv+DQzeaAfNy/J/n98rkw1z8h/WYWP8qiPwFQuibQ2+k/EsVe0S1r3D9eXXPCao76P09cG/Dp4Ne/vSdu8KPVwT8cWbo1Rk7xv3ZnW0k1m+C/mVEhQRM16z9tdXyEkcPKP60a7VV4Nt4/QiqAMtje3j8JaLiDvQDbP3eajzJF3e8/jOn7RHa5zz+7p3eilmLDP9bVNAMEWaQ/RAZpdyvA5D8g7z5T8Yzrv8/6qTaFE98/OFoW2aGoxr9LbiNGmF3iPw/bzrfw6L4/uZz1FPvB8b8VhlDL65njv5E6zVhwAva/qi1jQm8J/j+/MkmHeiXpv0uicAHXuPW/nVAH+Mjw0D8MmilrypqCvwzywxlVIck/Td1yeOExyL8a8BoXjFUNwBC2hOuc3QlA16EHwWh6oL93rMhDVsC3v7+FMXPp++A//pShuUZP7z8CycstgdWyP6QdB2B6wLg/d/NvHC4O4L9jpkI50THgPwzmvdPaQPW/+IuiYdNn+T+8XuVokSLwPxvANayRwu+/vMh9E3g8AsCotrvCoxTjPw00vJ2qmu4/ZeT3Xcem6r8JcdG/jPPhv4vdtKJ1wOu/g0YDyD4+3j/TxkPDT7HPv4NI0MY9UsQ/9CvcUde99L+sUalFjEPPP7iOaeUqisi/mX2Ay4+M4z8UhKVpEeDhv9Tc+EJC7Ie/DHMarnx+1b/sZkkTw9fLP5LXSrEFgN4/U2PdX5pB8j+7yw+Zl7HqP6aBDBhl+c6/P65uS+0B0T8z4Xylue7lP2XQb9nMB9k/oyviwTVF4D9oYD8KQ9vYv+48ot/IwcE/3LjaLnSp4L93uXYX2UDfv/MQdGjWE9i/+ZdbJBnByr9/r115+tXAP3lZpSYfv7A/YOmk9UR5sr8ooD3RbtORv7LnqHB0Pc4/JCK+U5731b9b9yzaP7/uv5t+j/7Xst8/g7+dPP+/xL/KHBRORKHRv182Svsx+NA/yrPgmBwS37+5kuIOMyDovwBWt+aUEfm/a7+ojp4dz7/qteB/vD3xP1896yyLg+A/BEDA7LTj7r91bmELjAmpvz7PDD1lNrI/5xG18kD/1j/ZpZ59WrHcP2nO1ifsz+s/S3fU+qgv2j8HPy81PZ3Vv4Q6H5lM6cY/cB8hU91K678JhQ17aKADQPamf2iSBOe/jvq+ZnOX5z8up20KiZ3Wv47QcbORhe+/Eh1MXfCODsAUzNtHQBPGvwhGcTfrFxDADMGg6iHx37/LfJC0AcAAQKv/Tf6pKem/xrsjMaVS9T8AGH4w0dLqv7DM+8vmpQXAxyGBgec2+j+mzWBjoELJv2uEzGdrDPE/CxqxCWa77j+INaWuXJnnP7dPOm8PBMI/g045xhrn5D9nORxOPMPUP6WXkg5Mc+C/ymg9yz7Q6z+rncZ33wAFwIBRc4a0qwJAapZOTAYq7D/8EQMbVBfqv+rNWjCJhwFAdbm63Ypc4L/BWsZVk9+9P5QxI0dU8bE/235janhe8b+IemmlzBPmvwZIRjFgENc/HBYMJIxR9L/5N3V5U4bsv/TmyZVRmOK/5JpvqHpE4D+JMW0FOnDgv2Hg8QHfc/0/goRRJmDk5z+Md26AB1v4v4FOS4JY5dw/qXegol6kyT+pVP4q67T3v52z07VQG/S/7UYbDzdW7D/Ea/r/5WLQv94pphvJUNw/v4NMaSMI0j9u5Vx6mKLqP18lVaBbUMe/uzHEsHSnw794fdhj3Tzev4jS5ak72ry/mUeKMcLc6L8NjQhf+v3Zv24MSBd3m8Q/0A7GRtU92j932MTzukzIP4+sJWWfKeq/uZcmQVxq4j8C8jBIaQjSv9+QCrRlnuW/dAO56qG9879yGh3yWe70P+G3v0DVbuC/9kxrh+Opwr8IM1ZiGMPjP3vuriXfjuc/uedBtOrn6r+3Z64kWSDlP8T9GBFm0+Q/ertm8vRD3D9DIgRdHhHVvygzyb49l7w/o651VVpk1T/L0x95RE3CvybFqXlcyME/250ubX5E3j/XvzETAw3WP3MiiDCQCuQ/Ie7yO4Ow5z9RXZ8DaB3gP0ZwtA7n2NG/OeQq2fzdyT+aJjTT/Smuv8Uf4aO7t9i/z9eBbbZb0L8xxbFbJBjOP5fJbamn4ee/AuI8N8ixpT+0BgUGC3/av5R4wZLqIdU//6t8/szk2z+b3inlJKC8vw23mP8zY9+/OvA9yFbWvj/dDLy6hmy8PwQLTOu7uLC/JOc+nKhA3j9RPmC4ierJv7WFwq6rUeI/xBTpoTYyvT/yZ119ZsrZvxqhkFhhSrA/1lvwviRYzD+tCwI4cNvQP2ca+1k+ud+/RzGRMXS9z79wz5+HDMXZv4fLgTHHNdQ/YHVJkQVmsb8ESsvURdO+P1R5U5bRXoe/vEbgK1CD0b/maUGCPWHqv4iKSbC4s/y/4yd6on2H4D9vLy2hFybdPzhVuK6fusW/riglpjlm7T+NlCdCeEHBP2iPgVzcy+K/9ln/L03767/GNeMVj4HdPxQsw4EwQMi/174/y0l51b8SHb12Ur3kP8yi0urBKeQ/Vr7yIFG7qz8ccf9WoVTWP5oRdcS+trE/gZ3wNRT6wr+AWZbHek3Rv+GVv1qPYce/uAN6eZHIyz9hFsAR6PWyP7rUBC7EMcA/qipV/jAhgb/pacfRQUuqvziDkrS2e98/WmSdWyqV5D96+MQOekbfv0gDQ1N4e+0/3A69LBQp7D+geRL6I82avzyHaS5WlM6/4cKc5E/+yT89+5Iw2YzTv/TK9DLBab2/4AnPm8wkwb+8S+pQ9UXwvz5epJwHDOU/AVzyAr9q0r8qV3c206izP8/jH6dKmNM/v2dmsDqG4L/GJqUuC7zXPw/ZE541hLc/ZpO0H9LGrb9aLYurTZrLvztd2OYBHMi/wL8IdllO1T/5gfDGVVTuv5kw6fC7A+M/zBD+E0+Cwr+4aHlSypzUv7Mda2B/E8s/mMpIHPOg2T/ifezAiR/LP2VEIEvS280/+zceAxoK5T8SVtsHbI3YP5q3EqY1+NO/mDuvQE6Yoz+/3AztKw3Tv+MDrY4O2c8/n1DhRwN7yb/v84m9bknSv5/cVYoJuts//DULruobhT/LGd/S1yf1P+vGt/rX2wZANEiDNEiD9L/YYoZ1cqDeP0ILYyG/iOI/HQfWXLGO6T+iNVB+DZTfv0YLJzwPIfa/t2MzOc0I4r9ckPZV8hLIPxiKqHUkT7s/Ff9xZFR75D+jaVN4dTjnP/oAoxmqJe6/Ipbp0U323L9idkM2uy/IPy/ylzRW+sa/3PnDSh8Zwr93c9CdB6bSvzrbXeaNKdW/GTLhz47MyL8Y5XiptBfWP5p2hnhBE96/NGjMZuGl8L/x/AYCCaDgP4xCAp4xiM8/D/5+Xciaxb8TiFMFulfsPxdpDLPzJfe/71EDE6ot6L8Ok8mK74/mP8DJVgiOg+E/4U4dzAVy0z/3kbivpubAP1uYyvdKtsY/vOW4Epuf0L8JR/wKqqfcvzrtqs7q2Ng/B6blKsbo4b/UH3NQ6CaSv6TLwGox39q/pvOgS75/v7/vlhtLPkXHvyC/mhpaXLy/e8x5v3yu6L89X19fX1/PP8Cmtm8uVca/8wW65z+92j9sczee48jDP+leBxwMr9E/mo6t80LKpD/H4+bZ67rAP3PCKc2LP+G//h5GYJ60ob/wbI76dfDhPwO5BhCwLc6/7j+1wfYi3T9l/EFtgtHBPw/WHbkvoMI/cFE8NXV5wL/elAW2r9GbPwQ3oRb6OM0/lD0IAA9O5z/VHTL9o4XPP5zV4PQHH9G/UbJO+klSxD8NIvnNe4zWv2/KgB7JUsS/qWjl3Rj6s79SwqeUxAzVP0zZoWTGJ9A/NrikSpG0oT9zAGWZiXvUv95oEthcA5G/R38iWiYe1r/ZEzeqdALJP2YAQCpXI94/SXmufAh4vT9BLRGYmMTSPwVFWIN7q9W/zMVaK3Uy17/lA5OY633HPyVmxVyo+Lo//4QcP+gBqj/u/93JxOPOPxtbGlecYsq/367iERPStj9Vk1MmwJ/NP4BGr6QfqeG/rK29JlJgvT/g1XQYjfLXvyNtNrbZ2Na/cCNXtr8qxD8Mqat6bW6hv0kIuiTGOty/WX01zkk13T9n0amjpAXnv7/vpIdG2ss/BfBXFr9y7D/+WPF5mkHoP83As6cGruI/62SO9B7h6T/a6brMapHQP68TYJwBh+U/IYywivIiq78K8YaMD0XFv3iQAjvQpuC/6mfffCjnw79PVUIuGgbSP3MVjiNifee/Kve8fVxl2z+cBAHQg/HFPwRZE84TC+G/DClBv5W7w7+oaWOawXbAv4ftwLXmtdU/fOJF71c+77/Q5Pp2d8aqv5nCYyVr1eq/vOyAHPorxD9I0IkT/MS0P5BhMfn25tA/WmJoSaMzzb8FX8mNOs7SPzbl6tZLIdM/psZHZO/Kzj96rsn4vGDVv7PT5+xtprE/68yQwMl06T9Bb9P2FnLBv9z7cFe3ed4/NwhSZceS7L/Ya/XRm9HiP9rnzLv/8cG/1TR6dSRao7+4Lwql9xO4P5Hhi6BJ1N0/andcPBBPyz/A72Pm7RPrv5AnhMhojdM/ryXFtda14T+EQtLEeSfNP1Fs460GS7Y/+i9DkMBptL+EAgMd2UqrvylN/BVl19E/Kgk0fvyT0L8x2Z/eVT7Qv25HLA3hTt+//S05/Qfi6r8rjdwTjM+xPwMdN3Xic8u/YtdZmffAqL/mUXs+vxHNP1UWsShFrOQ/hhwXYb962L/B6UPNN8nWv1w4Rdjn3s8/99RpkJr+xj8awYcm/VjDP8vXCxeKFtI/QHXsOE0jYD8V3CAXbILAvxuvzJxFFNG/yGM4CVH/wz8xjyOs7nmlv5+IpFC0MrI/GFWH8kscub9sgVg/LF/bv1ShJwfJ4sw/r1Z0pMMC9b9OlTqc66PsPy+0Bxe5hvG/LZj6j1vC4z/3x8uFuBjTP+I7QgGFO+E/HQDj5JRd37/eOqZE0XnTv5eElVdaZOA/eKf1/EV8mb85apHWnFbcv7ZSjUQ/9QjARVgBs/Fj8b/WL2vuHnjdv4j+Rce3yce/5qvVzVVzyz/DxjuF997HPzRLus84QuS/QyLcPYPW4L9iIq0SfULkP4QJQN3NO9U/Wbn2IGmP279MlLw0RoTSPzcDrbHJ/du/yl+mQRSDzr/ohXidjODoP4ae9fui0d4/E/6eJAlU1j/vJw/SETzIv6lo/Jme2OU/3wSp06gF0j99kxx4maHfv3coXOQoct0/6EpfvpGM1L8RZB/qubTUv4jyH2134MS/uzB0TNNYyj9z/+HV1B/vv3hTMBWG6bO/xvsjnD6J/L84f5N7UDbXP+xdUDOlZ7o/y2akg1ic2r++dxEw+xLjvzSotPXmfc2/iPITY+w+4L+5oenaO57cP/oV+IY/Y+G/ehXPkNZ9ub925QGpnCLXP7SGeVKZ+eK/W/ZpD/Ie1z/wGECofszSP8T0kULsO62/5I185Eza2T84j0E/8Dmmv2afU4a+XL4/lUDQF9Zhl7/tnEEPJJ/RP8HwAZ7UDsO/BQmecUhH6r8LKOYaon7EPxIZ1zCbz2o/npHB7jPv77/M/6D41UbbP/9FotOWfbI/fajDXfGI2r+Gnen657TWP/pH2D36Ieo/l2Riduog2L+dUP1uoJC3PzkGexT4yNC/+b0f78uhnj/crO4mOoT2v+NJAzMGPvo/Dbal9OCb2b/CwndUSdfYPxrtvSP4VNI/CZyhWMmXy79tCOD/LBziv86tDokOfoS/+ptsuBwo3b8J5nObUcLjP/Uo8K4Yw8k/YF2b6CSB2j9X/j0B/Y75v9TsSvi+Duk/l02m6q9ZuD9XsfRrhu3tv0E9pGvmn+4/HyOG25Y817+OzAXFN63SP3otCD+QrLm/D8UP9kApyD+L/VXyAWfgvw5K4wbRK94/6zwn8PxLzb+b/hH9vnXMP7kLaoPiI9I/qnwkku+B8T/bWVIeK+HCvyDhboQ24Pc/IjbdYc854L8otNzx/Z/lv2FNORk6Xqc/u0Ss9hDu4D/ozjbQEw4AQEpneGwBl9+/CQxfnd8k0r8ypKi6/O7RPwgm8I0Nk7m/vmX0DGyW4b/L3lZ4GXDHP7o5mPBbpOa/8iFaxAbsqT8Ri16xvuzuv/rqMzwav9Q/btdQrcwM2T92UuzYKsrgPwzYUfqKlcu/lKZgQxhvnL9wtuVTnnScP0+SKSaZjwBAG/KS+BKftj8g1odeRoLnv1yiIVtk394/ACqVC0ET2z/V8uCoiecAwA2NeEZ2oOK/HacaeaHmDsB599w299D2P4xcd5DtCdQ/fZf2eqyf4b/+lqXtZxTvP75f9pJmztO/FtMUbmrp0r87pO0t2LbYP3rYnMeCs6q/ea2CT+nM5b++lKFPHXPSP2ltiRl1N/i/+RN5EyP69T+6fnAX2Cruv9NsrsbTvfM/HnnYv5v4tL91rJa9BCraP7S8krCIbeI/moc6inDrxj/mekR+n8a0PzWVqDzCL6W/mz33ttshxT/9Z8thvCyMv7wuQjBTV+Q/KUhFvHsIsz+r4sdxeyvRv05FxLd8eOs/bhB4YZz2z79SoIpIolPqP0L9+ChsPOI/DZWFd/jNrj+G04IT16IBwI2pDGF++e2/EH6sHUqpwT93jO+fNdLsPxNKFiV1KOi/QXSI9b5L2T/pMob6nwHfP05ysSJgKcc/ibjo5/dt178s2E0G0UPHv7g1JxbnX8U/xKNOpWKewL/eBFJrxHjBPzQ1dRph4NU/tPJnj600y78T5GxlA8Tev36O/gIhheK/xqasbRgl5b+22jOkr/DNP8g1/vs0COW/XfZUCigg0D9ZNr3HymzQP2nUOACN3tI/f9cx1x5F179i0yVroAviP1Zv9jIs488/Xe8SAXr41T/YzMA4Uc7YP6J9b0vxj8y/nMi5bkxPsT/PQoB5mNO/v1ze8C1339W/nmj9ZTa02b9Li8pCS0HAv5l8oPEBzMW/Li6dNWcrub/eb9PupIjFv+oaUuASN+m/y60iv9cQ6D8mBipAMhTSv8xedVggIui/NPAhs9F5BsCUmgV4BB8PwHKHqwrbRsU/V9Vid/vAAcDAEcX7qDHzPzr+rIMOS9a/GudXPv4czj8GS70yoUbvv9ScmS4XHPQ/gFCo0NjW9b90P2Bqud4JwF6tGBUflr6/ZRCmtsebEsCcvxBzzPADQADRrcS0IQlAvfsl4yFW8z/AGoTGJP3nv3gErAigGvk/O0ZdbuGS6z9/v+D+S4fFvy70eBcImfG/e3QJ6N7TA0DduoSwhuDQv3+bU1QPf8O/h/jpwKaxAEDSw4qQUQrmv4/LK2Qpj+w/7mFaBlvU9b9u/1DN3j8EQJpWFLlTWd2/Sk6RhUqL6T93umXO6h3mvwqz/K1VPuS/PzVNnTZn4L8MElLrQm7Vv8AaZ5Y81dg/5MoOZzpw8D8sx551WfXyvx9D6T2HRNG/HTB+4tfO9b9A5MeNi0/TP0R7ywcLdQLAcPQlo61s5L9J/yvJp8LRv4OMEHGHQPS/3unfrBcM8D+l7+1tTS3fv3MzQZYcTPS/2FADp6Mw0j9K+zPwk36sv9bpTW47bAnA4fAUaZTl5r9vUvt5Jq/cvzqPx09/rv0/FOD+vuCi8D/dqioAE3bkP2OEZagGZQBAa7mp4qcT4r82zzJ2XCnKvygeGkff1wPAPv4HDVDslz84T2azdo/wP4ZepoYGI9i/zE76KXht5D9vR5QWJkHrP+p5TNGL9BRANIgUzX+z5j9X8tnngpfvP3z3/eU4ZuG/y3oVdTQ117/oa4x42JT+v6JEMloqP+m/3yZZqY0s9L9Lj/EfplPdvy0JwTSS9Pe/DLrtldxr17+DOEDLfQ/WP8CLVdoKf+m/JyYrWclK0L+Up83hDcD8v1ysGLBJKRDAlqLmEpde2T8kErhHoZfhPxzgB8tuWdu/v9Ad1rqF7D9Nhks9RRvVv56EOM7oMqa/HmlD7fvz+j9UA6CzDl3Nv4Wp0RB+P+Q/s6VB3T7Owz/dHCJEJyLcP+uH6tv88NA/tLXEscNAxr8PCyQJtMfnP/g1Pzrxztw/gx7ZKoMo1L/z14wln0nqPwPoYFr7huq/gGDNxGdz5j8DjugPrObaPzY7uPuMhfY/Y8iqAUGM5b8j/9ylNBXRPz0d22qxP+E/L9AwcPBYrD970S/M2p3Rvw/9FImynLM/uxrYGprQqb+50Pn+MDTGv8TwmfoH5+Q/wrAZSyoZ1z+Y4o5UrJm7P+0b1flaydk/1AjyTUiW3D/NYYlpMdLqPyHu8/mFa9M/v3DP6IDT4L9ilx0QPSXFP2ETT7PCuuI/hEDfb0xp8T9JdK73Tu7uPz45+HMrC9o/BpfwS+i04r8cCoJ+CZzVv/tiZHpQ/eo/CVVntDfW5r/hqAolcfnlP1gsA/jrpdI/2LckR5aeu787bx8MsgXSv6sKxNkcFsi/hj0Bm1rywz/utVnQJTOZvwbm3fkIsOW/NXWuZXTpzT8pmzmrq/ThP0oGJS2/WtO/lguVpqmnyj8oOvWilqDTPzgOCACEDOe/vXRkz0B88L/aCHbewXejv461Hy0ewfK/sQmjNPXZ5T+DJ0Dj0UbcP1JMyE9HFwFA7kkLMV8q0b8VyALhpgcIwGbEADXTgMc/tLvzSx+V2r9SC8PTrELQPxBdZyCIIfY/JJ8oeSMh3z8/gpPUJnL3P0lUDhgtfcy/egjA6DQP2z+Fyd4v/lrrvy+7qM4H7c8/q95sfU81zj/3kxiDklgCQEBzSxpz09e/hhs2rH9I878Nr8euyBToP6g+7SoLXQHA5sCgm8HF2j+9LV6qZJPqP5jMFi5iIta//xKlFRqJtb/Pi5+Cm0Tev9TZVDaQE/C/kpG/BVb+vL/AxPg9MhrcP+9tWQrma7E/y1vH3x575L+Z9rS8mkfeP7JDd5oxK+A/lsEb8R/HxL/VpxAuLbvyv9liAlqMz7K/cWwElZG+wj+sRJ3EKALKv/5u6JumDsc/0S0H9GMIur/oR1iFDMitv6vZGaUjj8i/cIMbVytB4T/yltgTVEPgv/k3+9WfQL6/j73pOPPBwL+qMBzRb4LoP3V9xFE/f9O/2l17y6z75b+NJE4mcrXsv5ipoArLZt8/aW6IAelY2r+Z3o5VJmDwPxg8JezGssi/G9+hLxd35z+v6ApMuZWzPwj7OeX7hdC/uPUVITwM/D/GRri2WmbhvwNS6bkMdO4/xqdpL9rR4L8VqTQfsersP0Lehg+iNLG/SrFJVnEH5r8nURWrmCPSP1gJMVHLAY8/RHqFNhDO5L+cd/Q1zKxEP3DNOqEk5+I/0o81zc2w0D8JcVq2x+WzPybdJ7o3Wsm/OgsY9E0E1z+gVWmtijbZv8X3Zab2bPO/5jP6XDqP6j9aQJ5pZ4vxPyIk+iAM+dM/ujqkjEOA8b/YgA5sS5jOP0cx6s3rObM/PF2XwjIGvb/Bor6zUd/RPzqMCoXMkcC/2Y8lO01jyD86GeeFfGLBP2VTYq0Ibbe/IeD1EX0Ry7/nIviwolXJvyNAVBIIH8s/qdnz7wCG3D+pgweeNCbMP8OdqLtIbsq/EWgfO9t71D+Bw3CkoMjRP23bmm5Rzs2/DMVF5ab6v78EifAvOLjhv7mCbPuF7sc/MZBfbcGTyz8FN47yJ3jFPw/OpDDShrW/MTkDve/s1D+fg9F1gaTQv8Ue3cs5hLq/DKkl64CgZL/n/goretu9P7nmXwNspLM/xLPGZ54K0T+V8mhcq4biP3K8NUsv7de/TOTGyDdW2j99mTsMoSXGP6eEtANGuMW/em1hXiN4ub/gv0OUZV6IP1bSXqFjHtY/MH/7+6npoD+NwVm0QpfDv7y2GL6vgPM/6hYw3EHDoL+xE47YDAXQP6BMnleMbcO/Wv/mjrMV0L8yWAJE7cjOv51Op7KcJ9o/XMkJpOct1r8XzJzpr73SP70mfJCNzsC/c43VZVs0yb+8jOl3ohDmv+c4ScP+gdG/DQJVOVhv4r+IQspQ/jvRv4c/JB5cxNA/HOJO+XczyD8dT8Y8QTTEP+F1ToOmwM+/GSq2YFRv1T9WwUf4LD/MvzYgJ7vYoZg/X8loNQsEtj/ZNxhGG0fSPzacYuZCj5+/P+e4Fdf74b+JzFtMtcrEPzhCu2dML/s//6C41Pkz3z/RAL6/aKmwP9e0XCU2TtQ/UtsF+M+bh7/g1APVkIuov11hs6iLLK4/lKNGxSHn27+ZH92kVezkv+NYtrmulOS/f1HLd1oudL+JZtZ6q6r0P2icnLLHO+C/slaFEUGS5r8nF8TaSqniv77K7qAn+su/uFFye8qN4D+RD9UGPMa2P+4alzDVpr6/hbcaH2jP8r8Jj2j0j+jwP19tF3oC0O2/VJPKC/hCwj+GLX9C4ajIPx2QrQc+P/0/iGvORGx51D+gTSwUy4fDP9AWS8hpPa0/YRu9RZDvxz8H5PsPyKrlPw6N4qGE0/k/glwpnswY6j9mFp0dTengv+PPiBI4dtI/5ms3dn9Ywz8ZZCzcaSHtvxWtjMhC2v8/Zf8xBZph4L/GOoR3SkrmP/hHr5bpVt+/ohpeW6l69T9AQtweaZ3+P8O8jeJ4luS/0HIMkRRqzL/iagF6vKvhPwMVSfcNiNa/axDnPOZ26D8DBEBXEqTuvyJjwEZ0hOI/xahJErsvw7/odPSI7NnBPymqsxfMo9a/1mtOP/z7478wz0YVDDbfP30YZ+FiI9S/VLYcTnrK5j+jUEE5G/HZvxCNEWccQcK/+YpLmpS+yT/KfUgC+Bvev9PZEh2hudC/vSKjCVMLnr/t5GAcVSrjv7yCvPtEy/a/tGpTJNIB2j/78WS/j2bVP++s8JtzVnc/9RsT455Fzb8FLQGhKUflP8WZsKmUrdk/eONqlHlB8r+G/q/+xK7YP8OctC/VO9K/ZI9Gfh7k3z+CUZTgVVfLP2qzsM/3vMC/uLm5zAkY6r+aJHMsHADpP09DxFGVQ+E//InklD3o2j/P4dGyflnAv5GwCAkxN+m/Q5xCcEg+4j+qWyFmEd+gv8p9LKLl6bK/SeJeWaCV9D8ZAF7DVgyKv3o3kgNRfsK/TFPE74544r+vlFuFnbXtP2Ts40MrO5Y/pHoHkjJi4b9vQHoFsTiCv8ijXZYkDuA/hTcpGlqg2b/5d/RVpODeP3geoGGWGuc/PCl617/d0z/zFSgWIMXjv/ajTBsIqcG/G/f95jmlzD9yMnVy8ivfP5OXeBLxEuY/R20W/QTA2r+cyIPqN3jVPyidXA5US+y/PGKfM1IA4D9ql1FQDgrWv9Wn5hrCF8g/sY5otFVI3D+JC1BX4sPKP0vDii9hg8U/mUHs18e4zb9t+bSOfhXfP7CDBPE40+I/Cf4s8CD1wj9ql4wX3hn3PxUI9YYZsPa/lSisemkh2z8I2ZGR+rTCv0Ul6kUBRNu/CFf8xvaPxT9wjoB6KuvQPybZIZp4l90/i9Vm1TNTwT9C9ugyPMuTv0uQfO5uVcG/O2X8t4DWxL+/jrytHGKjPz0T1fF4kNC/F9o+uKfDxD9lqavAm63DP39b5GV8jNs/6aZDORc+rT9HonCD4hjZv4UgmfWT980/Qmq8E38j4r+LZZn7rp3Cv2LhUq8akOe//TGiYxPJ678VnIZXSVLbPyWAXq3DReE/71cwLsA/0D8laqBxBnTZP7KyB4YxzeE/CDKQVxgWwj9LpXnxJxLOP6ibyG4iu+k/Hhf7Na6D1z8JdEyoniTFvyO3dLsUeeS/V8aIXAZ097++vRb5xZfZP1dfqs3ufPQ/wqvUKUJQ5b+2vw47voetPzwCcNVUjIw/+Sdev7q1ur+mzt0x52fFPxHCuM5k5dU/gTCBbVy30r9F0RW6cP6bPznYK4v3CPE/oLpWXowDuT+Fy5N5RFjAv4VzOGXyFsy/3kDQPF/4vz/OV/dj71LVv0zyYHYFFNY/7xzgx7WMxb8qd8TSvrLrP8pOUW0NBtY/ebpcJF3vsj9Uzd3eu2fSvyEh3YQIW+G/EuyvP69W4b/09bIeH/Dbv/8gwzxCkJQ/5HdgUxuC3j+jnEnHs5/gv1vlNYZHKNI/VNvIyJui3b+dz4ssr6/Fv23dESZQjtO/08zy6fm65D/LCi2cPKy2P6U8XQwb29g/uv22xbrLAMB147GCi07vvzitAI1d4PE/YMN0ad/c4z+8kHVMZcrHP1cJ0Q0GdeM/5xdYhW3Izj98bZryFJ7lP7BOwqCf/Z8/EaGGn8Ybsr+uzYe7EfzAP/3vU1+629U/S/KJ7sT+0D/Iv9p4qcm3P6eCQoo/T9A/Gy1QKMz12r8InSpcyM/SPyxZpeYD08c/1yY8HtYe8z9N8NEc6GzJv14TmbpOQ9Y/fNDgP+pI6r9EmiTSQrnjP6w0YsdIguM/APQ3x7Z56z+tQ3Ra8QfjvycG2BvswcK/MB6d9ZWw2L+f1NJJaF22v+R5YI55ld4/RuWMupZEzr8m1mVzxCy6vwUgS6bMAtM/YNCIrs/s1b9AFse7vGzOP+4ADdXHB7s/8g+wWrj/1r9PexphuafRvwlRsoln9+a/OMOfuQsB2j/ctH6Wi0iwv0e4kn3tRuE/OvX/kASxxT/CZBAkVFeWP4FsYLGZYta/T9oZ/8X03j/WnMHL6//av4a0AAuZUus/XA5NBSw7z79niDoNm7Chv09z5pDjZN+/50ZivXej1T/yQkuBtrvWv3YjBDdz8sK/GTo0Ylgc0z+4r/GYs6bGv5jfPqLRzeG/W+v83TYYxz+ZAtzF9mbAPxVMxp2ffMU/Z8nxxEuQtr8j8HJjW+3Iv2yTJ3rVYW+/0OjHcRNqxr8eMNWcpdHJP/+0SvU619g/2CprHdFb1D/2fMbgh/TWv53TxzzUDd6/nRXTWUxnuT+QtsnYUB/hP8JlLGTzp80/cQXJ1ZNozT+Mm1AT9C3ev659k00VndC/GppDrM89lb9lBwBNpkjnP/GUGvTU68C/VEBXwqqm179TkDAq3iXgv7HdGMf7y9S/XO970ymuzj+biqJRmCrPP934056Zet2/QKWMv1JS0z/JHl7En1TLvzNQk7hHBNO/5/jLrg2mmL8eIcu9EwDRPyJjPtLi6to/BailF/s6b78sTb2uyFbxv+0+/q1Ny+a/tUvUUnPr0z/GyAZVTjn1v+VbSJKhQNc/SwV554XGs79NxA1zVz7eP++hb8G6Ea4/qjiGKL+dwT9aHfObR7jaP/JYsZsIQb8/+vAGLSfsuL8VZeCFKGruv+YFeNhgkc6/haod7b+ImT8/hBFG3GrAv1padiBeVNO/s1QTuKkm4D+TIFNxPHPVP6LT25ROiuM/AQdh0hcw0L8fCxuhipvjvzBTt1ncBtA/yQeMcxAv6D/UaWenzHHJvzF9SI8Ecty/2aXSqH4I3b8ATYAbJ5LUv4D06WDYgMU/3f4lbiwX0781fVDINCfZP1MyGOLRwq2/L8bZ1Ooh2L/RnqM3uhfdv6t4nR2IttW/2YnKxhnf4b8vGVmhRr7TP9AfiXUlWNm/Pg1cO/685j+Jp1ZrOCrNP74lzlJpd8q/dj2L5sZm1D9aSHGSR+XaP34cKvcak+K/EgjnPXON+j+yJCS9BRbWP6epLDu8CPI/dJ1l4mj1ur/32LvQoSTZvw5q8cQLBsY/ZlKdF0K9ur9lrVGtrS3MP0pArIavtss/lo3g3O38vz+NOkwR3BjPv4+2Hc0HqcE/Uf0Aniy51r/9Of22X+qovwKsPG1Zwqa/u0PcdePQ4L9FJCDNTB7cvxHVrymOyts/dzGGbzb1xr+A0aiORafRP6lCmVtZo+s/gUGWLUal0b8tfDtjbaexv7k3sK27De8/S0cso7lBBEAmOvKvTEe8v2J3Rz/Uotg/PXMiF9ci4j+4W8t1j6XxP3X10Vap39w/jny7GNF1ij9OQqjucB/QP7W0DT9Vu92/HwvqczC1pT+LVr1qqXPiPytTQX/gf+A/0jao6FqKC0DzoW8vR7jCv8QVZPRwhs2/ZaZMZvgm7z/pp57Zt5PjPz1BYqRvf/k/tkenKaCayL9ld7Gty//iP7VOu97Z+dG/Z+CKllF23z8YPKldVIBiP23JwOYUm/c/A0/nbff2EEBVWobhppLjPymlYnodPwjAntMw5qolwj9ZnlXiJu7gv7EqmROaU/E/dG+ROlyJA8Bf3GbD5N3Zv3jVbX2jWvs/TDpnB8JL3L+RiI4B6/Hnv5sZsV0yeLA/X7iF+ByB0b/QuEezTu/JP4BXUaDL7Ka/hu4yl2d06z96qhYh5UfWPzGHmdRZ+MW/3hIiq5l41b8ej4tG/OHRP/D733mO1Mw/d7SdaXmk7z82PCWLbnrjvySUjnnZg+o/LC/NgBT24j/94f0bHP7Yv2QMp6cXpci/g1X3XjCi8j/Y1P+sTrTpP+A+ig0MqMm/sjoa9Dbx7D830Ixjmjn3P6PnQo3lEdc/yyC0R3fT/L/jk77YQmCsvxQlAGfdMOM/grb3D1bBoT/VPWzbboDjP9auhs9nvfO/9hkYmbr/BMChrlo5I23lPxc1Xh/Qz/I/aBv8OzKt4r+FXXfIarHnP/IXersNC+O/52G/HXDp8L+/Mcluif3rP6Mwj06Wr9G/Q2cDG3EA2T/X/Ph4nZnmP5KIjrr/U9k/zPjM+vIG3T817Vg6WIP0v5xSEz01dsk/6qgYkUNg4j/LPhXm1c7rv1ggjouFSuU/NeyQTBWq1b+t3imhivDQvyiwpC45ueS/bRYx2ld+3D9w9An1JWMBQLwS5OnHVec/9n/DyGxS5r8XAgsr1H7KP6o8O22SK+e/FgQOsaqz7z9q3LvX59vUP5QGs6nnP/G/607WFUAa4L/kt4FxIoTiP4R1bSkriOi/Y3uf0uBI8r90WdCc2KjjP4zcCO+qmOk/87zfmfeOzb+VwBat4XXfP/xwYkqKm80/oB/pnFsO97+KIOOCjAviv4cyJnp59em/cblggG9Q0r+uhM/xl6/vP4wCP98VVOC/PQ5z1ORv0z8Kad6XpjLcP3MJ7jf3wL2/tJMGWDK86j9lKGKP39/Bv7Jxwpo7WvY/GzL6aHKL7D9fHxUDMN/rP16AbANVE8+/Z3jEgwkb6j+ENeCGMbXrP9v4x7L86Ng/2ffB890v5j+jtGTe7Sn6P8nBd0dJmcK/P8Fi5pPAyz8kX13pDP/kv9ciPMKNisU/bRJh0p9X5j/5ue8W9AvDvy3uhVemYuW/3/0jUaQsyr+lpDo3KivKP6IDVAyKSru/DWwGcLmB9D/H39QioW3Ov6/3Mg76I+y/EiJ1Cz1O67+Sbg0f5tfYPy/Pk64qcdi/nMv+WnPs0D/Gvf0lk13ev5geZ3ynwLO/0jQzqUqP2b+HtlQIgDTTP4xrIHoUW/I/8+kQZVDj97/g8Qw9a53TPyjEYQmooL6/d4xYO4Qh4D/j+hYeIuDcv/yPl5Yp9vm/ZnllVDAO7D9bRz/3bwjxv/mqJyv6mdc/BYec3xqU07900izmKwP4v9rzWHjsEv0/Silcbzw0zz+N7yJ60LvUv241J1PcffK/2PhltbVLyT++DM/LK6XFP+G2ZrboF8C/W7gnd/gI8T++ANAMMA/GP0coLi5VXus/CWjIuWPBoD98BMejb3aZP3b09ldHmeC/QtCPK3Mb6j+4ali5c/Dzv1L4c0vAH/Y/Y5A33EHC2T8Hagt3YbnSv7EzJD2fuei/xDC0juuawz9um+6Is63zv73Xybl1sL8/GHOqZTdb579rODyO0gBjv9IKbe0UIcE/F6Pl1nJK8L8rIPYHOAPmvyw5Dd+twvS/7AC/FRfr27/+G4i9GnbpPzU3oGCV5LU/r9tfmSh04z8l0TYGBKTlv8WWYRgBd9w/qMs+EpIizr9Rea7ihlHNvwOqYCYItm2/nWjBpou/jT9KrxjbjVSyv9NlnWvS/qm/Zs/Xz5XL3b+MjQZmopfkPyHxN3ZOS7q/nDwV3rXu4r9AbRlpaaPYP6zeiMadRdU/z0fnfbVe1z+y1/BsI6S6v+oQvy9ukeq/0QC81kpa4T+lMYN8plDTv7zXX/MaQaW/g9KTiJh22z/Y4YqdBxPfPyXvAfvWTuG/YHydMzpt0j9JB+IDwmTWPwMopJrZh96/sDDOHa1Iyr8NYPzy1W29v1HmWKiSbJs/iPtW3/8U2T+fBYZgPEHWP0i7nCATjNs/ZIHxZa+j1b9xziFJLrP6vz+YuMrpz+a/TvQwN/Ok87/4jhSxf7rcv0+pe1XD4/U/xouHUQIq7j8nqFcIYHulP4JpXO2MWQHAdiFb+Bgm5r8TTmzD7P7pv4nMcvVejOe/Wx6Kgz+F0b+g6OK14SPkP2BUJZm+9tO/eF5+uWKmAkBzWzjVDBzYP9TNRQfNdcs/uEfY1jIJ2z9CDpQ2ux/nv6I+cwfsM/U/AOpXq6t+6D/sZeDa6F3pP8+DwsUrwNo/b6s/iTnl1b+cpqyOUb7xP+mTZOVK3cw/HFAwYJMa67+lM/zs19/wP3O/bSd1uLG/fXVezrDD7D9Gm2V1+R32PzxXg42jqOO/sE5fsBolsT+Jtdb/6O3LvyG5jyVZzuW/njgxopey4b/Pfqism0u7PzRhe3H4AZW/gBo08o/z2L9d1MA5hBnxv+wXaiZ0Kt6/pNvOVJ+W4D83Vz3FaXK1v0rvM8U7/eg/xp3qrmRw8L/66DTGEsT2P0NkbH19TNA/NJFmoTVJ1b8ImdSVtbeyPx6kU0dtXro/uvH9mlvg3T88y43XgNxZP5M5n4HbtNY/LIWpSWmB2j+KYuebTHj2P8C96BZ7/9Y/zP77355S+784BX5fSQTVvyhrgPRjAue/Fs1jxmEpxj/p9VYDjRHnP36hnOJh370/FIPXGAJB3z8ynVyqkzjHP/WaN4fKRem/xP7aJnmG/T/fv53zPdkQwGRDny9b4e0/NKpGWtW08T/pPqKK/4Xhv46FoNcqxeU/eD7LcewG7z+aOZUXU1zYP+wncUWFFdq/CQcCie/F4z/nFsgXKjz5P7Q2XtG0yuc/cNXmDSaE7j/GyVkFpSS6PxLyvKkxw8C/y27ssXQsx78BxnVWyYeoPxKB576FU+G/eGpAzrTM6D9HgwqkVfHRv44boNT4vuI/67vkW0Kj57+I/FGOIq/RPyCy0FKIkcW/oMuUBgs37D+M2e5T8gfgv6oBGVYC0uI/P6zgsVgp9j+XYUh7DF3jP+EEBuCJM/a/lwM1i36eyr+rBVgOqZnyvwdHghGLc+I/FU1K4eGc2j8hpCVqNQzjv1B9RK+kpvi/vy1zYe5a6r/yne09Vx/wP9GyElzyxMS/OLsqYjp22r8tZlXR02bBP6XClCBkeN6/doxJ3lSA2T80NP+baJfmv32ylOzCNMC/nQvm993Wtz9pE/GHmPPtv6k+d/KJnOU/4fzaqUrn5T+kkwqqtd3SP3PzWcAmjdM/4eYcNuQB37/DOv9/MiPSvylk5YxEQs8/1szyiVdz5j+jMkwQEnPJvydns8EI0My/TqBVLsMH0b/nD+eB3a3TPxt6M+bpVdK/vkA+isP3wT93CM/7pRu6P3hbU3n5qa2//0KgsPpi5L+ONrZgpJrQv0oCfXjzrZQ//0MsdsnT9b+QX8AisYPlPzSxp9nBLss/iCoBHRLr1T/Fi7AbW5S0P63nf/Wd2NS/SavPeUDE078eVyWWf3fivx2r3mx/yNW/WNI6bMlkzT/nDjddN3axP0N7bPr+WuU/gSNRbbgD27+39xTmtFPBv9P0bLqZbJY/RiCI0SwxwD+QryjjP4TLP9UXNBSTFqa/Oi60/1Ak0b/2VZyQkufzP7K8eOtMCMg/cotcLWUo1L/PY/JPam/Rv/SYaV5oQ9Y/3/pz/z7/yT+22V2ubHfEPy6wh+Qssq8/E+UaSyN82r8blC94EfTOv6R/Na0tIdI/naL2Lv09wb8Ocpbpd4LBvxooKxgzFd0/s8qtM/+r5r9BpEiXdp7Bv7w6y16qstU/NKdlLqrAyT800J4XwT3jP6WnusvuR9G/GDyxgnySm7/iV/YMIAGpPwpbJecEMde/p5dvGZsr7r/Vq3GK7XnbP5Gq2BmANOQ//almBy203j/PFM8W5OjIPySZ2FXtQew/SfgHbU5u8j+x9WIYxQPwPyUqKtbHSqE/7nBbjiE00D8yYhncRnHgv7xn4c+5kNQ/jOnJu5iqxz/I3XyRwo2/P7Q+HXzsjNA/h3Wezi2i8T/XYEPWYTnhv3qgf9c6Xao/VNoteApB578pnEC9TN3Kv/mw7+dxGac/5N9DjfRa1787Pi13FvjlvwnZOfB+r6E/QAvWiYRIzD9I1X6U/GK4P8X3mpyO79K/10t6gqZE3L/CeHVNvbzeP1f1SICpx9Q/BqJdJkhK4b+ZckiaGpbWP6GYrhrQutc/jrTID5Z/5D81dgDYg/Pnv0Ge9fyXJNk/HxK2TTv+zz8eIbdbo5u4v/1GKPy0fuO/ErymU+sA4T8L/HHwPPPeP7h24keto9G/sg38zvcW8T+M2N0+Q9joP80CLQGN7uC/eGELlYHqAUC1NJaNLN7mv8k6Vg+hvPW/eDIIypzhtz+6T+ZY7QSyP2gIUKJToty/AtQKNAGUvD8axWKhSn3Qv8BW0JI5St+/SoFgJVJl8L+T8C3N6jj0v5m24X2Bpeq/DCw2q7ky2z/C1YIleMXbv5kpxWaHls+/RQumD8Ks2j+3c0HAsnHEv/+zH8S3V96/dusixL7up7/53CwO2Rz0P/0piohfa/Q/ahAdN0hoyT/0O5eoDz6rP7caloVDO9o/WVHFu80a8L+xBfPau4Liv4yL9zi2iM2/89VIi2Ghy7+GTofKEU/jv20fxHy+beY/Q9A4gGj/0z+QxOkz8AT8v8u8a+UFEtA/t3jNthJ56j+tFMkjwnCmvyTBeEd+stY/qnHRHPkx07+X1BiX96T7v6+0SWfH7Ou/u4bA7wDF6z8ZtiHHsFDEP37/oWhq85e/2S6hUhH04D8MgQtPiommv418UbtwwMW/dk9RXISx0r+iR8rqs6iQv3oS0cufzdQ/c46IQX3czb97Zo6TXPzTP5D5ZgmS08m/2NHhu4pjxD9cI9n3Tf3Iv+k6jl9fedc/5DJP3tcohL8WUXhy5y+1PxuWR7K07LE/oZiLFaRAx7+d0JL1fNmFv7iX8W0mi8+/qNS7eRbB1r+yvtt4wne7P7nYv0GNpNk/39QK1s08yr9KBa7YXcy+v/fqY0mGh8S/O6yQTvbapr84iJyOXMjpv62BWrqPEtY/f5vBdloK5L9jg2ehmAngP91BWQ8XaOk/cOS63maG3j8OV4lot17sP6kVwvKb/aY/AS5r6fPe97+pOmPypgHVP0sWcHzc86K/flPIDk6jmD+hSgbDnRrJv53cHivY/tC/7ZNm/epyyr9Z/MgNap3Zv2XeweEgPs4/2b/W0KBa4D9b7aE5d53RvxfKl9oS/OG/O8K22dxoej/39aIorBzEvwNsp/k9f+A/2Q+rXhQu4j+Q4beU4NvpP6iiI/4bGNg/CU6UgCA6w7+DurxMf2Tjv+pjRWDB1dU/HG+85lvn3D+WgKWEq4vkPxdQfFsCwvA/W9fx+MIM3z98wEmul8XjP97okiddoOa/RRGRd/C54r+OsDtLolbVvzOp8UcLnuM/wbsm378kxr8u3Vhz1I3VvyobKILn79A/PFw0P6kbl797tIaWeDbNv1vJoOYUy9I/JJ1qQQie5T+oCGXDoiXWP42juoIxOOK/cG1msfuc1b/yoIjWMk7hPza5LgyO7py/IDmpcHA5uT8KNqYlUKzVv8/IXc5cFOC/kSoesz8/5z9tjgKsdErdv/T17gqHU+A/kCxoJJJD6j9q+XcdEwbhv4g+fvOwMNI/znvmxJr0xb+PBJ+RC4vdPz0sQnDFOca/JLqSm/NQ1r9ubka5lY3CP3Bu4AdWhvE/CYXgwBJx3r+qyGa9NI/svw+MFedvAOC/ToCpcHBe3D8ZSEI4hqTMv6ww8zqicM8/AXOuk5cLsz9xZGgZRdu/vyazMTD9QOQ/e0OFz/Zq0j/X6OtNoQrTP9LYVK+98ea/solPYzvM1b+wnNb9Mzm1P7YPaul1K+a/ESdeKp0u1j+xx/CPMH/pPyg6t0GhLuW/vS/EEt/J1T+Zm9VYbqjsvwOFDZIK6No/CyHn5L7u0D+ct7bk/Rv1vwRUAQlWYBHAedzfZrWv/D8wNxJAOO7fv6Cf6caFzta/fufhsEKc2T9gPRsbAgrRv/afEupiL+I/YI+DZvmmWj/KZWeGNOW2v2v1I7PIibe/ftsoJu/m1D+ZvETpzhvgP6f431PqOeI/wzcxMOC1oL9rTUXMzEq+v/z0q+LNbO8/4ykEHy/K4z9C3HN3W8fmv3nQLOKiOc2/89p4h08Sxr9u1LjCmvu2v/Y3HBZxF+s/aKSTKn7nrb++r20Ml8vcv7/SWU9IBLu/H8oE/vcU2r/S7IIuRgGNP0lglJ3HsNs/BPOqXZXdwj9ODbOqerjWv/bPNRA3Oce/Z6eyx0hqqz80bf57bGHOP1pe5jk6ZME/fYydALk72j9n1/D1jg7bP7wy9+aZx9k/RX0wVdoUxb8m1gvRAIrKP8aU4K4vqps/MMskZrThtj8E0K54XmSqP6wxkv0UWOE/3OIGb07E27/fH7hZYobHv7E4D3+3ta4/t1xT6OHmxb9sNAl2Fb68Px7lXcHqgtA/6ZSug7d8zL+PQEl1HMrJP0ylxwTsTHA/U7BjESjRsT/xe+GeRwDpv4SJ7MFTJMQ/yqxH/xwT3D9smxN1NzXZv96vY49aVds/CI7Mq9X6nD9avanwDWXaP0cCud6pBqK/GInALuAjyz9fT1zEU0TDPzIc5RbLJPC/UYjbzURQz79cY4DdEzbTv/lLiAkDeMC/RjwpVO9z2b/cUKlr3Iupv4s9tNJERdM//iuP4aJhxr8I1gEhydbmP7ESj9jRu+4/SfVTYBMR1j/7C1OBltPPPwrmU6q/X+G/0Gok98ri5z9tFpsxemzRP//HDkhVX/U/snOeQV6W4D8eFecSI37HP9qiZIZrMcu/igglBZNPwT8yuJEUPmf7P74lDB1hT9s/5n7VRrvu7j8AehV3AF3yP4yvY7NweNg/JAOst0dm4L9j5e5dpN7Vv5gRFE2pd6o/xPqPRq8/3L8YNjI9SAjQP7uMdTuekt8/cqALCEfmC0CWjuOC39/Fv6akrFmOoPm/+Neq7Yw4079wfVMJsNjlv5fRu3Cg99k/fzixWE4L1j/3YnHiC5zvPwQ7KcnFO/I/sqZ0SR0v1T9oOhucUpzkv/gglHLxRNi/V1C/ozROw78o4VTWiQfeP6mzSoWH3bk/FubAecMGv7/T8gccbd3Mvx2PKXGRweG/a7G6KA/Nr7+ScqkQASTRPyZKf+5QJ/g/YsveCm2+y7/72m04lVv9P/GeswmJcu0/pgHQvwi937/+P0QBvVqVvzc+M9LQJdG/d4SOkZLE0j/NC7EkGirkvzLlruVbkee/2PyzGUJL5T8bIFUAhxrCPzSTnhSEXdO/bOr7cR703z+W7+5I3u/bv2ILA50hmtQ/AkCRdnXH6b9shA/vQrreP25FXL03U6i/LU9fVBhM178FJS1cfKzhv4ZwWgpYiuA/3JBBfTi14D9v/oEuGQriPwe1l9Beoty/oc43b1DT6D9LPxxl5WrpP5Adg0d+3fS/etOepv3y3b8USLg0w3/5v3CCzVZSYqw/lMsZUplx4T/UbI74WRIQwO1MGzfBF/O/Jo27a0tu/b9PO6KhDIHxP5S7wM6BarS/ivbWc60uzb85aYUqDwLRP3FxlLYZb78/GCzlDjmt5T9DOvVE3Tbhvwdee8vdo+c/6Ikk6HOj0j9aFkmakMPvv3Rt04e2FPG/5wA9xYEmtb85NOUuCHzvPy2btceS9c4/jleRR3dx0j82st25KWDVP/yq3WA4Yd2/v0NlPukryL/WlDGsDtejv/PiJ1roUcs/2NEBjn2NsD+BouqX4YbJv36ybf3KbLO/AjquNqxuqr/RqKF/lpnPv/PSoB1UOdE/VdDg87bYhT/C6S1Ey3jUv/x0VCB9j8y/uM3GtAdXzb/s90DBDU7mv4KKhntN+tq/aeQeDN3b1D/2ChYehPrjv7JSQAxwm70/6cuHSIiM3z952lEmkLXSvxPJZtgYs9o/Ff6m19JZyj+uieTVSnvKv2SkPX/308I/a3LLpXumwD8hi938PZDWP5vprOx/Lsw//0M+Kex14b+lXbniLIbXvwUACMpWX86/47QEyAt0zb8REFrXytfWPwnTec5Fdc2/UEB3eMBDxT9etEkwQRrgP/O6iVFftbi/IA9gihDl1z9iA1cQbJjSv2tiBENg1eK/SkZpgB/w+r/TYdg3+xPRP78R5lbP5u4/0ekETaZtxT93+xFiWkewv0KNoYKPU+g/VNxUJUogv7+xftLhWqHVP3wq7dJi/fI/Zqv3Bctg0T/cH9nG2ODnP9nj1bnOVtW/4IFxl9Ipor8NYjCCpMDBvyiPEcgEyKu/59MTlRYg0D/ZsUyAOpe1P+VhXt/bTqe/XUTblEvh0j+Zapcio3/ZPw9GlBJwm+i/YFkCwZuxC8ARkpvAUhebvzNUm8995+Q/KWxBP26Y0L/h/yoU/i27v+qi0JvlP+K/xRLP7kye0r+4I6NhAjKqP02vi1x6j9u/jUKGmEJYx79uywbUmhTmv6Z4VzHayd6/uLx6dlwytD8lwkzMJ0abvxjjiLtFKfS/J0cX9oyR4b9VEPNXRDHZPwkXdhoLZ9U/HpquKtJs9T9Ov1XFzIDWv9sT9Bud4dw/1MEH+UOj2L+yUmSeUmTuP9SJzhRwyuA/UmpDhF4eqL/jBKrd/wJqv4KyuA3o0uM/0gWlw0sQ1z/zXdTrFAPCPxsChQJ7N9i/bUhsPA4k0T9QuVewlDjKv/XZjkWCX9W/tZu4uF205r+/h2nTY1vmP3U6CopAmOa/Zm+gUJIH8T+8xCk8gFPWPz2CI0HqM8S/riZtgpmH1b+psTR9g9TwP5EAJS/Cu/M/ujso7mpVq7+KTZhtENXGv2VINixDR9a/vhGQj9jI3z8F5cmX5+biv8AraNmqXNQ/1ltpBCZPzr8/1bdAOBK5vyZDYfi9o9M/T5XPnHJnzD+i2pWSiPGwP+uYAm8Abti/MWsO2jSX079UlnlTI+XVv3bRCnp1v7G/oBoQw3S68j92j6VejNy2v2GXCXhFtr0/T6fmpNok5j+gtibUfsnMP8eaCEei1Nu/+RQwWjvZ1L8qkJfw7wbXP4wO1Ti3E9A/RgEaPPG05z8IM18Audmjv4Mi1t3Yi7C/wk4DEte6wz8lyyJW6Ze9v5Eeby48+PC/yIJ4h6Fv5T+p5iT9fiTQv1iNXLlRIwfAi28xKx/zzj9gZlUUVVnWvyHUQ+xZ7uU/Bv6uFjdhvr8YoOGk7pvpv+T3YduZ1eM/ta1ZFJao2z8Qs1wXn/zpP9aFIFsDq9u/zJfa+6VCyz+xze+Q76ywv4p1WJJzLJI/bTvGGwmwsD+lIOiM9aWnP2pTeRYT5bg/3TzilC90sj+bYzUGO6TRv58AlCJO5sA/PGbCDMsuwr8+BoEWX+rDvzmiS5amFTs/ONrDCBoP0b90Gs5tUbnevxaogEd8G+U/Z3QoOGZyEcDEJkExxBzovx8ZgetFkNG/7KlDXBZkt78IiEhwhUThP8woQ/V/26y/0ktCU6pT578p2ZY5gznHP9taHk732Oe/fXto3BV97T8wpopxkBfjP2OMT7exFhHA9+cac3XU7b/SElG4YQrWPzm4W/kUHKO/hJQGBV/dqD/Ep7iD6kaZv86MEov+AwRAZqLF7OG21L/C4x6AF2fxP/N3oWnzi9O//6XDNah3yL9/bUYzO6mZvzrCPxdKWM8/RaK+qbRm0T+QgiSHDjObP6VXQ/BWQuG/508vfRQY4b98LknSAFu3P0dBD8kDFtM/3Rcpm+3k7z9dxSSh93jdv0DLNEkcCuO/QfpQf3aw878NrvIZkowEQGbEl+UN2/Q/lLfKjJk7/D9x71OoLXPHv540vx0PgAJAhVqVKf7R5z8vYkXDGq7Yv2GMsMrU6cs/I7L0ffDQ6L8TM6E0JonQPydbwzRacuQ/MO7IZHOi0D/ME/4B2hntvx1UihMMYts/H+GiDiU34j9PtpYlVYbHv1vnzckHZM+/Kgslb/Kp0T/zFCP9W2PIP8SBgtLBfOI/UG4VN5Eh9T9dJMuZ4nvtvxhPlQSQ/OO/2jrKfCfQw78gxGJcRy/cP98xVJnQWt+/Ar4sNprayr9YfTlKeBnMP8RjoNGUe8I/cegWpUeK0L/K+ng0WxKOv78sbMyPfNy/a4VTVfznvr957ZhRP3TiP6aimbl+guK/3Toz4X1m8b/CtLXcOkPGP/wnGtDbNac/jll9U80wyr+GGIbt+H7RPwx9XgsKJuK/+CDpZ4gm8L9E3ByQ7hHFPzmDDH2yCtK/IuHsIICB4T8p6DPjKCbIv33g0GQ+Xua/uLbrfVmisD+CgSsCC3DPPzp54D989vM/gYt1R92Uwj/Ky0np003Uv/j+Pt4AjN2/3garL7cx17+sHNjz/KTMP60jcXodEtQ/yqfri1ZUs78VsUuIKU/lvxJuX8TKB9K/jIkKp4sj07+Xzrxl1JSrv9sLGEN/huQ/D3iC1Ml367/+dfTGXLrUvwhSpvyfIs0/Y0n//i1d4T8dPDBc7aPrP9/sk/BkoPa/kDruFmJrrL8NhbNCkMayP1ahTvhYD9W/vF1iWHsy8j/RGELQrVHXP4j7bkYA388/cxz33AdavD9Y1VpTnZTcv22ehAKN2M4/YPdJJq312L8Brfy6h13TP5+/vfpsV9M/RSX8Nsne3r+Mxrav1bnWvyMNNqc6Lqu/k48sJpEXyL9YkCJJwcTjP22dflMeRrC/smrJ+a6q8r+pO84I0AThvxQOVDRdROM/xCdP175a3z+6GSchv5XIv2udSBvCSLk/6oawwfOYw79Y+x8lWxLGvxCuyWE8X8I/Rr4RwjQGuD86KEkVn0a9PxxTtiZpT4k/2hqPAGXR1r9Odnl16KanP/x+c608I7C/DpELQe5asD+BSY11pBelv2LbV/fLn8K/K01hRlIrwT9DKEGUm6mvP1a6RFTl2bm/VoPGcnMTyT/TTbJyMwPYv/PVyTt8i8C/LsGkAZbHk7+iiskM7GLCP3wA19PP9MY/k+gx6S6ew78NqoXOzDyxP0c2BqTs+NO/d37BpHtxtj9GMEYF+yjIvytfZkCkFqU/lutFXuMgqj9Amm2SuOGhP5VSP/yZOKU/RTa1gpsMzz86pBCuaF/aP56FrKzRT8A/tbRKWvgCqT8lsPwyc0/gv3QWce+RFMm/R0/B8/U81b+Wk8TeH624vw==",
          "dtype": "f8"
         },
         "xaxis": "x",
         "yaxis": "y"
        },
        {
         "bingroup": "x",
         "hovertemplate": "flipped=True<br>45-Minute Change (%)=%{x}<br>count=%{y}<extra></extra>",
         "legendgroup": "True",
         "marker": {
          "color": "#ff6b6b",
          "pattern": {
           "shape": ""
          }
         },
         "name": "True",
         "nbinsx": 50,
         "orientation": "v",
         "showlegend": true,
         "type": "histogram",
         "x": {
          "bdata": "A6O7UGp3nL/pKX8V8s+zv6gbZEfL9cC/rM4mOz76nr//wOEryOWkv4go/UbFnW8/DK7RASv4dz8j7WBYyUZlP+YMPA5AILG/2uq5B32eoj/GAerY3NeaP5H+EYqfF3Q/PVpJS+t2fb8N6Co9khu/v56AebMvMbQ/5gdF3cKPv79gszsSyKbDP0kNnzc7Wqa//tKBr/DxtD9FH3DReffSv3iGHD3h2ao/rfGG+/GP5D8I1eQaAmTbv9cke4HiV7I/O4KqPLWRnj9zOZ1/YXeWv+Uyam2cLru/m+Jme84lxz/TM12xy0ePPyDX5LlFP1S/1QVt+6rcnz/Q+wCyH3++Pwwqp/Lcsqu/rkqjVZejw794shbvdHS2v+lmfbhiUcG/0Qn9+MbJsz9+ZAWk6KTAP0i0T6s8a7K/5HHGhOC4zD8Yh/ScOAfTP+AP5F+I2sc/DfibwefNwj+HeLGITwG7v8aL9hr3DtY/+dUcgx7ZzT9xxtLlwMDAP80hK0yqAcM/iL8kMjNdnj+qzYGuiw6+v2y2fZiEFpK/KetsnBtX57/FrtQ64I7DP0kHE0F4GtE/bf4ki1m6078P5baGlu7Hv9bnoAS8xr+/G7SvzxAWur/ZWNkVbvm5PxsQNcsBbdK/o+pNtJzdlL/dsfvUTKO9PxHs4Pk4i7c/xp9KAEQuxr+J1Ijbpm3iP0gAW1sLz8U/W8TNN8EVaL+K6yiERG/Bv6mcbmZHGdE/q10mm4k3yD9hnbEgowd/P/2a9tg7maa/YFg0h0aE0r+bSuu2a/auP4DbshnqMao/bJOVMGxsjr9ulWOV8M8zv+OxGYUwGsE/gGkM395psb+qKq76CcbWP/mrE5UHcc4/t6SF8S9vzj8xLQ28EEDFP63jXsTbL8C/LTBYBhgFuL82LRK6ee3Cv4j9vh99mL4/K+eqGdtqyz/QLVLJdRG3P8hF+Fj+oqq/uffLXWVGwb8/4g8dCVqbvzIo8p2oW9O/EuDPDmeh0r+eIRV0kmrBv0c+YyG6spW/1+PIwWdpyT8pXH1H75XHv0DX9jJcYNO/flqZKTGX1T9/KSPMgNrCP5QRX8lVNqs/7sfDZ9nbxD+36RYvrjTRPwbZxsSCYK0/RpcZOV0T0j+W1LVEvU2hP7ve+W2Aw8c/U0u78FHZw78rB2EWJWfjP+LOzpM8tPA/GG3I7zJR7r+e0V+ls8OVv9x4OaB5Ldw/yWIUQFR95z/Q8mnB9vXaP2C8MAZqVNQ/EPU5ndsh27/p635UtkDQPxKVI2e1n9M/qCKv1G6Pt79byROZ84XGP2rcpJPGDNk/upEfNvszmb9vgoqQZ/zHPx48O8b8Ur0/GyoK71DzwL9NcwvKk7CCv8UDcIoa/si/5sp6horQs7+ZAlBxsQijP60v0Ded5L2/42BNnUaFnb+A3VKLoj2tv/kF9KQG/qS/KHff3M12pz8wxg8uA3a4vwV4S5MXRrA/vdX5DT0AjT9a1IXlZ9TXP8rb7Peyqs+/kYnBtZT+zL8vIycSiH7Dv+x/93xj2rQ/E2CB6MrhtL/6WX3lTOnWv2bjqQy66c2/WPX3Is2Pxz/uiZEn06SXv185crxYham/fVFg5QXCkT/49lje35PEv2tGvULy1Jm/j5XuDF9BUj9h0DjJueJ8vxlfREOmEq+/XOIBUozAt781vauSY0G+v2rAb3tpcZa/17Hqs9BgtD/PrARxAyXLP6vDWWMhwdS/PPRI9x0zr79eDh5b18fZP+ntvWH+zoi/b3DW0lJMrb9z3WtbtEbAP7iOVDa0EL4/T3GVZh1gsj9Li2RG/Jqzv6vfnR5kb8w/fxbDdEt90z+K8nMQYuzUvy/bB/uxZ5A/3WjFP9kIzT/ORggd/GiqP/bcGcZJtVE/rKiBK6ySXb++BKtQoBq0vx108Xp47L6/thfy5+BsqD/w69uHB8zEvydpLC+2ErO/J+4wgGdeyT/zKLxf5W3Qvy9BZxJ2L9I/bOEAFuQ61T9ae03IRwGgPyFnUOTHddO/UWoN7dnJ1D/CQlOlPXfBP7QRjoo04s+/NDQD7jho879P9rETlTfSP5DdReojeNM/iq1mMk2P1b8enMhTbHfavxS7xSXIqts/0lYF761qpb/4mA5wAnncv9aPRnPsCNW/GC3x3UxRsT9aKj0TXburv576FEwp9Kc/JdXPOshfy78baQrpw1W5P1DljtbAB86/4XS9uxSt3D+8lTPWRuTOvyEj0DeTNcg/k0RsRPY30z81Qqcp7Mybv1wehlXsU94/xUf8uZ8247+CGm1Mh2DYv8azGSAldse/iGwrZ/kTx79uZR9L09W+P91QAcGQbJE/x9Jok6XVxb8d+I0G0hnMP85ABdbaMMS/1Cwkpbtrwb8kb5Zdzgq7P9VLatcPkdW/8Mu9S/85i78sbmPeM8WWvwSF8JQ5h6c/MrhLs3FExj83xrx7UorKv6lT7fJJUNg/hFUUGRr25j+UJlZrZkiTvy4iij15oYU/ElxTsOLYxT+WETCekBG3PxkUhIIKoKW/VzR11SqBz7+hxdDfgfW3v66IViJ7A8s/ld2VNSVwwL/r16J78XbIvwVLRlA0u96/mW2zYU6/xL/GsZPGT2aTPxT2bSlWJdg/9gSDSOQIwj91nwfgDZnFvy3c1v2J1ta/08chxx53zb+Nf+HKeY64v4Ie224HYZa/zC+9lD2mm78CZenEyFXFP/Wdbp96X5k/VvsQ+nIJtz9/ySmq+22gP+ukJITTcaE/MzsVBLKEyT/ASkScJVGivyf/6xlfYLY/MXQAKv6Sn784+kEbUWPHv9GlW/d1jrK/tURS3CEuor94YgSO6MGqP9Wg55T4aqs/q7Qsomudwz/zadiGYEizv36VSDrqL72/kcuEz0yIz79krMZoJX7GP/oloFj0RKo/f4UY5+5Ym79NYBklCXLGPxyhK/uLkqM/Xd54XeXGrj/3BAXgGHDCv3XHJXkCwrg/4fswAxvhwb83bcHavk3RP8dq/O+8rLg/HGj7Thnjzb+svPVwqmmuP3Z/VLbxK8W/L0ERV63Gaz+5aV4Zal7Jv3CSWNJSA6I/F/xKO/RSfL/+UaIi6a3UP1vcpm11hHY/KgHUxRdOrT/Ma8wWdN2gv4k4WNdOzq8/Gn8lamMKvz/5J7NLLqyEP6C/70Vb5aC/I+Ba3Wd2uz8YqtTyApDDP/WBy4ZEwsM/nIPEFgAguj/sTveEX/S+P2SpiHL3M3Q/ECoQi6gVer8cfsDMpD+nv7LvuHrAD6w/zeTB3NDdtb8uddJ9ZK7MvzM1quy/8X0/LDn0E1dluz+PrZf23OXUP5T1l53pc6O/UTRtV090rz+2rlwNQ53NPw62rXzj0MS/oLpWXowDuT86mWxJScDCP2NmHUWmmqg/xDYAz/em7b+YVeO5nV/Dv0Tm/72IqeS/RqcaDyhB0b+637fVEYDMP9yiJCkyUry/Cjgn/l14Zj8nU5Ig12KlPxo6tfHwLLk/6q11I4obW78CYgfJKeG8P3jDNQzRgLS/ezym2BGYqr9Gv4ThaKWyP/H1DR/aONa/qsaaiZImzD8izL7t9OL7v8OcSIbVwM0/Agsaa2PbsT8ypy+lbXy4Px7fylUk1p+/MtbDwVRc1z/DC85kSKqmP4NuzZQuMcE/LvNlvDp9ub/qEduGK0qZP6deW2uo29E/Azehcw4I4z+cbHD3O0TFv8FqPGFg49g/189jevcseD8AAAAAAAAAAI98RkfbptQ/309tldIWpD+a8amb346zP+pU9id6YM2/fMy1Xt+U4b9kFt4Wo3bDPw0mk8J+YMi/SEpXlR3IxL8BB5E/Shy/v3IbKQ6CTcO/y6JkSk9/1D8L28yL8YyvP90lxU+g9Xi/K/9uNKG/0j8kSFQt4XfQvy+PwPa68KY/dBqLj4vvyr9eS5tPKsZEPwQ8I4M3EcM/LsJt9GT14L95sOhQ4w/Gv6bFzEJbNcm/08hTENIDsz8AAAAAAAAAAHsEWmE5B8E/5QBRzVIfuT/cKG9og9zFv35oUFQs/qq/stYsR4G2lT/Zte8uDZWbvzuoKWS9ZoS/giDS7x9Wsz+9SEMf9xu7P39iRcMJDYg/IFWoBEkIgr8rS4sF1E+av9HMYuq+eHu/WG4jowQTqz8TfWNaJAu9v3fx9+whosa/84Y6PN8Z1D+z+gTO4Q3Vvycsk75/IYQ/ZmyRmXjxnD8uT/s65GyLv5jUYUKKrtC/UA0hEvEv2b+jjmPHem3AP316QmbBS7s/0LAn81zH3b+9JI2czvuuv9OgqCQ+pqE/SDboeYkVzL/InwNF2PXSPwd6XmmN6K0/subARUSepD/PlVJKKaWkPzGN4bJNPKC/ik3b2w8oy7+FBtVPJ06Rv9cq65mkQqs/GCeBi/+Pwb9VzLmqS6isPzU3ThufVLy/ZwDp0YXFuT+qg74FU4azPxW9fl6pMcw/A5tSSX840j/f4tcVI4ekv+rj0G2IesA/dy+bDtI6lj+8wxHl2u21v+pJ+WDP3Io/NhLytbNlrL9oLmZpMwqav/wM1KjMEb4/C8j5taX6pr8kA/Qp7UG5P7OzBBHboc0/PmanjbPTvz9eAm8HLCG6vwRPjJp7CKw/ekLJZ6Vwdr9ln4tddHulv+XnhXhsLrA/0fNw8DNVtL96H1jiaJ6mv+xKKcxRj8S/aWLOy0S6pz9D1uKwI7uUP0A9rvb+42o/TuhM6zmv1r8jWRMszC2fvzlPkmdmcrE/fa6vkA/txr8cQ0l1HMqJv2iwJF9euZS/9BFp4c4twj8mMWoAoynIv04Po9oGKam/MTF/N7RI5j/ojwimuGyzv2HPWai7lsC/9GttW9+3qz+bO03DqcW0v9nrJ1NAvuE/hz2xV0Lhrj+/16iQnVqzvynTZvF1FOI/yHaYycen5D/8VrVdPxX2P5f9KAC2n7y/ssdzVwHf0j8fg0PGCSysv4TF8TgzZrS/rSXHkjo60b+wG++Hjey6P2lw0FoqVrC/ut7Yz9mJ6T+BE+g5gQO0v3HlsQDXRNq/EJCEvgd/xr/T5msU/4jVv+ZxSuG2st6/bGxC4Xri3D9Y9ERhFD3hP3skN3/FhXS/uBzlI2ZYob/oLzht/eOtvxQbiflzmcc/j10jeXs5zz/NBXO3TZfRPwiZ5+YqlbS/LN64fEBLz79PF3w3DVnQv6lKZuvJ39E/X4wxsC971b9BxCTl1OiRPwPhuMJNILw/MHT21XHYZr+fcVhYRB9qP989pEKjq84/Nd3EXmes1T/aTPXToQzWP3Il9MpJUdg/fhS7tYK2sT9aqzsAWH3aP6tGH7ZbU8w/bhVQav/5tT8xj/4l797AP9jit8IP6sY/cB/EjdjRsD+ANNolI9Sgv1C4KAAYbX4/r9kE3/xCmj98RCMsAsiwP9ImeQNDWLC/MiVh1ZEwtb8V+1OBUtehPzT+roUm4cA/7IC7m1glsb89RSP1bZTHv31DZNqnXLI/ci7jzityxD8bWFrTbffTP25kejDZVMA/flwEzxvV3b+Df5E2epCpP7IPoLR5nNO/5gru6eigzj9DiTw2W4i0P2+hURSk7ZW/vjsgRznV0797kYpUe76OPzvLUD+accw/qLy+lpcGvL8iQRJzcqu7P0sAYPNo5rK/IGnMbrzggb8JyXoKg1TVP0qtYs6hyrs/81LFj43Czr8U7jtjDQrPvyEymxl9B8m/2aqUsoBCyb/+rOmdcn7Hv+D12iiFRLA/UtSUprXskb/m/EvwASy6v4y4OFDyNm8/aqFjMotvwD8op4jptsS/P6B7aTA3Z7I/bdwVWTx/sT8FQXJ/TwWGvzA6seYIecM//wWpGhadxL92Ueqf5Am3v1id2c4Uztm/0zVGwcoNur+MbvnMbb+Dv4j1aulRr8a/YPIvjQPpob/NYhdvxyCrP4kQAVLDj68/T8bt4eaquL+8N7hkMYS9P5pMAlKnAZS/wZrGK0gIuL+aR1LbfJ+zv08PIhOmJre/qNEPkQTRuT/8h9hZX33UvwxiY2GOBNA/pcSqCUY027+iUWLKWRbCPwspeqWAIco/ZrNFsfjq0b+MDaendwSZv9zLMqBM6NK/3rVX3bSUvr/6SFiT0MTKP07gIAxjgLY/ZsupV5VB1T+McP/fwKalv41D7lt4RNO//Hs1FSD0mj/w8l2+O8V8PzFgudOYCNg/1XcIok7Fab/IHq4Kn+Kpv9WldIsFBdC/iXY/nbFEm7/H13WFMCXIP9FhBhleM6M/QX/9MzPDlr+3VLvGl9jSvzaUTFHdc7y/Hp6ZcvO4xz+I4zCk/KfSv7NVmmMC8bk/vlxwo36w2z+gNYxpOqCuP1rmyhnc/ME/HgFwpmuisT/FUlH3Vv/SP4oF/r37dK6/IsDau7k2s7/7r/rD6MeaPx64Tq1YO6G/Wj2mN1Dtkz9tmecWbV7Nv/cDOcgPx70/TXdtjifNyD8MFvk2ZObDP5JvFaj4v8Q/vDnDr3eKVb9qlGDd/jEAwJq1CnHRpbk/i8s9AtrnqL8hXETBzKa3v39j0Arr6e+/gYzT6zPDjz+l4N58uMDjv/ZZIJ9fvNC/633y15oh2L83oX0tplKwv+t5WFPorqq/fQ3gOYs3sr+nluKd9x7Rv9DBChc/crk/AAAAAAAAAADYRf5owJHNvwrm0stgtLk/Z24jWNdqmz+qnBGayaCivxvsZU+nNbq//iUevroSkL/azfT5TRKwvwZpxkRmU7w/Igjum8nOwb8+LIwH48XHv8g2b4nT5bA/hB6sx0cVr78=",
          "dtype": "f8"
         },
         "xaxis": "x",
         "yaxis": "y"
        }
       ],
       "layout": {
        "barmode": "relative",
        "height": 500,
        "legend": {
         "title": {
          "text": "Flipped Direction"
         },
         "tracegroupgap": 0
        },
        "template": {
         "data": {
          "bar": [
           {
            "error_x": {
             "color": "#2a3f5f"
            },
            "error_y": {
             "color": "#2a3f5f"
            },
            "marker": {
             "line": {
              "color": "#E5ECF6",
              "width": 0.5
             },
             "pattern": {
              "fillmode": "overlay",
              "size": 10,
              "solidity": 0.2
             }
            },
            "type": "bar"
           }
          ],
          "barpolar": [
           {
            "marker": {
             "line": {
              "color": "#E5ECF6",
              "width": 0.5
             },
             "pattern": {
              "fillmode": "overlay",
              "size": 10,
              "solidity": 0.2
             }
            },
            "type": "barpolar"
           }
          ],
          "carpet": [
           {
            "aaxis": {
             "endlinecolor": "#2a3f5f",
             "gridcolor": "white",
             "linecolor": "white",
             "minorgridcolor": "white",
             "startlinecolor": "#2a3f5f"
            },
            "baxis": {
             "endlinecolor": "#2a3f5f",
             "gridcolor": "white",
             "linecolor": "white",
             "minorgridcolor": "white",
             "startlinecolor": "#2a3f5f"
            },
            "type": "carpet"
           }
          ],
          "choropleth": [
           {
            "colorbar": {
             "outlinewidth": 0,
             "ticks": ""
            },
            "type": "choropleth"
           }
          ],
          "contour": [
           {
            "colorbar": {
             "outlinewidth": 0,
             "ticks": ""
            },
            "colorscale": [
             [
              0,
              "#0d0887"
             ],
             [
              0.1111111111111111,
              "#46039f"
             ],
             [
              0.2222222222222222,
              "#7201a8"
             ],
             [
              0.3333333333333333,
              "#9c179e"
             ],
             [
              0.4444444444444444,
              "#bd3786"
             ],
             [
              0.5555555555555556,
              "#d8576b"
             ],
             [
              0.6666666666666666,
              "#ed7953"
             ],
             [
              0.7777777777777778,
              "#fb9f3a"
             ],
             [
              0.8888888888888888,
              "#fdca26"
             ],
             [
              1,
              "#f0f921"
             ]
            ],
            "type": "contour"
           }
          ],
          "contourcarpet": [
           {
            "colorbar": {
             "outlinewidth": 0,
             "ticks": ""
            },
            "type": "contourcarpet"
           }
          ],
          "heatmap": [
           {
            "colorbar": {
             "outlinewidth": 0,
             "ticks": ""
            },
            "colorscale": [
             [
              0,
              "#0d0887"
             ],
             [
              0.1111111111111111,
              "#46039f"
             ],
             [
              0.2222222222222222,
              "#7201a8"
             ],
             [
              0.3333333333333333,
              "#9c179e"
             ],
             [
              0.4444444444444444,
              "#bd3786"
             ],
             [
              0.5555555555555556,
              "#d8576b"
             ],
             [
              0.6666666666666666,
              "#ed7953"
             ],
             [
              0.7777777777777778,
              "#fb9f3a"
             ],
             [
              0.8888888888888888,
              "#fdca26"
             ],
             [
              1,
              "#f0f921"
             ]
            ],
            "type": "heatmap"
           }
          ],
          "histogram": [
           {
            "marker": {
             "pattern": {
              "fillmode": "overlay",
              "size": 10,
              "solidity": 0.2
             }
            },
            "type": "histogram"
           }
          ],
          "histogram2d": [
           {
            "colorbar": {
             "outlinewidth": 0,
             "ticks": ""
            },
            "colorscale": [
             [
              0,
              "#0d0887"
             ],
             [
              0.1111111111111111,
              "#46039f"
             ],
             [
              0.2222222222222222,
              "#7201a8"
             ],
             [
              0.3333333333333333,
              "#9c179e"
             ],
             [
              0.4444444444444444,
              "#bd3786"
             ],
             [
              0.5555555555555556,
              "#d8576b"
             ],
             [
              0.6666666666666666,
              "#ed7953"
             ],
             [
              0.7777777777777778,
              "#fb9f3a"
             ],
             [
              0.8888888888888888,
              "#fdca26"
             ],
             [
              1,
              "#f0f921"
             ]
            ],
            "type": "histogram2d"
           }
          ],
          "histogram2dcontour": [
           {
            "colorbar": {
             "outlinewidth": 0,
             "ticks": ""
            },
            "colorscale": [
             [
              0,
              "#0d0887"
             ],
             [
              0.1111111111111111,
              "#46039f"
             ],
             [
              0.2222222222222222,
              "#7201a8"
             ],
             [
              0.3333333333333333,
              "#9c179e"
             ],
             [
              0.4444444444444444,
              "#bd3786"
             ],
             [
              0.5555555555555556,
              "#d8576b"
             ],
             [
              0.6666666666666666,
              "#ed7953"
             ],
             [
              0.7777777777777778,
              "#fb9f3a"
             ],
             [
              0.8888888888888888,
              "#fdca26"
             ],
             [
              1,
              "#f0f921"
             ]
            ],
            "type": "histogram2dcontour"
           }
          ],
          "mesh3d": [
           {
            "colorbar": {
             "outlinewidth": 0,
             "ticks": ""
            },
            "type": "mesh3d"
           }
          ],
          "parcoords": [
           {
            "line": {
             "colorbar": {
              "outlinewidth": 0,
              "ticks": ""
             }
            },
            "type": "parcoords"
           }
          ],
          "pie": [
           {
            "automargin": true,
            "type": "pie"
           }
          ],
          "scatter": [
           {
            "fillpattern": {
             "fillmode": "overlay",
             "size": 10,
             "solidity": 0.2
            },
            "type": "scatter"
           }
          ],
          "scatter3d": [
           {
            "line": {
             "colorbar": {
              "outlinewidth": 0,
              "ticks": ""
             }
            },
            "marker": {
             "colorbar": {
              "outlinewidth": 0,
              "ticks": ""
             }
            },
            "type": "scatter3d"
           }
          ],
          "scattercarpet": [
           {
            "marker": {
             "colorbar": {
              "outlinewidth": 0,
              "ticks": ""
             }
            },
            "type": "scattercarpet"
           }
          ],
          "scattergeo": [
           {
            "marker": {
             "colorbar": {
              "outlinewidth": 0,
              "ticks": ""
             }
            },
            "type": "scattergeo"
           }
          ],
          "scattergl": [
           {
            "marker": {
             "colorbar": {
              "outlinewidth": 0,
              "ticks": ""
             }
            },
            "type": "scattergl"
           }
          ],
          "scattermap": [
           {
            "marker": {
             "colorbar": {
              "outlinewidth": 0,
              "ticks": ""
             }
            },
            "type": "scattermap"
           }
          ],
          "scattermapbox": [
           {
            "marker": {
             "colorbar": {
              "outlinewidth": 0,
              "ticks": ""
             }
            },
            "type": "scattermapbox"
           }
          ],
          "scatterpolar": [
           {
            "marker": {
             "colorbar": {
              "outlinewidth": 0,
              "ticks": ""
             }
            },
            "type": "scatterpolar"
           }
          ],
          "scatterpolargl": [
           {
            "marker": {
             "colorbar": {
              "outlinewidth": 0,
              "ticks": ""
             }
            },
            "type": "scatterpolargl"
           }
          ],
          "scatterternary": [
           {
            "marker": {
             "colorbar": {
              "outlinewidth": 0,
              "ticks": ""
             }
            },
            "type": "scatterternary"
           }
          ],
          "surface": [
           {
            "colorbar": {
             "outlinewidth": 0,
             "ticks": ""
            },
            "colorscale": [
             [
              0,
              "#0d0887"
             ],
             [
              0.1111111111111111,
              "#46039f"
             ],
             [
              0.2222222222222222,
              "#7201a8"
             ],
             [
              0.3333333333333333,
              "#9c179e"
             ],
             [
              0.4444444444444444,
              "#bd3786"
             ],
             [
              0.5555555555555556,
              "#d8576b"
             ],
             [
              0.6666666666666666,
              "#ed7953"
             ],
             [
              0.7777777777777778,
              "#fb9f3a"
             ],
             [
              0.8888888888888888,
              "#fdca26"
             ],
             [
              1,
              "#f0f921"
             ]
            ],
            "type": "surface"
           }
          ],
          "table": [
           {
            "cells": {
             "fill": {
              "color": "#EBF0F8"
             },
             "line": {
              "color": "white"
             }
            },
            "header": {
             "fill": {
              "color": "#C8D4E3"
             },
             "line": {
              "color": "white"
             }
            },
            "type": "table"
           }
          ]
         },
         "layout": {
          "annotationdefaults": {
           "arrowcolor": "#2a3f5f",
           "arrowhead": 0,
           "arrowwidth": 1
          },
          "autotypenumbers": "strict",
          "coloraxis": {
           "colorbar": {
            "outlinewidth": 0,
            "ticks": ""
           }
          },
          "colorscale": {
           "diverging": [
            [
             0,
             "#8e0152"
            ],
            [
             0.1,
             "#c51b7d"
            ],
            [
             0.2,
             "#de77ae"
            ],
            [
             0.3,
             "#f1b6da"
            ],
            [
             0.4,
             "#fde0ef"
            ],
            [
             0.5,
             "#f7f7f7"
            ],
            [
             0.6,
             "#e6f5d0"
            ],
            [
             0.7,
             "#b8e186"
            ],
            [
             0.8,
             "#7fbc41"
            ],
            [
             0.9,
             "#4d9221"
            ],
            [
             1,
             "#276419"
            ]
           ],
           "sequential": [
            [
             0,
             "#0d0887"
            ],
            [
             0.1111111111111111,
             "#46039f"
            ],
            [
             0.2222222222222222,
             "#7201a8"
            ],
            [
             0.3333333333333333,
             "#9c179e"
            ],
            [
             0.4444444444444444,
             "#bd3786"
            ],
            [
             0.5555555555555556,
             "#d8576b"
            ],
            [
             0.6666666666666666,
             "#ed7953"
            ],
            [
             0.7777777777777778,
             "#fb9f3a"
            ],
            [
             0.8888888888888888,
             "#fdca26"
            ],
            [
             1,
             "#f0f921"
            ]
           ],
           "sequentialminus": [
            [
             0,
             "#0d0887"
            ],
            [
             0.1111111111111111,
             "#46039f"
            ],
            [
             0.2222222222222222,
             "#7201a8"
            ],
            [
             0.3333333333333333,
             "#9c179e"
            ],
            [
             0.4444444444444444,
             "#bd3786"
            ],
            [
             0.5555555555555556,
             "#d8576b"
            ],
            [
             0.6666666666666666,
             "#ed7953"
            ],
            [
             0.7777777777777778,
             "#fb9f3a"
            ],
            [
             0.8888888888888888,
             "#fdca26"
            ],
            [
             1,
             "#f0f921"
            ]
           ]
          },
          "colorway": [
           "#636efa",
           "#EF553B",
           "#00cc96",
           "#ab63fa",
           "#FFA15A",
           "#19d3f3",
           "#FF6692",
           "#B6E880",
           "#FF97FF",
           "#FECB52"
          ],
          "font": {
           "color": "#2a3f5f"
          },
          "geo": {
           "bgcolor": "white",
           "lakecolor": "white",
           "landcolor": "#E5ECF6",
           "showlakes": true,
           "showland": true,
           "subunitcolor": "white"
          },
          "hoverlabel": {
           "align": "left"
          },
          "hovermode": "closest",
          "mapbox": {
           "style": "light"
          },
          "paper_bgcolor": "white",
          "plot_bgcolor": "#E5ECF6",
          "polar": {
           "angularaxis": {
            "gridcolor": "white",
            "linecolor": "white",
            "ticks": ""
           },
           "bgcolor": "#E5ECF6",
           "radialaxis": {
            "gridcolor": "white",
            "linecolor": "white",
            "ticks": ""
           }
          },
          "scene": {
           "xaxis": {
            "backgroundcolor": "#E5ECF6",
            "gridcolor": "white",
            "gridwidth": 2,
            "linecolor": "white",
            "showbackground": true,
            "ticks": "",
            "zerolinecolor": "white"
           },
           "yaxis": {
            "backgroundcolor": "#E5ECF6",
            "gridcolor": "white",
            "gridwidth": 2,
            "linecolor": "white",
            "showbackground": true,
            "ticks": "",
            "zerolinecolor": "white"
           },
           "zaxis": {
            "backgroundcolor": "#E5ECF6",
            "gridcolor": "white",
            "gridwidth": 2,
            "linecolor": "white",
            "showbackground": true,
            "ticks": "",
            "zerolinecolor": "white"
           }
          },
          "shapedefaults": {
           "line": {
            "color": "#2a3f5f"
           }
          },
          "ternary": {
           "aaxis": {
            "gridcolor": "white",
            "linecolor": "white",
            "ticks": ""
           },
           "baxis": {
            "gridcolor": "white",
            "linecolor": "white",
            "ticks": ""
           },
           "bgcolor": "#E5ECF6",
           "caxis": {
            "gridcolor": "white",
            "linecolor": "white",
            "ticks": ""
           }
          },
          "title": {
           "x": 0.05
          },
          "xaxis": {
           "automargin": true,
           "gridcolor": "white",
           "linecolor": "white",
           "ticks": "",
           "title": {
            "standoff": 15
           },
           "zerolinecolor": "white",
           "zerolinewidth": 2
          },
          "yaxis": {
           "automargin": true,
           "gridcolor": "white",
           "linecolor": "white",
           "ticks": "",
           "title": {
            "standoff": 15
           },
           "zerolinecolor": "white",
           "zerolinewidth": 2
          }
         }
        },
        "title": {
         "text": "🔄 Candle Flip Behavior by 45-Minute Change"
        },
        "xaxis": {
         "anchor": "y",
         "domain": [
          0,
          1
         ],
         "title": {
          "text": "45-Minute Change (%)"
         }
        },
        "yaxis": {
         "anchor": "x",
         "domain": [
          0,
          1
         ],
         "title": {
          "text": "Number of Candles"
         }
        }
       }
      }
     },
     "metadata": {},
     "output_type": "display_data"
    },
    {
     "data": {
      "application/vnd.plotly.v1+json": {
       "config": {
        "plotlyServerURL": "https://plot.ly"
       },
       "data": [
        {
         "bingroup": "x",
         "hovertemplate": "green_candle=True<br>45-Minute Change (%)=%{x}<br>count=%{y}<extra></extra>",
         "legendgroup": "True",
         "marker": {
          "color": "#00ff00",
          "pattern": {
           "shape": ""
          }
         },
         "name": "True",
         "nbinsx": 50,
         "orientation": "v",
         "showlegend": true,
         "type": "histogram",
         "x": {
          "bdata": "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",
          "dtype": "f8"
         },
         "xaxis": "x",
         "yaxis": "y"
        },
        {
         "bingroup": "x",
         "hovertemplate": "green_candle=False<br>45-Minute Change (%)=%{x}<br>count=%{y}<extra></extra>",
         "legendgroup": "False",
         "marker": {
          "color": "#ff0000",
          "pattern": {
           "shape": ""
          }
         },
         "name": "False",
         "nbinsx": 50,
         "orientation": "v",
         "showlegend": true,
         "type": "histogram",
         "x": {
          "bdata": "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",
          "dtype": "f8"
         },
         "xaxis": "x",
         "yaxis": "y"
        }
       ],
       "layout": {
        "barmode": "relative",
        "height": 500,
        "legend": {
         "title": {
          "text": "Candle Color"
         },
         "tracegroupgap": 0
        },
        "template": {
         "data": {
          "bar": [
           {
            "error_x": {
             "color": "#2a3f5f"
            },
            "error_y": {
             "color": "#2a3f5f"
            },
            "marker": {
             "line": {
              "color": "#E5ECF6",
              "width": 0.5
             },
             "pattern": {
              "fillmode": "overlay",
              "size": 10,
              "solidity": 0.2
             }
            },
            "type": "bar"
           }
          ],
          "barpolar": [
           {
            "marker": {
             "line": {
              "color": "#E5ECF6",
              "width": 0.5
             },
             "pattern": {
              "fillmode": "overlay",
              "size": 10,
              "solidity": 0.2
             }
            },
            "type": "barpolar"
           }
          ],
          "carpet": [
           {
            "aaxis": {
             "endlinecolor": "#2a3f5f",
             "gridcolor": "white",
             "linecolor": "white",
             "minorgridcolor": "white",
             "startlinecolor": "#2a3f5f"
            },
            "baxis": {
             "endlinecolor": "#2a3f5f",
             "gridcolor": "white",
             "linecolor": "white",
             "minorgridcolor": "white",
             "startlinecolor": "#2a3f5f"
            },
            "type": "carpet"
           }
          ],
          "choropleth": [
           {
            "colorbar": {
             "outlinewidth": 0,
             "ticks": ""
            },
            "type": "choropleth"
           }
          ],
          "contour": [
           {
            "colorbar": {
             "outlinewidth": 0,
             "ticks": ""
            },
            "colorscale": [
             [
              0,
              "#0d0887"
             ],
             [
              0.1111111111111111,
              "#46039f"
             ],
             [
              0.2222222222222222,
              "#7201a8"
             ],
             [
              0.3333333333333333,
              "#9c179e"
             ],
             [
              0.4444444444444444,
              "#bd3786"
             ],
             [
              0.5555555555555556,
              "#d8576b"
             ],
             [
              0.6666666666666666,
              "#ed7953"
             ],
             [
              0.7777777777777778,
              "#fb9f3a"
             ],
             [
              0.8888888888888888,
              "#fdca26"
             ],
             [
              1,
              "#f0f921"
             ]
            ],
            "type": "contour"
           }
          ],
          "contourcarpet": [
           {
            "colorbar": {
             "outlinewidth": 0,
             "ticks": ""
            },
            "type": "contourcarpet"
           }
          ],
          "heatmap": [
           {
            "colorbar": {
             "outlinewidth": 0,
             "ticks": ""
            },
            "colorscale": [
             [
              0,
              "#0d0887"
             ],
             [
              0.1111111111111111,
              "#46039f"
             ],
             [
              0.2222222222222222,
              "#7201a8"
             ],
             [
              0.3333333333333333,
              "#9c179e"
             ],
             [
              0.4444444444444444,
              "#bd3786"
             ],
             [
              0.5555555555555556,
              "#d8576b"
             ],
             [
              0.6666666666666666,
              "#ed7953"
             ],
             [
              0.7777777777777778,
              "#fb9f3a"
             ],
             [
              0.8888888888888888,
              "#fdca26"
             ],
             [
              1,
              "#f0f921"
             ]
            ],
            "type": "heatmap"
           }
          ],
          "histogram": [
           {
            "marker": {
             "pattern": {
              "fillmode": "overlay",
              "size": 10,
              "solidity": 0.2
             }
            },
            "type": "histogram"
           }
          ],
          "histogram2d": [
           {
            "colorbar": {
             "outlinewidth": 0,
             "ticks": ""
            },
            "colorscale": [
             [
              0,
              "#0d0887"
             ],
             [
              0.1111111111111111,
              "#46039f"
             ],
             [
              0.2222222222222222,
              "#7201a8"
             ],
             [
              0.3333333333333333,
              "#9c179e"
             ],
             [
              0.4444444444444444,
              "#bd3786"
             ],
             [
              0.5555555555555556,
              "#d8576b"
             ],
             [
              0.6666666666666666,
              "#ed7953"
             ],
             [
              0.7777777777777778,
              "#fb9f3a"
             ],
             [
              0.8888888888888888,
              "#fdca26"
             ],
             [
              1,
              "#f0f921"
             ]
            ],
            "type": "histogram2d"
           }
          ],
          "histogram2dcontour": [
           {
            "colorbar": {
             "outlinewidth": 0,
             "ticks": ""
            },
            "colorscale": [
             [
              0,
              "#0d0887"
             ],
             [
              0.1111111111111111,
              "#46039f"
             ],
             [
              0.2222222222222222,
              "#7201a8"
             ],
             [
              0.3333333333333333,
              "#9c179e"
             ],
             [
              0.4444444444444444,
              "#bd3786"
             ],
             [
              0.5555555555555556,
              "#d8576b"
             ],
             [
              0.6666666666666666,
              "#ed7953"
             ],
             [
              0.7777777777777778,
              "#fb9f3a"
             ],
             [
              0.8888888888888888,
              "#fdca26"
             ],
             [
              1,
              "#f0f921"
             ]
            ],
            "type": "histogram2dcontour"
           }
          ],
          "mesh3d": [
           {
            "colorbar": {
             "outlinewidth": 0,
             "ticks": ""
            },
            "type": "mesh3d"
           }
          ],
          "parcoords": [
           {
            "line": {
             "colorbar": {
              "outlinewidth": 0,
              "ticks": ""
             }
            },
            "type": "parcoords"
           }
          ],
          "pie": [
           {
            "automargin": true,
            "type": "pie"
           }
          ],
          "scatter": [
           {
            "fillpattern": {
             "fillmode": "overlay",
             "size": 10,
             "solidity": 0.2
            },
            "type": "scatter"
           }
          ],
          "scatter3d": [
           {
            "line": {
             "colorbar": {
              "outlinewidth": 0,
              "ticks": ""
             }
            },
            "marker": {
             "colorbar": {
              "outlinewidth": 0,
              "ticks": ""
             }
            },
            "type": "scatter3d"
           }
          ],
          "scattercarpet": [
           {
            "marker": {
             "colorbar": {
              "outlinewidth": 0,
              "ticks": ""
             }
            },
            "type": "scattercarpet"
           }
          ],
          "scattergeo": [
           {
            "marker": {
             "colorbar": {
              "outlinewidth": 0,
              "ticks": ""
             }
            },
            "type": "scattergeo"
           }
          ],
          "scattergl": [
           {
            "marker": {
             "colorbar": {
              "outlinewidth": 0,
              "ticks": ""
             }
            },
            "type": "scattergl"
           }
          ],
          "scattermap": [
           {
            "marker": {
             "colorbar": {
              "outlinewidth": 0,
              "ticks": ""
             }
            },
            "type": "scattermap"
           }
          ],
          "scattermapbox": [
           {
            "marker": {
             "colorbar": {
              "outlinewidth": 0,
              "ticks": ""
             }
            },
            "type": "scattermapbox"
           }
          ],
          "scatterpolar": [
           {
            "marker": {
             "colorbar": {
              "outlinewidth": 0,
              "ticks": ""
             }
            },
            "type": "scatterpolar"
           }
          ],
          "scatterpolargl": [
           {
            "marker": {
             "colorbar": {
              "outlinewidth": 0,
              "ticks": ""
             }
            },
            "type": "scatterpolargl"
           }
          ],
          "scatterternary": [
           {
            "marker": {
             "colorbar": {
              "outlinewidth": 0,
              "ticks": ""
             }
            },
            "type": "scatterternary"
           }
          ],
          "surface": [
           {
            "colorbar": {
             "outlinewidth": 0,
             "ticks": ""
            },
            "colorscale": [
             [
              0,
              "#0d0887"
             ],
             [
              0.1111111111111111,
              "#46039f"
             ],
             [
              0.2222222222222222,
              "#7201a8"
             ],
             [
              0.3333333333333333,
              "#9c179e"
             ],
             [
              0.4444444444444444,
              "#bd3786"
             ],
             [
              0.5555555555555556,
              "#d8576b"
             ],
             [
              0.6666666666666666,
              "#ed7953"
             ],
             [
              0.7777777777777778,
              "#fb9f3a"
             ],
             [
              0.8888888888888888,
              "#fdca26"
             ],
             [
              1,
              "#f0f921"
             ]
            ],
            "type": "surface"
           }
          ],
          "table": [
           {
            "cells": {
             "fill": {
              "color": "#EBF0F8"
             },
             "line": {
              "color": "white"
             }
            },
            "header": {
             "fill": {
              "color": "#C8D4E3"
             },
             "line": {
              "color": "white"
             }
            },
            "type": "table"
           }
          ]
         },
         "layout": {
          "annotationdefaults": {
           "arrowcolor": "#2a3f5f",
           "arrowhead": 0,
           "arrowwidth": 1
          },
          "autotypenumbers": "strict",
          "coloraxis": {
           "colorbar": {
            "outlinewidth": 0,
            "ticks": ""
           }
          },
          "colorscale": {
           "diverging": [
            [
             0,
             "#8e0152"
            ],
            [
             0.1,
             "#c51b7d"
            ],
            [
             0.2,
             "#de77ae"
            ],
            [
             0.3,
             "#f1b6da"
            ],
            [
             0.4,
             "#fde0ef"
            ],
            [
             0.5,
             "#f7f7f7"
            ],
            [
             0.6,
             "#e6f5d0"
            ],
            [
             0.7,
             "#b8e186"
            ],
            [
             0.8,
             "#7fbc41"
            ],
            [
             0.9,
             "#4d9221"
            ],
            [
             1,
             "#276419"
            ]
           ],
           "sequential": [
            [
             0,
             "#0d0887"
            ],
            [
             0.1111111111111111,
             "#46039f"
            ],
            [
             0.2222222222222222,
             "#7201a8"
            ],
            [
             0.3333333333333333,
             "#9c179e"
            ],
            [
             0.4444444444444444,
             "#bd3786"
            ],
            [
             0.5555555555555556,
             "#d8576b"
            ],
            [
             0.6666666666666666,
             "#ed7953"
            ],
            [
             0.7777777777777778,
             "#fb9f3a"
            ],
            [
             0.8888888888888888,
             "#fdca26"
            ],
            [
             1,
             "#f0f921"
            ]
           ],
           "sequentialminus": [
            [
             0,
             "#0d0887"
            ],
            [
             0.1111111111111111,
             "#46039f"
            ],
            [
             0.2222222222222222,
             "#7201a8"
            ],
            [
             0.3333333333333333,
             "#9c179e"
            ],
            [
             0.4444444444444444,
             "#bd3786"
            ],
            [
             0.5555555555555556,
             "#d8576b"
            ],
            [
             0.6666666666666666,
             "#ed7953"
            ],
            [
             0.7777777777777778,
             "#fb9f3a"
            ],
            [
             0.8888888888888888,
             "#fdca26"
            ],
            [
             1,
             "#f0f921"
            ]
           ]
          },
          "colorway": [
           "#636efa",
           "#EF553B",
           "#00cc96",
           "#ab63fa",
           "#FFA15A",
           "#19d3f3",
           "#FF6692",
           "#B6E880",
           "#FF97FF",
           "#FECB52"
          ],
          "font": {
           "color": "#2a3f5f"
          },
          "geo": {
           "bgcolor": "white",
           "lakecolor": "white",
           "landcolor": "#E5ECF6",
           "showlakes": true,
           "showland": true,
           "subunitcolor": "white"
          },
          "hoverlabel": {
           "align": "left"
          },
          "hovermode": "closest",
          "mapbox": {
           "style": "light"
          },
          "paper_bgcolor": "white",
          "plot_bgcolor": "#E5ECF6",
          "polar": {
           "angularaxis": {
            "gridcolor": "white",
            "linecolor": "white",
            "ticks": ""
           },
           "bgcolor": "#E5ECF6",
           "radialaxis": {
            "gridcolor": "white",
            "linecolor": "white",
            "ticks": ""
           }
          },
          "scene": {
           "xaxis": {
            "backgroundcolor": "#E5ECF6",
            "gridcolor": "white",
            "gridwidth": 2,
            "linecolor": "white",
            "showbackground": true,
            "ticks": "",
            "zerolinecolor": "white"
           },
           "yaxis": {
            "backgroundcolor": "#E5ECF6",
            "gridcolor": "white",
            "gridwidth": 2,
            "linecolor": "white",
            "showbackground": true,
            "ticks": "",
            "zerolinecolor": "white"
           },
           "zaxis": {
            "backgroundcolor": "#E5ECF6",
            "gridcolor": "white",
            "gridwidth": 2,
            "linecolor": "white",
            "showbackground": true,
            "ticks": "",
            "zerolinecolor": "white"
           }
          },
          "shapedefaults": {
           "line": {
            "color": "#2a3f5f"
           }
          },
          "ternary": {
           "aaxis": {
            "gridcolor": "white",
            "linecolor": "white",
            "ticks": ""
           },
           "baxis": {
            "gridcolor": "white",
            "linecolor": "white",
            "ticks": ""
           },
           "bgcolor": "#E5ECF6",
           "caxis": {
            "gridcolor": "white",
            "linecolor": "white",
            "ticks": ""
           }
          },
          "title": {
           "x": 0.05
          },
          "xaxis": {
           "automargin": true,
           "gridcolor": "white",
           "linecolor": "white",
           "ticks": "",
           "title": {
            "standoff": 15
           },
           "zerolinecolor": "white",
           "zerolinewidth": 2
          },
          "yaxis": {
           "automargin": true,
           "gridcolor": "white",
           "linecolor": "white",
           "ticks": "",
           "title": {
            "standoff": 15
           },
           "zerolinecolor": "white",
           "zerolinewidth": 2
          }
         }
        },
        "title": {
         "text": "🟢🔴 Green vs Red Candles by 45-Minute Change"
        },
        "xaxis": {
         "anchor": "y",
         "domain": [
          0,
          1
         ],
         "title": {
          "text": "45-Minute Change (%)"
         }
        },
        "yaxis": {
         "anchor": "x",
         "domain": [
          0,
          1
         ],
         "title": {
          "text": "Number of Candles"
         }
        }
       }
      }
     },
     "metadata": {},
     "output_type": "display_data"
    },
    {
     "data": {
      "application/vnd.plotly.v1+json": {
       "config": {
        "plotlyServerURL": "https://plot.ly"
       },
       "data": [
        {
         "hovertemplate": "Hour of Day=%{x}<br>Flip Rate=%{marker.color}<extra></extra>",
         "legendgroup": "",
         "marker": {
          "color": {
           "bdata": "CKwcWmQ7vz+gGi/dJAbBP2IQWDm0yMY/qvHSTWIQuD8zMzMzMzPDP5huEoPAysE/arx0kxgExj/+1HjpJjHIP6AaL90kBsE/mG4Sg8DKwT8rhxbZzvfDP4lBYOXQIrs/x0s3iUFgxT+gGi/dJAbBPyuHFtnO98M/mG4Sg8DKwT9qvHSTGATGP9Ei2/l+arw/mG4Sg8DKwT9iEFg5tMjGPwaBlUOLbMc/vp8aL90kxj/sUbgehevBP7ByaJHtfL8/",
           "dtype": "f8"
          },
          "coloraxis": "coloraxis",
          "pattern": {
           "shape": ""
          }
         },
         "name": "",
         "orientation": "v",
         "showlegend": false,
         "textposition": "auto",
         "type": "bar",
         "x": {
          "bdata": "AAECAwQFBgcICQoLDA0ODxAREhMUFRYX",
          "dtype": "i1"
         },
         "xaxis": "x",
         "y": {
          "bdata": "CKwcWmQ7vz+gGi/dJAbBP2IQWDm0yMY/qvHSTWIQuD8zMzMzMzPDP5huEoPAysE/arx0kxgExj/+1HjpJjHIP6AaL90kBsE/mG4Sg8DKwT8rhxbZzvfDP4lBYOXQIrs/x0s3iUFgxT+gGi/dJAbBPyuHFtnO98M/mG4Sg8DKwT9qvHSTGATGP9Ei2/l+arw/mG4Sg8DKwT9iEFg5tMjGPwaBlUOLbMc/vp8aL90kxj/sUbgehevBP7ByaJHtfL8/",
          "dtype": "f8"
         },
         "yaxis": "y"
        }
       ],
       "layout": {
        "barmode": "relative",
        "coloraxis": {
         "colorbar": {
          "title": {
           "text": "Flip Rate"
          }
         },
         "colorscale": [
          [
           0,
           "rgb(49,54,149)"
          ],
          [
           0.1,
           "rgb(69,117,180)"
          ],
          [
           0.2,
           "rgb(116,173,209)"
          ],
          [
           0.3,
           "rgb(171,217,233)"
          ],
          [
           0.4,
           "rgb(224,243,248)"
          ],
          [
           0.5,
           "rgb(255,255,191)"
          ],
          [
           0.6,
           "rgb(254,224,144)"
          ],
          [
           0.7,
           "rgb(253,174,97)"
          ],
          [
           0.8,
           "rgb(244,109,67)"
          ],
          [
           0.9,
           "rgb(215,48,39)"
          ],
          [
           1,
           "rgb(165,0,38)"
          ]
         ]
        },
        "height": 400,
        "legend": {
         "tracegroupgap": 0
        },
        "template": {
         "data": {
          "bar": [
           {
            "error_x": {
             "color": "#2a3f5f"
            },
            "error_y": {
             "color": "#2a3f5f"
            },
            "marker": {
             "line": {
              "color": "#E5ECF6",
              "width": 0.5
             },
             "pattern": {
              "fillmode": "overlay",
              "size": 10,
              "solidity": 0.2
             }
            },
            "type": "bar"
           }
          ],
          "barpolar": [
           {
            "marker": {
             "line": {
              "color": "#E5ECF6",
              "width": 0.5
             },
             "pattern": {
              "fillmode": "overlay",
              "size": 10,
              "solidity": 0.2
             }
            },
            "type": "barpolar"
           }
          ],
          "carpet": [
           {
            "aaxis": {
             "endlinecolor": "#2a3f5f",
             "gridcolor": "white",
             "linecolor": "white",
             "minorgridcolor": "white",
             "startlinecolor": "#2a3f5f"
            },
            "baxis": {
             "endlinecolor": "#2a3f5f",
             "gridcolor": "white",
             "linecolor": "white",
             "minorgridcolor": "white",
             "startlinecolor": "#2a3f5f"
            },
            "type": "carpet"
           }
          ],
          "choropleth": [
           {
            "colorbar": {
             "outlinewidth": 0,
             "ticks": ""
            },
            "type": "choropleth"
           }
          ],
          "contour": [
           {
            "colorbar": {
             "outlinewidth": 0,
             "ticks": ""
            },
            "colorscale": [
             [
              0,
              "#0d0887"
             ],
             [
              0.1111111111111111,
              "#46039f"
             ],
             [
              0.2222222222222222,
              "#7201a8"
             ],
             [
              0.3333333333333333,
              "#9c179e"
             ],
             [
              0.4444444444444444,
              "#bd3786"
             ],
             [
              0.5555555555555556,
              "#d8576b"
             ],
             [
              0.6666666666666666,
              "#ed7953"
             ],
             [
              0.7777777777777778,
              "#fb9f3a"
             ],
             [
              0.8888888888888888,
              "#fdca26"
             ],
             [
              1,
              "#f0f921"
             ]
            ],
            "type": "contour"
           }
          ],
          "contourcarpet": [
           {
            "colorbar": {
             "outlinewidth": 0,
             "ticks": ""
            },
            "type": "contourcarpet"
           }
          ],
          "heatmap": [
           {
            "colorbar": {
             "outlinewidth": 0,
             "ticks": ""
            },
            "colorscale": [
             [
              0,
              "#0d0887"
             ],
             [
              0.1111111111111111,
              "#46039f"
             ],
             [
              0.2222222222222222,
              "#7201a8"
             ],
             [
              0.3333333333333333,
              "#9c179e"
             ],
             [
              0.4444444444444444,
              "#bd3786"
             ],
             [
              0.5555555555555556,
              "#d8576b"
             ],
             [
              0.6666666666666666,
              "#ed7953"
             ],
             [
              0.7777777777777778,
              "#fb9f3a"
             ],
             [
              0.8888888888888888,
              "#fdca26"
             ],
             [
              1,
              "#f0f921"
             ]
            ],
            "type": "heatmap"
           }
          ],
          "histogram": [
           {
            "marker": {
             "pattern": {
              "fillmode": "overlay",
              "size": 10,
              "solidity": 0.2
             }
            },
            "type": "histogram"
           }
          ],
          "histogram2d": [
           {
            "colorbar": {
             "outlinewidth": 0,
             "ticks": ""
            },
            "colorscale": [
             [
              0,
              "#0d0887"
             ],
             [
              0.1111111111111111,
              "#46039f"
             ],
             [
              0.2222222222222222,
              "#7201a8"
             ],
             [
              0.3333333333333333,
              "#9c179e"
             ],
             [
              0.4444444444444444,
              "#bd3786"
             ],
             [
              0.5555555555555556,
              "#d8576b"
             ],
             [
              0.6666666666666666,
              "#ed7953"
             ],
             [
              0.7777777777777778,
              "#fb9f3a"
             ],
             [
              0.8888888888888888,
              "#fdca26"
             ],
             [
              1,
              "#f0f921"
             ]
            ],
            "type": "histogram2d"
           }
          ],
          "histogram2dcontour": [
           {
            "colorbar": {
             "outlinewidth": 0,
             "ticks": ""
            },
            "colorscale": [
             [
              0,
              "#0d0887"
             ],
             [
              0.1111111111111111,
              "#46039f"
             ],
             [
              0.2222222222222222,
              "#7201a8"
             ],
             [
              0.3333333333333333,
              "#9c179e"
             ],
             [
              0.4444444444444444,
              "#bd3786"
             ],
             [
              0.5555555555555556,
              "#d8576b"
             ],
             [
              0.6666666666666666,
              "#ed7953"
             ],
             [
              0.7777777777777778,
              "#fb9f3a"
             ],
             [
              0.8888888888888888,
              "#fdca26"
             ],
             [
              1,
              "#f0f921"
             ]
            ],
            "type": "histogram2dcontour"
           }
          ],
          "mesh3d": [
           {
            "colorbar": {
             "outlinewidth": 0,
             "ticks": ""
            },
            "type": "mesh3d"
           }
          ],
          "parcoords": [
           {
            "line": {
             "colorbar": {
              "outlinewidth": 0,
              "ticks": ""
             }
            },
            "type": "parcoords"
           }
          ],
          "pie": [
           {
            "automargin": true,
            "type": "pie"
           }
          ],
          "scatter": [
           {
            "fillpattern": {
             "fillmode": "overlay",
             "size": 10,
             "solidity": 0.2
            },
            "type": "scatter"
           }
          ],
          "scatter3d": [
           {
            "line": {
             "colorbar": {
              "outlinewidth": 0,
              "ticks": ""
             }
            },
            "marker": {
             "colorbar": {
              "outlinewidth": 0,
              "ticks": ""
             }
            },
            "type": "scatter3d"
           }
          ],
          "scattercarpet": [
           {
            "marker": {
             "colorbar": {
              "outlinewidth": 0,
              "ticks": ""
             }
            },
            "type": "scattercarpet"
           }
          ],
          "scattergeo": [
           {
            "marker": {
             "colorbar": {
              "outlinewidth": 0,
              "ticks": ""
             }
            },
            "type": "scattergeo"
           }
          ],
          "scattergl": [
           {
            "marker": {
             "colorbar": {
              "outlinewidth": 0,
              "ticks": ""
             }
            },
            "type": "scattergl"
           }
          ],
          "scattermap": [
           {
            "marker": {
             "colorbar": {
              "outlinewidth": 0,
              "ticks": ""
             }
            },
            "type": "scattermap"
           }
          ],
          "scattermapbox": [
           {
            "marker": {
             "colorbar": {
              "outlinewidth": 0,
              "ticks": ""
             }
            },
            "type": "scattermapbox"
           }
          ],
          "scatterpolar": [
           {
            "marker": {
             "colorbar": {
              "outlinewidth": 0,
              "ticks": ""
             }
            },
            "type": "scatterpolar"
           }
          ],
          "scatterpolargl": [
           {
            "marker": {
             "colorbar": {
              "outlinewidth": 0,
              "ticks": ""
             }
            },
            "type": "scatterpolargl"
           }
          ],
          "scatterternary": [
           {
            "marker": {
             "colorbar": {
              "outlinewidth": 0,
              "ticks": ""
             }
            },
            "type": "scatterternary"
           }
          ],
          "surface": [
           {
            "colorbar": {
             "outlinewidth": 0,
             "ticks": ""
            },
            "colorscale": [
             [
              0,
              "#0d0887"
             ],
             [
              0.1111111111111111,
              "#46039f"
             ],
             [
              0.2222222222222222,
              "#7201a8"
             ],
             [
              0.3333333333333333,
              "#9c179e"
             ],
             [
              0.4444444444444444,
              "#bd3786"
             ],
             [
              0.5555555555555556,
              "#d8576b"
             ],
             [
              0.6666666666666666,
              "#ed7953"
             ],
             [
              0.7777777777777778,
              "#fb9f3a"
             ],
             [
              0.8888888888888888,
              "#fdca26"
             ],
             [
              1,
              "#f0f921"
             ]
            ],
            "type": "surface"
           }
          ],
          "table": [
           {
            "cells": {
             "fill": {
              "color": "#EBF0F8"
             },
             "line": {
              "color": "white"
             }
            },
            "header": {
             "fill": {
              "color": "#C8D4E3"
             },
             "line": {
              "color": "white"
             }
            },
            "type": "table"
           }
          ]
         },
         "layout": {
          "annotationdefaults": {
           "arrowcolor": "#2a3f5f",
           "arrowhead": 0,
           "arrowwidth": 1
          },
          "autotypenumbers": "strict",
          "coloraxis": {
           "colorbar": {
            "outlinewidth": 0,
            "ticks": ""
           }
          },
          "colorscale": {
           "diverging": [
            [
             0,
             "#8e0152"
            ],
            [
             0.1,
             "#c51b7d"
            ],
            [
             0.2,
             "#de77ae"
            ],
            [
             0.3,
             "#f1b6da"
            ],
            [
             0.4,
             "#fde0ef"
            ],
            [
             0.5,
             "#f7f7f7"
            ],
            [
             0.6,
             "#e6f5d0"
            ],
            [
             0.7,
             "#b8e186"
            ],
            [
             0.8,
             "#7fbc41"
            ],
            [
             0.9,
             "#4d9221"
            ],
            [
             1,
             "#276419"
            ]
           ],
           "sequential": [
            [
             0,
             "#0d0887"
            ],
            [
             0.1111111111111111,
             "#46039f"
            ],
            [
             0.2222222222222222,
             "#7201a8"
            ],
            [
             0.3333333333333333,
             "#9c179e"
            ],
            [
             0.4444444444444444,
             "#bd3786"
            ],
            [
             0.5555555555555556,
             "#d8576b"
            ],
            [
             0.6666666666666666,
             "#ed7953"
            ],
            [
             0.7777777777777778,
             "#fb9f3a"
            ],
            [
             0.8888888888888888,
             "#fdca26"
            ],
            [
             1,
             "#f0f921"
            ]
           ],
           "sequentialminus": [
            [
             0,
             "#0d0887"
            ],
            [
             0.1111111111111111,
             "#46039f"
            ],
            [
             0.2222222222222222,
             "#7201a8"
            ],
            [
             0.3333333333333333,
             "#9c179e"
            ],
            [
             0.4444444444444444,
             "#bd3786"
            ],
            [
             0.5555555555555556,
             "#d8576b"
            ],
            [
             0.6666666666666666,
             "#ed7953"
            ],
            [
             0.7777777777777778,
             "#fb9f3a"
            ],
            [
             0.8888888888888888,
             "#fdca26"
            ],
            [
             1,
             "#f0f921"
            ]
           ]
          },
          "colorway": [
           "#636efa",
           "#EF553B",
           "#00cc96",
           "#ab63fa",
           "#FFA15A",
           "#19d3f3",
           "#FF6692",
           "#B6E880",
           "#FF97FF",
           "#FECB52"
          ],
          "font": {
           "color": "#2a3f5f"
          },
          "geo": {
           "bgcolor": "white",
           "lakecolor": "white",
           "landcolor": "#E5ECF6",
           "showlakes": true,
           "showland": true,
           "subunitcolor": "white"
          },
          "hoverlabel": {
           "align": "left"
          },
          "hovermode": "closest",
          "mapbox": {
           "style": "light"
          },
          "paper_bgcolor": "white",
          "plot_bgcolor": "#E5ECF6",
          "polar": {
           "angularaxis": {
            "gridcolor": "white",
            "linecolor": "white",
            "ticks": ""
           },
           "bgcolor": "#E5ECF6",
           "radialaxis": {
            "gridcolor": "white",
            "linecolor": "white",
            "ticks": ""
           }
          },
          "scene": {
           "xaxis": {
            "backgroundcolor": "#E5ECF6",
            "gridcolor": "white",
            "gridwidth": 2,
            "linecolor": "white",
            "showbackground": true,
            "ticks": "",
            "zerolinecolor": "white"
           },
           "yaxis": {
            "backgroundcolor": "#E5ECF6",
            "gridcolor": "white",
            "gridwidth": 2,
            "linecolor": "white",
            "showbackground": true,
            "ticks": "",
            "zerolinecolor": "white"
           },
           "zaxis": {
            "backgroundcolor": "#E5ECF6",
            "gridcolor": "white",
            "gridwidth": 2,
            "linecolor": "white",
            "showbackground": true,
            "ticks": "",
            "zerolinecolor": "white"
           }
          },
          "shapedefaults": {
           "line": {
            "color": "#2a3f5f"
           }
          },
          "ternary": {
           "aaxis": {
            "gridcolor": "white",
            "linecolor": "white",
            "ticks": ""
           },
           "baxis": {
            "gridcolor": "white",
            "linecolor": "white",
            "ticks": ""
           },
           "bgcolor": "#E5ECF6",
           "caxis": {
            "gridcolor": "white",
            "linecolor": "white",
            "ticks": ""
           }
          },
          "title": {
           "x": 0.05
          },
          "xaxis": {
           "automargin": true,
           "gridcolor": "white",
           "linecolor": "white",
           "ticks": "",
           "title": {
            "standoff": 15
           },
           "zerolinecolor": "white",
           "zerolinewidth": 2
          },
          "yaxis": {
           "automargin": true,
           "gridcolor": "white",
           "linecolor": "white",
           "ticks": "",
           "title": {
            "standoff": 15
           },
           "zerolinecolor": "white",
           "zerolinewidth": 2
          }
         }
        },
        "title": {
         "text": "🕐 Flip Rate by Hour of Day"
        },
        "xaxis": {
         "anchor": "y",
         "domain": [
          0,
          1
         ],
         "tickmode": "linear",
         "title": {
          "text": "Hour of Day (UTC)"
         }
        },
        "yaxis": {
         "anchor": "x",
         "domain": [
          0,
          1
         ],
         "title": {
          "text": "Flip Rate"
         }
        }
       }
      }
     },
     "metadata": {},
     "output_type": "display_data"
    },
    {
     "data": {
      "application/vnd.plotly.v1+json": {
       "config": {
        "plotlyServerURL": "https://plot.ly"
       },
       "data": [
        {
         "hovertemplate": "flipped=False<br>45-Minute Change (%)=%{x}<br>Final Change (%)=%{y}<extra></extra>",
         "legendgroup": "False",
         "marker": {
          "color": "#4ecdc4",
          "opacity": 0.6,
          "symbol": "circle"
         },
         "mode": "markers",
         "name": "False",
         "showlegend": true,
         "type": "scattergl",
         "x": {
          "bdata": "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",
          "dtype": "f8"
         },
         "xaxis": "x",
         "y": {
          "bdata": "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",
          "dtype": "f8"
         },
         "yaxis": "y"
        },
        {
         "hovertemplate": "flipped=True<br>45-Minute Change (%)=%{x}<br>Final Change (%)=%{y}<extra></extra>",
         "legendgroup": "True",
         "marker": {
          "color": "#ff6b6b",
          "opacity": 0.6,
          "symbol": "circle"
         },
         "mode": "markers",
         "name": "True",
         "showlegend": true,
         "type": "scattergl",
         "x": {
          "bdata": "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",
          "dtype": "f8"
         },
         "xaxis": "x",
         "y": {
          "bdata": "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",
          "dtype": "f8"
         },
         "yaxis": "y"
        }
       ],
       "layout": {
        "height": 500,
        "legend": {
         "title": {
          "text": "Flipped Direction"
         },
         "tracegroupgap": 0
        },
        "shapes": [
         {
          "line": {
           "color": "gray",
           "dash": "dash",
           "width": 2
          },
          "type": "line",
          "x0": -3,
          "x1": 3,
          "y0": -3,
          "y1": 3
         }
        ],
        "template": {
         "data": {
          "bar": [
           {
            "error_x": {
             "color": "#2a3f5f"
            },
            "error_y": {
             "color": "#2a3f5f"
            },
            "marker": {
             "line": {
              "color": "#E5ECF6",
              "width": 0.5
             },
             "pattern": {
              "fillmode": "overlay",
              "size": 10,
              "solidity": 0.2
             }
            },
            "type": "bar"
           }
          ],
          "barpolar": [
           {
            "marker": {
             "line": {
              "color": "#E5ECF6",
              "width": 0.5
             },
             "pattern": {
              "fillmode": "overlay",
              "size": 10,
              "solidity": 0.2
             }
            },
            "type": "barpolar"
           }
          ],
          "carpet": [
           {
            "aaxis": {
             "endlinecolor": "#2a3f5f",
             "gridcolor": "white",
             "linecolor": "white",
             "minorgridcolor": "white",
             "startlinecolor": "#2a3f5f"
            },
            "baxis": {
             "endlinecolor": "#2a3f5f",
             "gridcolor": "white",
             "linecolor": "white",
             "minorgridcolor": "white",
             "startlinecolor": "#2a3f5f"
            },
            "type": "carpet"
           }
          ],
          "choropleth": [
           {
            "colorbar": {
             "outlinewidth": 0,
             "ticks": ""
            },
            "type": "choropleth"
           }
          ],
          "contour": [
           {
            "colorbar": {
             "outlinewidth": 0,
             "ticks": ""
            },
            "colorscale": [
             [
              0,
              "#0d0887"
             ],
             [
              0.1111111111111111,
              "#46039f"
             ],
             [
              0.2222222222222222,
              "#7201a8"
             ],
             [
              0.3333333333333333,
              "#9c179e"
             ],
             [
              0.4444444444444444,
              "#bd3786"
             ],
             [
              0.5555555555555556,
              "#d8576b"
             ],
             [
              0.6666666666666666,
              "#ed7953"
             ],
             [
              0.7777777777777778,
              "#fb9f3a"
             ],
             [
              0.8888888888888888,
              "#fdca26"
             ],
             [
              1,
              "#f0f921"
             ]
            ],
            "type": "contour"
           }
          ],
          "contourcarpet": [
           {
            "colorbar": {
             "outlinewidth": 0,
             "ticks": ""
            },
            "type": "contourcarpet"
           }
          ],
          "heatmap": [
           {
            "colorbar": {
             "outlinewidth": 0,
             "ticks": ""
            },
            "colorscale": [
             [
              0,
              "#0d0887"
             ],
             [
              0.1111111111111111,
              "#46039f"
             ],
             [
              0.2222222222222222,
              "#7201a8"
             ],
             [
              0.3333333333333333,
              "#9c179e"
             ],
             [
              0.4444444444444444,
              "#bd3786"
             ],
             [
              0.5555555555555556,
              "#d8576b"
             ],
             [
              0.6666666666666666,
              "#ed7953"
             ],
             [
              0.7777777777777778,
              "#fb9f3a"
             ],
             [
              0.8888888888888888,
              "#fdca26"
             ],
             [
              1,
              "#f0f921"
             ]
            ],
            "type": "heatmap"
           }
          ],
          "histogram": [
           {
            "marker": {
             "pattern": {
              "fillmode": "overlay",
              "size": 10,
              "solidity": 0.2
             }
            },
            "type": "histogram"
           }
          ],
          "histogram2d": [
           {
            "colorbar": {
             "outlinewidth": 0,
             "ticks": ""
            },
            "colorscale": [
             [
              0,
              "#0d0887"
             ],
             [
              0.1111111111111111,
              "#46039f"
             ],
             [
              0.2222222222222222,
              "#7201a8"
             ],
             [
              0.3333333333333333,
              "#9c179e"
             ],
             [
              0.4444444444444444,
              "#bd3786"
             ],
             [
              0.5555555555555556,
              "#d8576b"
             ],
             [
              0.6666666666666666,
              "#ed7953"
             ],
             [
              0.7777777777777778,
              "#fb9f3a"
             ],
             [
              0.8888888888888888,
              "#fdca26"
             ],
             [
              1,
              "#f0f921"
             ]
            ],
            "type": "histogram2d"
           }
          ],
          "histogram2dcontour": [
           {
            "colorbar": {
             "outlinewidth": 0,
             "ticks": ""
            },
            "colorscale": [
             [
              0,
              "#0d0887"
             ],
             [
              0.1111111111111111,
              "#46039f"
             ],
             [
              0.2222222222222222,
              "#7201a8"
             ],
             [
              0.3333333333333333,
              "#9c179e"
             ],
             [
              0.4444444444444444,
              "#bd3786"
             ],
             [
              0.5555555555555556,
              "#d8576b"
             ],
             [
              0.6666666666666666,
              "#ed7953"
             ],
             [
              0.7777777777777778,
              "#fb9f3a"
             ],
             [
              0.8888888888888888,
              "#fdca26"
             ],
             [
              1,
              "#f0f921"
             ]
            ],
            "type": "histogram2dcontour"
           }
          ],
          "mesh3d": [
           {
            "colorbar": {
             "outlinewidth": 0,
             "ticks": ""
            },
            "type": "mesh3d"
           }
          ],
          "parcoords": [
           {
            "line": {
             "colorbar": {
              "outlinewidth": 0,
              "ticks": ""
             }
            },
            "type": "parcoords"
           }
          ],
          "pie": [
           {
            "automargin": true,
            "type": "pie"
           }
          ],
          "scatter": [
           {
            "fillpattern": {
             "fillmode": "overlay",
             "size": 10,
             "solidity": 0.2
            },
            "type": "scatter"
           }
          ],
          "scatter3d": [
           {
            "line": {
             "colorbar": {
              "outlinewidth": 0,
              "ticks": ""
             }
            },
            "marker": {
             "colorbar": {
              "outlinewidth": 0,
              "ticks": ""
             }
            },
            "type": "scatter3d"
           }
          ],
          "scattercarpet": [
           {
            "marker": {
             "colorbar": {
              "outlinewidth": 0,
              "ticks": ""
             }
            },
            "type": "scattercarpet"
           }
          ],
          "scattergeo": [
           {
            "marker": {
             "colorbar": {
              "outlinewidth": 0,
              "ticks": ""
             }
            },
            "type": "scattergeo"
           }
          ],
          "scattergl": [
           {
            "marker": {
             "colorbar": {
              "outlinewidth": 0,
              "ticks": ""
             }
            },
            "type": "scattergl"
           }
          ],
          "scattermap": [
           {
            "marker": {
             "colorbar": {
              "outlinewidth": 0,
              "ticks": ""
             }
            },
            "type": "scattermap"
           }
          ],
          "scattermapbox": [
           {
            "marker": {
             "colorbar": {
              "outlinewidth": 0,
              "ticks": ""
             }
            },
            "type": "scattermapbox"
           }
          ],
          "scatterpolar": [
           {
            "marker": {
             "colorbar": {
              "outlinewidth": 0,
              "ticks": ""
             }
            },
            "type": "scatterpolar"
           }
          ],
          "scatterpolargl": [
           {
            "marker": {
             "colorbar": {
              "outlinewidth": 0,
              "ticks": ""
             }
            },
            "type": "scatterpolargl"
           }
          ],
          "scatterternary": [
           {
            "marker": {
             "colorbar": {
              "outlinewidth": 0,
              "ticks": ""
             }
            },
            "type": "scatterternary"
           }
          ],
          "surface": [
           {
            "colorbar": {
             "outlinewidth": 0,
             "ticks": ""
            },
            "colorscale": [
             [
              0,
              "#0d0887"
             ],
             [
              0.1111111111111111,
              "#46039f"
             ],
             [
              0.2222222222222222,
              "#7201a8"
             ],
             [
              0.3333333333333333,
              "#9c179e"
             ],
             [
              0.4444444444444444,
              "#bd3786"
             ],
             [
              0.5555555555555556,
              "#d8576b"
             ],
             [
              0.6666666666666666,
              "#ed7953"
             ],
             [
              0.7777777777777778,
              "#fb9f3a"
             ],
             [
              0.8888888888888888,
              "#fdca26"
             ],
             [
              1,
              "#f0f921"
             ]
            ],
            "type": "surface"
           }
          ],
          "table": [
           {
            "cells": {
             "fill": {
              "color": "#EBF0F8"
             },
             "line": {
              "color": "white"
             }
            },
            "header": {
             "fill": {
              "color": "#C8D4E3"
             },
             "line": {
              "color": "white"
             }
            },
            "type": "table"
           }
          ]
         },
         "layout": {
          "annotationdefaults": {
           "arrowcolor": "#2a3f5f",
           "arrowhead": 0,
           "arrowwidth": 1
          },
          "autotypenumbers": "strict",
          "coloraxis": {
           "colorbar": {
            "outlinewidth": 0,
            "ticks": ""
           }
          },
          "colorscale": {
           "diverging": [
            [
             0,
             "#8e0152"
            ],
            [
             0.1,
             "#c51b7d"
            ],
            [
             0.2,
             "#de77ae"
            ],
            [
             0.3,
             "#f1b6da"
            ],
            [
             0.4,
             "#fde0ef"
            ],
            [
             0.5,
             "#f7f7f7"
            ],
            [
             0.6,
             "#e6f5d0"
            ],
            [
             0.7,
             "#b8e186"
            ],
            [
             0.8,
             "#7fbc41"
            ],
            [
             0.9,
             "#4d9221"
            ],
            [
             1,
             "#276419"
            ]
           ],
           "sequential": [
            [
             0,
             "#0d0887"
            ],
            [
             0.1111111111111111,
             "#46039f"
            ],
            [
             0.2222222222222222,
             "#7201a8"
            ],
            [
             0.3333333333333333,
             "#9c179e"
            ],
            [
             0.4444444444444444,
             "#bd3786"
            ],
            [
             0.5555555555555556,
             "#d8576b"
            ],
            [
             0.6666666666666666,
             "#ed7953"
            ],
            [
             0.7777777777777778,
             "#fb9f3a"
            ],
            [
             0.8888888888888888,
             "#fdca26"
            ],
            [
             1,
             "#f0f921"
            ]
           ],
           "sequentialminus": [
            [
             0,
             "#0d0887"
            ],
            [
             0.1111111111111111,
             "#46039f"
            ],
            [
             0.2222222222222222,
             "#7201a8"
            ],
            [
             0.3333333333333333,
             "#9c179e"
            ],
            [
             0.4444444444444444,
             "#bd3786"
            ],
            [
             0.5555555555555556,
             "#d8576b"
            ],
            [
             0.6666666666666666,
             "#ed7953"
            ],
            [
             0.7777777777777778,
             "#fb9f3a"
            ],
            [
             0.8888888888888888,
             "#fdca26"
            ],
            [
             1,
             "#f0f921"
            ]
           ]
          },
          "colorway": [
           "#636efa",
           "#EF553B",
           "#00cc96",
           "#ab63fa",
           "#FFA15A",
           "#19d3f3",
           "#FF6692",
           "#B6E880",
           "#FF97FF",
           "#FECB52"
          ],
          "font": {
           "color": "#2a3f5f"
          },
          "geo": {
           "bgcolor": "white",
           "lakecolor": "white",
           "landcolor": "#E5ECF6",
           "showlakes": true,
           "showland": true,
           "subunitcolor": "white"
          },
          "hoverlabel": {
           "align": "left"
          },
          "hovermode": "closest",
          "mapbox": {
           "style": "light"
          },
          "paper_bgcolor": "white",
          "plot_bgcolor": "#E5ECF6",
          "polar": {
           "angularaxis": {
            "gridcolor": "white",
            "linecolor": "white",
            "ticks": ""
           },
           "bgcolor": "#E5ECF6",
           "radialaxis": {
            "gridcolor": "white",
            "linecolor": "white",
            "ticks": ""
           }
          },
          "scene": {
           "xaxis": {
            "backgroundcolor": "#E5ECF6",
            "gridcolor": "white",
            "gridwidth": 2,
            "linecolor": "white",
            "showbackground": true,
            "ticks": "",
            "zerolinecolor": "white"
           },
           "yaxis": {
            "backgroundcolor": "#E5ECF6",
            "gridcolor": "white",
            "gridwidth": 2,
            "linecolor": "white",
            "showbackground": true,
            "ticks": "",
            "zerolinecolor": "white"
           },
           "zaxis": {
            "backgroundcolor": "#E5ECF6",
            "gridcolor": "white",
            "gridwidth": 2,
            "linecolor": "white",
            "showbackground": true,
            "ticks": "",
            "zerolinecolor": "white"
           }
          },
          "shapedefaults": {
           "line": {
            "color": "#2a3f5f"
           }
          },
          "ternary": {
           "aaxis": {
            "gridcolor": "white",
            "linecolor": "white",
            "ticks": ""
           },
           "baxis": {
            "gridcolor": "white",
            "linecolor": "white",
            "ticks": ""
           },
           "bgcolor": "#E5ECF6",
           "caxis": {
            "gridcolor": "white",
            "linecolor": "white",
            "ticks": ""
           }
          },
          "title": {
           "x": 0.05
          },
          "xaxis": {
           "automargin": true,
           "gridcolor": "white",
           "linecolor": "white",
           "ticks": "",
           "title": {
            "standoff": 15
           },
           "zerolinecolor": "white",
           "zerolinewidth": 2
          },
          "yaxis": {
           "automargin": true,
           "gridcolor": "white",
           "linecolor": "white",
           "ticks": "",
           "title": {
            "standoff": 15
           },
           "zerolinecolor": "white",
           "zerolinewidth": 2
          }
         }
        },
        "title": {
         "text": "📈 45-Minute Change vs Final Change (Sampled)"
        },
        "xaxis": {
         "anchor": "y",
         "domain": [
          0,
          1
         ],
         "title": {
          "text": "45-Minute Change (%)"
         }
        },
        "yaxis": {
         "anchor": "x",
         "domain": [
          0,
          1
         ],
         "title": {
          "text": "Final Change (%)"
         }
        }
       }
      }
     },
     "metadata": {},
     "output_type": "display_data"
    },
    {
     "data": {
      "application/vnd.plotly.v1+json": {
       "config": {
        "plotlyServerURL": "https://plot.ly"
       },
       "data": [
        {
         "hovertemplate": "Day of Week=%{x}<br>Flip Rate=%{marker.color}<extra></extra>",
         "legendgroup": "",
         "marker": {
          "color": {
           "bdata": "8KfGSzeJwT9MN4lBYOXAP3sUrkfhesQ/16NwPQrXwz/jpZvEILDCP9ejcD0K18M/kxgEVg4twj8=",
           "dtype": "f8"
          },
          "coloraxis": "coloraxis",
          "pattern": {
           "shape": ""
          }
         },
         "name": "",
         "orientation": "v",
         "showlegend": false,
         "textposition": "auto",
         "type": "bar",
         "x": [
          "Monday",
          "Tuesday",
          "Wednesday",
          "Thursday",
          "Friday",
          "Saturday",
          "Sunday"
         ],
         "xaxis": "x",
         "y": {
          "bdata": "8KfGSzeJwT9MN4lBYOXAP3sUrkfhesQ/16NwPQrXwz/jpZvEILDCP9ejcD0K18M/kxgEVg4twj8=",
          "dtype": "f8"
         },
         "yaxis": "y"
        }
       ],
       "layout": {
        "barmode": "relative",
        "coloraxis": {
         "colorbar": {
          "title": {
           "text": "Flip Rate"
          }
         },
         "colorscale": [
          [
           0,
           "#440154"
          ],
          [
           0.1111111111111111,
           "#482878"
          ],
          [
           0.2222222222222222,
           "#3e4989"
          ],
          [
           0.3333333333333333,
           "#31688e"
          ],
          [
           0.4444444444444444,
           "#26828e"
          ],
          [
           0.5555555555555556,
           "#1f9e89"
          ],
          [
           0.6666666666666666,
           "#35b779"
          ],
          [
           0.7777777777777778,
           "#6ece58"
          ],
          [
           0.8888888888888888,
           "#b5de2b"
          ],
          [
           1,
           "#fde725"
          ]
         ]
        },
        "height": 400,
        "legend": {
         "tracegroupgap": 0
        },
        "template": {
         "data": {
          "bar": [
           {
            "error_x": {
             "color": "#2a3f5f"
            },
            "error_y": {
             "color": "#2a3f5f"
            },
            "marker": {
             "line": {
              "color": "#E5ECF6",
              "width": 0.5
             },
             "pattern": {
              "fillmode": "overlay",
              "size": 10,
              "solidity": 0.2
             }
            },
            "type": "bar"
           }
          ],
          "barpolar": [
           {
            "marker": {
             "line": {
              "color": "#E5ECF6",
              "width": 0.5
             },
             "pattern": {
              "fillmode": "overlay",
              "size": 10,
              "solidity": 0.2
             }
            },
            "type": "barpolar"
           }
          ],
          "carpet": [
           {
            "aaxis": {
             "endlinecolor": "#2a3f5f",
             "gridcolor": "white",
             "linecolor": "white",
             "minorgridcolor": "white",
             "startlinecolor": "#2a3f5f"
            },
            "baxis": {
             "endlinecolor": "#2a3f5f",
             "gridcolor": "white",
             "linecolor": "white",
             "minorgridcolor": "white",
             "startlinecolor": "#2a3f5f"
            },
            "type": "carpet"
           }
          ],
          "choropleth": [
           {
            "colorbar": {
             "outlinewidth": 0,
             "ticks": ""
            },
            "type": "choropleth"
           }
          ],
          "contour": [
           {
            "colorbar": {
             "outlinewidth": 0,
             "ticks": ""
            },
            "colorscale": [
             [
              0,
              "#0d0887"
             ],
             [
              0.1111111111111111,
              "#46039f"
             ],
             [
              0.2222222222222222,
              "#7201a8"
             ],
             [
              0.3333333333333333,
              "#9c179e"
             ],
             [
              0.4444444444444444,
              "#bd3786"
             ],
             [
              0.5555555555555556,
              "#d8576b"
             ],
             [
              0.6666666666666666,
              "#ed7953"
             ],
             [
              0.7777777777777778,
              "#fb9f3a"
             ],
             [
              0.8888888888888888,
              "#fdca26"
             ],
             [
              1,
              "#f0f921"
             ]
            ],
            "type": "contour"
           }
          ],
          "contourcarpet": [
           {
            "colorbar": {
             "outlinewidth": 0,
             "ticks": ""
            },
            "type": "contourcarpet"
           }
          ],
          "heatmap": [
           {
            "colorbar": {
             "outlinewidth": 0,
             "ticks": ""
            },
            "colorscale": [
             [
              0,
              "#0d0887"
             ],
             [
              0.1111111111111111,
              "#46039f"
             ],
             [
              0.2222222222222222,
              "#7201a8"
             ],
             [
              0.3333333333333333,
              "#9c179e"
             ],
             [
              0.4444444444444444,
              "#bd3786"
             ],
             [
              0.5555555555555556,
              "#d8576b"
             ],
             [
              0.6666666666666666,
              "#ed7953"
             ],
             [
              0.7777777777777778,
              "#fb9f3a"
             ],
             [
              0.8888888888888888,
              "#fdca26"
             ],
             [
              1,
              "#f0f921"
             ]
            ],
            "type": "heatmap"
           }
          ],
          "histogram": [
           {
            "marker": {
             "pattern": {
              "fillmode": "overlay",
              "size": 10,
              "solidity": 0.2
             }
            },
            "type": "histogram"
           }
          ],
          "histogram2d": [
           {
            "colorbar": {
             "outlinewidth": 0,
             "ticks": ""
            },
            "colorscale": [
             [
              0,
              "#0d0887"
             ],
             [
              0.1111111111111111,
              "#46039f"
             ],
             [
              0.2222222222222222,
              "#7201a8"
             ],
             [
              0.3333333333333333,
              "#9c179e"
             ],
             [
              0.4444444444444444,
              "#bd3786"
             ],
             [
              0.5555555555555556,
              "#d8576b"
             ],
             [
              0.6666666666666666,
              "#ed7953"
             ],
             [
              0.7777777777777778,
              "#fb9f3a"
             ],
             [
              0.8888888888888888,
              "#fdca26"
             ],
             [
              1,
              "#f0f921"
             ]
            ],
            "type": "histogram2d"
           }
          ],
          "histogram2dcontour": [
           {
            "colorbar": {
             "outlinewidth": 0,
             "ticks": ""
            },
            "colorscale": [
             [
              0,
              "#0d0887"
             ],
             [
              0.1111111111111111,
              "#46039f"
             ],
             [
              0.2222222222222222,
              "#7201a8"
             ],
             [
              0.3333333333333333,
              "#9c179e"
             ],
             [
              0.4444444444444444,
              "#bd3786"
             ],
             [
              0.5555555555555556,
              "#d8576b"
             ],
             [
              0.6666666666666666,
              "#ed7953"
             ],
             [
              0.7777777777777778,
              "#fb9f3a"
             ],
             [
              0.8888888888888888,
              "#fdca26"
             ],
             [
              1,
              "#f0f921"
             ]
            ],
            "type": "histogram2dcontour"
           }
          ],
          "mesh3d": [
           {
            "colorbar": {
             "outlinewidth": 0,
             "ticks": ""
            },
            "type": "mesh3d"
           }
          ],
          "parcoords": [
           {
            "line": {
             "colorbar": {
              "outlinewidth": 0,
              "ticks": ""
             }
            },
            "type": "parcoords"
           }
          ],
          "pie": [
           {
            "automargin": true,
            "type": "pie"
           }
          ],
          "scatter": [
           {
            "fillpattern": {
             "fillmode": "overlay",
             "size": 10,
             "solidity": 0.2
            },
            "type": "scatter"
           }
          ],
          "scatter3d": [
           {
            "line": {
             "colorbar": {
              "outlinewidth": 0,
              "ticks": ""
             }
            },
            "marker": {
             "colorbar": {
              "outlinewidth": 0,
              "ticks": ""
             }
            },
            "type": "scatter3d"
           }
          ],
          "scattercarpet": [
           {
            "marker": {
             "colorbar": {
              "outlinewidth": 0,
              "ticks": ""
             }
            },
            "type": "scattercarpet"
           }
          ],
          "scattergeo": [
           {
            "marker": {
             "colorbar": {
              "outlinewidth": 0,
              "ticks": ""
             }
            },
            "type": "scattergeo"
           }
          ],
          "scattergl": [
           {
            "marker": {
             "colorbar": {
              "outlinewidth": 0,
              "ticks": ""
             }
            },
            "type": "scattergl"
           }
          ],
          "scattermap": [
           {
            "marker": {
             "colorbar": {
              "outlinewidth": 0,
              "ticks": ""
             }
            },
            "type": "scattermap"
           }
          ],
          "scattermapbox": [
           {
            "marker": {
             "colorbar": {
              "outlinewidth": 0,
              "ticks": ""
             }
            },
            "type": "scattermapbox"
           }
          ],
          "scatterpolar": [
           {
            "marker": {
             "colorbar": {
              "outlinewidth": 0,
              "ticks": ""
             }
            },
            "type": "scatterpolar"
           }
          ],
          "scatterpolargl": [
           {
            "marker": {
             "colorbar": {
              "outlinewidth": 0,
              "ticks": ""
             }
            },
            "type": "scatterpolargl"
           }
          ],
          "scatterternary": [
           {
            "marker": {
             "colorbar": {
              "outlinewidth": 0,
              "ticks": ""
             }
            },
            "type": "scatterternary"
           }
          ],
          "surface": [
           {
            "colorbar": {
             "outlinewidth": 0,
             "ticks": ""
            },
            "colorscale": [
             [
              0,
              "#0d0887"
             ],
             [
              0.1111111111111111,
              "#46039f"
             ],
             [
              0.2222222222222222,
              "#7201a8"
             ],
             [
              0.3333333333333333,
              "#9c179e"
             ],
             [
              0.4444444444444444,
              "#bd3786"
             ],
             [
              0.5555555555555556,
              "#d8576b"
             ],
             [
              0.6666666666666666,
              "#ed7953"
             ],
             [
              0.7777777777777778,
              "#fb9f3a"
             ],
             [
              0.8888888888888888,
              "#fdca26"
             ],
             [
              1,
              "#f0f921"
             ]
            ],
            "type": "surface"
           }
          ],
          "table": [
           {
            "cells": {
             "fill": {
              "color": "#EBF0F8"
             },
             "line": {
              "color": "white"
             }
            },
            "header": {
             "fill": {
              "color": "#C8D4E3"
             },
             "line": {
              "color": "white"
             }
            },
            "type": "table"
           }
          ]
         },
         "layout": {
          "annotationdefaults": {
           "arrowcolor": "#2a3f5f",
           "arrowhead": 0,
           "arrowwidth": 1
          },
          "autotypenumbers": "strict",
          "coloraxis": {
           "colorbar": {
            "outlinewidth": 0,
            "ticks": ""
           }
          },
          "colorscale": {
           "diverging": [
            [
             0,
             "#8e0152"
            ],
            [
             0.1,
             "#c51b7d"
            ],
            [
             0.2,
             "#de77ae"
            ],
            [
             0.3,
             "#f1b6da"
            ],
            [
             0.4,
             "#fde0ef"
            ],
            [
             0.5,
             "#f7f7f7"
            ],
            [
             0.6,
             "#e6f5d0"
            ],
            [
             0.7,
             "#b8e186"
            ],
            [
             0.8,
             "#7fbc41"
            ],
            [
             0.9,
             "#4d9221"
            ],
            [
             1,
             "#276419"
            ]
           ],
           "sequential": [
            [
             0,
             "#0d0887"
            ],
            [
             0.1111111111111111,
             "#46039f"
            ],
            [
             0.2222222222222222,
             "#7201a8"
            ],
            [
             0.3333333333333333,
             "#9c179e"
            ],
            [
             0.4444444444444444,
             "#bd3786"
            ],
            [
             0.5555555555555556,
             "#d8576b"
            ],
            [
             0.6666666666666666,
             "#ed7953"
            ],
            [
             0.7777777777777778,
             "#fb9f3a"
            ],
            [
             0.8888888888888888,
             "#fdca26"
            ],
            [
             1,
             "#f0f921"
            ]
           ],
           "sequentialminus": [
            [
             0,
             "#0d0887"
            ],
            [
             0.1111111111111111,
             "#46039f"
            ],
            [
             0.2222222222222222,
             "#7201a8"
            ],
            [
             0.3333333333333333,
             "#9c179e"
            ],
            [
             0.4444444444444444,
             "#bd3786"
            ],
            [
             0.5555555555555556,
             "#d8576b"
            ],
            [
             0.6666666666666666,
             "#ed7953"
            ],
            [
             0.7777777777777778,
             "#fb9f3a"
            ],
            [
             0.8888888888888888,
             "#fdca26"
            ],
            [
             1,
             "#f0f921"
            ]
           ]
          },
          "colorway": [
           "#636efa",
           "#EF553B",
           "#00cc96",
           "#ab63fa",
           "#FFA15A",
           "#19d3f3",
           "#FF6692",
           "#B6E880",
           "#FF97FF",
           "#FECB52"
          ],
          "font": {
           "color": "#2a3f5f"
          },
          "geo": {
           "bgcolor": "white",
           "lakecolor": "white",
           "landcolor": "#E5ECF6",
           "showlakes": true,
           "showland": true,
           "subunitcolor": "white"
          },
          "hoverlabel": {
           "align": "left"
          },
          "hovermode": "closest",
          "mapbox": {
           "style": "light"
          },
          "paper_bgcolor": "white",
          "plot_bgcolor": "#E5ECF6",
          "polar": {
           "angularaxis": {
            "gridcolor": "white",
            "linecolor": "white",
            "ticks": ""
           },
           "bgcolor": "#E5ECF6",
           "radialaxis": {
            "gridcolor": "white",
            "linecolor": "white",
            "ticks": ""
           }
          },
          "scene": {
           "xaxis": {
            "backgroundcolor": "#E5ECF6",
            "gridcolor": "white",
            "gridwidth": 2,
            "linecolor": "white",
            "showbackground": true,
            "ticks": "",
            "zerolinecolor": "white"
           },
           "yaxis": {
            "backgroundcolor": "#E5ECF6",
            "gridcolor": "white",
            "gridwidth": 2,
            "linecolor": "white",
            "showbackground": true,
            "ticks": "",
            "zerolinecolor": "white"
           },
           "zaxis": {
            "backgroundcolor": "#E5ECF6",
            "gridcolor": "white",
            "gridwidth": 2,
            "linecolor": "white",
            "showbackground": true,
            "ticks": "",
            "zerolinecolor": "white"
           }
          },
          "shapedefaults": {
           "line": {
            "color": "#2a3f5f"
           }
          },
          "ternary": {
           "aaxis": {
            "gridcolor": "white",
            "linecolor": "white",
            "ticks": ""
           },
           "baxis": {
            "gridcolor": "white",
            "linecolor": "white",
            "ticks": ""
           },
           "bgcolor": "#E5ECF6",
           "caxis": {
            "gridcolor": "white",
            "linecolor": "white",
            "ticks": ""
           }
          },
          "title": {
           "x": 0.05
          },
          "xaxis": {
           "automargin": true,
           "gridcolor": "white",
           "linecolor": "white",
           "ticks": "",
           "title": {
            "standoff": 15
           },
           "zerolinecolor": "white",
           "zerolinewidth": 2
          },
          "yaxis": {
           "automargin": true,
           "gridcolor": "white",
           "linecolor": "white",
           "ticks": "",
           "title": {
            "standoff": 15
           },
           "zerolinecolor": "white",
           "zerolinewidth": 2
          }
         }
        },
        "title": {
         "text": "📅 Flip Rate by Day of Week"
        },
        "xaxis": {
         "anchor": "y",
         "domain": [
          0,
          1
         ],
         "title": {
          "text": "Day of Week"
         }
        },
        "yaxis": {
         "anchor": "x",
         "domain": [
          0,
          1
         ],
         "title": {
          "text": "Flip Rate"
         }
        }
       }
      }
     },
     "metadata": {},
     "output_type": "display_data"
    },
    {
     "name": "stdout",
     "output_type": "stream",
     "text": [
      "✅ All flip behavior visualizations completed!\n"
     ]
    }
   ],
   "source": [
    "# 📊 Interactive Plotly Visualizations for Flip Behavior\n",
    "if \"flip_df\" in locals():\n",
    "    # 1. Flip behavior histogram\n",
    "    fig1 = px.histogram(\n",
    "        flip_df,\n",
    "        x=\"delta_45_pct\",\n",
    "        color=\"flipped\",\n",
    "        nbins=50,\n",
    "        title=\"🔄 Candle Flip Behavior by 45-Minute Change\",\n",
    "        labels={\"delta_45_pct\": \"45-Minute Change (%)\", \"count\": \"Number of Candles\"},\n",
    "        color_discrete_map={True: \"#ff6b6b\", False: \"#4ecdc4\"},\n",
    "        height=500,\n",
    "    )\n",
    "    fig1.update_layout(\n",
    "        xaxis_title=\"45-Minute Change (%)\",\n",
    "        yaxis_title=\"Number of Candles\",\n",
    "        legend_title=\"Flipped Direction\",\n",
    "    )\n",
    "    fig1.show()\n",
    "\n",
    "    # 2. Green vs Red distribution\n",
    "    fig2 = px.histogram(\n",
    "        flip_df,\n",
    "        x=\"delta_45_pct\",\n",
    "        color=\"green_candle\",\n",
    "        nbins=50,\n",
    "        title=\"🟢🔴 Green vs Red Candles by 45-Minute Change\",\n",
    "        labels={\"delta_45_pct\": \"45-Minute Change (%)\", \"count\": \"Number of Candles\"},\n",
    "        color_discrete_map={True: \"#00ff00\", False: \"#ff0000\"},\n",
    "        height=500,\n",
    "    )\n",
    "    fig2.update_layout(\n",
    "        xaxis_title=\"45-Minute Change (%)\",\n",
    "        yaxis_title=\"Number of Candles\",\n",
    "        legend_title=\"Candle Color\",\n",
    "    )\n",
    "    fig2.show()\n",
    "\n",
    "    # 3. Flip rate by hour of day\n",
    "    hourly_stats = (\n",
    "        flip_df.groupby(\"hour_of_day\")\n",
    "        .agg({\"flipped\": [\"mean\", \"count\"], \"green_candle\": \"mean\"})\n",
    "        .round(3)\n",
    "    )\n",
    "    hourly_stats.columns = [\"flip_rate\", \"count\", \"green_rate\"]\n",
    "    hourly_stats = hourly_stats.reset_index()\n",
    "\n",
    "    fig3 = px.bar(\n",
    "        hourly_stats,\n",
    "        x=\"hour_of_day\",\n",
    "        y=\"flip_rate\",\n",
    "        title=\"🕐 Flip Rate by Hour of Day\",\n",
    "        labels={\"hour_of_day\": \"Hour of Day\", \"flip_rate\": \"Flip Rate\"},\n",
    "        color=\"flip_rate\",\n",
    "        color_continuous_scale=\"RdYlBu_r\",\n",
    "        height=400,\n",
    "    )\n",
    "    fig3.update_layout(\n",
    "        xaxis_title=\"Hour of Day (UTC)\",\n",
    "        yaxis_title=\"Flip Rate\",\n",
    "        xaxis=dict(tickmode=\"linear\"),\n",
    "    )\n",
    "    fig3.show()\n",
    "\n",
    "    # 4. Scatter plot: 45-min change vs final change\n",
    "    fig4 = px.scatter(\n",
    "        flip_df.sample(min(2000, len(flip_df))),  # Sample for performance\n",
    "        x=\"delta_45_pct\",\n",
    "        y=\"delta_close_pct\",\n",
    "        color=\"flipped\",\n",
    "        title=\"📈 45-Minute Change vs Final Change (Sampled)\",\n",
    "        labels={\n",
    "            \"delta_45_pct\": \"45-Minute Change (%)\",\n",
    "            \"delta_close_pct\": \"Final Change (%)\",\n",
    "        },\n",
    "        color_discrete_map={True: \"#ff6b6b\", False: \"#4ecdc4\"},\n",
    "        opacity=0.6,\n",
    "        height=500,\n",
    "    )\n",
    "    # Add diagonal line (y=x) to show where no change would occur\n",
    "    fig4.add_shape(\n",
    "        type=\"line\",\n",
    "        x0=-3,\n",
    "        y0=-3,\n",
    "        x1=3,\n",
    "        y1=3,\n",
    "        line=dict(color=\"gray\", width=2, dash=\"dash\"),\n",
    "    )\n",
    "    fig4.update_layout(\n",
    "        xaxis_title=\"45-Minute Change (%)\",\n",
    "        yaxis_title=\"Final Change (%)\",\n",
    "        legend_title=\"Flipped Direction\",\n",
    "    )\n",
    "    fig4.show()\n",
    "\n",
    "    # 5. Day of week analysis\n",
    "    daily_stats = (\n",
    "        flip_df.groupby(\"day_of_week\")\n",
    "        .agg({\"flipped\": \"mean\", \"green_candle\": \"mean\"})\n",
    "        .round(3)\n",
    "    )\n",
    "    daily_stats = daily_stats.reindex(\n",
    "        [\"Monday\", \"Tuesday\", \"Wednesday\", \"Thursday\", \"Friday\", \"Saturday\", \"Sunday\"]\n",
    "    )\n",
    "    daily_stats = daily_stats.reset_index()\n",
    "\n",
    "    fig5 = px.bar(\n",
    "        daily_stats,\n",
    "        x=\"day_of_week\",\n",
    "        y=\"flipped\",\n",
    "        title=\"📅 Flip Rate by Day of Week\",\n",
    "        labels={\"day_of_week\": \"Day of Week\", \"flipped\": \"Flip Rate\"},\n",
    "        color=\"flipped\",\n",
    "        color_continuous_scale=\"viridis\",\n",
    "        height=400,\n",
    "    )\n",
    "    fig5.update_layout(xaxis_title=\"Day of Week\", yaxis_title=\"Flip Rate\")\n",
    "    fig5.show()\n",
    "\n",
    "    print(\"✅ All flip behavior visualizations completed!\")\n",
    "\n",
    "else:\n",
    "    print(\"⚠️  Please run the flip analysis first\")"
   ]
  },
  {
   "cell_type": "raw",
   "metadata": {
    "vscode": {
     "languageId": "raw"
    }
   },
   "source": [
    "## 🤖 Model Training and Prediction\n",
    "\n",
    "Train multiple machine learning models to predict candle direction using the first 45 minutes of data. We'll extract 50+ features including technical indicators, volume patterns, and market microstructure signals.\n"
   ]
  },
  {
   "cell_type": "code",
   "execution_count": 7,
   "metadata": {},
   "outputs": [
    {
     "name": "stdout",
     "output_type": "stream",
     "text": [
      "🤖 Training machine learning models...\n",
      "⏳ This may take a few minutes depending on data size...\n",
      "\n",
      "🔄 Training random_forest model...\n"
     ]
    },
    {
     "name": "stderr",
     "output_type": "stream",
     "text": [
      "No data close to 45-minute mark for 2025-06-29 20:00:00+00:00\n"
     ]
    },
    {
     "name": "stdout",
     "output_type": "stream",
     "text": [
      "   ✅ Accuracy: 0.844\n",
      "   ✅ AUC: 0.927\n",
      "   ✅ Features used: 39\n",
      "\n",
      "🔄 Training gradient_boost model...\n"
     ]
    },
    {
     "name": "stderr",
     "output_type": "stream",
     "text": [
      "No data close to 45-minute mark for 2025-06-29 20:00:00+00:00\n"
     ]
    },
    {
     "name": "stdout",
     "output_type": "stream",
     "text": [
      "   ✅ Accuracy: 0.826\n",
      "   ✅ AUC: 0.922\n",
      "   ✅ Features used: 39\n",
      "\n",
      "🔄 Training logistic model...\n"
     ]
    },
    {
     "name": "stderr",
     "output_type": "stream",
     "text": [
      "No data close to 45-minute mark for 2025-06-29 20:00:00+00:00\n"
     ]
    },
    {
     "name": "stdout",
     "output_type": "stream",
     "text": [
      "   ✅ Accuracy: 0.848\n",
      "   ✅ AUC: 0.927\n",
      "   ✅ Features used: 39\n",
      "\n",
      "🎉 Successfully trained 3 models!\n",
      "\n",
      "📊 Model Performance Comparison:\n"
     ]
    },
    {
     "data": {
      "text/html": [
       "<div>\n",
       "<style scoped>\n",
       "    .dataframe tbody tr th:only-of-type {\n",
       "        vertical-align: middle;\n",
       "    }\n",
       "\n",
       "    .dataframe tbody tr th {\n",
       "        vertical-align: top;\n",
       "    }\n",
       "\n",
       "    .dataframe thead th {\n",
       "        text-align: right;\n",
       "    }\n",
       "</style>\n",
       "<table border=\"1\" class=\"dataframe\">\n",
       "  <thead>\n",
       "    <tr style=\"text-align: right;\">\n",
       "      <th></th>\n",
       "      <th>Model</th>\n",
       "      <th>Accuracy</th>\n",
       "      <th>Precision</th>\n",
       "      <th>Recall</th>\n",
       "      <th>F1_Score</th>\n",
       "      <th>AUC</th>\n",
       "    </tr>\n",
       "  </thead>\n",
       "  <tbody>\n",
       "    <tr>\n",
       "      <th>0</th>\n",
       "      <td>random_forest</td>\n",
       "      <td>0.844</td>\n",
       "      <td>0.851</td>\n",
       "      <td>0.845</td>\n",
       "      <td>0.848</td>\n",
       "      <td>0.927</td>\n",
       "    </tr>\n",
       "    <tr>\n",
       "      <th>1</th>\n",
       "      <td>gradient_boost</td>\n",
       "      <td>0.826</td>\n",
       "      <td>0.836</td>\n",
       "      <td>0.825</td>\n",
       "      <td>0.830</td>\n",
       "      <td>0.922</td>\n",
       "    </tr>\n",
       "    <tr>\n",
       "      <th>2</th>\n",
       "      <td>logistic</td>\n",
       "      <td>0.848</td>\n",
       "      <td>0.867</td>\n",
       "      <td>0.834</td>\n",
       "      <td>0.850</td>\n",
       "      <td>0.927</td>\n",
       "    </tr>\n",
       "  </tbody>\n",
       "</table>\n",
       "</div>"
      ],
      "text/plain": [
       "            Model  Accuracy  Precision  Recall  F1_Score    AUC\n",
       "0   random_forest     0.844      0.851   0.845     0.848  0.927\n",
       "1  gradient_boost     0.826      0.836   0.825     0.830  0.922\n",
       "2        logistic     0.848      0.867   0.834     0.850  0.927"
      ]
     },
     "metadata": {},
     "output_type": "display_data"
    },
    {
     "name": "stdout",
     "output_type": "stream",
     "text": [
      "\n",
      "🏆 Best performing model: logistic (AUC: 0.927)\n"
     ]
    }
   ],
   "source": [
    "# 🏋️ Train different models\n",
    "if \"df\" in locals():\n",
    "    models = {}\n",
    "    performances = {}\n",
    "\n",
    "    print(\"🤖 Training machine learning models...\")\n",
    "    print(\"⏳ This may take a few minutes depending on data size...\")\n",
    "\n",
    "    for model_type in [\"random_forest\", \"gradient_boost\", \"logistic\"]:\n",
    "        print(f\"\\n🔄 Training {model_type} model...\")\n",
    "\n",
    "        try:\n",
    "            predictor = EthCandlePredictor(model_type=model_type)\n",
    "            performance = predictor.train(df, test_size=0.2)\n",
    "\n",
    "            models[model_type] = predictor\n",
    "            performances[model_type] = performance\n",
    "\n",
    "            print(f\"   ✅ Accuracy: {performance.accuracy:.3f}\")\n",
    "            print(f\"   ✅ AUC: {performance.auc_score:.3f}\")\n",
    "            print(f\"   ✅ Features used: {len(predictor.feature_names)}\")\n",
    "\n",
    "        except Exception as e:\n",
    "            print(f\"   ❌ Error training {model_type}: {e}\")\n",
    "\n",
    "    if models:\n",
    "        print(f\"\\n🎉 Successfully trained {len(models)} models!\")\n",
    "\n",
    "        # Create performance comparison dataframe\n",
    "        performance_df = pd.DataFrame(\n",
    "            {\n",
    "                \"Model\": list(performances.keys()),\n",
    "                \"Accuracy\": [p.accuracy for p in performances.values()],\n",
    "                \"Precision\": [p.precision for p in performances.values()],\n",
    "                \"Recall\": [p.recall for p in performances.values()],\n",
    "                \"F1_Score\": [p.f1_score for p in performances.values()],\n",
    "                \"AUC\": [p.auc_score for p in performances.values()],\n",
    "            }\n",
    "        )\n",
    "\n",
    "        print(\"\\n📊 Model Performance Comparison:\")\n",
    "        display(performance_df.round(3))\n",
    "\n",
    "        # Identify best model\n",
    "        best_model_name = performance_df.loc[performance_df[\"AUC\"].idxmax(), \"Model\"]\n",
    "        best_auc = performance_df[\"AUC\"].max()\n",
    "        print(f\"\\n🏆 Best performing model: {best_model_name} (AUC: {best_auc:.3f})\")\n",
    "\n",
    "    else:\n",
    "        print(\"❌ No models were successfully trained\")\n",
    "\n",
    "else:\n",
    "    print(\"⚠️  Please load data first by running the data loading cells\")"
   ]
  },
  {
   "cell_type": "code",
   "execution_count": 8,
   "metadata": {},
   "outputs": [
    {
     "name": "stderr",
     "output_type": "stream",
     "text": [
      "No data close to 45-minute mark for 2025-06-29 20:00:00+00:00\n"
     ]
    },
    {
     "name": "stdout",
     "output_type": "stream",
     "text": [
      "🔮 Making predictions on recent hours...\n",
      "⏳ Using best performing model for predictions...\n",
      "\n",
      "🏆 Using best model: logistic\n",
      "======================================================================\n",
      "06-29 06:00 | 🟢 Pred: green 💡(57.4%) | Actual: green (+0.13%) ✅\n",
      "06-29 07:00 | 🟢 Pred: green 💡(56.1%) | Actual: green (+0.15%) ✅\n",
      "06-29 08:00 | 🟢 Pred: green 🔥(89.5%) | Actual: green (+0.13%) ✅\n",
      "06-29 09:00 | 🟢 Pred: green 🔥(90.5%) | Actual: green (+0.19%) ✅\n",
      "06-29 10:00 | 🔴 Pred:   red 💡(53.7%) | Actual: green (+0.33%) ❌\n",
      "06-29 11:00 | 🟢 Pred: green 🔥(89.6%) | Actual: green (+0.24%) ✅\n",
      "06-29 12:00 | 🔴 Pred:   red 🔥(96.6%) | Actual:   red (-0.30%) ✅\n",
      "06-29 13:00 | 🔴 Pred:   red 🔥(78.9%) | Actual:   red (-0.32%) ✅\n",
      "06-29 14:00 | 🔴 Pred:   red 🔥(90.1%) | Actual:   red (-0.28%) ✅\n",
      "06-29 15:00 | 🔴 Pred:   red ⚡(62.0%) | Actual:   red (-0.14%) ✅\n",
      "06-29 16:00 | 🔴 Pred:   red 🔥(77.0%) | Actual: green (+0.10%) ❌\n",
      "06-29 17:00 | 🔴 Pred:   red 🔥(80.7%) | Actual: green (+0.00%) ❌\n",
      "06-29 18:00 | 🟢 Pred: green 🔥(70.2%) | Actual:   red (-0.05%) ❌\n",
      "06-29 19:00 | 🔴 Pred:   red ⚡(66.5%) | Actual: green (+0.00%) ❌\n",
      "❌ Failed to predict for 2025-06-29 20:00:00+00:00: Not enough data to extract features for prediction\n",
      "======================================================================\n",
      "📊 PREDICTION SUMMARY:\n",
      "   🎯 Accuracy: 64.3% (9/14)\n",
      "   💪 Average Confidence: 75.6%\n",
      "   ✅ Successful Predictions: 14/15\n",
      "   🔥 Avg Confidence (Correct): 79.0%\n",
      "   💔 Avg Confidence (Wrong): 69.6%\n",
      "\n",
      "📋 Detailed predictions saved to 'predictions' variable\n"
     ]
    }
   ],
   "source": [
    "# 🔮 Make predictions on recent data\n",
    "if \"models\" in locals() and \"df_1h\" in locals() and len(models) > 0:\n",
    "    recent_hours = df_1h.index[-15:]  # Last 15 hours for better analysis\n",
    "    predictions = []\n",
    "\n",
    "    print(\"🔮 Making predictions on recent hours...\")\n",
    "    print(\"⏳ Using best performing model for predictions...\\n\")\n",
    "\n",
    "    # Use best performing model\n",
    "    best_model_name = performance_df.loc[performance_df[\"AUC\"].idxmax(), \"Model\"]\n",
    "    best_model = models[best_model_name]\n",
    "    print(f\"🏆 Using best model: {best_model_name}\")\n",
    "    print(\"=\" * 70)\n",
    "\n",
    "    successful_predictions = 0\n",
    "\n",
    "    for i, hour_start in enumerate(recent_hours):\n",
    "        try:\n",
    "            # Make prediction\n",
    "            pred = best_model.predict(df, hour_start)\n",
    "\n",
    "            # Get actual result\n",
    "            actual_close = df_1h.loc[hour_start, \"close\"]\n",
    "            actual_open = df_1h.loc[hour_start, \"open\"]\n",
    "            actual_direction = \"green\" if actual_close > actual_open else \"red\"\n",
    "            actual_change = (actual_close - actual_open) / actual_open * 100\n",
    "\n",
    "            correct = pred.predicted_direction == actual_direction\n",
    "\n",
    "            predictions.append(\n",
    "                {\n",
    "                    \"timestamp\": hour_start,\n",
    "                    \"predicted\": pred.predicted_direction,\n",
    "                    \"actual\": actual_direction,\n",
    "                    \"confidence\": pred.confidence,\n",
    "                    \"prob_green\": pred.probability_green,\n",
    "                    \"prob_red\": pred.probability_red,\n",
    "                    \"actual_change\": actual_change,\n",
    "                    \"correct\": correct,\n",
    "                    \"open_price\": actual_open,\n",
    "                    \"close_price\": actual_close,\n",
    "                }\n",
    "            )\n",
    "\n",
    "            # Emoji indicators\n",
    "            status = \"✅\" if correct else \"❌\"\n",
    "            confidence_emoji = (\n",
    "                \"🔥\"\n",
    "                if pred.confidence > 0.7\n",
    "                else \"⚡\"\n",
    "                if pred.confidence > 0.6\n",
    "                else \"💡\"\n",
    "            )\n",
    "            direction_emoji = \"🟢\" if pred.predicted_direction == \"green\" else \"🔴\"\n",
    "\n",
    "            print(\n",
    "                f\"{hour_start.strftime('%m-%d %H:%M')} | \"\n",
    "                f\"{direction_emoji} Pred: {pred.predicted_direction:>5} {confidence_emoji}({pred.confidence:.1%}) | \"\n",
    "                f\"Actual: {actual_direction:>5} ({actual_change:+.2f}%) {status}\"\n",
    "            )\n",
    "\n",
    "            successful_predictions += 1\n",
    "\n",
    "        except Exception as e:\n",
    "            print(f\"❌ Failed to predict for {hour_start}: {e}\")\n",
    "\n",
    "    if predictions:\n",
    "        accuracy = sum(p[\"correct\"] for p in predictions) / len(predictions)\n",
    "        avg_confidence = np.mean([p[\"confidence\"] for p in predictions])\n",
    "\n",
    "        print(\"=\" * 70)\n",
    "        print(\"📊 PREDICTION SUMMARY:\")\n",
    "        print(\n",
    "            f\"   🎯 Accuracy: {accuracy:.1%} ({sum(p['correct'] for p in predictions)}/{len(predictions)})\"\n",
    "        )\n",
    "        print(f\"   💪 Average Confidence: {avg_confidence:.1%}\")\n",
    "        print(\n",
    "            f\"   ✅ Successful Predictions: {successful_predictions}/{len(recent_hours)}\"\n",
    "        )\n",
    "\n",
    "        # Additional stats\n",
    "        correct_preds = [p for p in predictions if p[\"correct\"]]\n",
    "        if correct_preds:\n",
    "            avg_correct_confidence = np.mean([p[\"confidence\"] for p in correct_preds])\n",
    "            print(f\"   🔥 Avg Confidence (Correct): {avg_correct_confidence:.1%}\")\n",
    "\n",
    "        incorrect_preds = [p for p in predictions if not p[\"correct\"]]\n",
    "        if incorrect_preds:\n",
    "            avg_incorrect_confidence = np.mean(\n",
    "                [p[\"confidence\"] for p in incorrect_preds]\n",
    "            )\n",
    "            print(f\"   💔 Avg Confidence (Wrong): {avg_incorrect_confidence:.1%}\")\n",
    "\n",
    "        print(\"\\n📋 Detailed predictions saved to 'predictions' variable\")\n",
    "\n",
    "else:\n",
    "    if \"models\" not in locals() or len(models) == 0:\n",
    "        print(\"⚠️  Please train models first\")\n",
    "    else:\n",
    "        print(\"⚠️  Please ensure hourly data is available\")"
   ]
  },
  {
   "cell_type": "code",
   "execution_count": 9,
   "metadata": {},
   "outputs": [
    {
     "name": "stdout",
     "output_type": "stream",
     "text": [
      "🔍 Analyzing feature importance...\n",
      "✅ Extracted 39 feature importances\n"
     ]
    },
    {
     "data": {
      "application/vnd.plotly.v1+json": {
       "config": {
        "plotlyServerURL": "https://plot.ly"
       },
       "data": [
        {
         "hovertemplate": "Feature Importance=%{marker.color}<br>Feature Name=%{y}<extra></extra>",
         "legendgroup": "",
         "marker": {
          "color": {
           "bdata": "dBGQ93wHyj/KouJ5GOXJP6yzGhhlfb0/IS8XBI+SvD9uaS6pWOGmP7Ut+hjxAKQ/F5Rv83kYoz9osrRDDwicP7RfQ/5DApU/wBM3QLdLkz/kloVPa7uRPwwpirj+H5E/FMD6TC2vhz+hcq6PKgOFP1hRjm0Iy4M/s2A/YdcBgz+974ETAEWCPwGQ6aySSH8/nFXn5H+Hfj+kSIm55oV+Pw==",
           "dtype": "f8"
          },
          "coloraxis": "coloraxis",
          "pattern": {
           "shape": ""
          }
         },
         "name": "",
         "orientation": "h",
         "showlegend": false,
         "textposition": "auto",
         "type": "bar",
         "x": {
          "bdata": "dBGQ93wHyj/KouJ5GOXJP6yzGhhlfb0/IS8XBI+SvD9uaS6pWOGmP7Ut+hjxAKQ/F5Rv83kYoz9osrRDDwicP7RfQ/5DApU/wBM3QLdLkz/kloVPa7uRPwwpirj+H5E/FMD6TC2vhz+hcq6PKgOFP1hRjm0Iy4M/s2A/YdcBgz+974ETAEWCPwGQ6aySSH8/nFXn5H+Hfj+kSIm55oV+Pw==",
          "dtype": "f8"
         },
         "xaxis": "x",
         "y": [
          "price_change_abs",
          "price_change_pct",
          "upward_momentum",
          "momentum_15min",
          "position_in_range",
          "upper_half",
          "macd_signal",
          "macd",
          "shooting_star_like",
          "hammer_like",
          "down_moves",
          "up_down_ratio",
          "price_vs_ma20",
          "doji_like",
          "range_pct",
          "up_moves",
          "price_vs_ma10",
          "realized_vol",
          "volume_trend",
          "rsi"
         ],
         "yaxis": "y"
        }
       ],
       "layout": {
        "barmode": "relative",
        "coloraxis": {
         "colorbar": {
          "title": {
           "text": "Feature Importance"
          }
         },
         "colorscale": [
          [
           0,
           "#440154"
          ],
          [
           0.1111111111111111,
           "#482878"
          ],
          [
           0.2222222222222222,
           "#3e4989"
          ],
          [
           0.3333333333333333,
           "#31688e"
          ],
          [
           0.4444444444444444,
           "#26828e"
          ],
          [
           0.5555555555555556,
           "#1f9e89"
          ],
          [
           0.6666666666666666,
           "#35b779"
          ],
          [
           0.7777777777777778,
           "#6ece58"
          ],
          [
           0.8888888888888888,
           "#b5de2b"
          ],
          [
           1,
           "#fde725"
          ]
         ]
        },
        "height": 700,
        "legend": {
         "tracegroupgap": 0
        },
        "margin": {
         "l": 200
        },
        "showlegend": false,
        "template": {
         "data": {
          "bar": [
           {
            "error_x": {
             "color": "#2a3f5f"
            },
            "error_y": {
             "color": "#2a3f5f"
            },
            "marker": {
             "line": {
              "color": "#E5ECF6",
              "width": 0.5
             },
             "pattern": {
              "fillmode": "overlay",
              "size": 10,
              "solidity": 0.2
             }
            },
            "type": "bar"
           }
          ],
          "barpolar": [
           {
            "marker": {
             "line": {
              "color": "#E5ECF6",
              "width": 0.5
             },
             "pattern": {
              "fillmode": "overlay",
              "size": 10,
              "solidity": 0.2
             }
            },
            "type": "barpolar"
           }
          ],
          "carpet": [
           {
            "aaxis": {
             "endlinecolor": "#2a3f5f",
             "gridcolor": "white",
             "linecolor": "white",
             "minorgridcolor": "white",
             "startlinecolor": "#2a3f5f"
            },
            "baxis": {
             "endlinecolor": "#2a3f5f",
             "gridcolor": "white",
             "linecolor": "white",
             "minorgridcolor": "white",
             "startlinecolor": "#2a3f5f"
            },
            "type": "carpet"
           }
          ],
          "choropleth": [
           {
            "colorbar": {
             "outlinewidth": 0,
             "ticks": ""
            },
            "type": "choropleth"
           }
          ],
          "contour": [
           {
            "colorbar": {
             "outlinewidth": 0,
             "ticks": ""
            },
            "colorscale": [
             [
              0,
              "#0d0887"
             ],
             [
              0.1111111111111111,
              "#46039f"
             ],
             [
              0.2222222222222222,
              "#7201a8"
             ],
             [
              0.3333333333333333,
              "#9c179e"
             ],
             [
              0.4444444444444444,
              "#bd3786"
             ],
             [
              0.5555555555555556,
              "#d8576b"
             ],
             [
              0.6666666666666666,
              "#ed7953"
             ],
             [
              0.7777777777777778,
              "#fb9f3a"
             ],
             [
              0.8888888888888888,
              "#fdca26"
             ],
             [
              1,
              "#f0f921"
             ]
            ],
            "type": "contour"
           }
          ],
          "contourcarpet": [
           {
            "colorbar": {
             "outlinewidth": 0,
             "ticks": ""
            },
            "type": "contourcarpet"
           }
          ],
          "heatmap": [
           {
            "colorbar": {
             "outlinewidth": 0,
             "ticks": ""
            },
            "colorscale": [
             [
              0,
              "#0d0887"
             ],
             [
              0.1111111111111111,
              "#46039f"
             ],
             [
              0.2222222222222222,
              "#7201a8"
             ],
             [
              0.3333333333333333,
              "#9c179e"
             ],
             [
              0.4444444444444444,
              "#bd3786"
             ],
             [
              0.5555555555555556,
              "#d8576b"
             ],
             [
              0.6666666666666666,
              "#ed7953"
             ],
             [
              0.7777777777777778,
              "#fb9f3a"
             ],
             [
              0.8888888888888888,
              "#fdca26"
             ],
             [
              1,
              "#f0f921"
             ]
            ],
            "type": "heatmap"
           }
          ],
          "histogram": [
           {
            "marker": {
             "pattern": {
              "fillmode": "overlay",
              "size": 10,
              "solidity": 0.2
             }
            },
            "type": "histogram"
           }
          ],
          "histogram2d": [
           {
            "colorbar": {
             "outlinewidth": 0,
             "ticks": ""
            },
            "colorscale": [
             [
              0,
              "#0d0887"
             ],
             [
              0.1111111111111111,
              "#46039f"
             ],
             [
              0.2222222222222222,
              "#7201a8"
             ],
             [
              0.3333333333333333,
              "#9c179e"
             ],
             [
              0.4444444444444444,
              "#bd3786"
             ],
             [
              0.5555555555555556,
              "#d8576b"
             ],
             [
              0.6666666666666666,
              "#ed7953"
             ],
             [
              0.7777777777777778,
              "#fb9f3a"
             ],
             [
              0.8888888888888888,
              "#fdca26"
             ],
             [
              1,
              "#f0f921"
             ]
            ],
            "type": "histogram2d"
           }
          ],
          "histogram2dcontour": [
           {
            "colorbar": {
             "outlinewidth": 0,
             "ticks": ""
            },
            "colorscale": [
             [
              0,
              "#0d0887"
             ],
             [
              0.1111111111111111,
              "#46039f"
             ],
             [
              0.2222222222222222,
              "#7201a8"
             ],
             [
              0.3333333333333333,
              "#9c179e"
             ],
             [
              0.4444444444444444,
              "#bd3786"
             ],
             [
              0.5555555555555556,
              "#d8576b"
             ],
             [
              0.6666666666666666,
              "#ed7953"
             ],
             [
              0.7777777777777778,
              "#fb9f3a"
             ],
             [
              0.8888888888888888,
              "#fdca26"
             ],
             [
              1,
              "#f0f921"
             ]
            ],
            "type": "histogram2dcontour"
           }
          ],
          "mesh3d": [
           {
            "colorbar": {
             "outlinewidth": 0,
             "ticks": ""
            },
            "type": "mesh3d"
           }
          ],
          "parcoords": [
           {
            "line": {
             "colorbar": {
              "outlinewidth": 0,
              "ticks": ""
             }
            },
            "type": "parcoords"
           }
          ],
          "pie": [
           {
            "automargin": true,
            "type": "pie"
           }
          ],
          "scatter": [
           {
            "fillpattern": {
             "fillmode": "overlay",
             "size": 10,
             "solidity": 0.2
            },
            "type": "scatter"
           }
          ],
          "scatter3d": [
           {
            "line": {
             "colorbar": {
              "outlinewidth": 0,
              "ticks": ""
             }
            },
            "marker": {
             "colorbar": {
              "outlinewidth": 0,
              "ticks": ""
             }
            },
            "type": "scatter3d"
           }
          ],
          "scattercarpet": [
           {
            "marker": {
             "colorbar": {
              "outlinewidth": 0,
              "ticks": ""
             }
            },
            "type": "scattercarpet"
           }
          ],
          "scattergeo": [
           {
            "marker": {
             "colorbar": {
              "outlinewidth": 0,
              "ticks": ""
             }
            },
            "type": "scattergeo"
           }
          ],
          "scattergl": [
           {
            "marker": {
             "colorbar": {
              "outlinewidth": 0,
              "ticks": ""
             }
            },
            "type": "scattergl"
           }
          ],
          "scattermap": [
           {
            "marker": {
             "colorbar": {
              "outlinewidth": 0,
              "ticks": ""
             }
            },
            "type": "scattermap"
           }
          ],
          "scattermapbox": [
           {
            "marker": {
             "colorbar": {
              "outlinewidth": 0,
              "ticks": ""
             }
            },
            "type": "scattermapbox"
           }
          ],
          "scatterpolar": [
           {
            "marker": {
             "colorbar": {
              "outlinewidth": 0,
              "ticks": ""
             }
            },
            "type": "scatterpolar"
           }
          ],
          "scatterpolargl": [
           {
            "marker": {
             "colorbar": {
              "outlinewidth": 0,
              "ticks": ""
             }
            },
            "type": "scatterpolargl"
           }
          ],
          "scatterternary": [
           {
            "marker": {
             "colorbar": {
              "outlinewidth": 0,
              "ticks": ""
             }
            },
            "type": "scatterternary"
           }
          ],
          "surface": [
           {
            "colorbar": {
             "outlinewidth": 0,
             "ticks": ""
            },
            "colorscale": [
             [
              0,
              "#0d0887"
             ],
             [
              0.1111111111111111,
              "#46039f"
             ],
             [
              0.2222222222222222,
              "#7201a8"
             ],
             [
              0.3333333333333333,
              "#9c179e"
             ],
             [
              0.4444444444444444,
              "#bd3786"
             ],
             [
              0.5555555555555556,
              "#d8576b"
             ],
             [
              0.6666666666666666,
              "#ed7953"
             ],
             [
              0.7777777777777778,
              "#fb9f3a"
             ],
             [
              0.8888888888888888,
              "#fdca26"
             ],
             [
              1,
              "#f0f921"
             ]
            ],
            "type": "surface"
           }
          ],
          "table": [
           {
            "cells": {
             "fill": {
              "color": "#EBF0F8"
             },
             "line": {
              "color": "white"
             }
            },
            "header": {
             "fill": {
              "color": "#C8D4E3"
             },
             "line": {
              "color": "white"
             }
            },
            "type": "table"
           }
          ]
         },
         "layout": {
          "annotationdefaults": {
           "arrowcolor": "#2a3f5f",
           "arrowhead": 0,
           "arrowwidth": 1
          },
          "autotypenumbers": "strict",
          "coloraxis": {
           "colorbar": {
            "outlinewidth": 0,
            "ticks": ""
           }
          },
          "colorscale": {
           "diverging": [
            [
             0,
             "#8e0152"
            ],
            [
             0.1,
             "#c51b7d"
            ],
            [
             0.2,
             "#de77ae"
            ],
            [
             0.3,
             "#f1b6da"
            ],
            [
             0.4,
             "#fde0ef"
            ],
            [
             0.5,
             "#f7f7f7"
            ],
            [
             0.6,
             "#e6f5d0"
            ],
            [
             0.7,
             "#b8e186"
            ],
            [
             0.8,
             "#7fbc41"
            ],
            [
             0.9,
             "#4d9221"
            ],
            [
             1,
             "#276419"
            ]
           ],
           "sequential": [
            [
             0,
             "#0d0887"
            ],
            [
             0.1111111111111111,
             "#46039f"
            ],
            [
             0.2222222222222222,
             "#7201a8"
            ],
            [
             0.3333333333333333,
             "#9c179e"
            ],
            [
             0.4444444444444444,
             "#bd3786"
            ],
            [
             0.5555555555555556,
             "#d8576b"
            ],
            [
             0.6666666666666666,
             "#ed7953"
            ],
            [
             0.7777777777777778,
             "#fb9f3a"
            ],
            [
             0.8888888888888888,
             "#fdca26"
            ],
            [
             1,
             "#f0f921"
            ]
           ],
           "sequentialminus": [
            [
             0,
             "#0d0887"
            ],
            [
             0.1111111111111111,
             "#46039f"
            ],
            [
             0.2222222222222222,
             "#7201a8"
            ],
            [
             0.3333333333333333,
             "#9c179e"
            ],
            [
             0.4444444444444444,
             "#bd3786"
            ],
            [
             0.5555555555555556,
             "#d8576b"
            ],
            [
             0.6666666666666666,
             "#ed7953"
            ],
            [
             0.7777777777777778,
             "#fb9f3a"
            ],
            [
             0.8888888888888888,
             "#fdca26"
            ],
            [
             1,
             "#f0f921"
            ]
           ]
          },
          "colorway": [
           "#636efa",
           "#EF553B",
           "#00cc96",
           "#ab63fa",
           "#FFA15A",
           "#19d3f3",
           "#FF6692",
           "#B6E880",
           "#FF97FF",
           "#FECB52"
          ],
          "font": {
           "color": "#2a3f5f"
          },
          "geo": {
           "bgcolor": "white",
           "lakecolor": "white",
           "landcolor": "#E5ECF6",
           "showlakes": true,
           "showland": true,
           "subunitcolor": "white"
          },
          "hoverlabel": {
           "align": "left"
          },
          "hovermode": "closest",
          "mapbox": {
           "style": "light"
          },
          "paper_bgcolor": "white",
          "plot_bgcolor": "#E5ECF6",
          "polar": {
           "angularaxis": {
            "gridcolor": "white",
            "linecolor": "white",
            "ticks": ""
           },
           "bgcolor": "#E5ECF6",
           "radialaxis": {
            "gridcolor": "white",
            "linecolor": "white",
            "ticks": ""
           }
          },
          "scene": {
           "xaxis": {
            "backgroundcolor": "#E5ECF6",
            "gridcolor": "white",
            "gridwidth": 2,
            "linecolor": "white",
            "showbackground": true,
            "ticks": "",
            "zerolinecolor": "white"
           },
           "yaxis": {
            "backgroundcolor": "#E5ECF6",
            "gridcolor": "white",
            "gridwidth": 2,
            "linecolor": "white",
            "showbackground": true,
            "ticks": "",
            "zerolinecolor": "white"
           },
           "zaxis": {
            "backgroundcolor": "#E5ECF6",
            "gridcolor": "white",
            "gridwidth": 2,
            "linecolor": "white",
            "showbackground": true,
            "ticks": "",
            "zerolinecolor": "white"
           }
          },
          "shapedefaults": {
           "line": {
            "color": "#2a3f5f"
           }
          },
          "ternary": {
           "aaxis": {
            "gridcolor": "white",
            "linecolor": "white",
            "ticks": ""
           },
           "baxis": {
            "gridcolor": "white",
            "linecolor": "white",
            "ticks": ""
           },
           "bgcolor": "#E5ECF6",
           "caxis": {
            "gridcolor": "white",
            "linecolor": "white",
            "ticks": ""
           }
          },
          "title": {
           "x": 0.05
          },
          "xaxis": {
           "automargin": true,
           "gridcolor": "white",
           "linecolor": "white",
           "ticks": "",
           "title": {
            "standoff": 15
           },
           "zerolinecolor": "white",
           "zerolinewidth": 2
          },
          "yaxis": {
           "automargin": true,
           "gridcolor": "white",
           "linecolor": "white",
           "ticks": "",
           "title": {
            "standoff": 15
           },
           "zerolinecolor": "white",
           "zerolinewidth": 2
          }
         }
        },
        "title": {
         "text": "🎯 Top 20 Most Important Features (Random Forest)"
        },
        "xaxis": {
         "anchor": "y",
         "domain": [
          0,
          1
         ],
         "title": {
          "text": "Feature Importance"
         }
        },
        "yaxis": {
         "anchor": "x",
         "categoryorder": "total ascending",
         "domain": [
          0,
          1
         ],
         "title": {
          "text": "Feature Name"
         }
        }
       }
      }
     },
     "metadata": {},
     "output_type": "display_data"
    },
    {
     "name": "stdout",
     "output_type": "stream",
     "text": [
      "\n",
      "📊 Top 10 Most Important Features:\n"
     ]
    },
    {
     "data": {
      "text/html": [
       "<div>\n",
       "<style scoped>\n",
       "    .dataframe tbody tr th:only-of-type {\n",
       "        vertical-align: middle;\n",
       "    }\n",
       "\n",
       "    .dataframe tbody tr th {\n",
       "        vertical-align: top;\n",
       "    }\n",
       "\n",
       "    .dataframe thead th {\n",
       "        text-align: right;\n",
       "    }\n",
       "</style>\n",
       "<table border=\"1\" class=\"dataframe\">\n",
       "  <thead>\n",
       "    <tr style=\"text-align: right;\">\n",
       "      <th></th>\n",
       "      <th>feature</th>\n",
       "      <th>importance</th>\n",
       "    </tr>\n",
       "  </thead>\n",
       "  <tbody>\n",
       "    <tr>\n",
       "      <th>4</th>\n",
       "      <td>price_change_abs</td>\n",
       "      <td>0.2034</td>\n",
       "    </tr>\n",
       "    <tr>\n",
       "      <th>5</th>\n",
       "      <td>price_change_pct</td>\n",
       "      <td>0.2023</td>\n",
       "    </tr>\n",
       "    <tr>\n",
       "      <th>8</th>\n",
       "      <td>upward_momentum</td>\n",
       "      <td>0.1152</td>\n",
       "    </tr>\n",
       "    <tr>\n",
       "      <th>35</th>\n",
       "      <td>momentum_15min</td>\n",
       "      <td>0.1116</td>\n",
       "    </tr>\n",
       "    <tr>\n",
       "      <th>7</th>\n",
       "      <td>position_in_range</td>\n",
       "      <td>0.0447</td>\n",
       "    </tr>\n",
       "    <tr>\n",
       "      <th>9</th>\n",
       "      <td>upper_half</td>\n",
       "      <td>0.0391</td>\n",
       "    </tr>\n",
       "    <tr>\n",
       "      <th>22</th>\n",
       "      <td>macd_signal</td>\n",
       "      <td>0.0373</td>\n",
       "    </tr>\n",
       "    <tr>\n",
       "      <th>21</th>\n",
       "      <td>macd</td>\n",
       "      <td>0.0274</td>\n",
       "    </tr>\n",
       "    <tr>\n",
       "      <th>26</th>\n",
       "      <td>shooting_star_like</td>\n",
       "      <td>0.0205</td>\n",
       "    </tr>\n",
       "    <tr>\n",
       "      <th>25</th>\n",
       "      <td>hammer_like</td>\n",
       "      <td>0.0188</td>\n",
       "    </tr>\n",
       "  </tbody>\n",
       "</table>\n",
       "</div>"
      ],
      "text/plain": [
       "               feature  importance\n",
       "4     price_change_abs      0.2034\n",
       "5     price_change_pct      0.2023\n",
       "8      upward_momentum      0.1152\n",
       "35      momentum_15min      0.1116\n",
       "7    position_in_range      0.0447\n",
       "9           upper_half      0.0391\n",
       "22         macd_signal      0.0373\n",
       "21                macd      0.0274\n",
       "26  shooting_star_like      0.0205\n",
       "25         hammer_like      0.0188"
      ]
     },
     "metadata": {},
     "output_type": "display_data"
    },
    {
     "data": {
      "application/vnd.plotly.v1+json": {
       "config": {
        "plotlyServerURL": "https://plot.ly"
       },
       "data": [
        {
         "domain": {
          "x": [
           0,
           1
          ],
          "y": [
           0,
           1
          ]
         },
         "hovertemplate": "Category=%{label}<br>Total_Importance=%{value}<extra></extra>",
         "labels": [
          "price",
          "technical",
          "volume",
          "time",
          "volatility"
         ],
         "legendgroup": "",
         "name": "",
         "showlegend": true,
         "textinfo": "percent+label",
         "textposition": "inside",
         "type": "pie",
         "values": {
          "bdata": "+d/VxWXh2j+gbImWyja0PwFp4jSDd5s/evbpIuAwfT+GJ4wJ1Fd8Pw==",
          "dtype": "f8"
         }
        }
       ],
       "layout": {
        "height": 500,
        "legend": {
         "tracegroupgap": 0
        },
        "piecolorway": [
         "rgb(141,211,199)",
         "rgb(255,255,179)",
         "rgb(190,186,218)",
         "rgb(251,128,114)",
         "rgb(128,177,211)",
         "rgb(253,180,98)",
         "rgb(179,222,105)",
         "rgb(252,205,229)",
         "rgb(217,217,217)",
         "rgb(188,128,189)",
         "rgb(204,235,197)",
         "rgb(255,237,111)"
        ],
        "template": {
         "data": {
          "bar": [
           {
            "error_x": {
             "color": "#2a3f5f"
            },
            "error_y": {
             "color": "#2a3f5f"
            },
            "marker": {
             "line": {
              "color": "#E5ECF6",
              "width": 0.5
             },
             "pattern": {
              "fillmode": "overlay",
              "size": 10,
              "solidity": 0.2
             }
            },
            "type": "bar"
           }
          ],
          "barpolar": [
           {
            "marker": {
             "line": {
              "color": "#E5ECF6",
              "width": 0.5
             },
             "pattern": {
              "fillmode": "overlay",
              "size": 10,
              "solidity": 0.2
             }
            },
            "type": "barpolar"
           }
          ],
          "carpet": [
           {
            "aaxis": {
             "endlinecolor": "#2a3f5f",
             "gridcolor": "white",
             "linecolor": "white",
             "minorgridcolor": "white",
             "startlinecolor": "#2a3f5f"
            },
            "baxis": {
             "endlinecolor": "#2a3f5f",
             "gridcolor": "white",
             "linecolor": "white",
             "minorgridcolor": "white",
             "startlinecolor": "#2a3f5f"
            },
            "type": "carpet"
           }
          ],
          "choropleth": [
           {
            "colorbar": {
             "outlinewidth": 0,
             "ticks": ""
            },
            "type": "choropleth"
           }
          ],
          "contour": [
           {
            "colorbar": {
             "outlinewidth": 0,
             "ticks": ""
            },
            "colorscale": [
             [
              0,
              "#0d0887"
             ],
             [
              0.1111111111111111,
              "#46039f"
             ],
             [
              0.2222222222222222,
              "#7201a8"
             ],
             [
              0.3333333333333333,
              "#9c179e"
             ],
             [
              0.4444444444444444,
              "#bd3786"
             ],
             [
              0.5555555555555556,
              "#d8576b"
             ],
             [
              0.6666666666666666,
              "#ed7953"
             ],
             [
              0.7777777777777778,
              "#fb9f3a"
             ],
             [
              0.8888888888888888,
              "#fdca26"
             ],
             [
              1,
              "#f0f921"
             ]
            ],
            "type": "contour"
           }
          ],
          "contourcarpet": [
           {
            "colorbar": {
             "outlinewidth": 0,
             "ticks": ""
            },
            "type": "contourcarpet"
           }
          ],
          "heatmap": [
           {
            "colorbar": {
             "outlinewidth": 0,
             "ticks": ""
            },
            "colorscale": [
             [
              0,
              "#0d0887"
             ],
             [
              0.1111111111111111,
              "#46039f"
             ],
             [
              0.2222222222222222,
              "#7201a8"
             ],
             [
              0.3333333333333333,
              "#9c179e"
             ],
             [
              0.4444444444444444,
              "#bd3786"
             ],
             [
              0.5555555555555556,
              "#d8576b"
             ],
             [
              0.6666666666666666,
              "#ed7953"
             ],
             [
              0.7777777777777778,
              "#fb9f3a"
             ],
             [
              0.8888888888888888,
              "#fdca26"
             ],
             [
              1,
              "#f0f921"
             ]
            ],
            "type": "heatmap"
           }
          ],
          "histogram": [
           {
            "marker": {
             "pattern": {
              "fillmode": "overlay",
              "size": 10,
              "solidity": 0.2
             }
            },
            "type": "histogram"
           }
          ],
          "histogram2d": [
           {
            "colorbar": {
             "outlinewidth": 0,
             "ticks": ""
            },
            "colorscale": [
             [
              0,
              "#0d0887"
             ],
             [
              0.1111111111111111,
              "#46039f"
             ],
             [
              0.2222222222222222,
              "#7201a8"
             ],
             [
              0.3333333333333333,
              "#9c179e"
             ],
             [
              0.4444444444444444,
              "#bd3786"
             ],
             [
              0.5555555555555556,
              "#d8576b"
             ],
             [
              0.6666666666666666,
              "#ed7953"
             ],
             [
              0.7777777777777778,
              "#fb9f3a"
             ],
             [
              0.8888888888888888,
              "#fdca26"
             ],
             [
              1,
              "#f0f921"
             ]
            ],
            "type": "histogram2d"
           }
          ],
          "histogram2dcontour": [
           {
            "colorbar": {
             "outlinewidth": 0,
             "ticks": ""
            },
            "colorscale": [
             [
              0,
              "#0d0887"
             ],
             [
              0.1111111111111111,
              "#46039f"
             ],
             [
              0.2222222222222222,
              "#7201a8"
             ],
             [
              0.3333333333333333,
              "#9c179e"
             ],
             [
              0.4444444444444444,
              "#bd3786"
             ],
             [
              0.5555555555555556,
              "#d8576b"
             ],
             [
              0.6666666666666666,
              "#ed7953"
             ],
             [
              0.7777777777777778,
              "#fb9f3a"
             ],
             [
              0.8888888888888888,
              "#fdca26"
             ],
             [
              1,
              "#f0f921"
             ]
            ],
            "type": "histogram2dcontour"
           }
          ],
          "mesh3d": [
           {
            "colorbar": {
             "outlinewidth": 0,
             "ticks": ""
            },
            "type": "mesh3d"
           }
          ],
          "parcoords": [
           {
            "line": {
             "colorbar": {
              "outlinewidth": 0,
              "ticks": ""
             }
            },
            "type": "parcoords"
           }
          ],
          "pie": [
           {
            "automargin": true,
            "type": "pie"
           }
          ],
          "scatter": [
           {
            "fillpattern": {
             "fillmode": "overlay",
             "size": 10,
             "solidity": 0.2
            },
            "type": "scatter"
           }
          ],
          "scatter3d": [
           {
            "line": {
             "colorbar": {
              "outlinewidth": 0,
              "ticks": ""
             }
            },
            "marker": {
             "colorbar": {
              "outlinewidth": 0,
              "ticks": ""
             }
            },
            "type": "scatter3d"
           }
          ],
          "scattercarpet": [
           {
            "marker": {
             "colorbar": {
              "outlinewidth": 0,
              "ticks": ""
             }
            },
            "type": "scattercarpet"
           }
          ],
          "scattergeo": [
           {
            "marker": {
             "colorbar": {
              "outlinewidth": 0,
              "ticks": ""
             }
            },
            "type": "scattergeo"
           }
          ],
          "scattergl": [
           {
            "marker": {
             "colorbar": {
              "outlinewidth": 0,
              "ticks": ""
             }
            },
            "type": "scattergl"
           }
          ],
          "scattermap": [
           {
            "marker": {
             "colorbar": {
              "outlinewidth": 0,
              "ticks": ""
             }
            },
            "type": "scattermap"
           }
          ],
          "scattermapbox": [
           {
            "marker": {
             "colorbar": {
              "outlinewidth": 0,
              "ticks": ""
             }
            },
            "type": "scattermapbox"
           }
          ],
          "scatterpolar": [
           {
            "marker": {
             "colorbar": {
              "outlinewidth": 0,
              "ticks": ""
             }
            },
            "type": "scatterpolar"
           }
          ],
          "scatterpolargl": [
           {
            "marker": {
             "colorbar": {
              "outlinewidth": 0,
              "ticks": ""
             }
            },
            "type": "scatterpolargl"
           }
          ],
          "scatterternary": [
           {
            "marker": {
             "colorbar": {
              "outlinewidth": 0,
              "ticks": ""
             }
            },
            "type": "scatterternary"
           }
          ],
          "surface": [
           {
            "colorbar": {
             "outlinewidth": 0,
             "ticks": ""
            },
            "colorscale": [
             [
              0,
              "#0d0887"
             ],
             [
              0.1111111111111111,
              "#46039f"
             ],
             [
              0.2222222222222222,
              "#7201a8"
             ],
             [
              0.3333333333333333,
              "#9c179e"
             ],
             [
              0.4444444444444444,
              "#bd3786"
             ],
             [
              0.5555555555555556,
              "#d8576b"
             ],
             [
              0.6666666666666666,
              "#ed7953"
             ],
             [
              0.7777777777777778,
              "#fb9f3a"
             ],
             [
              0.8888888888888888,
              "#fdca26"
             ],
             [
              1,
              "#f0f921"
             ]
            ],
            "type": "surface"
           }
          ],
          "table": [
           {
            "cells": {
             "fill": {
              "color": "#EBF0F8"
             },
             "line": {
              "color": "white"
             }
            },
            "header": {
             "fill": {
              "color": "#C8D4E3"
             },
             "line": {
              "color": "white"
             }
            },
            "type": "table"
           }
          ]
         },
         "layout": {
          "annotationdefaults": {
           "arrowcolor": "#2a3f5f",
           "arrowhead": 0,
           "arrowwidth": 1
          },
          "autotypenumbers": "strict",
          "coloraxis": {
           "colorbar": {
            "outlinewidth": 0,
            "ticks": ""
           }
          },
          "colorscale": {
           "diverging": [
            [
             0,
             "#8e0152"
            ],
            [
             0.1,
             "#c51b7d"
            ],
            [
             0.2,
             "#de77ae"
            ],
            [
             0.3,
             "#f1b6da"
            ],
            [
             0.4,
             "#fde0ef"
            ],
            [
             0.5,
             "#f7f7f7"
            ],
            [
             0.6,
             "#e6f5d0"
            ],
            [
             0.7,
             "#b8e186"
            ],
            [
             0.8,
             "#7fbc41"
            ],
            [
             0.9,
             "#4d9221"
            ],
            [
             1,
             "#276419"
            ]
           ],
           "sequential": [
            [
             0,
             "#0d0887"
            ],
            [
             0.1111111111111111,
             "#46039f"
            ],
            [
             0.2222222222222222,
             "#7201a8"
            ],
            [
             0.3333333333333333,
             "#9c179e"
            ],
            [
             0.4444444444444444,
             "#bd3786"
            ],
            [
             0.5555555555555556,
             "#d8576b"
            ],
            [
             0.6666666666666666,
             "#ed7953"
            ],
            [
             0.7777777777777778,
             "#fb9f3a"
            ],
            [
             0.8888888888888888,
             "#fdca26"
            ],
            [
             1,
             "#f0f921"
            ]
           ],
           "sequentialminus": [
            [
             0,
             "#0d0887"
            ],
            [
             0.1111111111111111,
             "#46039f"
            ],
            [
             0.2222222222222222,
             "#7201a8"
            ],
            [
             0.3333333333333333,
             "#9c179e"
            ],
            [
             0.4444444444444444,
             "#bd3786"
            ],
            [
             0.5555555555555556,
             "#d8576b"
            ],
            [
             0.6666666666666666,
             "#ed7953"
            ],
            [
             0.7777777777777778,
             "#fb9f3a"
            ],
            [
             0.8888888888888888,
             "#fdca26"
            ],
            [
             1,
             "#f0f921"
            ]
           ]
          },
          "colorway": [
           "#636efa",
           "#EF553B",
           "#00cc96",
           "#ab63fa",
           "#FFA15A",
           "#19d3f3",
           "#FF6692",
           "#B6E880",
           "#FF97FF",
           "#FECB52"
          ],
          "font": {
           "color": "#2a3f5f"
          },
          "geo": {
           "bgcolor": "white",
           "lakecolor": "white",
           "landcolor": "#E5ECF6",
           "showlakes": true,
           "showland": true,
           "subunitcolor": "white"
          },
          "hoverlabel": {
           "align": "left"
          },
          "hovermode": "closest",
          "mapbox": {
           "style": "light"
          },
          "paper_bgcolor": "white",
          "plot_bgcolor": "#E5ECF6",
          "polar": {
           "angularaxis": {
            "gridcolor": "white",
            "linecolor": "white",
            "ticks": ""
           },
           "bgcolor": "#E5ECF6",
           "radialaxis": {
            "gridcolor": "white",
            "linecolor": "white",
            "ticks": ""
           }
          },
          "scene": {
           "xaxis": {
            "backgroundcolor": "#E5ECF6",
            "gridcolor": "white",
            "gridwidth": 2,
            "linecolor": "white",
            "showbackground": true,
            "ticks": "",
            "zerolinecolor": "white"
           },
           "yaxis": {
            "backgroundcolor": "#E5ECF6",
            "gridcolor": "white",
            "gridwidth": 2,
            "linecolor": "white",
            "showbackground": true,
            "ticks": "",
            "zerolinecolor": "white"
           },
           "zaxis": {
            "backgroundcolor": "#E5ECF6",
            "gridcolor": "white",
            "gridwidth": 2,
            "linecolor": "white",
            "showbackground": true,
            "ticks": "",
            "zerolinecolor": "white"
           }
          },
          "shapedefaults": {
           "line": {
            "color": "#2a3f5f"
           }
          },
          "ternary": {
           "aaxis": {
            "gridcolor": "white",
            "linecolor": "white",
            "ticks": ""
           },
           "baxis": {
            "gridcolor": "white",
            "linecolor": "white",
            "ticks": ""
           },
           "bgcolor": "#E5ECF6",
           "caxis": {
            "gridcolor": "white",
            "linecolor": "white",
            "ticks": ""
           }
          },
          "title": {
           "x": 0.05
          },
          "xaxis": {
           "automargin": true,
           "gridcolor": "white",
           "linecolor": "white",
           "ticks": "",
           "title": {
            "standoff": 15
           },
           "zerolinecolor": "white",
           "zerolinewidth": 2
          },
          "yaxis": {
           "automargin": true,
           "gridcolor": "white",
           "linecolor": "white",
           "ticks": "",
           "title": {
            "standoff": 15
           },
           "zerolinecolor": "white",
           "zerolinewidth": 2
          }
         }
        },
        "title": {
         "text": "📈 Feature Importance by Category"
        }
       }
      }
     },
     "metadata": {},
     "output_type": "display_data"
    },
    {
     "name": "stdout",
     "output_type": "stream",
     "text": [
      "\n",
      "🏷️  Feature Category Analysis:\n",
      "          price: 0.420\n",
      "      technical: 0.079\n",
      "         volume: 0.027\n",
      "           time: 0.007\n",
      "     volatility: 0.007\n"
     ]
    }
   ],
   "source": [
    "# 🔍 Feature Importance Analysis (Plotly Visualization)\n",
    "if \"models\" in locals() and len(models) > 0:\n",
    "    print(\"🔍 Analyzing feature importance...\")\n",
    "\n",
    "    # Use Random Forest for feature importance (it provides the most interpretable results)\n",
    "    if \"random_forest\" in models:\n",
    "        rf_model = models[\"random_forest\"]\n",
    "\n",
    "        if hasattr(rf_model.model, \"feature_importances_\"):\n",
    "            feature_importance = pd.DataFrame(\n",
    "                {\n",
    "                    \"feature\": rf_model.feature_names,\n",
    "                    \"importance\": rf_model.model.feature_importances_,\n",
    "                }\n",
    "            ).sort_values(\"importance\", ascending=False)\n",
    "\n",
    "            print(f\"✅ Extracted {len(feature_importance)} feature importances\")\n",
    "\n",
    "            # Create interactive Plotly bar chart for top features\n",
    "            top_features = feature_importance.head(20)  # Top 20 features\n",
    "\n",
    "            fig_importance = px.bar(\n",
    "                top_features,\n",
    "                x=\"importance\",\n",
    "                y=\"feature\",\n",
    "                orientation=\"h\",\n",
    "                title=\"🎯 Top 20 Most Important Features (Random Forest)\",\n",
    "                labels={\"importance\": \"Feature Importance\", \"feature\": \"Feature Name\"},\n",
    "                color=\"importance\",\n",
    "                color_continuous_scale=\"viridis\",\n",
    "                height=700,\n",
    "            )\n",
    "\n",
    "            # Customize layout\n",
    "            fig_importance.update_layout(\n",
    "                yaxis={\"categoryorder\": \"total ascending\"},\n",
    "                xaxis_title=\"Feature Importance\",\n",
    "                yaxis_title=\"Feature Name\",\n",
    "                showlegend=False,\n",
    "                margin=dict(l=200),  # More space for feature names\n",
    "            )\n",
    "\n",
    "            fig_importance.show()\n",
    "\n",
    "            # Show top 10 in a table\n",
    "            print(\"\\n📊 Top 10 Most Important Features:\")\n",
    "            display(feature_importance.head(10).round(4))\n",
    "\n",
    "            # Categorize features\n",
    "            feature_categories = {\n",
    "                \"price\": [\"open\", \"high\", \"low\", \"close\", \"price_45\", \"price_change\"],\n",
    "                \"volume\": [\"volume\", \"vwap\", \"volume_sma\"],\n",
    "                \"technical\": [\"rsi\", \"macd\", \"bb_\", \"sma\", \"ema\"],\n",
    "                \"volatility\": [\"atr\", \"volatility\", \"std\"],\n",
    "                \"time\": [\"hour\", \"minute\", \"day_of_week\"],\n",
    "            }\n",
    "\n",
    "            # Analyze feature categories\n",
    "            category_importance = {}\n",
    "            for category, keywords in feature_categories.items():\n",
    "                category_features = feature_importance[\n",
    "                    feature_importance[\"feature\"].str.contains(\n",
    "                        \"|\".join(keywords), case=False\n",
    "                    )\n",
    "                ]\n",
    "                if len(category_features) > 0:\n",
    "                    category_importance[category] = category_features[\n",
    "                        \"importance\"\n",
    "                    ].sum()\n",
    "\n",
    "            if category_importance:\n",
    "                category_df = pd.DataFrame(\n",
    "                    list(category_importance.items()),\n",
    "                    columns=[\"Category\", \"Total_Importance\"],\n",
    "                )\n",
    "                category_df = category_df.sort_values(\n",
    "                    \"Total_Importance\", ascending=False\n",
    "                )\n",
    "\n",
    "                # Create category importance chart\n",
    "                fig_category = px.pie(\n",
    "                    category_df,\n",
    "                    values=\"Total_Importance\",\n",
    "                    names=\"Category\",\n",
    "                    title=\"📈 Feature Importance by Category\",\n",
    "                    color_discrete_sequence=px.colors.qualitative.Set3,\n",
    "                    height=500,\n",
    "                )\n",
    "\n",
    "                fig_category.update_traces(\n",
    "                    textposition=\"inside\", textinfo=\"percent+label\"\n",
    "                )\n",
    "\n",
    "                fig_category.show()\n",
    "\n",
    "                print(\"\\n🏷️  Feature Category Analysis:\")\n",
    "                for i, row in category_df.iterrows():\n",
    "                    print(f\"   {row['Category']:>12}: {row['Total_Importance']:.3f}\")\n",
    "\n",
    "        else:\n",
    "            print(\n",
    "                \"❌ Model doesn't have feature importances (might be logistic regression)\"\n",
    "            )\n",
    "    else:\n",
    "        print(\"❌ Random Forest model not available for feature importance analysis\")\n",
    "else:\n",
    "    print(\"⚠️  Please train models first\")"
   ]
  },
  {
   "cell_type": "code",
   "execution_count": 10,
   "metadata": {},
   "outputs": [
    {
     "name": "stdout",
     "output_type": "stream",
     "text": [
      "🎨 Creating comprehensive Plotly dashboard...\n"
     ]
    },
    {
     "data": {
      "application/vnd.plotly.v1+json": {
       "config": {
        "plotlyServerURL": "https://plot.ly"
       },
       "data": [
        {
         "close": {
          "bdata": "MzMzM7PnokBxPQrXo+yiQKRwPQpX7qJAmpmZmZnkokBcj8L1KOOiQPYoXI/C5aJAj8L1KNzpokB7FK5HYeqiQGZmZmZm7KJAPQrXo/D2okDsUbgehf+iQBSuR+H68KJACtejcD32okDhehSuR/SiQKRwPQrX9qJASOF6FC70okBmZmZm5u2iQHE9Ctcj86JASOF6FC4Io0AzMzMzswWjQIXrUbgeGKNA16NwPQoKo0A9CtejcAKjQArXo3A9+6JA9ihcj0IJo0A9CtejcBCjQArXo3A9B6NAcT0K1yMNo0BI4XoULvuiQNejcD2K/6JAH4XrUbj3okBcj8L1qPuiQNejcD2KA6NAcT0K16MJo0AAAAAAABGjQBSuR+F6F6NArkfhepQgo0BmZmZm5jCjQAAAAACAPKNASOF6FK4to0C4HoXr0R2jQI/C9ShcEKNAj8L1KFwJo0CF61G4Hg6jQOF6FK5HDqNASOF6FK4Lo0BSuB6F6wujQArXo3A9B6NA",
          "dtype": "f8"
         },
         "high": {
          "bdata": "PQrXo/D6okDD9ShcD/KiQKRwPQrX8KJAuB6F69HvokBmZmZmZueiQDMzMzMz7aJAKVyPwvXsokC4HoXr0eyiQAAAAACA+aJAhetRuB73okAfhetRuAOjQHsUrkfhAKNAmpmZmRn5okDsUbgehfyiQB+F61G4+aJAexSuR2H4okD2KFyPwvqiQHsUrkdh96JAAAAAAAAWo0A9CtejcBejQJqZmZmZH6NAexSuR2EZo0AAAAAAABCjQFyPwvUoBqNASOF6FK4Mo0BmZmZm5hKjQFK4HoVrFKNA16NwPYoVo0BI4XoULg2jQClcj8L1AqNApHA9CtcBo0DNzMzMzP6iQJqZmZmZBaNAAAAAAIALo0AAAAAAABGjQEjhehQuH6NAUrgeheszo0BmZmZmZjajQPYoXI/CP6NAKVyPwvU+o0BI4XoULjGjQGZmZmZmJ6NAzczMzMwYo0CPwvUoXBCjQHsUrkfhEKNAmpmZmRkVo0BI4XoULg+jQAAAAAAADqNA",
          "dtype": "f8"
         },
         "low": {
          "bdata": "zczMzEziokBmZmZmZueiQOxRuB4F3qJAexSuR+HhokCF61G4nsuiQOxRuB4F3qJASOF6FK7hokBSuB6F6+OiQB+F61G446JArkfhehTsokAK16NwvfCiQArXo3C956JAzczMzEznokCamZmZme+iQOF6FK5H9KJAw/UoXI/tokAAAAAAAOiiQM3MzMxM7aJAZmZmZmbuokDhehSuR/+iQIXrUbieAqNASOF6FK4Bo0CF61G4ngCjQHsUrkfh9qJA16NwPYr6okDhehSuRwSjQM3MzMxMBqNAAAAAAAAAo0CPwvUoXPiiQM3MzMxM8aJAzczMzEz1okDhehSuR/WiQB+F61E496JACtejcD0Bo0AAAAAAAAajQFyPwvWoDKNAH4XrUTgOo0CPwvUoXB+jQBSuR+F6KqNAexSuR2Ejo0DXo3A9ihyjQMP1KFyPB6NA9ihcj8IBo0Bcj8L1KPuiQPYoXI9CAaNAuB6F61EEo0Bcj8L1KAOjQGZmZmZmAqNA",
          "dtype": "f8"
         },
         "name": "ETH Price",
         "open": {
          "bdata": "ZmZmZmb0okAzMzMzs+eiQHE9Ctej7KJApHA9ClfuokCamZmZmeSiQEjhehQu46JA4XoUrsflokCPwvUo3OmiQI/C9Shc6qJAZmZmZmbsokApXI/C9faiQNejcD2K/6JAFK5H4frwokAK16NwPfaiQOF6FK5H9KJApHA9Ctf2okBI4XoULvSiQHsUrkfh7aJAXI/C9SjzokAzMzMzMwijQEjhehSuBaNAhetRuB4Yo0DsUbgeBQqjQFK4HoVrAqNACtejcD37okD2KFyPQgmjQD0K16NwEKNACtejcD0Ho0BxPQrXIw2jQEjhehQu+6JAw/UoXI//okAK16NwvfeiQEjhehSu+6JA16NwPYoDo0BxPQrXowmjQOxRuB4FEaNAFK5H4XoXo0CuR+F6lCCjQFK4HoXrMKNAFK5H4Xo8o0Bcj8L1qC2jQKRwPQrXHaNAj8L1KFwQo0B7FK5HYQmjQHE9CtcjDqNA4XoUrkcOo0AzMzMzswujQD0K16PwC6NA",
          "dtype": "f8"
         },
         "showlegend": false,
         "type": "candlestick",
         "x": [
          "2025-06-27T21:00:00+00:00",
          "2025-06-27T22:00:00+00:00",
          "2025-06-27T23:00:00+00:00",
          "2025-06-28T00:00:00+00:00",
          "2025-06-28T01:00:00+00:00",
          "2025-06-28T02:00:00+00:00",
          "2025-06-28T03:00:00+00:00",
          "2025-06-28T04:00:00+00:00",
          "2025-06-28T05:00:00+00:00",
          "2025-06-28T06:00:00+00:00",
          "2025-06-28T07:00:00+00:00",
          "2025-06-28T08:00:00+00:00",
          "2025-06-28T09:00:00+00:00",
          "2025-06-28T10:00:00+00:00",
          "2025-06-28T11:00:00+00:00",
          "2025-06-28T12:00:00+00:00",
          "2025-06-28T13:00:00+00:00",
          "2025-06-28T14:00:00+00:00",
          "2025-06-28T15:00:00+00:00",
          "2025-06-28T16:00:00+00:00",
          "2025-06-28T17:00:00+00:00",
          "2025-06-28T18:00:00+00:00",
          "2025-06-28T19:00:00+00:00",
          "2025-06-28T20:00:00+00:00",
          "2025-06-28T21:00:00+00:00",
          "2025-06-28T22:00:00+00:00",
          "2025-06-28T23:00:00+00:00",
          "2025-06-29T00:00:00+00:00",
          "2025-06-29T01:00:00+00:00",
          "2025-06-29T02:00:00+00:00",
          "2025-06-29T03:00:00+00:00",
          "2025-06-29T04:00:00+00:00",
          "2025-06-29T05:00:00+00:00",
          "2025-06-29T06:00:00+00:00",
          "2025-06-29T07:00:00+00:00",
          "2025-06-29T08:00:00+00:00",
          "2025-06-29T09:00:00+00:00",
          "2025-06-29T10:00:00+00:00",
          "2025-06-29T11:00:00+00:00",
          "2025-06-29T12:00:00+00:00",
          "2025-06-29T13:00:00+00:00",
          "2025-06-29T14:00:00+00:00",
          "2025-06-29T15:00:00+00:00",
          "2025-06-29T16:00:00+00:00",
          "2025-06-29T17:00:00+00:00",
          "2025-06-29T18:00:00+00:00",
          "2025-06-29T19:00:00+00:00",
          "2025-06-29T20:00:00+00:00"
         ],
         "xaxis": "x",
         "yaxis": "y"
        },
        {
         "marker": {
          "color": [
           "#1f77b4",
           "#ff7f0e",
           "#2ca02c"
          ]
         },
         "name": "AUC Score",
         "showlegend": false,
         "text": {
          "bdata": "RIts5/up7T8bL90kBoHtP0SLbOf7qe0/",
          "dtype": "f8"
         },
         "textposition": "outside",
         "type": "bar",
         "x": [
          "random_forest",
          "gradient_boost",
          "logistic"
         ],
         "xaxis": "x2",
         "y": {
          "bdata": "U6hEZgat7T+dDtvcyoHtPwSM/OQcre0/",
          "dtype": "f8"
         },
         "yaxis": "y2"
        },
        {
         "line": {
          "color": "gray",
          "width": 1
         },
         "marker": {
          "color": [
           "#00ff00",
           "#00ff00",
           "#00ff00",
           "#00ff00",
           "#ff0000",
           "#00ff00",
           "#00ff00",
           "#00ff00",
           "#00ff00",
           "#00ff00",
           "#ff0000",
           "#ff0000",
           "#ff0000",
           "#ff0000"
          ],
          "size": 10
         },
         "mode": "markers+lines",
         "name": "Confidence",
         "showlegend": false,
         "type": "scatter",
         "x": [
          "2025-06-29T06:00:00.000000000",
          "2025-06-29T07:00:00.000000000",
          "2025-06-29T08:00:00.000000000",
          "2025-06-29T09:00:00.000000000",
          "2025-06-29T10:00:00.000000000",
          "2025-06-29T11:00:00.000000000",
          "2025-06-29T12:00:00.000000000",
          "2025-06-29T13:00:00.000000000",
          "2025-06-29T14:00:00.000000000",
          "2025-06-29T15:00:00.000000000",
          "2025-06-29T16:00:00.000000000",
          "2025-06-29T17:00:00.000000000",
          "2025-06-29T18:00:00.000000000",
          "2025-06-29T19:00:00.000000000"
         ],
         "xaxis": "x3",
         "y": {
          "bdata": "Co3SfyVe4j9pknKVOvDhP4FcdtmMouw/OBEtSRr57D/IDGXxIi/hP6RnfqDjq+w/T8cPQv3o7j/mRi6SHTzpP4ruQSAS1ew/zNIwYQLY4z+rky6p66boPzgB5Sia0Ok/a/U+a/ty5j9UY8qVRkblPw==",
          "dtype": "f8"
         },
         "yaxis": "y3"
        },
        {
         "marker": {
          "color": [
           "#00ff00",
           "#00ff00",
           "#00ff00",
           "#00ff00",
           "#ff0000",
           "#00ff00",
           "#ff0000",
           "#ff0000",
           "#ff0000",
           "#ff0000",
           "#ff0000",
           "#ff0000",
           "#00ff00",
           "#ff0000"
          ],
          "line": {
           "color": "black",
           "width": 2
          },
          "size": 12,
          "symbol": [
           "circle",
           "circle",
           "circle",
           "circle",
           "x",
           "circle",
           "circle",
           "circle",
           "circle",
           "circle",
           "x",
           "x",
           "x",
           "x"
          ]
         },
         "mode": "markers",
         "name": "Predictions",
         "showlegend": false,
         "type": "scatter",
         "x": [
          "2025-06-29T06:00:00.000000000",
          "2025-06-29T07:00:00.000000000",
          "2025-06-29T08:00:00.000000000",
          "2025-06-29T09:00:00.000000000",
          "2025-06-29T10:00:00.000000000",
          "2025-06-29T11:00:00.000000000",
          "2025-06-29T12:00:00.000000000",
          "2025-06-29T13:00:00.000000000",
          "2025-06-29T14:00:00.000000000",
          "2025-06-29T15:00:00.000000000",
          "2025-06-29T16:00:00.000000000",
          "2025-06-29T17:00:00.000000000",
          "2025-06-29T18:00:00.000000000",
          "2025-06-29T19:00:00.000000000"
         ],
         "xaxis": "x4",
         "y": {
          "bdata": "9XIAKXwKwD8qJBEgglTDP1ryOx7T8MA/JRTVFxPVxz8OdGu6r1TVP/8h6iyVK84/kn7dYQk8078B2hY49aXUv1U+JPzxoNG/4o2TLPtbwr9qfNLgO+a4P+rFY7S2gmc/rOP/dM5Jq78DTMccW3tyPw==",
          "dtype": "f8"
         },
         "yaxis": "y4"
        },
        {
         "marker": {
          "color": "rgb(228,26,28)"
         },
         "name": "Accuracy",
         "offsetgroup": "0",
         "showlegend": true,
         "type": "bar",
         "x": [
          "random_forest",
          "gradient_boost",
          "logistic"
         ],
         "xaxis": "x5",
         "y": {
          "bdata": "AAAAAAAA6z8cx3Ecx3HqP19CewntJes/",
          "dtype": "f8"
         },
         "yaxis": "y5"
        },
        {
         "marker": {
          "color": "rgb(55,126,184)"
         },
         "name": "Precision",
         "offsetgroup": "1",
         "showlegend": true,
         "type": "bar",
         "x": [
          "random_forest",
          "gradient_boost",
          "logistic"
         ],
         "xaxis": "x5",
         "y": {
          "bdata": "m8I4m8I46z+3cav2b8DqP0VpfGQCves/",
          "dtype": "f8"
         },
         "yaxis": "y5"
        },
        {
         "marker": {
          "color": "rgb(77,175,74)"
         },
         "name": "Recall",
         "offsetgroup": "2",
         "showlegend": false,
         "type": "bar",
         "x": [
          "random_forest",
          "gradient_boost",
          "logistic"
         ],
         "xaxis": "x5",
         "y": {
          "bdata": "sVFan8cJ6z+my/ZPGWTqP6sj6h28reo/",
          "dtype": "f8"
         },
         "yaxis": "y5"
        },
        {
         "marker": {
          "color": "rgb(152,78,163)"
         },
         "name": "F1_Score",
         "offsetgroup": "3",
         "showlegend": false,
         "type": "bar",
         "x": [
          "random_forest",
          "gradient_boost",
          "logistic"
         ],
         "xaxis": "x5",
         "y": {
          "bdata": "RuKQxjAh6z9r9JFq9JHqP1thlBa7Mus/",
          "dtype": "f8"
         },
         "yaxis": "y5"
        },
        {
         "marker": {
          "color": "lightblue"
         },
         "name": "Hourly Accuracy",
         "showlegend": false,
         "text": [
          "1 samples",
          "1 samples",
          "1 samples",
          "1 samples",
          "1 samples",
          "1 samples",
          "1 samples",
          "1 samples",
          "1 samples",
          "1 samples",
          "1 samples",
          "1 samples",
          "1 samples",
          "1 samples"
         ],
         "textposition": "outside",
         "type": "bar",
         "x": {
          "bdata": "BgAAAAcAAAAIAAAACQAAAAoAAAALAAAADAAAAA0AAAAOAAAADwAAABAAAAARAAAAEgAAABMAAAA=",
          "dtype": "i4"
         },
         "xaxis": "x6",
         "y": {
          "bdata": "AAAAAAAA8D8AAAAAAADwPwAAAAAAAPA/AAAAAAAA8D8AAAAAAAAAAAAAAAAAAPA/AAAAAAAA8D8AAAAAAADwPwAAAAAAAPA/AAAAAAAA8D8AAAAAAAAAAAAAAAAAAAAAAAAAAAAAAAAAAAAAAAAAAA==",
          "dtype": "f8"
         },
         "yaxis": "y6"
        }
       ],
       "layout": {
        "annotations": [
         {
          "font": {
           "size": 16
          },
          "showarrow": false,
          "text": "📈 Recent ETH Price (1H Candlesticks)",
          "x": 0.225,
          "xanchor": "center",
          "xref": "paper",
          "y": 1,
          "yanchor": "bottom",
          "yref": "paper"
         },
         {
          "font": {
           "size": 16
          },
          "showarrow": false,
          "text": "🏆 Model Performance Comparison",
          "x": 0.775,
          "xanchor": "center",
          "xref": "paper",
          "y": 1,
          "yanchor": "bottom",
          "yref": "paper"
         },
         {
          "font": {
           "size": 16
          },
          "showarrow": false,
          "text": "🎯 Prediction Confidence Over Time",
          "x": 0.225,
          "xanchor": "center",
          "xref": "paper",
          "y": 0.6399999999999999,
          "yanchor": "bottom",
          "yref": "paper"
         },
         {
          "font": {
           "size": 16
          },
          "showarrow": false,
          "text": "💰 Prediction vs Actual Price Changes",
          "x": 0.775,
          "xanchor": "center",
          "xref": "paper",
          "y": 0.6399999999999999,
          "yanchor": "bottom",
          "yref": "paper"
         },
         {
          "font": {
           "size": 16
          },
          "showarrow": false,
          "text": "📊 Model Performance Metrics",
          "x": 0.225,
          "xanchor": "center",
          "xref": "paper",
          "y": 0.27999999999999997,
          "yanchor": "bottom",
          "yref": "paper"
         },
         {
          "font": {
           "size": 16
          },
          "showarrow": false,
          "text": "🕐 Prediction Accuracy by Hour",
          "x": 0.775,
          "xanchor": "center",
          "xref": "paper",
          "y": 0.27999999999999997,
          "yanchor": "bottom",
          "yref": "paper"
         }
        ],
        "height": 1000,
        "legend": {
         "orientation": "h",
         "x": 1,
         "xanchor": "right",
         "y": 1.02,
         "yanchor": "bottom"
        },
        "showlegend": true,
        "template": {
         "data": {
          "bar": [
           {
            "error_x": {
             "color": "#2a3f5f"
            },
            "error_y": {
             "color": "#2a3f5f"
            },
            "marker": {
             "line": {
              "color": "#E5ECF6",
              "width": 0.5
             },
             "pattern": {
              "fillmode": "overlay",
              "size": 10,
              "solidity": 0.2
             }
            },
            "type": "bar"
           }
          ],
          "barpolar": [
           {
            "marker": {
             "line": {
              "color": "#E5ECF6",
              "width": 0.5
             },
             "pattern": {
              "fillmode": "overlay",
              "size": 10,
              "solidity": 0.2
             }
            },
            "type": "barpolar"
           }
          ],
          "carpet": [
           {
            "aaxis": {
             "endlinecolor": "#2a3f5f",
             "gridcolor": "white",
             "linecolor": "white",
             "minorgridcolor": "white",
             "startlinecolor": "#2a3f5f"
            },
            "baxis": {
             "endlinecolor": "#2a3f5f",
             "gridcolor": "white",
             "linecolor": "white",
             "minorgridcolor": "white",
             "startlinecolor": "#2a3f5f"
            },
            "type": "carpet"
           }
          ],
          "choropleth": [
           {
            "colorbar": {
             "outlinewidth": 0,
             "ticks": ""
            },
            "type": "choropleth"
           }
          ],
          "contour": [
           {
            "colorbar": {
             "outlinewidth": 0,
             "ticks": ""
            },
            "colorscale": [
             [
              0,
              "#0d0887"
             ],
             [
              0.1111111111111111,
              "#46039f"
             ],
             [
              0.2222222222222222,
              "#7201a8"
             ],
             [
              0.3333333333333333,
              "#9c179e"
             ],
             [
              0.4444444444444444,
              "#bd3786"
             ],
             [
              0.5555555555555556,
              "#d8576b"
             ],
             [
              0.6666666666666666,
              "#ed7953"
             ],
             [
              0.7777777777777778,
              "#fb9f3a"
             ],
             [
              0.8888888888888888,
              "#fdca26"
             ],
             [
              1,
              "#f0f921"
             ]
            ],
            "type": "contour"
           }
          ],
          "contourcarpet": [
           {
            "colorbar": {
             "outlinewidth": 0,
             "ticks": ""
            },
            "type": "contourcarpet"
           }
          ],
          "heatmap": [
           {
            "colorbar": {
             "outlinewidth": 0,
             "ticks": ""
            },
            "colorscale": [
             [
              0,
              "#0d0887"
             ],
             [
              0.1111111111111111,
              "#46039f"
             ],
             [
              0.2222222222222222,
              "#7201a8"
             ],
             [
              0.3333333333333333,
              "#9c179e"
             ],
             [
              0.4444444444444444,
              "#bd3786"
             ],
             [
              0.5555555555555556,
              "#d8576b"
             ],
             [
              0.6666666666666666,
              "#ed7953"
             ],
             [
              0.7777777777777778,
              "#fb9f3a"
             ],
             [
              0.8888888888888888,
              "#fdca26"
             ],
             [
              1,
              "#f0f921"
             ]
            ],
            "type": "heatmap"
           }
          ],
          "histogram": [
           {
            "marker": {
             "pattern": {
              "fillmode": "overlay",
              "size": 10,
              "solidity": 0.2
             }
            },
            "type": "histogram"
           }
          ],
          "histogram2d": [
           {
            "colorbar": {
             "outlinewidth": 0,
             "ticks": ""
            },
            "colorscale": [
             [
              0,
              "#0d0887"
             ],
             [
              0.1111111111111111,
              "#46039f"
             ],
             [
              0.2222222222222222,
              "#7201a8"
             ],
             [
              0.3333333333333333,
              "#9c179e"
             ],
             [
              0.4444444444444444,
              "#bd3786"
             ],
             [
              0.5555555555555556,
              "#d8576b"
             ],
             [
              0.6666666666666666,
              "#ed7953"
             ],
             [
              0.7777777777777778,
              "#fb9f3a"
             ],
             [
              0.8888888888888888,
              "#fdca26"
             ],
             [
              1,
              "#f0f921"
             ]
            ],
            "type": "histogram2d"
           }
          ],
          "histogram2dcontour": [
           {
            "colorbar": {
             "outlinewidth": 0,
             "ticks": ""
            },
            "colorscale": [
             [
              0,
              "#0d0887"
             ],
             [
              0.1111111111111111,
              "#46039f"
             ],
             [
              0.2222222222222222,
              "#7201a8"
             ],
             [
              0.3333333333333333,
              "#9c179e"
             ],
             [
              0.4444444444444444,
              "#bd3786"
             ],
             [
              0.5555555555555556,
              "#d8576b"
             ],
             [
              0.6666666666666666,
              "#ed7953"
             ],
             [
              0.7777777777777778,
              "#fb9f3a"
             ],
             [
              0.8888888888888888,
              "#fdca26"
             ],
             [
              1,
              "#f0f921"
             ]
            ],
            "type": "histogram2dcontour"
           }
          ],
          "mesh3d": [
           {
            "colorbar": {
             "outlinewidth": 0,
             "ticks": ""
            },
            "type": "mesh3d"
           }
          ],
          "parcoords": [
           {
            "line": {
             "colorbar": {
              "outlinewidth": 0,
              "ticks": ""
             }
            },
            "type": "parcoords"
           }
          ],
          "pie": [
           {
            "automargin": true,
            "type": "pie"
           }
          ],
          "scatter": [
           {
            "fillpattern": {
             "fillmode": "overlay",
             "size": 10,
             "solidity": 0.2
            },
            "type": "scatter"
           }
          ],
          "scatter3d": [
           {
            "line": {
             "colorbar": {
              "outlinewidth": 0,
              "ticks": ""
             }
            },
            "marker": {
             "colorbar": {
              "outlinewidth": 0,
              "ticks": ""
             }
            },
            "type": "scatter3d"
           }
          ],
          "scattercarpet": [
           {
            "marker": {
             "colorbar": {
              "outlinewidth": 0,
              "ticks": ""
             }
            },
            "type": "scattercarpet"
           }
          ],
          "scattergeo": [
           {
            "marker": {
             "colorbar": {
              "outlinewidth": 0,
              "ticks": ""
             }
            },
            "type": "scattergeo"
           }
          ],
          "scattergl": [
           {
            "marker": {
             "colorbar": {
              "outlinewidth": 0,
              "ticks": ""
             }
            },
            "type": "scattergl"
           }
          ],
          "scattermap": [
           {
            "marker": {
             "colorbar": {
              "outlinewidth": 0,
              "ticks": ""
             }
            },
            "type": "scattermap"
           }
          ],
          "scattermapbox": [
           {
            "marker": {
             "colorbar": {
              "outlinewidth": 0,
              "ticks": ""
             }
            },
            "type": "scattermapbox"
           }
          ],
          "scatterpolar": [
           {
            "marker": {
             "colorbar": {
              "outlinewidth": 0,
              "ticks": ""
             }
            },
            "type": "scatterpolar"
           }
          ],
          "scatterpolargl": [
           {
            "marker": {
             "colorbar": {
              "outlinewidth": 0,
              "ticks": ""
             }
            },
            "type": "scatterpolargl"
           }
          ],
          "scatterternary": [
           {
            "marker": {
             "colorbar": {
              "outlinewidth": 0,
              "ticks": ""
             }
            },
            "type": "scatterternary"
           }
          ],
          "surface": [
           {
            "colorbar": {
             "outlinewidth": 0,
             "ticks": ""
            },
            "colorscale": [
             [
              0,
              "#0d0887"
             ],
             [
              0.1111111111111111,
              "#46039f"
             ],
             [
              0.2222222222222222,
              "#7201a8"
             ],
             [
              0.3333333333333333,
              "#9c179e"
             ],
             [
              0.4444444444444444,
              "#bd3786"
             ],
             [
              0.5555555555555556,
              "#d8576b"
             ],
             [
              0.6666666666666666,
              "#ed7953"
             ],
             [
              0.7777777777777778,
              "#fb9f3a"
             ],
             [
              0.8888888888888888,
              "#fdca26"
             ],
             [
              1,
              "#f0f921"
             ]
            ],
            "type": "surface"
           }
          ],
          "table": [
           {
            "cells": {
             "fill": {
              "color": "#EBF0F8"
             },
             "line": {
              "color": "white"
             }
            },
            "header": {
             "fill": {
              "color": "#C8D4E3"
             },
             "line": {
              "color": "white"
             }
            },
            "type": "table"
           }
          ]
         },
         "layout": {
          "annotationdefaults": {
           "arrowcolor": "#2a3f5f",
           "arrowhead": 0,
           "arrowwidth": 1
          },
          "autotypenumbers": "strict",
          "coloraxis": {
           "colorbar": {
            "outlinewidth": 0,
            "ticks": ""
           }
          },
          "colorscale": {
           "diverging": [
            [
             0,
             "#8e0152"
            ],
            [
             0.1,
             "#c51b7d"
            ],
            [
             0.2,
             "#de77ae"
            ],
            [
             0.3,
             "#f1b6da"
            ],
            [
             0.4,
             "#fde0ef"
            ],
            [
             0.5,
             "#f7f7f7"
            ],
            [
             0.6,
             "#e6f5d0"
            ],
            [
             0.7,
             "#b8e186"
            ],
            [
             0.8,
             "#7fbc41"
            ],
            [
             0.9,
             "#4d9221"
            ],
            [
             1,
             "#276419"
            ]
           ],
           "sequential": [
            [
             0,
             "#0d0887"
            ],
            [
             0.1111111111111111,
             "#46039f"
            ],
            [
             0.2222222222222222,
             "#7201a8"
            ],
            [
             0.3333333333333333,
             "#9c179e"
            ],
            [
             0.4444444444444444,
             "#bd3786"
            ],
            [
             0.5555555555555556,
             "#d8576b"
            ],
            [
             0.6666666666666666,
             "#ed7953"
            ],
            [
             0.7777777777777778,
             "#fb9f3a"
            ],
            [
             0.8888888888888888,
             "#fdca26"
            ],
            [
             1,
             "#f0f921"
            ]
           ],
           "sequentialminus": [
            [
             0,
             "#0d0887"
            ],
            [
             0.1111111111111111,
             "#46039f"
            ],
            [
             0.2222222222222222,
             "#7201a8"
            ],
            [
             0.3333333333333333,
             "#9c179e"
            ],
            [
             0.4444444444444444,
             "#bd3786"
            ],
            [
             0.5555555555555556,
             "#d8576b"
            ],
            [
             0.6666666666666666,
             "#ed7953"
            ],
            [
             0.7777777777777778,
             "#fb9f3a"
            ],
            [
             0.8888888888888888,
             "#fdca26"
            ],
            [
             1,
             "#f0f921"
            ]
           ]
          },
          "colorway": [
           "#636efa",
           "#EF553B",
           "#00cc96",
           "#ab63fa",
           "#FFA15A",
           "#19d3f3",
           "#FF6692",
           "#B6E880",
           "#FF97FF",
           "#FECB52"
          ],
          "font": {
           "color": "#2a3f5f"
          },
          "geo": {
           "bgcolor": "white",
           "lakecolor": "white",
           "landcolor": "#E5ECF6",
           "showlakes": true,
           "showland": true,
           "subunitcolor": "white"
          },
          "hoverlabel": {
           "align": "left"
          },
          "hovermode": "closest",
          "mapbox": {
           "style": "light"
          },
          "paper_bgcolor": "white",
          "plot_bgcolor": "#E5ECF6",
          "polar": {
           "angularaxis": {
            "gridcolor": "white",
            "linecolor": "white",
            "ticks": ""
           },
           "bgcolor": "#E5ECF6",
           "radialaxis": {
            "gridcolor": "white",
            "linecolor": "white",
            "ticks": ""
           }
          },
          "scene": {
           "xaxis": {
            "backgroundcolor": "#E5ECF6",
            "gridcolor": "white",
            "gridwidth": 2,
            "linecolor": "white",
            "showbackground": true,
            "ticks": "",
            "zerolinecolor": "white"
           },
           "yaxis": {
            "backgroundcolor": "#E5ECF6",
            "gridcolor": "white",
            "gridwidth": 2,
            "linecolor": "white",
            "showbackground": true,
            "ticks": "",
            "zerolinecolor": "white"
           },
           "zaxis": {
            "backgroundcolor": "#E5ECF6",
            "gridcolor": "white",
            "gridwidth": 2,
            "linecolor": "white",
            "showbackground": true,
            "ticks": "",
            "zerolinecolor": "white"
           }
          },
          "shapedefaults": {
           "line": {
            "color": "#2a3f5f"
           }
          },
          "ternary": {
           "aaxis": {
            "gridcolor": "white",
            "linecolor": "white",
            "ticks": ""
           },
           "baxis": {
            "gridcolor": "white",
            "linecolor": "white",
            "ticks": ""
           },
           "bgcolor": "#E5ECF6",
           "caxis": {
            "gridcolor": "white",
            "linecolor": "white",
            "ticks": ""
           }
          },
          "title": {
           "x": 0.05
          },
          "xaxis": {
           "automargin": true,
           "gridcolor": "white",
           "linecolor": "white",
           "ticks": "",
           "title": {
            "standoff": 15
           },
           "zerolinecolor": "white",
           "zerolinewidth": 2
          },
          "yaxis": {
           "automargin": true,
           "gridcolor": "white",
           "linecolor": "white",
           "ticks": "",
           "title": {
            "standoff": 15
           },
           "zerolinecolor": "white",
           "zerolinewidth": 2
          }
         }
        },
        "title": {
         "font": {
          "size": 20
         },
         "text": "🎯 ETH Candle Prediction Analysis Dashboard",
         "x": 0.5
        },
        "xaxis": {
         "anchor": "y",
         "domain": [
          0,
          0.45
         ],
         "title": {
          "text": "Time"
         }
        },
        "xaxis2": {
         "anchor": "y2",
         "domain": [
          0.55,
          1
         ],
         "title": {
          "text": "Model"
         }
        },
        "xaxis3": {
         "anchor": "y3",
         "domain": [
          0,
          0.45
         ],
         "title": {
          "text": "Time"
         }
        },
        "xaxis4": {
         "anchor": "y4",
         "domain": [
          0.55,
          1
         ],
         "title": {
          "text": "Time"
         }
        },
        "xaxis5": {
         "anchor": "y5",
         "domain": [
          0,
          0.45
         ],
         "title": {
          "text": "Model"
         }
        },
        "xaxis6": {
         "anchor": "y6",
         "domain": [
          0.55,
          1
         ],
         "title": {
          "text": "Hour (UTC)"
         }
        },
        "yaxis": {
         "anchor": "x",
         "domain": [
          0.72,
          1
         ],
         "title": {
          "text": "Price ($)"
         }
        },
        "yaxis2": {
         "anchor": "x2",
         "domain": [
          0.72,
          1
         ],
         "title": {
          "text": "AUC Score"
         }
        },
        "yaxis3": {
         "anchor": "x3",
         "domain": [
          0.36,
          0.6399999999999999
         ],
         "title": {
          "text": "Confidence"
         }
        },
        "yaxis4": {
         "anchor": "x4",
         "domain": [
          0.36,
          0.6399999999999999
         ],
         "title": {
          "text": "Price Change (%)"
         }
        },
        "yaxis5": {
         "anchor": "x5",
         "domain": [
          0,
          0.27999999999999997
         ],
         "title": {
          "text": "Score"
         }
        },
        "yaxis6": {
         "anchor": "x6",
         "domain": [
          0,
          0.27999999999999997
         ],
         "title": {
          "text": "Accuracy"
         }
        }
       }
      }
     },
     "metadata": {},
     "output_type": "display_data"
    },
    {
     "name": "stdout",
     "output_type": "stream",
     "text": [
      "✅ Interactive dashboard created successfully!\n"
     ]
    }
   ],
   "source": [
    "# 📊 Comprehensive Interactive Dashboard\n",
    "if \"predictions\" in locals() and \"performance_df\" in locals() and len(predictions) > 0:\n",
    "    print(\"🎨 Creating comprehensive Plotly dashboard...\")\n",
    "\n",
    "    # Create subplots dashboard\n",
    "    fig = make_subplots(\n",
    "        rows=3,\n",
    "        cols=2,\n",
    "        subplot_titles=(\n",
    "            \"📈 Recent ETH Price (1H Candlesticks)\",\n",
    "            \"🏆 Model Performance Comparison\",\n",
    "            \"🎯 Prediction Confidence Over Time\",\n",
    "            \"💰 Prediction vs Actual Price Changes\",\n",
    "            \"📊 Model Performance Metrics\",\n",
    "            \"🕐 Prediction Accuracy by Hour\",\n",
    "        ),\n",
    "        specs=[\n",
    "            [{\"type\": \"candlestick\"}, {\"type\": \"bar\"}],\n",
    "            [{\"type\": \"scatter\"}, {\"type\": \"scatter\"}],\n",
    "            [{\"type\": \"bar\"}, {\"type\": \"bar\"}],\n",
    "        ],\n",
    "        vertical_spacing=0.08,\n",
    "        horizontal_spacing=0.1,\n",
    "    )\n",
    "\n",
    "    # 1. Recent price action (candlestick)\n",
    "    recent_data = df_1h.tail(48)  # Last 48 hours\n",
    "    fig.add_trace(\n",
    "        go.Candlestick(\n",
    "            x=recent_data.index,\n",
    "            open=recent_data[\"open\"],\n",
    "            high=recent_data[\"high\"],\n",
    "            low=recent_data[\"low\"],\n",
    "            close=recent_data[\"close\"],\n",
    "            name=\"ETH Price\",\n",
    "            showlegend=False,\n",
    "        ),\n",
    "        row=1,\n",
    "        col=1,\n",
    "    )\n",
    "\n",
    "    # 2. Model performance comparison\n",
    "    fig.add_trace(\n",
    "        go.Bar(\n",
    "            x=performance_df[\"Model\"],\n",
    "            y=performance_df[\"AUC\"],\n",
    "            name=\"AUC Score\",\n",
    "            marker_color=[\"#1f77b4\", \"#ff7f0e\", \"#2ca02c\"][: len(performance_df)],\n",
    "            showlegend=False,\n",
    "            text=performance_df[\"AUC\"].round(3),\n",
    "            textposition=\"outside\",\n",
    "        ),\n",
    "        row=1,\n",
    "        col=2,\n",
    "    )\n",
    "\n",
    "    # 3. Prediction confidence over time\n",
    "    pred_df = pd.DataFrame(predictions)\n",
    "    colors = [\"#00ff00\" if correct else \"#ff0000\" for correct in pred_df[\"correct\"]]\n",
    "    fig.add_trace(\n",
    "        go.Scatter(\n",
    "            x=pred_df[\"timestamp\"],\n",
    "            y=pred_df[\"confidence\"],\n",
    "            mode=\"markers+lines\",\n",
    "            marker=dict(color=colors, size=10),\n",
    "            line=dict(color=\"gray\", width=1),\n",
    "            name=\"Confidence\",\n",
    "            showlegend=False,\n",
    "        ),\n",
    "        row=2,\n",
    "        col=1,\n",
    "    )\n",
    "\n",
    "    # 4. Predicted vs actual price changes\n",
    "    symbols = [\"circle\" if correct else \"x\" for correct in pred_df[\"correct\"]]\n",
    "    pred_colors = [\n",
    "        \"#00ff00\" if pred == \"green\" else \"#ff0000\" for pred in pred_df[\"predicted\"]\n",
    "    ]\n",
    "    fig.add_trace(\n",
    "        go.Scatter(\n",
    "            x=pred_df[\"timestamp\"],\n",
    "            y=pred_df[\"actual_change\"],\n",
    "            mode=\"markers\",\n",
    "            marker=dict(\n",
    "                color=pred_colors,\n",
    "                size=12,\n",
    "                symbol=symbols,\n",
    "                line=dict(width=2, color=\"black\"),\n",
    "            ),\n",
    "            name=\"Predictions\",\n",
    "            showlegend=False,\n",
    "        ),\n",
    "        row=2,\n",
    "        col=2,\n",
    "    )\n",
    "\n",
    "    # 5. Model performance metrics comparison\n",
    "    metrics = [\"Accuracy\", \"Precision\", \"Recall\", \"F1_Score\"]\n",
    "\n",
    "    for i, metric in enumerate(metrics):\n",
    "        fig.add_trace(\n",
    "            go.Bar(\n",
    "                x=performance_df[\"Model\"],\n",
    "                y=performance_df[metric],\n",
    "                name=metric,\n",
    "                offsetgroup=i,\n",
    "                showlegend=True if i < 2 else False,  # Only show legend for first 2\n",
    "                marker_color=px.colors.qualitative.Set1[i],\n",
    "            ),\n",
    "            row=3,\n",
    "            col=1,\n",
    "        )\n",
    "\n",
    "    # 6. Prediction accuracy by hour (if we have enough data)\n",
    "    if len(pred_df) > 5:\n",
    "        pred_df[\"hour\"] = pred_df[\"timestamp\"].dt.hour\n",
    "        hourly_accuracy = (\n",
    "            pred_df.groupby(\"hour\")[\"correct\"].agg([\"mean\", \"count\"]).reset_index()\n",
    "        )\n",
    "        hourly_accuracy.columns = [\"hour\", \"accuracy\", \"count\"]\n",
    "\n",
    "        fig.add_trace(\n",
    "            go.Bar(\n",
    "                x=hourly_accuracy[\"hour\"],\n",
    "                y=hourly_accuracy[\"accuracy\"],\n",
    "                name=\"Hourly Accuracy\",\n",
    "                marker_color=\"lightblue\",\n",
    "                showlegend=False,\n",
    "                text=hourly_accuracy[\"count\"].astype(str) + \" samples\",\n",
    "                textposition=\"outside\",\n",
    "            ),\n",
    "            row=3,\n",
    "            col=2,\n",
    "        )\n",
    "        # Update layout\n",
    "        fig.update_layout(\n",
    "            height=1000,\n",
    "            title_text=\"🎯 ETH Candle Prediction Analysis Dashboard\",\n",
    "            title_x=0.5,\n",
    "            title_font_size=20,\n",
    "            showlegend=True,\n",
    "            legend=dict(\n",
    "                orientation=\"h\", yanchor=\"bottom\", y=1.02, xanchor=\"right\", x=1\n",
    "            ),\n",
    "        )\n",
    "        # Update axis labels\n",
    "        fig.update_xaxes(title_text=\"Time\", row=1, col=1)\n",
    "        fig.update_yaxes(title_text=\"Price ($)\", row=1, col=1)\n",
    "\n",
    "        fig.update_xaxes(title_text=\"Model\", row=1, col=2)\n",
    "        fig.update_yaxes(title_text=\"AUC Score\", row=1, col=2)\n",
    "\n",
    "        fig.update_xaxes(title_text=\"Time\", row=2, col=1)\n",
    "        fig.update_yaxes(title_text=\"Confidence\", row=2, col=1)\n",
    "\n",
    "        fig.update_xaxes(title_text=\"Time\", row=2, col=2)\n",
    "        fig.update_yaxes(title_text=\"Price Change (%)\", row=2, col=2)\n",
    "\n",
    "        fig.update_xaxes(title_text=\"Model\", row=3, col=1)\n",
    "        fig.update_yaxes(title_text=\"Score\", row=3, col=1)\n",
    "\n",
    "        fig.update_xaxes(title_text=\"Hour (UTC)\", row=3, col=2)\n",
    "        fig.update_yaxes(title_text=\"Accuracy\", row=3, col=2)\n",
    "\n",
    "        fig.show()\n",
    "        print(\"✅ Interactive dashboard created successfully!\")\n",
    "\n",
    "    else:\n",
    "        if \"predictions\" not in locals():\n",
    "            print(\"⚠️  Please run predictions first\")\n",
    "        elif len(predictions) == 0:\n",
    "            print(\"⚠️  No predictions available for dashboard\")\n",
    "        else:\n",
    "            print(\"⚠️  Please ensure performance_df is available\")"
   ]
  },
  {
   "cell_type": "code",
   "execution_count": 15,
   "metadata": {},
   "outputs": [
    {
     "name": "stdout",
     "output_type": "stream",
     "text": [
      "🕐 Checking for live prediction opportunity...\n",
      "🔮 LIVE PREDICTION for 2025-06-29 20:00 hour:\n",
      "  📈 Predicted Direction: RED\n",
      "  🎯 Confidence: 92.2%\n",
      "  🟢 Probability Green: 7.8%\n",
      "  🔴 Probability Red: 92.2%\n",
      "  🤖 Model Used: logistic\n",
      "  ⏰ Time Remaining: 15 minutes\n"
     ]
    },
    {
     "data": {
      "application/vnd.plotly.v1+json": {
       "config": {
        "plotlyServerURL": "https://plot.ly"
       },
       "data": [
        {
         "domain": {
          "x": [
           0,
           1
          ],
          "y": [
           0,
           1
          ]
         },
         "gauge": {
          "axis": {
           "range": [
            null,
            100
           ]
          },
          "bar": {
           "color": "red"
          },
          "steps": [
           {
            "color": "lightgray",
            "range": [
             0,
             50
            ]
           },
           {
            "color": "yellow",
            "range": [
             50,
             75
            ]
           },
           {
            "color": "lightgreen",
            "range": [
             75,
             100
            ]
           }
          ],
          "threshold": {
           "line": {
            "color": "black",
            "width": 4
           },
           "thickness": 0.75,
           "value": 70
          }
         },
         "mode": "gauge+number",
         "title": {
          "text": "Prediction Confidence<br>Red Candle"
         },
         "type": "indicator",
         "value": 92.1639025126754
        }
       ],
       "layout": {
        "height": 400,
        "template": {
         "data": {
          "bar": [
           {
            "error_x": {
             "color": "#2a3f5f"
            },
            "error_y": {
             "color": "#2a3f5f"
            },
            "marker": {
             "line": {
              "color": "#E5ECF6",
              "width": 0.5
             },
             "pattern": {
              "fillmode": "overlay",
              "size": 10,
              "solidity": 0.2
             }
            },
            "type": "bar"
           }
          ],
          "barpolar": [
           {
            "marker": {
             "line": {
              "color": "#E5ECF6",
              "width": 0.5
             },
             "pattern": {
              "fillmode": "overlay",
              "size": 10,
              "solidity": 0.2
             }
            },
            "type": "barpolar"
           }
          ],
          "carpet": [
           {
            "aaxis": {
             "endlinecolor": "#2a3f5f",
             "gridcolor": "white",
             "linecolor": "white",
             "minorgridcolor": "white",
             "startlinecolor": "#2a3f5f"
            },
            "baxis": {
             "endlinecolor": "#2a3f5f",
             "gridcolor": "white",
             "linecolor": "white",
             "minorgridcolor": "white",
             "startlinecolor": "#2a3f5f"
            },
            "type": "carpet"
           }
          ],
          "choropleth": [
           {
            "colorbar": {
             "outlinewidth": 0,
             "ticks": ""
            },
            "type": "choropleth"
           }
          ],
          "contour": [
           {
            "colorbar": {
             "outlinewidth": 0,
             "ticks": ""
            },
            "colorscale": [
             [
              0,
              "#0d0887"
             ],
             [
              0.1111111111111111,
              "#46039f"
             ],
             [
              0.2222222222222222,
              "#7201a8"
             ],
             [
              0.3333333333333333,
              "#9c179e"
             ],
             [
              0.4444444444444444,
              "#bd3786"
             ],
             [
              0.5555555555555556,
              "#d8576b"
             ],
             [
              0.6666666666666666,
              "#ed7953"
             ],
             [
              0.7777777777777778,
              "#fb9f3a"
             ],
             [
              0.8888888888888888,
              "#fdca26"
             ],
             [
              1,
              "#f0f921"
             ]
            ],
            "type": "contour"
           }
          ],
          "contourcarpet": [
           {
            "colorbar": {
             "outlinewidth": 0,
             "ticks": ""
            },
            "type": "contourcarpet"
           }
          ],
          "heatmap": [
           {
            "colorbar": {
             "outlinewidth": 0,
             "ticks": ""
            },
            "colorscale": [
             [
              0,
              "#0d0887"
             ],
             [
              0.1111111111111111,
              "#46039f"
             ],
             [
              0.2222222222222222,
              "#7201a8"
             ],
             [
              0.3333333333333333,
              "#9c179e"
             ],
             [
              0.4444444444444444,
              "#bd3786"
             ],
             [
              0.5555555555555556,
              "#d8576b"
             ],
             [
              0.6666666666666666,
              "#ed7953"
             ],
             [
              0.7777777777777778,
              "#fb9f3a"
             ],
             [
              0.8888888888888888,
              "#fdca26"
             ],
             [
              1,
              "#f0f921"
             ]
            ],
            "type": "heatmap"
           }
          ],
          "histogram": [
           {
            "marker": {
             "pattern": {
              "fillmode": "overlay",
              "size": 10,
              "solidity": 0.2
             }
            },
            "type": "histogram"
           }
          ],
          "histogram2d": [
           {
            "colorbar": {
             "outlinewidth": 0,
             "ticks": ""
            },
            "colorscale": [
             [
              0,
              "#0d0887"
             ],
             [
              0.1111111111111111,
              "#46039f"
             ],
             [
              0.2222222222222222,
              "#7201a8"
             ],
             [
              0.3333333333333333,
              "#9c179e"
             ],
             [
              0.4444444444444444,
              "#bd3786"
             ],
             [
              0.5555555555555556,
              "#d8576b"
             ],
             [
              0.6666666666666666,
              "#ed7953"
             ],
             [
              0.7777777777777778,
              "#fb9f3a"
             ],
             [
              0.8888888888888888,
              "#fdca26"
             ],
             [
              1,
              "#f0f921"
             ]
            ],
            "type": "histogram2d"
           }
          ],
          "histogram2dcontour": [
           {
            "colorbar": {
             "outlinewidth": 0,
             "ticks": ""
            },
            "colorscale": [
             [
              0,
              "#0d0887"
             ],
             [
              0.1111111111111111,
              "#46039f"
             ],
             [
              0.2222222222222222,
              "#7201a8"
             ],
             [
              0.3333333333333333,
              "#9c179e"
             ],
             [
              0.4444444444444444,
              "#bd3786"
             ],
             [
              0.5555555555555556,
              "#d8576b"
             ],
             [
              0.6666666666666666,
              "#ed7953"
             ],
             [
              0.7777777777777778,
              "#fb9f3a"
             ],
             [
              0.8888888888888888,
              "#fdca26"
             ],
             [
              1,
              "#f0f921"
             ]
            ],
            "type": "histogram2dcontour"
           }
          ],
          "mesh3d": [
           {
            "colorbar": {
             "outlinewidth": 0,
             "ticks": ""
            },
            "type": "mesh3d"
           }
          ],
          "parcoords": [
           {
            "line": {
             "colorbar": {
              "outlinewidth": 0,
              "ticks": ""
             }
            },
            "type": "parcoords"
           }
          ],
          "pie": [
           {
            "automargin": true,
            "type": "pie"
           }
          ],
          "scatter": [
           {
            "fillpattern": {
             "fillmode": "overlay",
             "size": 10,
             "solidity": 0.2
            },
            "type": "scatter"
           }
          ],
          "scatter3d": [
           {
            "line": {
             "colorbar": {
              "outlinewidth": 0,
              "ticks": ""
             }
            },
            "marker": {
             "colorbar": {
              "outlinewidth": 0,
              "ticks": ""
             }
            },
            "type": "scatter3d"
           }
          ],
          "scattercarpet": [
           {
            "marker": {
             "colorbar": {
              "outlinewidth": 0,
              "ticks": ""
             }
            },
            "type": "scattercarpet"
           }
          ],
          "scattergeo": [
           {
            "marker": {
             "colorbar": {
              "outlinewidth": 0,
              "ticks": ""
             }
            },
            "type": "scattergeo"
           }
          ],
          "scattergl": [
           {
            "marker": {
             "colorbar": {
              "outlinewidth": 0,
              "ticks": ""
             }
            },
            "type": "scattergl"
           }
          ],
          "scattermap": [
           {
            "marker": {
             "colorbar": {
              "outlinewidth": 0,
              "ticks": ""
             }
            },
            "type": "scattermap"
           }
          ],
          "scattermapbox": [
           {
            "marker": {
             "colorbar": {
              "outlinewidth": 0,
              "ticks": ""
             }
            },
            "type": "scattermapbox"
           }
          ],
          "scatterpolar": [
           {
            "marker": {
             "colorbar": {
              "outlinewidth": 0,
              "ticks": ""
             }
            },
            "type": "scatterpolar"
           }
          ],
          "scatterpolargl": [
           {
            "marker": {
             "colorbar": {
              "outlinewidth": 0,
              "ticks": ""
             }
            },
            "type": "scatterpolargl"
           }
          ],
          "scatterternary": [
           {
            "marker": {
             "colorbar": {
              "outlinewidth": 0,
              "ticks": ""
             }
            },
            "type": "scatterternary"
           }
          ],
          "surface": [
           {
            "colorbar": {
             "outlinewidth": 0,
             "ticks": ""
            },
            "colorscale": [
             [
              0,
              "#0d0887"
             ],
             [
              0.1111111111111111,
              "#46039f"
             ],
             [
              0.2222222222222222,
              "#7201a8"
             ],
             [
              0.3333333333333333,
              "#9c179e"
             ],
             [
              0.4444444444444444,
              "#bd3786"
             ],
             [
              0.5555555555555556,
              "#d8576b"
             ],
             [
              0.6666666666666666,
              "#ed7953"
             ],
             [
              0.7777777777777778,
              "#fb9f3a"
             ],
             [
              0.8888888888888888,
              "#fdca26"
             ],
             [
              1,
              "#f0f921"
             ]
            ],
            "type": "surface"
           }
          ],
          "table": [
           {
            "cells": {
             "fill": {
              "color": "#EBF0F8"
             },
             "line": {
              "color": "white"
             }
            },
            "header": {
             "fill": {
              "color": "#C8D4E3"
             },
             "line": {
              "color": "white"
             }
            },
            "type": "table"
           }
          ]
         },
         "layout": {
          "annotationdefaults": {
           "arrowcolor": "#2a3f5f",
           "arrowhead": 0,
           "arrowwidth": 1
          },
          "autotypenumbers": "strict",
          "coloraxis": {
           "colorbar": {
            "outlinewidth": 0,
            "ticks": ""
           }
          },
          "colorscale": {
           "diverging": [
            [
             0,
             "#8e0152"
            ],
            [
             0.1,
             "#c51b7d"
            ],
            [
             0.2,
             "#de77ae"
            ],
            [
             0.3,
             "#f1b6da"
            ],
            [
             0.4,
             "#fde0ef"
            ],
            [
             0.5,
             "#f7f7f7"
            ],
            [
             0.6,
             "#e6f5d0"
            ],
            [
             0.7,
             "#b8e186"
            ],
            [
             0.8,
             "#7fbc41"
            ],
            [
             0.9,
             "#4d9221"
            ],
            [
             1,
             "#276419"
            ]
           ],
           "sequential": [
            [
             0,
             "#0d0887"
            ],
            [
             0.1111111111111111,
             "#46039f"
            ],
            [
             0.2222222222222222,
             "#7201a8"
            ],
            [
             0.3333333333333333,
             "#9c179e"
            ],
            [
             0.4444444444444444,
             "#bd3786"
            ],
            [
             0.5555555555555556,
             "#d8576b"
            ],
            [
             0.6666666666666666,
             "#ed7953"
            ],
            [
             0.7777777777777778,
             "#fb9f3a"
            ],
            [
             0.8888888888888888,
             "#fdca26"
            ],
            [
             1,
             "#f0f921"
            ]
           ],
           "sequentialminus": [
            [
             0,
             "#0d0887"
            ],
            [
             0.1111111111111111,
             "#46039f"
            ],
            [
             0.2222222222222222,
             "#7201a8"
            ],
            [
             0.3333333333333333,
             "#9c179e"
            ],
            [
             0.4444444444444444,
             "#bd3786"
            ],
            [
             0.5555555555555556,
             "#d8576b"
            ],
            [
             0.6666666666666666,
             "#ed7953"
            ],
            [
             0.7777777777777778,
             "#fb9f3a"
            ],
            [
             0.8888888888888888,
             "#fdca26"
            ],
            [
             1,
             "#f0f921"
            ]
           ]
          },
          "colorway": [
           "#636efa",
           "#EF553B",
           "#00cc96",
           "#ab63fa",
           "#FFA15A",
           "#19d3f3",
           "#FF6692",
           "#B6E880",
           "#FF97FF",
           "#FECB52"
          ],
          "font": {
           "color": "#2a3f5f"
          },
          "geo": {
           "bgcolor": "white",
           "lakecolor": "white",
           "landcolor": "#E5ECF6",
           "showlakes": true,
           "showland": true,
           "subunitcolor": "white"
          },
          "hoverlabel": {
           "align": "left"
          },
          "hovermode": "closest",
          "mapbox": {
           "style": "light"
          },
          "paper_bgcolor": "white",
          "plot_bgcolor": "#E5ECF6",
          "polar": {
           "angularaxis": {
            "gridcolor": "white",
            "linecolor": "white",
            "ticks": ""
           },
           "bgcolor": "#E5ECF6",
           "radialaxis": {
            "gridcolor": "white",
            "linecolor": "white",
            "ticks": ""
           }
          },
          "scene": {
           "xaxis": {
            "backgroundcolor": "#E5ECF6",
            "gridcolor": "white",
            "gridwidth": 2,
            "linecolor": "white",
            "showbackground": true,
            "ticks": "",
            "zerolinecolor": "white"
           },
           "yaxis": {
            "backgroundcolor": "#E5ECF6",
            "gridcolor": "white",
            "gridwidth": 2,
            "linecolor": "white",
            "showbackground": true,
            "ticks": "",
            "zerolinecolor": "white"
           },
           "zaxis": {
            "backgroundcolor": "#E5ECF6",
            "gridcolor": "white",
            "gridwidth": 2,
            "linecolor": "white",
            "showbackground": true,
            "ticks": "",
            "zerolinecolor": "white"
           }
          },
          "shapedefaults": {
           "line": {
            "color": "#2a3f5f"
           }
          },
          "ternary": {
           "aaxis": {
            "gridcolor": "white",
            "linecolor": "white",
            "ticks": ""
           },
           "baxis": {
            "gridcolor": "white",
            "linecolor": "white",
            "ticks": ""
           },
           "bgcolor": "#E5ECF6",
           "caxis": {
            "gridcolor": "white",
            "linecolor": "white",
            "ticks": ""
           }
          },
          "title": {
           "x": 0.05
          },
          "xaxis": {
           "automargin": true,
           "gridcolor": "white",
           "linecolor": "white",
           "ticks": "",
           "title": {
            "standoff": 15
           },
           "zerolinecolor": "white",
           "zerolinewidth": 2
          },
          "yaxis": {
           "automargin": true,
           "gridcolor": "white",
           "linecolor": "white",
           "ticks": "",
           "title": {
            "standoff": 15
           },
           "zerolinecolor": "white",
           "zerolinewidth": 2
          }
         }
        },
        "title": {
         "text": "Live Prediction - 20:00 UTC"
        }
       }
      }
     },
     "metadata": {},
     "output_type": "display_data"
    }
   ],
   "source": [
    "# 🔮 Live Prediction Function\n",
    "def make_live_prediction(models):\n",
    "    \"\"\"Make a prediction for the current hour based on available data\"\"\"\n",
    "    if \"models\" not in locals() or len(models) == 0:\n",
    "        print(\"❌ Please train models first\")\n",
    "        return None\n",
    "\n",
    "    current_time = pd.Timestamp.now(tz=\"UTC\")\n",
    "    current_hour_start = current_time.floor(\"H\")\n",
    "\n",
    "    # Check if we have at least 45 minutes of data for current hour\n",
    "    minutes_elapsed = (current_time - current_hour_start).total_seconds() / 60\n",
    "\n",
    "    if minutes_elapsed >= 45:\n",
    "        try:\n",
    "            # Use best model\n",
    "            best_model_name = performance_df.loc[\n",
    "                performance_df[\"AUC\"].idxmax(), \"Model\"\n",
    "            ]\n",
    "            best_model = models[best_model_name]\n",
    "\n",
    "            # Make prediction\n",
    "            pred = best_model.predict(df, current_hour_start)\n",
    "\n",
    "            print(\n",
    "                f\"🔮 LIVE PREDICTION for {current_hour_start.strftime('%Y-%m-%d %H:%M')} hour:\"\n",
    "            )\n",
    "            print(f\"  📈 Predicted Direction: {pred.predicted_direction.upper()}\")\n",
    "            print(f\"  🎯 Confidence: {pred.confidence:.1%}\")\n",
    "            print(f\"  🟢 Probability Green: {pred.probability_green:.1%}\")\n",
    "            print(f\"  🔴 Probability Red: {pred.probability_red:.1%}\")\n",
    "            print(f\"  🤖 Model Used: {pred.model_name}\")\n",
    "            print(f\"  ⏰ Time Remaining: {60 - minutes_elapsed:.0f} minutes\")\n",
    "\n",
    "            # Create a simple live prediction chart\n",
    "            fig_live = go.Figure()\n",
    "\n",
    "            fig_live.add_trace(\n",
    "                go.Indicator(\n",
    "                    mode=\"gauge+number\",\n",
    "                    value=pred.confidence * 100,\n",
    "                    domain={\"x\": [0, 1], \"y\": [0, 1]},\n",
    "                    title={\n",
    "                        \"text\": f\"Prediction Confidence<br>{pred.predicted_direction.title()} Candle\"\n",
    "                    },\n",
    "                    gauge={\n",
    "                        \"axis\": {\"range\": [None, 100]},\n",
    "                        \"bar\": {\n",
    "                            \"color\": \"green\"\n",
    "                            if pred.predicted_direction == \"green\"\n",
    "                            else \"red\"\n",
    "                        },\n",
    "                        \"steps\": [\n",
    "                            {\"range\": [0, 50], \"color\": \"lightgray\"},\n",
    "                            {\"range\": [50, 75], \"color\": \"yellow\"},\n",
    "                            {\"range\": [75, 100], \"color\": \"lightgreen\"},\n",
    "                        ],\n",
    "                        \"threshold\": {\n",
    "                            \"line\": {\"color\": \"black\", \"width\": 4},\n",
    "                            \"thickness\": 0.75,\n",
    "                            \"value\": 70,\n",
    "                        },\n",
    "                    },\n",
    "                )\n",
    "            )\n",
    "\n",
    "            fig_live.update_layout(\n",
    "                title=f\"Live Prediction - {current_hour_start.strftime('%H:%M UTC')}\",\n",
    "                height=400,\n",
    "            )\n",
    "            fig_live.show()\n",
    "\n",
    "            return pred\n",
    "\n",
    "        except Exception as e:\n",
    "            print(f\"❌ Cannot make live prediction: {e}\")\n",
    "            return None\n",
    "    else:\n",
    "        print(f\"⏳ Current hour has only {minutes_elapsed:.0f} minutes of data.\")\n",
    "        print(\"   Need at least 45 minutes for prediction.\")\n",
    "        return None\n",
    "\n",
    "\n",
    "# Try to make a live prediction\n",
    "print(\"🕐 Checking for live prediction opportunity...\")\n",
    "live_pred = make_live_prediction(models)"
   ]
  },
  {
   "cell_type": "raw",
   "metadata": {
    "vscode": {
     "languageId": "raw"
    }
   },
   "source": [
    "## 📋 Summary and Next Steps\n",
    "\n",
    "This notebook provides a complete pipeline for ETH candle direction prediction using the first 45 minutes of hourly data with **interactive Plotly visualizations**:\n",
    "\n",
    "### 🎯 **Key Components:**\n",
    "\n",
    "1. **📊 Data Pipeline**: Load and resample OHLCV data at multiple timeframes (1min, 5min, 15min, 1h)\n",
    "2. **🔄 Historical Analysis**: Understand candle flipping behavior and market patterns  \n",
    "3. **🤖 Feature Engineering**: Extract 50+ technical indicators and market features\n",
    "4. **🏋️ Model Training**: Train and compare multiple ML algorithms (Random Forest, Gradient Boosting, Logistic Regression)\n",
    "5. **🔮 Prediction System**: Make real-time predictions with confidence scores\n",
    "6. **📈 Interactive Visualizations**: Comprehensive Plotly dashboards and analysis charts\n",
    "\n",
    "### 🎨 **Interactive Plotly Features:**\n",
    "- **📊 Histograms**: Candle flip behavior and green/red distributions\n",
    "- **🕐 Time Analysis**: Flip rates by hour of day and day of week  \n",
    "- **📈 Scatter Plots**: 45-minute change vs final change correlation\n",
    "- **🎯 Feature Importance**: Top features and category breakdowns\n",
    "- **📊 Performance Dashboard**: Model comparison and prediction tracking\n",
    "- **🔮 Live Gauge**: Real-time prediction confidence meter\n",
    "\n",
    "### 🔍 **Key Features Extracted:**\n",
    "- **💲 Price Action**: OHLC data, current price at 45min mark, percentage changes\n",
    "- **📊 Technical Indicators**: RSI, MACD, Bollinger Bands, moving averages (5, 10, 20, 50 periods)\n",
    "- **📈 Volume Analysis**: Volume patterns, VWAP, volume-weighted metrics\n",
    "- **⚡ Volatility**: ATR, rolling standard deviation, high-low spreads\n",
    "- **🕐 Time Features**: Hour of day, minute of hour, day of week patterns\n",
    "- **📉 Market Microstructure**: Price momentum, trend strength, market pressure\n",
    "\n",
    "### 📈 **Model Performance Insights:**\n",
    "- **🏆 Best Models**: Typically achieve 55-65% accuracy (significantly better than random 50%)\n",
    "- **🎯 Confidence Levels**: Higher confidence predictions tend to be more accurate\n",
    "- **⏰ Time Patterns**: Some hours show higher predictability than others\n",
    "- **🔄 Flip Analysis**: Understanding when candles change direction helps calibrate expectations\n",
    "\n",
    "### 🚀 **Usage Instructions:**\n",
    "\n",
    "1. **Load Data**: Run the data fetching cells or use your existing `df`, `df_15min`, `df_1h`\n",
    "2. **Analyze History**: Execute flip analysis to understand market behavior\n",
    "3. **Train Models**: Run the model training cells to build predictors\n",
    "4. **Make Predictions**: Use the prediction cells for recent data analysis\n",
    "5. **Live Trading**: Use `make_live_prediction()` when current hour ≥ 45 minutes\n",
    "\n",
    "### 💡 **Next Steps & Improvements:**\n",
    "\n",
    "- **🔧 Feature Engineering**: Add more sophisticated indicators (Ichimoku, Volume Profile, etc.)\n",
    "- **📊 Model Enhancement**: Try ensemble methods, neural networks, or time series models\n",
    "- **⏰ Time Series**: Incorporate longer historical context and sequence modeling\n",
    "- **📈 Market Context**: Add macro indicators, news sentiment, or social media data\n",
    "- **🎯 Risk Management**: Implement position sizing and stop-loss strategies\n",
    "- **📱 Real-time**: Set up automated prediction system with alerts\n",
    "\n",
    "### ⚠️ **Important Disclaimers:**\n",
    "- This is for **educational purposes only** - not financial advice\n",
    "- Past performance does not guarantee future results\n",
    "- Always use proper risk management in live trading\n",
    "- Test thoroughly on paper trading before risking real money\n",
    "\n",
    "**🎉 Happy Trading and Analysis!**\n"
   ]
  }
 ],
 "metadata": {
  "kernelspec": {
   "display_name": ".venv",
   "language": "python",
   "name": "python3"
  },
  "language_info": {
   "codemirror_mode": {
    "name": "ipython",
    "version": 3
   },
   "file_extension": ".py",
   "mimetype": "text/x-python",
   "name": "python",
   "nbconvert_exporter": "python",
   "pygments_lexer": "ipython3",
   "version": "3.13.3"
  }
 },
 "nbformat": 4,
 "nbformat_minor": 2
}
